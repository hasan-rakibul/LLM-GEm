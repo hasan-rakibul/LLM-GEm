{
 "cells": [
  {
   "cell_type": "code",
   "execution_count": null,
   "id": "962c1a4f-b935-4ecb-941d-d45a25dc8a86",
   "metadata": {
    "tags": []
   },
   "outputs": [],
   "source": [
    "import pandas as pd\n",
    "import numpy as np"
   ]
  },
  {
   "cell_type": "code",
   "execution_count": null,
   "id": "e73b2df1-184d-4227-bbca-41691a7dc172",
   "metadata": {},
   "outputs": [],
   "source": [
    "import os"
   ]
  },
  {
   "cell_type": "code",
   "execution_count": null,
   "id": "0c402f7d-fe50-4db6-9e8b-402f49a3c195",
   "metadata": {},
   "outputs": [],
   "source": [
    "import openai\n",
    "import time\n",
    "with open(\"./openai-api.txt\", 'r') as f:\n",
    "    openai.api_key = f.read()"
   ]
  },
  {
   "cell_type": "code",
   "execution_count": null,
   "id": "e8a489f5-e037-4250-98b3-1a90f457bed5",
   "metadata": {
    "tags": []
   },
   "outputs": [],
   "source": [
    "def chat(prompt, model=\"gpt-3.5-turbo-0613\", temp=1.5):\n",
    "    messages = [{\"role\": \"user\", \"content\": prompt}]\n",
    "    response = openai.ChatCompletion.create(\n",
    "        model=model,\n",
    "        messages=messages,\n",
    "        temperature=temp, # degree of randomness of the model's output\n",
    "    )\n",
    "    return response.choices[0].message[\"content\"]"
   ]
  },
  {
   "cell_type": "markdown",
   "id": "b7dd1746-b91b-4c9f-8e33-48d12e95a046",
   "metadata": {},
   "source": [
    "# Numeric to text"
   ]
  },
  {
   "cell_type": "code",
   "execution_count": null,
   "id": "cc6fc994-8bf7-4c63-a54f-061c234e5ac1",
   "metadata": {
    "scrolled": true,
    "tags": []
   },
   "outputs": [],
   "source": [
    "def num_to_text(df):\n",
    "    id_demographic = df.copy()\n",
    "    print('Shape before dropping duplicates:', id_demographic.shape)\n",
    "    id_demographic = id_demographic.drop_duplicates(subset='speaker_id')\n",
    "    print('Shape after dropping duplicates:', id_demographic.shape)\n",
    "    print('Starting access to ChatGPT ...')\n",
    "    \n",
    "    for row in id_demographic.itertuples():\n",
    "        prompt_convert = f\"\"\"\n",
    "        Your task is to format five numerical data (individual's gender, education level, race, age, and income) into meaningful sentences.\n",
    "        The numerical data are delimited by triple backticks.\n",
    "        Write from a first-person point-of-view.\n",
    "        Complete the task with no more than three sentences.\n",
    "        \n",
    "        Use the following mapping between the number and the corresponding text:\n",
    "        \n",
    "        Gender:\n",
    "        1 = Male\n",
    "        2 = Female\n",
    "        5 = Other\n",
    "        \n",
    "        Education level:\n",
    "        1 = Less than a high school diploma\n",
    "        2 = High school diploma\n",
    "        3 = Technical/Vocational school\n",
    "        4 = Some college but no degree\n",
    "        5 = Two-year associate degree\n",
    "        6 = Four-year bachelor’s degree\n",
    "        7 = Postgraduate or professional degree\n",
    "        \n",
    "        Race:\n",
    "        1 = White        \n",
    "        2 = Hispanic or Latino\n",
    "        3 = Black or African American\n",
    "        4 = Native American or American Indian\n",
    "        5 = Asian/Pacific Islander\n",
    "        6 = Other\n",
    "        \n",
    "        Age:\n",
    "        <number> = <number> years\n",
    "        \n",
    "        Income:\n",
    "        <number> = <number> USD\n",
    "        \n",
    "        For example, if the input numbers are: \"Gender: 1, Education level: 5, Race: 1, Age: 25, Income: 40000\"\n",
    "        The output can be \"I am a 25-year-old male of the White race. I completed a two-year associate degree and earn 40000 USD.\"\n",
    "        \n",
    "        Input numbers: ```Gender: {id_demographic.loc[row.Index, 'gender']}, Education level: {id_demographic.loc[row.Index, 'education']}, Race: {id_demographic.loc[row.Index, 'race']}, Age: {id_demographic.loc[row.Index, 'age']}, Income: {id_demographic.loc[row.Index, 'income']}```\n",
    "        \"\"\"\n",
    "        print('Working on row index:', row.Index)\n",
    "        try:\n",
    "            id_demographic.loc[row.Index, 'demographic'] = chat(prompt_convert)\n",
    "        except Exception as e:\n",
    "            print(e)\n",
    "            print(\"\\nFailed but we're trying again in 60 seconds...\\n\")\n",
    "            time.sleep(60) # normally it asks to wait for 20s\n",
    "            id_demographic.loc[row.Index, 'demographic'] = chat(prompt_convert)\n",
    "    \n",
    "        ## Debugging\n",
    "        # print(f\"Input numbers: ```Gender: {data.loc[row.Index, 'gender']}, Education level: {data.loc[row.Index, 'education']}, Race: {data.loc[row.Index, 'race']}, Age: {data.loc[row.Index, 'age']}, Income: {data.loc[row.Index, 'income']}\")\n",
    "        \n",
    "        # if row.Index == 2:\n",
    "        #     break\n",
    "\n",
    "    id_demographic = id_demographic[['speaker_id', 'demographic']] #keeping only required columns\n",
    "\n",
    "    print('Here are the converted texts:')\n",
    "    print(id_demographic.loc[:,'demographic'].values)\n",
    "\n",
    "    return id_demographic"
   ]
  },
  {
   "cell_type": "code",
   "execution_count": null,
   "id": "967325ac-d000-4495-a84e-0221f6c56ed1",
   "metadata": {},
   "outputs": [],
   "source": [
    "def id_to_demographic(filename, WS22=False, save_as=None, access_gpt=True):\n",
    "    '''\n",
    "    access_gpt: if False, it will just load existing saved id_demographic file using save_as as filename\n",
    "    '''\n",
    "    data = train_ws23 = pd.read_csv(filename, sep='\\t', na_values='unknown')\n",
    "    print('Columns having NaN values: ', data.columns[data.isna().any()].tolist())\n",
    "    print('Initial data shape:', data.shape)\n",
    "    data = data.dropna()\n",
    "    print()\n",
    "    print('After dropping NA values, data shape:', data.shape)\n",
    "    print('Columns having NaN values: ', data.columns[data.isna().any()].tolist())\n",
    "    print('Columns having object datatypes: ')\n",
    "    print(data.dtypes[data.dtypes=='object'])    \n",
    "\n",
    "    assert data.isna().any().any() == False #no NA values\n",
    "    assert data.isnull().any().any() == False #no null values\n",
    "\n",
    "    # WASSA22 has no speaker_id\n",
    "    if WS22:\n",
    "        data['speaker_id'] = data.groupby(['gender', 'education', 'race', 'age', 'income']).ngroup()\n",
    "    \n",
    "    if access_gpt:\n",
    "        print()\n",
    "        id_demographic = num_to_text(data)\n",
    "    else:\n",
    "        if WS22:\n",
    "            id_demographic = pd.read_csv('./data/' + save_as+'.csv', index_col=0) #unfortunately saved as csv\n",
    "        else:\n",
    "            id_demographic = pd.read_csv('./data/' + save_as+'.tsv', sep='\\t', index_col=0)\n",
    "\n",
    "    if access_gpt and (save_as is not None):\n",
    "        id_demographic.to_csv('./data/' + save_as+'.tsv', sep='\\t')\n",
    "        print(f'\\nSaved as {save_as}.tsv')\n",
    "    return data, id_demographic"
   ]
  },
  {
   "cell_type": "code",
   "execution_count": null,
   "id": "88dda85e-7d92-48d6-838e-ea4f71091ae9",
   "metadata": {},
   "outputs": [],
   "source": [
    "def map_id_to_main(id_demographic_df, main_df, save_as):\n",
    "    id_demographic = id_demographic_df.copy()\n",
    "    main = main_df.copy()\n",
    "    id_demographic.set_index('speaker_id', inplace=True) #changing index so that I can use it easily to map as below\n",
    "    main['demographic'] = main['speaker_id'].apply(lambda x: id_demographic.loc[x, 'demographic'])\n",
    "    main['demographic_essay'] = main['demographic'] + ' ' + main['essay']\n",
    "    if save_as is not None:\n",
    "        main.to_csv('./data/' + save_as + '.tsv', sep='\\t')\n",
    "        print(f'Saved it as: {save_as}.tsv')\n",
    "    return main"
   ]
  },
  {
   "cell_type": "markdown",
   "id": "cd00022a-c9ad-4d63-a4ef-922822fe5d12",
   "metadata": {},
   "source": [
    "## WASSA23"
   ]
  },
  {
   "cell_type": "code",
   "execution_count": null,
   "id": "e966050c-b90e-4558-9371-967a89136ff2",
   "metadata": {},
   "outputs": [],
   "source": [
    "train_file_ws23 = './data/WASSA23/WASSA23_essay_level_with_labels_train.tsv'\n",
    "dev_file_ws23 = './data/WASSA23/WASSA23_essay_level_dev.tsv'\n",
    "test_file_ws23 = './data/WASSA23/WASSA23_essay_level_test.tsv'"
   ]
  },
  {
   "cell_type": "code",
   "execution_count": null,
   "id": "dba89dac-8c8a-4935-be9f-9c87ab4640d2",
   "metadata": {
    "scrolled": true
   },
   "outputs": [],
   "source": [
    "train_ws23, id_demographic_train_ws23 = id_to_demographic(\n",
    "    filename=train_file_ws23,\n",
    "    save_as='WS23-train-id_demographic-text',\n",
    "    access_gpt=True\n",
    ")"
   ]
  },
  {
   "cell_type": "code",
   "execution_count": null,
   "id": "ab04e24a-8a67-4c5d-8bf9-db4cde14e41b",
   "metadata": {},
   "outputs": [],
   "source": [
    "train_ws23 = map_id_to_main(id_demographic_df=id_demographic_train_ws23, main_df=train_ws23, save_as=None)"
   ]
  },
  {
   "cell_type": "code",
   "execution_count": null,
   "id": "eb42a537-de28-462c-9c43-91c2b6e45d20",
   "metadata": {
    "scrolled": true
   },
   "outputs": [],
   "source": [
    "dev_ws23, id_demographic_dev_ws23 = id_to_demographic(\n",
    "    filename=dev_file_ws23,\n",
    "    save_as='WS23-dev-id_demographic-text',\n",
    "    access_gpt=True\n",
    ")"
   ]
  },
  {
   "cell_type": "code",
   "execution_count": null,
   "id": "b43321bd-3404-4ad3-b0f1-5db1c72b35c9",
   "metadata": {},
   "outputs": [],
   "source": [
    "dev_ws23 = map_id_to_main(id_demographic_df=id_demographic_dev_ws23, main_df=dev_ws23, save_as=None)"
   ]
  },
  {
   "cell_type": "code",
   "execution_count": null,
   "id": "e134add4-bc69-409c-aac6-d95508408551",
   "metadata": {
    "scrolled": true
   },
   "outputs": [],
   "source": [
    "test_ws23, id_demographic_test_ws23 = id_to_demographic(\n",
    "    filename=test_file_ws23,\n",
    "    save_as='WS23-test-id_demographic-text',\n",
    "    access_gpt=True\n",
    ")"
   ]
  },
  {
   "cell_type": "code",
   "execution_count": null,
   "id": "bfc7f007-1357-46cd-9f85-f694cd2556e4",
   "metadata": {},
   "outputs": [],
   "source": [
    "test_ws23 = map_id_to_main(id_demographic_df=id_demographic_test_ws23, main_df=test_ws23, save_as=None)"
   ]
  },
  {
   "cell_type": "markdown",
   "id": "5e6ef8f3-a2ee-4acb-a4ed-8984cf6918b0",
   "metadata": {},
   "source": [
    "## WASSA22"
   ]
  },
  {
   "cell_type": "code",
   "execution_count": null,
   "id": "6c575738-5797-46fa-a95e-2f39ff76ff05",
   "metadata": {},
   "outputs": [],
   "source": [
    "train_file = './data/WASSA22/messages_train_ready_for_WS.tsv'\n",
    "dev_file = './data/WASSA22/messages_dev_features_ready_for_WS_2022.tsv'\n",
    "test_file = './data/WASSA22/messages_test_features_ready_for_WS_2022.tsv'"
   ]
  },
  {
   "cell_type": "code",
   "execution_count": null,
   "id": "72c33be5-7fdd-4a53-b870-72019995e2b2",
   "metadata": {
    "scrolled": true
   },
   "outputs": [],
   "source": [
    "train, id_demographic_train = id_to_demographic(\n",
    "    filename=train_file,\n",
    "    WS22=True,\n",
    "    save_as='WS22-train-id_demographic-text',\n",
    "    access_gpt=True\n",
    ")"
   ]
  },
  {
   "cell_type": "code",
   "execution_count": null,
   "id": "cc400ea2-3fc1-4c76-ac09-586ae0d70656",
   "metadata": {},
   "outputs": [],
   "source": [
    "train = map_id_to_main(id_demographic_df=id_demographic_train, main_df=train, save_as=None)"
   ]
  },
  {
   "cell_type": "code",
   "execution_count": null,
   "id": "6024d636-6803-453c-b345-8c6ba9cc4cf7",
   "metadata": {
    "scrolled": true
   },
   "outputs": [],
   "source": [
    "dev, id_demographic_dev = id_to_demographic(\n",
    "    filename=dev_file,\n",
    "    WS22=True,\n",
    "    save_as='WS22-dev-id_demographic-text',\n",
    "    access_gpt=True\n",
    ")"
   ]
  },
  {
   "cell_type": "code",
   "execution_count": null,
   "id": "ffef757a-91a5-4b62-814d-a911a1349e49",
   "metadata": {},
   "outputs": [],
   "source": [
    "dev = map_id_to_main(id_demographic_df=id_demographic_dev, main_df=dev, save_as=None)"
   ]
  },
  {
   "cell_type": "code",
   "execution_count": null,
   "id": "67da016e-1d30-453d-9636-2058cca3d8ab",
   "metadata": {
    "scrolled": true
   },
   "outputs": [],
   "source": [
    "test, id_demographic_test = id_to_demographic(\n",
    "    filename=test_file,\n",
    "    WS22=True,\n",
    "    save_as='WS22-test-id_demographic-text',\n",
    "    access_gpt=True\n",
    ")"
   ]
  },
  {
   "cell_type": "code",
   "execution_count": null,
   "id": "06a685f6-756f-43cd-92ce-ec44f7cd230c",
   "metadata": {},
   "outputs": [],
   "source": [
    "test = map_id_to_main(id_demographic_df=id_demographic_test, main_df=test, save_as=None)"
   ]
  },
  {
   "cell_type": "markdown",
   "id": "ec3b99a7-240f-4b60-ad4c-1872fe7c6915",
   "metadata": {},
   "source": [
    "# Article summary"
   ]
  },
  {
   "cell_type": "code",
   "execution_count": null,
   "id": "54a2d166-1433-420f-9012-870f3e01471e",
   "metadata": {},
   "outputs": [],
   "source": [
    "article = pd.read_csv('./data/WASSA23/articles_adobe_AMT.csv', header=0)\n",
    "article.sample(2)"
   ]
  },
  {
   "cell_type": "code",
   "execution_count": null,
   "id": "c74b9dcd-b163-4d47-9cfe-f98d24a97dfb",
   "metadata": {
    "scrolled": true,
    "tags": []
   },
   "outputs": [],
   "source": [
    "long_index = []\n",
    "for row in article.itertuples():\n",
    "    prompt_summary = f\"\"\"\n",
    "    Your task is to summarize given text delimited by triple backticks.\n",
    "    Use at most 1000 characters.\n",
    "    Do not add any additional information not contained in the input text.\n",
    "    \n",
    "    Input text: ```{article.loc[row.Index,'text']}```\n",
    "    \"\"\"\n",
    "    # we don't need variation, so, temp=0 \n",
    "    try:\n",
    "        article.loc[row.Index, 'summary_text'] = chat(prompt=prompt_summary, temp=0)\n",
    "    except:\n",
    "        # base gpt3.5: \"This model's maximum context length is 4097 tokens. However, your messages resulted in 4536 tokens.\", so 16K context is used\n",
    "        article.loc[row.Index, 'summary_text'] = chat(prompt=prompt_summary, model=\"gpt-3.5-turbo-16k\", temp=0)\n",
    "        long_index.append(row.Index)\n",
    "    \n",
    "    # debugging\n",
    "    print(article.loc[row.Index, 'summary_text'])\n",
    "    print(\"\\n\")\n",
    "    # if row.Index == 1:\n",
    "    #     break"
   ]
  },
  {
   "cell_type": "code",
   "execution_count": null,
   "id": "f48fd3c6-f66e-4d9c-85a1-5816645ad6d2",
   "metadata": {},
   "outputs": [],
   "source": [
    "article.to_csv(\"./data/article-summarised.csv\")"
   ]
  },
  {
   "cell_type": "code",
   "execution_count": null,
   "id": "b7d96843-fcaf-4fa1-80e3-70d457bb0869",
   "metadata": {},
   "outputs": [],
   "source": [
    "print(f\"Longer texts (index) summarised by 16k model: {long_index}\")"
   ]
  },
  {
   "cell_type": "markdown",
   "id": "9ee2e40c-967e-4a4d-bc0c-67125a470d8d",
   "metadata": {},
   "source": [
    "## \\# of characters"
   ]
  },
  {
   "cell_type": "code",
   "execution_count": null,
   "id": "7c30f540-cdda-4db7-a54d-e3303f1eeaa6",
   "metadata": {},
   "outputs": [],
   "source": [
    "print(\"Minimum, mean and maximum of raw articles:\", \n",
    "      article['text'].str.len().min(), article['text'].str.len().mean(), article['text'].str.len().max())"
   ]
  },
  {
   "cell_type": "code",
   "execution_count": null,
   "id": "9f4b55be-8235-41ba-b675-091be063040b",
   "metadata": {},
   "outputs": [],
   "source": [
    "print(\"Minimum, mean and maximum of summarised articles:\", \n",
    "      article['summary_text'].str.len().min(), article['summary_text'].str.len().mean(), article['summary_text'].str.len().max())"
   ]
  },
  {
   "cell_type": "markdown",
   "id": "47c9c6e3-d5e1-42a8-9ed5-caaafff712b4",
   "metadata": {},
   "source": [
    "# Combine article to the main dataset"
   ]
  },
  {
   "cell_type": "code",
   "execution_count": null,
   "id": "b31ee09e-4c3c-407d-b187-85eaa03e2d6a",
   "metadata": {},
   "outputs": [],
   "source": [
    "article = pd.read_csv(\"./data/article-summarised.csv\", index_col=1) #article_id as index so that I can map to it easily"
   ]
  },
  {
   "cell_type": "code",
   "execution_count": null,
   "id": "4734c543-e2c8-4976-b51e-68d317e376b5",
   "metadata": {},
   "outputs": [],
   "source": [
    "article.sample(2)"
   ]
  },
  {
   "cell_type": "code",
   "execution_count": null,
   "id": "1f57dfc7-03ca-4e6c-844e-15d690f50b85",
   "metadata": {},
   "outputs": [],
   "source": [
    "article.loc[63, 'text']"
   ]
  },
  {
   "cell_type": "code",
   "execution_count": null,
   "id": "59ab791a-bdd4-469f-b655-fcb062965464",
   "metadata": {},
   "outputs": [],
   "source": [
    "def make_main_data(main_df, dataname, test=False):\n",
    "    input_data = main_df.copy() #mandatory step as dataframe is mutable\n",
    "\n",
    "    if not test: #can't remove anything on test set\n",
    "        print('Initial shape:', input_data.shape)\n",
    "        print('Rows having invalid article 63:')\n",
    "        print(input_data[input_data['article_id']==63].values)\n",
    "        \n",
    "        input_data = input_data[input_data['article_id'] != 63]\n",
    "        print('\\nCurrent shape after removing artile 63, if any:', input_data.shape)\n",
    "\n",
    "    #converting article id to corresponding article texts\n",
    "    input_data['article'] = input_data['article_id'].apply(lambda x: article.loc[x, 'summary_text'])\n",
    "        \n",
    "    # print(input_data.isna().any())\n",
    "    assert input_data.isna().any().any() == False #no NA values\n",
    "    assert input_data.isnull().any().any() == False #no null values\n",
    "    \n",
    "    input_data['demographic_essay'] = input_data['demographic'] + ' ' + input_data['essay']\n",
    "  \n",
    "    input_data.to_csv(\"./data/PREPROCESSED-\" + dataname + \".tsv\", sep='\\t')"
   ]
  },
  {
   "cell_type": "code",
   "execution_count": null,
   "id": "b5c008ca-6367-4d9c-abe3-08d5966ebed8",
   "metadata": {
    "scrolled": true
   },
   "outputs": [],
   "source": [
    "make_main_data(main_df=train_ws23, dataname=\"WS23-train\")"
   ]
  },
  {
   "cell_type": "code",
   "execution_count": null,
   "id": "72f72cf2-4310-4140-a6e8-267adfee104a",
   "metadata": {
    "scrolled": true
   },
   "outputs": [],
   "source": [
    "make_main_data(main_df=dev_ws23, dataname=\"WS23-dev\", test=True) # will use as test set while validation, so no need to drop"
   ]
  },
  {
   "cell_type": "code",
   "execution_count": null,
   "id": "b5d5e971-6525-4884-8d9d-4d4ffc92282e",
   "metadata": {
    "scrolled": true
   },
   "outputs": [],
   "source": [
    "make_main_data(main_df=test_ws23, dataname=\"WS23-test\")"
   ]
  },
  {
   "cell_type": "code",
   "execution_count": null,
   "id": "81ac3f14-04da-444a-b316-a14646504853",
   "metadata": {
    "scrolled": true
   },
   "outputs": [],
   "source": [
    "make_main_data(main_df=train, dataname=\"WS22-train\")"
   ]
  },
  {
   "cell_type": "code",
   "execution_count": null,
   "id": "64d69080-5ad5-4b69-80f7-f3a1117dcd17",
   "metadata": {
    "scrolled": true
   },
   "outputs": [],
   "source": [
    "make_main_data(main_df=dev, dataname=\"WS22-dev\", test=True) # will use as test set while validation, so no need to drop"
   ]
  },
  {
   "cell_type": "code",
   "execution_count": null,
   "id": "5e7a82e3-df2f-4ff7-8304-be44dc25f988",
   "metadata": {},
   "outputs": [],
   "source": [
    "make_main_data(main_df=test, dataname=\"WS22-test\", test=True)"
   ]
  },
  {
   "cell_type": "markdown",
   "id": "e6252d3b-054f-4ecf-8bea-b4b70cbf93b5",
   "metadata": {},
   "source": [
    "# Combine WS22 and WS23"
   ]
  },
  {
   "cell_type": "markdown",
   "id": "b3f5fd1c-abc5-445f-a24c-5be9a6db5c0b",
   "metadata": {},
   "source": [
    "## Preprocessed"
   ]
  },
  {
   "cell_type": "markdown",
   "id": "acd53747-b2b9-49c1-b0f1-d13a56849ecf",
   "metadata": {},
   "source": [
    "### Train"
   ]
  },
  {
   "cell_type": "code",
   "execution_count": null,
   "id": "8754f023-2b96-48f9-a6c1-96ed98632ae0",
   "metadata": {},
   "outputs": [],
   "source": [
    "ws22 = pd.read_csv('./data/PREPROCESSED-WS22-train.tsv', sep='\\t', index_col=0)\n",
    "ws23 = pd.read_csv('./data/PREPROCESSED-WS23-train.tsv', sep='\\t', index_col=0)"
   ]
  },
  {
   "cell_type": "code",
   "execution_count": null,
   "id": "5e56f148-6a9d-4bcf-a93c-dd4abcbbcdae",
   "metadata": {},
   "outputs": [],
   "source": [
    "ws22.head(2)"
   ]
  },
  {
   "cell_type": "code",
   "execution_count": null,
   "id": "f43ad435-7ae4-45cb-bea8-a0ea23cf5f2e",
   "metadata": {},
   "outputs": [],
   "source": [
    "ws23.head(2)"
   ]
  },
  {
   "cell_type": "code",
   "execution_count": null,
   "id": "4c2350b3-87c0-4fd1-a48e-ebfc66a0b273",
   "metadata": {},
   "outputs": [],
   "source": [
    "column_ws22 = ws22.columns.tolist()"
   ]
  },
  {
   "cell_type": "code",
   "execution_count": null,
   "id": "904df17e-81f8-46d6-992a-0852b6651fd4",
   "metadata": {},
   "outputs": [],
   "source": [
    "column_ws23 = ws23.columns.tolist()"
   ]
  },
  {
   "cell_type": "code",
   "execution_count": null,
   "id": "b11fa393-2079-415e-9ca7-b4dd0df1f5ae",
   "metadata": {},
   "outputs": [],
   "source": [
    "common_columns = [i for i in column_ws22 if i in column_ws23]"
   ]
  },
  {
   "cell_type": "code",
   "execution_count": null,
   "id": "88708768-f729-4002-93e6-6eb48b3d954f",
   "metadata": {},
   "outputs": [],
   "source": [
    "common_columns"
   ]
  },
  {
   "cell_type": "code",
   "execution_count": null,
   "id": "dc09ed33-c383-4070-a025-d3cba962f94f",
   "metadata": {},
   "outputs": [],
   "source": [
    "ws22 = ws22[common_columns]\n",
    "ws23 = ws23[common_columns]"
   ]
  },
  {
   "cell_type": "code",
   "execution_count": null,
   "id": "cf34cc9e-0713-4bd8-8a52-f9b23b90d8dc",
   "metadata": {},
   "outputs": [],
   "source": [
    "print(ws22.shape, ws23.shape)"
   ]
  },
  {
   "cell_type": "code",
   "execution_count": null,
   "id": "333c0b84-61e7-460a-9d03-ce4097bfe186",
   "metadata": {},
   "outputs": [],
   "source": [
    "ws = pd.concat([ws22, ws23], ignore_index=True)"
   ]
  },
  {
   "cell_type": "code",
   "execution_count": null,
   "id": "6fb14a7d-8b2a-411a-a6ac-22dd20557e10",
   "metadata": {},
   "outputs": [],
   "source": [
    "ws.shape"
   ]
  },
  {
   "cell_type": "code",
   "execution_count": null,
   "id": "48435828-5c7f-436a-84fb-7da07399870b",
   "metadata": {},
   "outputs": [],
   "source": [
    "ws.to_csv('./data/PREPROCESSED-WS22-WS23-train.tsv', sep='\\t', index=False)"
   ]
  },
  {
   "cell_type": "markdown",
   "id": "9fc29d7b-3b4f-4be7-bf75-3a4e1d35469a",
   "metadata": {},
   "source": [
    "### Dev"
   ]
  },
  {
   "cell_type": "code",
   "execution_count": null,
   "id": "24397a42-05fb-4ce6-94b3-becace45f441",
   "metadata": {},
   "outputs": [],
   "source": [
    "ws22 = pd.read_csv('./data/PREPROCESSED-WS22-dev.tsv', sep='\\t', index_col=0)\n",
    "ws23 = pd.read_csv('./data/PREPROCESSED-WS23-dev.tsv', sep='\\t', index_col=0)"
   ]
  },
  {
   "cell_type": "code",
   "execution_count": null,
   "id": "e6e532fc-c7b6-4108-8e98-562e3f3cd076",
   "metadata": {},
   "outputs": [],
   "source": [
    "ws22.head(2)"
   ]
  },
  {
   "cell_type": "code",
   "execution_count": null,
   "id": "889da20d-ebd9-4c6b-9fd6-d42b9e7f3364",
   "metadata": {},
   "outputs": [],
   "source": [
    "ws23.head(2)"
   ]
  },
  {
   "cell_type": "code",
   "execution_count": null,
   "id": "062c101f-4f27-4506-bffc-f479af5c5960",
   "metadata": {},
   "outputs": [],
   "source": [
    "column_ws22 = ws22.columns.tolist()"
   ]
  },
  {
   "cell_type": "code",
   "execution_count": null,
   "id": "cb8f210e-987b-498a-9d88-6bdb9275992f",
   "metadata": {},
   "outputs": [],
   "source": [
    "column_ws23 = ws23.columns.tolist()"
   ]
  },
  {
   "cell_type": "code",
   "execution_count": null,
   "id": "e42c6a2e-8f36-4dde-8fc5-40a391f38692",
   "metadata": {},
   "outputs": [],
   "source": [
    "common_columns = [i for i in column_ws22 if i in column_ws23]"
   ]
  },
  {
   "cell_type": "code",
   "execution_count": null,
   "id": "7ff94db5-d249-454c-ac85-d591d88b4ba2",
   "metadata": {},
   "outputs": [],
   "source": [
    "common_columns"
   ]
  },
  {
   "cell_type": "code",
   "execution_count": null,
   "id": "98535085-17fd-4644-8a3e-cf3f4a3b5b32",
   "metadata": {},
   "outputs": [],
   "source": [
    "ws22 = ws22[common_columns]\n",
    "ws23 = ws23[common_columns]"
   ]
  },
  {
   "cell_type": "code",
   "execution_count": null,
   "id": "bd1260f7-7b19-4396-a09d-b88ea91c2594",
   "metadata": {},
   "outputs": [],
   "source": [
    "print(ws22.shape, ws23.shape)"
   ]
  },
  {
   "cell_type": "code",
   "execution_count": null,
   "id": "bb415e2f-9696-480c-8c7e-26dd6517c5e1",
   "metadata": {},
   "outputs": [],
   "source": [
    "ws = pd.concat([ws22, ws23], ignore_index=True)"
   ]
  },
  {
   "cell_type": "code",
   "execution_count": null,
   "id": "2036527c-404d-4dae-b048-cf72ee9990c3",
   "metadata": {},
   "outputs": [],
   "source": [
    "ws.shape"
   ]
  },
  {
   "cell_type": "code",
   "execution_count": null,
   "id": "666567f4-785b-4c8e-a854-07b09dc9d674",
   "metadata": {},
   "outputs": [],
   "source": [
    "ws.to_csv('./data/PREPROCESSED-WS22-WS23-dev.tsv', sep='\\t', index=False)"
   ]
  },
  {
   "cell_type": "markdown",
   "id": "2b0d0b34-9699-45d4-a2f7-1faef1d4f01e",
   "metadata": {},
   "source": [
    "### Dev labels"
   ]
  },
  {
   "cell_type": "code",
   "execution_count": null,
   "id": "f47bb834-e7b5-487f-ab59-e680f8cbbe06",
   "metadata": {},
   "outputs": [],
   "source": [
    "ws22 = pd.read_csv('./data/WASSA22/goldstandard_dev_2022.tsv', sep='\\t', header=None)\n",
    "ws23 = pd.read_csv('./data/WASSA23/goldstandard_dev.tsv', sep='\\t', header=None)"
   ]
  },
  {
   "cell_type": "code",
   "execution_count": null,
   "id": "5a99ef71-dee6-429f-8c9b-662896e75970",
   "metadata": {},
   "outputs": [],
   "source": [
    "ws22.head(2)"
   ]
  },
  {
   "cell_type": "code",
   "execution_count": null,
   "id": "67715b55-55a6-471a-8439-adaad46d3a69",
   "metadata": {},
   "outputs": [],
   "source": [
    "ws23.head(2)"
   ]
  },
  {
   "cell_type": "code",
   "execution_count": null,
   "id": "f0f633b0-c9db-4f4d-88fc-34b243559ada",
   "metadata": {},
   "outputs": [],
   "source": [
    "print(ws22.shape, ws23.shape)"
   ]
  },
  {
   "cell_type": "code",
   "execution_count": null,
   "id": "3c85271a-dbb2-452d-bd22-82010847373e",
   "metadata": {},
   "outputs": [],
   "source": [
    "ws = pd.concat([ws22, ws23], ignore_index=True)"
   ]
  },
  {
   "cell_type": "code",
   "execution_count": null,
   "id": "a5c7d1d3-e699-4327-83df-fa69bcb0a709",
   "metadata": {},
   "outputs": [],
   "source": [
    "ws.shape"
   ]
  },
  {
   "cell_type": "code",
   "execution_count": null,
   "id": "47715727-f109-4ed5-b21a-40e5d521676d",
   "metadata": {},
   "outputs": [],
   "source": [
    "ws.to_csv('./data/goldstandard-WS22-WS23-dev.tsv', sep='\\t', index=False, header=None)"
   ]
  },
  {
   "cell_type": "markdown",
   "id": "dec84a3e-9b39-4dea-bd3f-e7a4030cd63e",
   "metadata": {},
   "source": [
    "## Raw"
   ]
  },
  {
   "cell_type": "code",
   "execution_count": null,
   "id": "b764dafd-46ea-448f-bfb1-7467a95d9a75",
   "metadata": {},
   "outputs": [],
   "source": [
    "train_WS22 = './data/WASSA22/messages_train_ready_for_WS.tsv'\n",
    "train_WS23 = './data/WASSA23/WASSA23_essay_level_with_labels_train.tsv'"
   ]
  },
  {
   "cell_type": "code",
   "execution_count": null,
   "id": "e453dd2c-0cfc-4e96-aa8b-ff4ae43d3eff",
   "metadata": {},
   "outputs": [],
   "source": [
    "train_WS22 = pd.read_csv(train_WS22, sep='\\t', header=0)\n",
    "train_WS23 = pd.read_csv(train_WS23, sep='\\t', na_values='unknown', header=0)"
   ]
  },
  {
   "cell_type": "code",
   "execution_count": null,
   "id": "6d64a621-ace1-4142-a327-ca98b96b72fa",
   "metadata": {},
   "outputs": [],
   "source": [
    "train_WS22.dropna(inplace=True)\n",
    "train_WS23.dropna(inplace=True)"
   ]
  },
  {
   "cell_type": "code",
   "execution_count": null,
   "id": "b98bf8f8-a1e7-45e4-b3c1-b9bb5fde0a9a",
   "metadata": {},
   "outputs": [],
   "source": [
    "train_WS22.select_dtypes(exclude='number').columns.tolist()"
   ]
  },
  {
   "cell_type": "code",
   "execution_count": null,
   "id": "5fbaedaa-92a1-48ed-a7b0-2172f55296e3",
   "metadata": {},
   "outputs": [],
   "source": [
    "train_WS23.select_dtypes(exclude='number').columns.tolist()"
   ]
  },
  {
   "cell_type": "code",
   "execution_count": null,
   "id": "c878a1d0-a6db-4eca-8d85-cf56baebbf64",
   "metadata": {},
   "outputs": [],
   "source": [
    "column_WS22 = train_WS22.columns.tolist()"
   ]
  },
  {
   "cell_type": "code",
   "execution_count": null,
   "id": "76891230-1bdb-4b7c-b842-dd14ee1dc81a",
   "metadata": {},
   "outputs": [],
   "source": [
    "column_WS23 = train_WS23.columns.tolist()"
   ]
  },
  {
   "cell_type": "code",
   "execution_count": null,
   "id": "c9f593cf-a86c-4751-8681-ac145cad49d1",
   "metadata": {},
   "outputs": [],
   "source": [
    "common_columns = [i for i in column_WS22 if i in column_WS23]"
   ]
  },
  {
   "cell_type": "code",
   "execution_count": null,
   "id": "35764e67-c17f-46bc-a6ee-64639dd5d8f2",
   "metadata": {},
   "outputs": [],
   "source": [
    "common_columns"
   ]
  },
  {
   "cell_type": "code",
   "execution_count": null,
   "id": "4422fc59-237a-44c4-860c-6ef3a8741292",
   "metadata": {},
   "outputs": [],
   "source": [
    "train_WS22 = train_WS22[common_columns]\n",
    "train_WS23 = train_WS23[common_columns]"
   ]
  },
  {
   "cell_type": "code",
   "execution_count": null,
   "id": "eadd6cd1-5a99-48eb-96db-003981089d52",
   "metadata": {},
   "outputs": [],
   "source": [
    "train_WS22.shape"
   ]
  },
  {
   "cell_type": "code",
   "execution_count": null,
   "id": "3ed69727-d1aa-43a3-964a-c22e0be09623",
   "metadata": {},
   "outputs": [],
   "source": [
    "train_WS23.shape"
   ]
  },
  {
   "cell_type": "code",
   "execution_count": null,
   "id": "ad191ae0-7f5a-4af6-b64e-2efdb1d8dba6",
   "metadata": {},
   "outputs": [],
   "source": [
    "train_WS = pd.concat([train_WS22, train_WS23], ignore_index=True)"
   ]
  },
  {
   "cell_type": "code",
   "execution_count": null,
   "id": "2b81c18e-483e-4911-9c2f-0e02931d927a",
   "metadata": {},
   "outputs": [],
   "source": [
    "train_WS.shape"
   ]
  },
  {
   "cell_type": "code",
   "execution_count": null,
   "id": "0ee3bca8-5db6-43f6-a43a-7b0c3d01b193",
   "metadata": {},
   "outputs": [],
   "source": [
    "train_WS.to_csv('./data/essay-train-ws22-ws23.tsv', sep='\\t')"
   ]
  },
  {
   "cell_type": "markdown",
   "id": "edfba426-df35-426f-890c-0f461792fb13",
   "metadata": {},
   "source": [
    "## GPT-annotated"
   ]
  },
  {
   "cell_type": "markdown",
   "id": "0bb85894-136e-4d67-81eb-79fe4ebf3484",
   "metadata": {},
   "source": [
    "### Train"
   ]
  },
  {
   "cell_type": "code",
   "execution_count": null,
   "id": "8d86fd9b-7e10-40a7-8553-f58dcc70aeb6",
   "metadata": {},
   "outputs": [],
   "source": [
    "ws22 = pd.read_csv('./data/WS22-train-gpt.tsv', sep='\\t')\n",
    "ws23 = pd.read_csv('./data/WS23-train-gpt.tsv', sep='\\t')"
   ]
  },
  {
   "cell_type": "code",
   "execution_count": null,
   "id": "433873a1-3966-46cb-95f5-22c911375b06",
   "metadata": {},
   "outputs": [],
   "source": [
    "ws22.head(2)"
   ]
  },
  {
   "cell_type": "code",
   "execution_count": null,
   "id": "928130e7-11ed-463c-a25e-fb37ea9bf22b",
   "metadata": {},
   "outputs": [],
   "source": [
    "ws23.head(2)"
   ]
  },
  {
   "cell_type": "code",
   "execution_count": null,
   "id": "c5342adc-ba1b-4001-a907-765f30a18a40",
   "metadata": {},
   "outputs": [],
   "source": [
    "column_ws22 = ws22.columns.tolist()"
   ]
  },
  {
   "cell_type": "code",
   "execution_count": null,
   "id": "ed8f180e-0a48-4637-b505-53db6cb4045d",
   "metadata": {},
   "outputs": [],
   "source": [
    "column_ws23 = ws23.columns.tolist()"
   ]
  },
  {
   "cell_type": "code",
   "execution_count": null,
   "id": "7ccd1274-2977-4f48-9fca-734e8370d925",
   "metadata": {},
   "outputs": [],
   "source": [
    "common_columns = [i for i in column_ws22 if i in column_ws23]"
   ]
  },
  {
   "cell_type": "code",
   "execution_count": null,
   "id": "f193bd41-6df2-4a97-91de-5bc6c1a7ce22",
   "metadata": {},
   "outputs": [],
   "source": [
    "common_columns"
   ]
  },
  {
   "cell_type": "code",
   "execution_count": null,
   "id": "51662c1b-7b5f-4bd3-9cee-f451adb7cb76",
   "metadata": {},
   "outputs": [],
   "source": [
    "ws22 = ws22[common_columns]\n",
    "ws23 = ws23[common_columns]"
   ]
  },
  {
   "cell_type": "code",
   "execution_count": null,
   "id": "838e9eda-5e68-4da1-9502-6787b8a14658",
   "metadata": {},
   "outputs": [],
   "source": [
    "print(ws22.shape, ws23.shape)"
   ]
  },
  {
   "cell_type": "code",
   "execution_count": null,
   "id": "738a5e4d-b582-4af8-ac82-c55548eb8523",
   "metadata": {},
   "outputs": [],
   "source": [
    "ws = pd.concat([ws22, ws23], ignore_index=True)"
   ]
  },
  {
   "cell_type": "code",
   "execution_count": null,
   "id": "99d688be-be84-4ac3-9017-5db44c786835",
   "metadata": {},
   "outputs": [],
   "source": [
    "ws.shape"
   ]
  },
  {
   "cell_type": "code",
   "execution_count": null,
   "id": "a01585ef-b2be-4b68-a10e-1bbd8b08239f",
   "metadata": {},
   "outputs": [],
   "source": [
    "ws.dropna(inplace=True)"
   ]
  },
  {
   "cell_type": "code",
   "execution_count": null,
   "id": "3968df88-b9e2-4e86-8e0a-a024eb1774b7",
   "metadata": {},
   "outputs": [],
   "source": [
    "ws.shape"
   ]
  },
  {
   "cell_type": "code",
   "execution_count": null,
   "id": "19afcc00-a2c1-4252-83d7-04febf5854c6",
   "metadata": {},
   "outputs": [],
   "source": [
    "ws.to_csv('./data/WS22-WS23-train-gpt.tsv', sep='\\t', index=False)"
   ]
  },
  {
   "cell_type": "code",
   "execution_count": null,
   "id": "80e07cee-649f-482b-8e65-b4958e8a8a46",
   "metadata": {},
   "outputs": [],
   "source": [
    "ws22.shape"
   ]
  },
  {
   "cell_type": "code",
   "execution_count": null,
   "id": "9d16bce3-21f1-450b-9762-2caba0e8485d",
   "metadata": {},
   "outputs": [],
   "source": [
    "ws22.dropna(inplace=True)"
   ]
  },
  {
   "cell_type": "code",
   "execution_count": null,
   "id": "07165480-ad49-452b-b2d6-ca8e3b33ac55",
   "metadata": {},
   "outputs": [],
   "source": [
    "ws22.shape"
   ]
  },
  {
   "cell_type": "code",
   "execution_count": null,
   "id": "34f11364-34ef-41b4-bef6-c6949ad920ea",
   "metadata": {},
   "outputs": [],
   "source": [
    "ws22.to_csv('./data/WS22-train-gpt.tsv', sep='\\t', index=False)"
   ]
  },
  {
   "cell_type": "markdown",
   "id": "69d76155-9a88-4c0d-b81c-1a947ace33dd",
   "metadata": {},
   "source": [
    "# Augmentation"
   ]
  },
  {
   "cell_type": "code",
   "execution_count": null,
   "id": "3545afcc-e0de-49e6-ba11-ecef19c695a1",
   "metadata": {},
   "outputs": [],
   "source": [
    "data = pd.read_csv('./data/PREPROCESSED-WS22-WS23-train.tsv', sep='\\t')"
   ]
  },
  {
   "cell_type": "code",
   "execution_count": null,
   "id": "50fbbe6a-3535-43a1-a7dc-044f15dd5bf9",
   "metadata": {
    "scrolled": true
   },
   "outputs": [],
   "source": [
    "data.head()"
   ]
  },
  {
   "cell_type": "code",
   "execution_count": null,
   "id": "b700b741-1444-4576-8c29-0844d4443562",
   "metadata": {
    "scrolled": true,
    "tags": []
   },
   "outputs": [],
   "source": [
    "data.drop(['essay', 'demographic'], axis=1, inplace=True) #since only essay will not be paraphrased\n",
    "paraphrased = data.copy()\n",
    "paraphrased.loc[:, ['demographic_essay', 'article']] = np.nan # paraphrased texts will be placed there \n",
    "\n",
    "for row in data.itertuples():\n",
    "    prompt = f\"\"\"\n",
    "    As a data augmentation tool for NLP, your task is to paraphrase the newspaper article delimited by triple backticks.\n",
    "\n",
    "    Do not add any additional information not contained in the input texts.\n",
    "\n",
    "    Your response must not have any backticks or any additional symbols.\n",
    "    \n",
    "    Input newspaper article: ```{data.loc[row.Index,'article']}```\n",
    "    \"\"\"\n",
    "    try:\n",
    "        response = chat(prompt=prompt, temp=1)\n",
    "    except Exception as e:\n",
    "        print(e)\n",
    "        print(\"\\nFailed but we're trying again in 60 seconds with a different model...\\n\")\n",
    "        time.sleep(60) # normally it asks to wait for 20s\n",
    "        # base gpt3.5: \"This model's maximum context length is 4097 tokens. However, your messages resulted in 4536 tokens.\", so 16K context is used\n",
    "        response = chat(prompt=prompt, model=\"gpt-3.5-turbo-16k\", temp=1)\n",
    "\n",
    "    # demographic_essay\n",
    "    prompt_essay = f\"\"\"\n",
    "    In a data collection experiment for empathy detection, the study participant writes essay to describe their feeling after reading a newspaper article involving harm to individuals, groups or other entities.\n",
    "    \n",
    "    The participant's demographic information are also available within the essay.\n",
    "    \n",
    "    As a data augmentation tool for NLP, your task is to paraphrase the demographic and essay information delimited by triple backticks.\n",
    "\n",
    "    Do not add any additional information not contained in the input texts.\n",
    "\n",
    "    Overall, the participant expressed {data.loc[row.Index,'emotion']} emotion. Do not change this overall emotion of the participant's essay.\n",
    "\n",
    "    Your response must not have any backticks or any additional symbols.\n",
    "    \n",
    "    Input demographic and essay: ```{data.loc[row.Index,'demographic_essay']}```\n",
    "    \"\"\"\n",
    "    try:\n",
    "        response_essay = chat(prompt=prompt_essay, temp=1)\n",
    "    except Exception as e:\n",
    "        print(e)\n",
    "        print(\"\\nFailed but we're trying again in 60 seconds with a different model...\\n\")\n",
    "        time.sleep(60) # normally it asks to wait for 20s\n",
    "        # base gpt3.5: \"This model's maximum context length is 4097 tokens. However, your messages resulted in 4536 tokens.\", so 16K context is used\n",
    "        response_essay = chat(prompt=prompt_essay, model=\"gpt-3.5-turbo-16k\", temp=1)\n",
    "\n",
    "    # process the response\n",
    "    paraphrased.loc[row.Index, 'demographic_essay'] = response_essay\n",
    "    paraphrased.loc[row.Index, 'article'] = response\n",
    "\n",
    "    print('Completed row index:', row.Index)\n",
    "    # saving per 10 new paraphrase\n",
    "    if row.Index % 10 == 0:\n",
    "        paraphrased.to_csv('./data/paraphrased-preprocessed-WS22-WS23-train.tsv', sep='\\t', index=None)\n",
    "    \n",
    "    # debugging\n",
    "    # print(\"\\n\")\n",
    "    # if row.Index == 2:\n",
    "    #     break"
   ]
  },
  {
   "cell_type": "code",
   "execution_count": null,
   "id": "ee744499-e3a6-4028-a53c-6bff7bee1a72",
   "metadata": {},
   "outputs": [],
   "source": [
    "paraphrased.to_csv('./data/paraphrased-preprocessed-WS22-WS23-train.tsv', sep='\\t', index=None)"
   ]
  },
  {
   "cell_type": "code",
   "execution_count": null,
   "id": "60928173-8c9e-4e80-8c7f-32d3a014256c",
   "metadata": {},
   "outputs": [],
   "source": [
    "data.columns"
   ]
  },
  {
   "cell_type": "code",
   "execution_count": null,
   "id": "32781648-2866-4845-a19e-aa295219e738",
   "metadata": {},
   "outputs": [],
   "source": [
    "paraphrased.columns"
   ]
  },
  {
   "cell_type": "code",
   "execution_count": null,
   "id": "ce078cfe-30e7-4491-b63e-22e7302aaef1",
   "metadata": {},
   "outputs": [],
   "source": [
    "all = pd.concat([data, paraphrased], ignore_index=True)"
   ]
  },
  {
   "cell_type": "code",
   "execution_count": null,
   "id": "32ef5d87-cf1b-460e-9af1-822b302896d3",
   "metadata": {},
   "outputs": [],
   "source": [
    "all.shape"
   ]
  },
  {
   "cell_type": "code",
   "execution_count": null,
   "id": "6e007451-8669-45c9-a5f9-f733ae298eee",
   "metadata": {},
   "outputs": [],
   "source": [
    "all.to_csv('./data/COMBINED-PREPROCESSED-PARAPHRASED-WS22-WS23-train.tsv', sep='\\t', index=None)"
   ]
  },
  {
   "cell_type": "markdown",
   "id": "3362c707-c361-46d6-be32-1dc02e7225b5",
   "metadata": {},
   "source": [
    "## Changing original annotations by GPT annotations"
   ]
  },
  {
   "cell_type": "code",
   "execution_count": null,
   "id": "4d66e86f-b26a-471a-ab81-065f6b612b1f",
   "metadata": {},
   "outputs": [],
   "source": [
    "ws['empathy'].shape"
   ]
  },
  {
   "cell_type": "code",
   "execution_count": null,
   "id": "f5de2c81-5541-493a-8a86-c31d5eeefc5c",
   "metadata": {},
   "outputs": [],
   "source": [
    "original_anno = pd.read_csv('./data/COMBINED-PREPROCESSED-PARAPHRASED-WS22-WS23-train.tsv', sep='\\t')"
   ]
  },
  {
   "cell_type": "code",
   "execution_count": null,
   "id": "2bf7444a-e6be-4bfa-99c6-865ca2641215",
   "metadata": {},
   "outputs": [],
   "source": [
    "original_anno.shape"
   ]
  },
  {
   "cell_type": "code",
   "execution_count": null,
   "id": "c34be398-d7d5-4ca1-b4a4-54495351dd37",
   "metadata": {},
   "outputs": [],
   "source": [
    "original_anno.rename(columns={'empathy': 'wrong_empathy'}, inplace=True)"
   ]
  },
  {
   "cell_type": "code",
   "execution_count": null,
   "id": "6b2796cb-dcd9-4517-b907-07afb9a80438",
   "metadata": {},
   "outputs": [],
   "source": [
    "original_anno.columns"
   ]
  },
  {
   "cell_type": "code",
   "execution_count": null,
   "id": "3b4da970-e7c6-4f7c-b131-753693de555a",
   "metadata": {},
   "outputs": [],
   "source": [
    "original_anno['empathy'] = ws['empathy'].tolist() + ws['empathy'].tolist()"
   ]
  },
  {
   "cell_type": "code",
   "execution_count": null,
   "id": "bd4f0842-49e6-4dea-ad41-984265dd9ea2",
   "metadata": {},
   "outputs": [],
   "source": [
    "original_anno.shape"
   ]
  },
  {
   "cell_type": "code",
   "execution_count": null,
   "id": "e3b54212-73dc-4ddb-a803-386ada96bece",
   "metadata": {},
   "outputs": [],
   "source": [
    "original_anno.dropna(inplace=True) #there should be two+two NA values, as those were unable to annotate"
   ]
  },
  {
   "cell_type": "code",
   "execution_count": null,
   "id": "82e8fab0-9496-496e-9501-6659803615e6",
   "metadata": {},
   "outputs": [],
   "source": [
    "original_anno.shape"
   ]
  },
  {
   "cell_type": "code",
   "execution_count": null,
   "id": "ac4cf885-5360-4124-8483-301b0df294e1",
   "metadata": {},
   "outputs": [],
   "source": [
    "original_anno.to_csv('./data/WS22-WS23-augmented-train-gpt.tsv', sep='\\t', index=None)"
   ]
  },
  {
   "cell_type": "markdown",
   "id": "c34860e6-f84e-4e98-9f5c-e20226695053",
   "metadata": {},
   "source": [
    "#### Split"
   ]
  },
  {
   "cell_type": "code",
   "execution_count": null,
   "id": "97668200-dd2a-4e6e-95ec-457c018d56e8",
   "metadata": {},
   "outputs": [],
   "source": [
    "all = pd.read_csv('./data/WS22-WS23-augmented-train-gpt.tsv', sep='\\t')"
   ]
  },
  {
   "cell_type": "code",
   "execution_count": null,
   "id": "0ea3993b-ebfd-45d3-b046-71b68cf5e17e",
   "metadata": {},
   "outputs": [],
   "source": [
    "wo_aug = all[: (len(all)//2)]"
   ]
  },
  {
   "cell_type": "code",
   "execution_count": null,
   "id": "a82bf100-fd28-43d0-9384-b61ab406ac3f",
   "metadata": {},
   "outputs": [],
   "source": [
    "len(wo_aug)"
   ]
  },
  {
   "cell_type": "code",
   "execution_count": null,
   "id": "2d431a3c-3ef4-4e04-b481-caf0fab12689",
   "metadata": {},
   "outputs": [],
   "source": [
    "wo_aug.to_csv('./data/WS22-WS23-sep-from-aug-train-gpt.tsv', sep='\\t', index=False)"
   ]
  },
  {
   "cell_type": "markdown",
   "id": "f166941d-f39f-438c-b91e-bcfedf05813f",
   "metadata": {},
   "source": [
    "### Further split"
   ]
  },
  {
   "cell_type": "code",
   "execution_count": null,
   "id": "94c8b021-b9ba-4eab-a1a4-0bedb6f45667",
   "metadata": {},
   "outputs": [],
   "source": [
    "wo_aug = pd.read_csv('./data/WS22-WS23-sep-from-aug-train-gpt.tsv', sep='\\t')"
   ]
  },
  {
   "cell_type": "code",
   "execution_count": null,
   "id": "a9a5d749-98b2-41f3-9513-7298f38eab41",
   "metadata": {},
   "outputs": [],
   "source": [
    "v1 = wo_aug.loc[:1854, :]"
   ]
  },
  {
   "cell_type": "code",
   "execution_count": null,
   "id": "aefc49ae-95c4-4a8e-beef-aed128ef5de6",
   "metadata": {},
   "outputs": [],
   "source": [
    "v1.shape"
   ]
  },
  {
   "cell_type": "code",
   "execution_count": null,
   "id": "be1f59db-e0e5-4977-bb31-5118bb7df3a3",
   "metadata": {},
   "outputs": [],
   "source": [
    "ten_percent = v1.sample(n=185)"
   ]
  },
  {
   "cell_type": "code",
   "execution_count": null,
   "id": "10604862-f92e-446f-93da-17875e859baf",
   "metadata": {},
   "outputs": [],
   "source": [
    "ten_percent.shape"
   ]
  },
  {
   "cell_type": "code",
   "execution_count": null,
   "id": "32848637-8bf6-4d72-b939-cad5127ba738",
   "metadata": {},
   "outputs": [],
   "source": [
    "ten_percent.to_csv('./data/v1-10-percent.tsv', sep='\\t', index=True)"
   ]
  },
  {
   "cell_type": "code",
   "execution_count": null,
   "id": "e5f90431-f2fe-4d1b-a226-65f2198cfc23",
   "metadata": {},
   "outputs": [],
   "source": [
    "ninety_percent = v1.drop(ten_percent.index) #removing 10% randomly as per the paper"
   ]
  },
  {
   "cell_type": "code",
   "execution_count": null,
   "id": "303355b7-cd14-4985-b63e-ea0bfe5a8b3f",
   "metadata": {},
   "outputs": [],
   "source": [
    "ninety_percent.shape"
   ]
  },
  {
   "cell_type": "code",
   "execution_count": null,
   "id": "023e6e0b-6cb8-4bc8-9903-fbff6bed8cf7",
   "metadata": {},
   "outputs": [],
   "source": [
    "ninety_percent.to_csv('./data/v1-90-percent.tsv', sep='\\t', index=False)"
   ]
  }
 ],
 "metadata": {
  "kernelspec": {
   "display_name": "Python 3 (ipykernel)",
   "language": "python",
   "name": "python3"
  },
  "language_info": {
   "codemirror_mode": {
    "name": "ipython",
    "version": 3
   },
   "file_extension": ".py",
   "mimetype": "text/x-python",
   "name": "python",
   "nbconvert_exporter": "python",
   "pygments_lexer": "ipython3",
   "version": "3.11.0"
  }
 },
 "nbformat": 4,
 "nbformat_minor": 5
}
