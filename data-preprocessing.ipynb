{
 "cells": [
  {
   "cell_type": "markdown",
   "id": "1bac725e-e85b-478b-a886-bfbeb1f851db",
   "metadata": {},
   "source": [
    "Notes:\n",
    "For each dataset, first we need to convert numerical to text. Secondly, we will map article id the summarised text."
   ]
  },
  {
   "cell_type": "code",
   "execution_count": 1,
   "id": "962c1a4f-b935-4ecb-941d-d45a25dc8a86",
   "metadata": {
    "tags": []
   },
   "outputs": [],
   "source": [
    "import pandas as pd\n",
    "import numpy as np\n",
    "import openai\n",
    "import time"
   ]
  },
  {
   "cell_type": "code",
   "execution_count": 2,
   "id": "e73b2df1-184d-4227-bbca-41691a7dc172",
   "metadata": {},
   "outputs": [],
   "source": [
    "import os\n",
    "os.chdir(\"/g/data/jr19/rh2942/text-empathy/\")"
   ]
  },
  {
   "cell_type": "code",
   "execution_count": 3,
   "id": "0c402f7d-fe50-4db6-9e8b-402f49a3c195",
   "metadata": {},
   "outputs": [],
   "source": [
    "with open(\"./openai-api.txt\", 'r') as f:\n",
    "    openai.api_key = f.read()"
   ]
  },
  {
   "cell_type": "code",
   "execution_count": 4,
   "id": "e8a489f5-e037-4250-98b3-1a90f457bed5",
   "metadata": {
    "tags": []
   },
   "outputs": [],
   "source": [
    "def chat(prompt, model=\"gpt-3.5-turbo-0613\", temp=1.5):\n",
    "    messages = [{\"role\": \"user\", \"content\": prompt}]\n",
    "    response = openai.ChatCompletion.create(\n",
    "        model=model,\n",
    "        messages=messages,\n",
    "        temperature=temp, # degree of randomness of the model's output\n",
    "    )\n",
    "    return response.choices[0].message[\"content\"]"
   ]
  },
  {
   "cell_type": "markdown",
   "id": "b7dd1746-b91b-4c9f-8e33-48d12e95a046",
   "metadata": {
    "jp-MarkdownHeadingCollapsed": true
   },
   "source": [
    "# Numeric to text"
   ]
  },
  {
   "cell_type": "code",
   "execution_count": 8,
   "id": "cc6fc994-8bf7-4c63-a54f-061c234e5ac1",
   "metadata": {
    "scrolled": true,
    "tags": []
   },
   "outputs": [],
   "source": [
    "def num_to_text(df):\n",
    "    id_demographic = df.copy()\n",
    "    print('Shape before dropping duplicates:', id_demographic.shape)\n",
    "    id_demographic = id_demographic.drop_duplicates(subset='speaker_id')\n",
    "    print('Shape after dropping duplicates:', id_demographic.shape)\n",
    "    print('Starting access to ChatGPT ...')\n",
    "    \n",
    "    for row in id_demographic.itertuples():\n",
    "        prompt_convert = f\"\"\"\n",
    "        Your task is to format five numerical data (individual's gender, education level, race, age, and income) into meaningful sentences.\n",
    "        The numerical data are delimited by triple backticks.\n",
    "        Write from a first-person point-of-view.\n",
    "        Complete the task with no more than three sentences.\n",
    "        \n",
    "        Use the following mapping between the number and the corresponding text:\n",
    "        \n",
    "        Gender:\n",
    "        1 = Male\n",
    "        2 = Female\n",
    "        5 = Other\n",
    "        \n",
    "        Education level:\n",
    "        1 = Less than a high school diploma\n",
    "        2 = High school diploma\n",
    "        3 = Technical/Vocational school\n",
    "        4 = Some college but no degree\n",
    "        5 = Two-year associate degree\n",
    "        6 = Four-year bachelor’s degree\n",
    "        7 = Postgraduate or professional degree\n",
    "        \n",
    "        Race:\n",
    "        1 = White        \n",
    "        2 = Hispanic or Latino\n",
    "        3 = Black or African American\n",
    "        4 = Native American or American Indian\n",
    "        5 = Asian/Pacific Islander\n",
    "        6 = Other\n",
    "        \n",
    "        Age:\n",
    "        <number> = <number> years\n",
    "        \n",
    "        Income:\n",
    "        <number> = <number> USD\n",
    "        \n",
    "        For example, if the input numbers are: \"Gender: 1, Education level: 5, Race: 1, Age: 25, Income: 40000\"\n",
    "        The output can be \"I am a 25-year-old male of the White race. I completed a two-year associate degree and earn 40000 USD.\"\n",
    "        \n",
    "        Input numbers: ```Gender: {id_demographic.loc[row.Index, 'gender']}, Education level: {id_demographic.loc[row.Index, 'education']}, Race: {id_demographic.loc[row.Index, 'race']}, Age: {id_demographic.loc[row.Index, 'age']}, Income: {id_demographic.loc[row.Index, 'income']}```\n",
    "        \"\"\"\n",
    "        print('Working on row index:', row.Index)\n",
    "        try:\n",
    "            id_demographic.loc[row.Index, 'demographic'] = chat(prompt_convert)\n",
    "        except Exception as e:\n",
    "            print(e)\n",
    "            print(\"\\nFailed but we're trying again in 60 seconds...\\n\")\n",
    "            time.sleep(60) # normally it asks to wait for 20s\n",
    "            id_demographic.loc[row.Index, 'demographic'] = chat(prompt_convert)\n",
    "    \n",
    "        ## Debugging\n",
    "        # print(f\"Input numbers: ```Gender: {data.loc[row.Index, 'gender']}, Education level: {data.loc[row.Index, 'education']}, Race: {data.loc[row.Index, 'race']}, Age: {data.loc[row.Index, 'age']}, Income: {data.loc[row.Index, 'income']}\")\n",
    "        \n",
    "        # if row.Index == 2:\n",
    "        #     break\n",
    "\n",
    "    id_demographic = id_demographic[['speaker_id', 'demographic']] #keeping only required columns\n",
    "\n",
    "    print('Here are the converted texts:')\n",
    "    print(id_demographic.loc[:,'demographic'].values)\n",
    "\n",
    "    return id_demographic"
   ]
  },
  {
   "cell_type": "code",
   "execution_count": 9,
   "id": "967325ac-d000-4495-a84e-0221f6c56ed1",
   "metadata": {},
   "outputs": [],
   "source": [
    "def id_to_demographic(filename, WS22=False, save_as=None, access_gpt=True):\n",
    "    '''\n",
    "    access_gpt: if False, it will just load existing saved id_demographic file using save_as as filename\n",
    "    '''\n",
    "    data = train_ws23 = pd.read_csv(filename, sep='\\t', na_values='unknown')\n",
    "    print('Columns having NaN values: ', data.columns[data.isna().any()].tolist())\n",
    "    print('Initial data shape:', data.shape)\n",
    "    data = data.dropna()\n",
    "    print()\n",
    "    print('After dropping NA values, data shape:', data.shape)\n",
    "    print('Columns having NaN values: ', data.columns[data.isna().any()].tolist())\n",
    "    print('Columns having object datatypes: ')\n",
    "    print(data.dtypes[data.dtypes=='object'])    \n",
    "\n",
    "    assert data.isna().any().any() == False #no NA values\n",
    "    assert data.isnull().any().any() == False #no null values\n",
    "\n",
    "    # WASSA22 has no speaker_id\n",
    "    if WS22:\n",
    "        data['speaker_id'] = data.groupby(['gender', 'education', 'race', 'age', 'income']).ngroup()\n",
    "    \n",
    "    if access_gpt:\n",
    "        print()\n",
    "        id_demographic = num_to_text(data)\n",
    "    else:\n",
    "        if WS22:\n",
    "            id_demographic = pd.read_csv('./data/' + save_as+'.csv', index_col=0) #unfortunately saved as csv\n",
    "        else:\n",
    "            id_demographic = pd.read_csv('./data/' + save_as+'.tsv', sep='\\t', index_col=0)\n",
    "\n",
    "    if access_gpt and (save_as is not None):\n",
    "        id_demographic.to_csv('./data/' + save_as+'.tsv', sep='\\t')\n",
    "        print(f'\\nSaved as {save_as}.tsv')\n",
    "    return data, id_demographic"
   ]
  },
  {
   "cell_type": "code",
   "execution_count": 10,
   "id": "88dda85e-7d92-48d6-838e-ea4f71091ae9",
   "metadata": {},
   "outputs": [],
   "source": [
    "def map_id_to_main(id_demographic_df, main_df, save_as):\n",
    "    id_demographic = id_demographic_df.copy()\n",
    "    main = main_df.copy()\n",
    "    id_demographic.set_index('speaker_id', inplace=True) #changing index so that I can use it easily to map as below\n",
    "    main['demographic'] = main['speaker_id'].apply(lambda x: id_demographic.loc[x, 'demographic'])\n",
    "    main['demographic_essay'] = main['demographic'] + ' ' + main['essay']\n",
    "    if save_as is not None:\n",
    "        main.to_csv('./data/' + save_as + '.tsv', sep='\\t')\n",
    "        print(f'Saved it as: {save_as}.tsv')\n",
    "    return main"
   ]
  },
  {
   "cell_type": "markdown",
   "id": "cd00022a-c9ad-4d63-a4ef-922822fe5d12",
   "metadata": {},
   "source": [
    "## WASSA23"
   ]
  },
  {
   "cell_type": "code",
   "execution_count": 10,
   "id": "e966050c-b90e-4558-9371-967a89136ff2",
   "metadata": {},
   "outputs": [],
   "source": [
    "train_file_ws23 = './data/WASSA23/WASSA23_essay_level_with_labels_train.tsv'\n",
    "dev_file_ws23 = './data/WASSA23/WASSA23_essay_level_dev.tsv'\n",
    "test_file_ws23 = './data/WASSA23/WASSA23_essay_level_test.tsv'"
   ]
  },
  {
   "cell_type": "code",
   "execution_count": 19,
   "id": "dba89dac-8c8a-4935-be9f-9c87ab4640d2",
   "metadata": {
    "scrolled": true
   },
   "outputs": [
    {
     "name": "stdout",
     "output_type": "stream",
     "text": [
      "Columns having NaN values:  ['gender', 'education', 'race', 'age', 'income', 'personality_conscientiousness', 'personality_openess', 'personality_extraversion', 'personality_agreeableness', 'personality_stability', 'iri_perspective_taking', 'iri_personal_distress', 'iri_fantasy', 'iri_empathatic_concern']\n",
      "Initial data shape: (792, 24)\n",
      "\n",
      "After dropping NA values, data shape: (779, 24)\n",
      "Columns having NaN values:  []\n",
      "Columns having object datatypes: \n",
      "essay      object\n",
      "split      object\n",
      "emotion    object\n",
      "dtype: object\n"
     ]
    }
   ],
   "source": [
    "train_ws23, id_demographic_train_ws23 = id_to_demographic(\n",
    "    filename=train_file_ws23,\n",
    "    save_as='WS23-train-id_demographic-text',\n",
    "    access_gpt=False\n",
    ")"
   ]
  },
  {
   "cell_type": "code",
   "execution_count": 20,
   "id": "ab04e24a-8a67-4c5d-8bf9-db4cde14e41b",
   "metadata": {},
   "outputs": [],
   "source": [
    "train_ws23 = map_id_to_main(id_demographic_df=id_demographic_train_ws23, main_df=train_ws23, save_as=None)"
   ]
  },
  {
   "cell_type": "code",
   "execution_count": 28,
   "id": "eb42a537-de28-462c-9c43-91c2b6e45d20",
   "metadata": {
    "scrolled": true
   },
   "outputs": [
    {
     "name": "stdout",
     "output_type": "stream",
     "text": [
      "Columns having NaN values:  []\n",
      "Initial data shape: (208, 12)\n",
      "\n",
      "After dropping NA values, data shape: (208, 12)\n",
      "Columns having NaN values:  []\n",
      "Columns having object datatypes: \n",
      "essay    object\n",
      "split    object\n",
      "dtype: object\n"
     ]
    }
   ],
   "source": [
    "dev_ws23, id_demographic_dev_ws23 = id_to_demographic(\n",
    "    filename=dev_file_ws23,\n",
    "    save_as='WS23-dev-id_demographic-text',\n",
    "    access_gpt=False\n",
    ")"
   ]
  },
  {
   "cell_type": "code",
   "execution_count": 29,
   "id": "b43321bd-3404-4ad3-b0f1-5db1c72b35c9",
   "metadata": {},
   "outputs": [],
   "source": [
    "dev_ws23 = map_id_to_main(id_demographic_df=id_demographic_dev_ws23, main_df=dev_ws23, save_as=None)"
   ]
  },
  {
   "cell_type": "code",
   "execution_count": 39,
   "id": "e134add4-bc69-409c-aac6-d95508408551",
   "metadata": {
    "scrolled": true
   },
   "outputs": [
    {
     "name": "stdout",
     "output_type": "stream",
     "text": [
      "Columns having NaN values:  []\n",
      "Initial data shape: (100, 12)\n",
      "\n",
      "After dropping NA values, data shape: (100, 12)\n",
      "Columns having NaN values:  []\n",
      "Columns having object datatypes: \n",
      "essay    object\n",
      "split    object\n",
      "dtype: object\n",
      "\n",
      "Shape before dropping duplicates: (100, 12)\n",
      "Shape after dropping duplicates: (65, 12)\n",
      "Starting access to ChatGPT ...\n",
      "Working on row index: 0\n",
      "Working on row index: 1\n",
      "Working on row index: 2\n",
      "Working on row index: 3\n",
      "Working on row index: 4\n",
      "Working on row index: 5\n",
      "Working on row index: 6\n",
      "Working on row index: 7\n",
      "Working on row index: 9\n",
      "Working on row index: 10\n",
      "Working on row index: 11\n",
      "Working on row index: 12\n",
      "Working on row index: 13\n",
      "Working on row index: 14\n",
      "Working on row index: 15\n",
      "Working on row index: 16\n",
      "Working on row index: 18\n",
      "Working on row index: 19\n",
      "Working on row index: 21\n",
      "Working on row index: 22\n",
      "Working on row index: 23\n",
      "Working on row index: 24\n",
      "Working on row index: 25\n",
      "Working on row index: 26\n",
      "Working on row index: 27\n",
      "Working on row index: 28\n",
      "Working on row index: 29\n",
      "Working on row index: 30\n",
      "Working on row index: 31\n",
      "Working on row index: 32\n",
      "Working on row index: 35\n",
      "Working on row index: 36\n",
      "Working on row index: 37\n",
      "Working on row index: 39\n",
      "Working on row index: 42\n",
      "Working on row index: 45\n",
      "Working on row index: 47\n",
      "Working on row index: 49\n",
      "Working on row index: 52\n",
      "Working on row index: 53\n",
      "Working on row index: 55\n",
      "Working on row index: 60\n",
      "Working on row index: 61\n",
      "Working on row index: 65\n",
      "Working on row index: 66\n",
      "Working on row index: 69\n",
      "Working on row index: 70\n",
      "Working on row index: 71\n",
      "Working on row index: 72\n",
      "Working on row index: 75\n",
      "Working on row index: 76\n",
      "Working on row index: 77\n",
      "Working on row index: 79\n",
      "Working on row index: 80\n",
      "Working on row index: 81\n",
      "Working on row index: 82\n",
      "Working on row index: 83\n",
      "Working on row index: 86\n",
      "Working on row index: 87\n",
      "Working on row index: 89\n",
      "Working on row index: 93\n",
      "Working on row index: 95\n",
      "Working on row index: 96\n",
      "Working on row index: 97\n",
      "Working on row index: 99\n",
      "Here are the converted texts:\n",
      "[\"I am a 25-year-old female of the White race. I have a four-year bachelor's degree and earn 50000 USD.\"\n",
      " \"I am a 34-year-old male of the White race. I have a four-year bachelor's degree and earn 30000 USD.\"\n",
      " \"I am a 64-year-old female of the white race. I have obtained a four-year bachelor's degree and I earn 40000 USD.\"\n",
      " \"I am a 35-year-old female of the White race. I have a four-year bachelor's degree and earn 5000 USD.\"\n",
      " 'I am a 34-year-old female of the White race. I have a Postgraduate or professional degree and earn 75000 USD.'\n",
      " 'I am a 35-year-old female of African American descent. I have completed some college but do not currently have a degree, and my income is 14000 USD.'\n",
      " 'I am a 41-year-old female of the White race. I have a high school diploma and earn 25000 USD.'\n",
      " 'I am a 46-year-old female of Hispanic or Latino race. I completed a two-year associate degree and earn 75000 USD.'\n",
      " 'I am a 29-year-old male of the White race. I have a high school diploma and my income is 30000 USD.'\n",
      " 'I am a 44-year-old female of the White race. I have a high school diploma and earn 21000 USD.'\n",
      " 'I am a 38-year-old male of the Other race. I completed a two-year associate degree and earn 50000 USD.'\n",
      " 'I am a 57-year-old male of the White race. I completed a technical/vocational school education level and earn 22000 USD.'\n",
      " \"I am a 50-year-old male of the White race. I have a four-year bachelor's degree and have an income of 35000 USD.\"\n",
      " 'I am a 25-year-old female of the White race. I have earned a four-year bachelor’s degree and my income is 90000 USD.'\n",
      " \"I am a 50-year-old male of the White race. I have obtained a four-year bachelor's degree and my income is 66000 USD.\"\n",
      " \"I am a 37-year-old male of the Asian/Pacific Islander race. I have a four-year bachelor's degree and earn 36000 USD.\"\n",
      " 'I am a 50-year-old female of the White race. I have completed some college but no degree and earn 30000 USD.'\n",
      " \"I am a 60-year-old male of the White race. I have a four-year bachelor's degree and earn 20000 USD.\"\n",
      " \"I am a 41-year-old male of the White race. I have obtained a four-year bachelor's degree and my income is 110,000 USD.\"\n",
      " \"I am a 45-year-old male of the White race. I have a four-year bachelor's degree and earn 21000 USD.\"\n",
      " \"I am a 35-year-old male of the White race. I have a four-year bachelor's degree and earn 52000 USD.\"\n",
      " 'I am a 33-year-old male of the White race. I completed a high school diploma and earn 80000 USD.'\n",
      " \"I am a 33-year-old female of the White race. I have a four-year bachelor's degree and earn 70000 USD.\"\n",
      " 'I am a 40-year-old female of Black race. I have completed some college but no degree and earn 65000 USD.'\n",
      " \"I am a 30-year-old female of the Black or African American race. I have a four-year bachelor's degree and earn 50000 USD.\"\n",
      " \"I am a 53-year-old male of the White race. I have a four-year bachelor's degree and earn 90000 USD.\"\n",
      " 'I am a 59-year-old female of the White race. I completed a two-year associate degree and earn 45000 USD.'\n",
      " 'I am a ★ 31-year-old female of Asian/Pacific Islander race. I have a postgraduate or professional degree and earn 100000 USD.'\n",
      " 'I am a 41-year-old female of the Black or African American race. I completed a two-year associate degree and earn 90000 USD.'\n",
      " 'I am a 37-year-old male of the White race. I hold a four-year bachelor’s degree and earn 12000 USD.'\n",
      " \"I am a 40-year-old male of the White race. I have a four-year bachelor's degree and earn 243000 USD.\"\n",
      " 'I am a 28-year-old male of Hispanic or Latino race. I have some college education but no degree and my income is 100000 USD.'\n",
      " \"I am a 44-year-old female of the White race. I have earned a four-year bachelor's degree and currently have an income of 139000 USD.\"\n",
      " 'I am a 27-year-old male of the White race. I have a postgraduate or professional degree and earn 59000 USD.'\n",
      " \"I am a 36-year-old male of the White race. I have a four-year bachelor's degree and earn 75000 USD.\"\n",
      " 'I am a 36-year-old male of the White race. I have a high school diploma and my income is 10000 USD.'\n",
      " \"I am a 34-year-old male of the White race. I have a four-year bachelor's degree and earn 30000 USD.\"\n",
      " 'I am a 52-year-old female of the White race. I have a postgraduate or professional degree and earn 65000 USD.'\n",
      " \"I am a 48-year-old male of the White race. I have earned a four-year bachelor's degree and have an income of 140,00 USD.\"\n",
      " \"I am a 45-year-old female of the Black or African American race. I hold a four-year bachelor's degree and earn 10000 USD.\"\n",
      " 'I am a 44-year-old female of the White race. I have completed some college but do not hold a degree, and I earn 20000 USD.'\n",
      " \"I am a 25-year-old male of Asian/Pacific Islander race. I have obtained a four-year bachelor's degree and earn 75000 USD.\"\n",
      " 'I am a 24-year-old male of the Black or African American race. I have completed some college but no degree and my annual income is 23000 USD.'\n",
      " 'I am a 63-year-old female of the White race. I completed a two-year associate degree and earn 20000 USD.'\n",
      " 'I am a 28-year-old female of the White race. I completed a two-year associate degree and earn 50000 USD.'\n",
      " 'I am a 64-year-old female of the White race. I have obtained a four-year bachelor’s degree and earn 100000 USD.'\n",
      " 'I am a 40-year-old male of the White race. I have attained some college education but no degree and I earn 35000 USD.'\n",
      " 'I am a 53-year-old male of the White race. I completed some college but no degree and earn 10000 USD.'\n",
      " 'I am a 39-year-old female of the White race. I hold a high school diploma and earn 95000 USD.'\n",
      " 'I am a 24-year-old male of Hispanic or Latino race. I have completed some college but no degree and my annual income is 110000 USD.'\n",
      " \"I am a 38-year-old female of the White race. I hold a four-year bachelor's degree and earn 39000 USD.\"\n",
      " 'I am a 30-year-old male of the White race. I have a high school diploma and earn a annual income of 36,000 USD.'\n",
      " \"I am a 36-year-old female of the Black or African American race. I have a four-year bachelor's degree and earn 87000 USD.\"\n",
      " \"I am a 54-year-old male of the White race. I have a four-year bachelor's degree and earn 84000 USD.\"\n",
      " 'I am a 25-year-old female of the White race. I have completed some college but no degree and currently have no income.'\n",
      " 'I am a 35-year-old male of the White race. I have a postgraduate or professional degree and earn 65000 USD.'\n",
      " 'I am a 57-year-old female of the white race. I have a postgraduate or professional degree and earn 104000 USD.'\n",
      " \"I am a 32-year-old male of the White race. I have completed a four-year bachelor's degree and earn a salary of 152500 USD.\"\n",
      " \"I am a 34-year-old male of the White race. I completed a bachelor's degree and earn 45000 USD.\"\n",
      " \"I am a 30-year-old male of another race. I have a four-year bachelor's degree and earn 100,000 USD.\"\n",
      " 'I am a 44-year-old female of the white race. I hold a high school diploma and earn 5600 USD.'\n",
      " 'I am a 42-year-old female of the White race. I hold a four-year bachelor’s degree and earn 50000 USD.'\n",
      " 'I am a 63-year-old male of the White race, earning 55000 USD. Though I attended some college, I did not complete a degree.'\n",
      " \"I am a 31-year-old female of the Black or African American race. I have obtained a four-year bachelor's degree and my income is 36000 USD.\"\n",
      " 'I am a 56-year-old male of the White race. I hold a postgraduate or professional degree and my income is 275000 USD.']\n",
      "\n",
      "Saved as WS23-test-id_demographic-text.tsv\n"
     ]
    }
   ],
   "source": [
    "test_ws23, id_demographic_test_ws23 = id_to_demographic(\n",
    "    filename=test_file_ws23,\n",
    "    save_as='WS23-test-id_demographic-text',\n",
    "    access_gpt=True\n",
    ")"
   ]
  },
  {
   "cell_type": "code",
   "execution_count": 40,
   "id": "bfc7f007-1357-46cd-9f85-f694cd2556e4",
   "metadata": {},
   "outputs": [],
   "source": [
    "test_ws23 = map_id_to_main(id_demographic_df=id_demographic_test_ws23, main_df=test_ws23, save_as=None)"
   ]
  },
  {
   "cell_type": "markdown",
   "id": "5e6ef8f3-a2ee-4acb-a4ed-8984cf6918b0",
   "metadata": {
    "jp-MarkdownHeadingCollapsed": true
   },
   "source": [
    "## WASSA22"
   ]
  },
  {
   "cell_type": "code",
   "execution_count": 11,
   "id": "6c575738-5797-46fa-a95e-2f39ff76ff05",
   "metadata": {},
   "outputs": [],
   "source": [
    "train_file = './data/WASSA22/messages_train_ready_for_WS.tsv'\n",
    "dev_file = './data/WASSA22/messages_dev_features_ready_for_WS_2022.tsv'\n",
    "test_file = './data/WASSA22/messages_test_features_ready_for_WS_2022.tsv'"
   ]
  },
  {
   "cell_type": "code",
   "execution_count": 12,
   "id": "72c33be5-7fdd-4a53-b870-72019995e2b2",
   "metadata": {
    "scrolled": true
   },
   "outputs": [
    {
     "name": "stdout",
     "output_type": "stream",
     "text": [
      "Columns having NaN values:  []\n",
      "Initial data shape: (1860, 23)\n",
      "\n",
      "After dropping NA values, data shape: (1860, 23)\n",
      "Columns having NaN values:  []\n",
      "Columns having object datatypes: \n",
      "message_id     object\n",
      "response_id    object\n",
      "essay          object\n",
      "emotion        object\n",
      "dtype: object\n",
      "\n",
      "Shape before dropping duplicates: (1860, 24)\n",
      "Shape after dropping duplicates: (369, 24)\n",
      "Starting access to ChatGPT ...\n",
      "Working on row index: 0\n",
      "Error communicating with OpenAI: HTTPSConnectionPool(host='api.openai.com', port=443): Max retries exceeded with url: /v1/chat/completions (Caused by NewConnectionError('<urllib3.connection.HTTPSConnection object at 0x14dbcd5472d0>: Failed to establish a new connection: [Errno 101] Network is unreachable'))\n",
      "\n",
      "Failed but we're trying again in 60 seconds...\n",
      "STOP THE PROGRAM IF IT'S ANY OTHER ERROR UNSOLVABLE BY RUNNING IT AGAIN\n",
      "\n"
     ]
    },
    {
     "ename": "APIConnectionError",
     "evalue": "Error communicating with OpenAI: HTTPSConnectionPool(host='api.openai.com', port=443): Max retries exceeded with url: /v1/chat/completions (Caused by NewConnectionError('<urllib3.connection.HTTPSConnection object at 0x14dbcd716f10>: Failed to establish a new connection: [Errno 101] Network is unreachable'))",
     "output_type": "error",
     "traceback": [
      "\u001b[0;31m---------------------------------------------------------------------------\u001b[0m",
      "\u001b[0;31mOSError\u001b[0m                                   Traceback (most recent call last)",
      "File \u001b[0;32m/scratch/jr19/rh2942/.venv/lib/python3.11/site-packages/urllib3/connection.py:174\u001b[0m, in \u001b[0;36mHTTPConnection._new_conn\u001b[0;34m(self)\u001b[0m\n\u001b[1;32m    173\u001b[0m \u001b[38;5;28;01mtry\u001b[39;00m:\n\u001b[0;32m--> 174\u001b[0m     conn \u001b[38;5;241m=\u001b[39m \u001b[43mconnection\u001b[49m\u001b[38;5;241;43m.\u001b[39;49m\u001b[43mcreate_connection\u001b[49m\u001b[43m(\u001b[49m\n\u001b[1;32m    175\u001b[0m \u001b[43m        \u001b[49m\u001b[43m(\u001b[49m\u001b[38;5;28;43mself\u001b[39;49m\u001b[38;5;241;43m.\u001b[39;49m\u001b[43m_dns_host\u001b[49m\u001b[43m,\u001b[49m\u001b[43m \u001b[49m\u001b[38;5;28;43mself\u001b[39;49m\u001b[38;5;241;43m.\u001b[39;49m\u001b[43mport\u001b[49m\u001b[43m)\u001b[49m\u001b[43m,\u001b[49m\u001b[43m \u001b[49m\u001b[38;5;28;43mself\u001b[39;49m\u001b[38;5;241;43m.\u001b[39;49m\u001b[43mtimeout\u001b[49m\u001b[43m,\u001b[49m\u001b[43m \u001b[49m\u001b[38;5;241;43m*\u001b[39;49m\u001b[38;5;241;43m*\u001b[39;49m\u001b[43mextra_kw\u001b[49m\n\u001b[1;32m    176\u001b[0m \u001b[43m    \u001b[49m\u001b[43m)\u001b[49m\n\u001b[1;32m    178\u001b[0m \u001b[38;5;28;01mexcept\u001b[39;00m SocketTimeout:\n",
      "File \u001b[0;32m/scratch/jr19/rh2942/.venv/lib/python3.11/site-packages/urllib3/util/connection.py:95\u001b[0m, in \u001b[0;36mcreate_connection\u001b[0;34m(address, timeout, source_address, socket_options)\u001b[0m\n\u001b[1;32m     94\u001b[0m \u001b[38;5;28;01mif\u001b[39;00m err \u001b[38;5;129;01mis\u001b[39;00m \u001b[38;5;129;01mnot\u001b[39;00m \u001b[38;5;28;01mNone\u001b[39;00m:\n\u001b[0;32m---> 95\u001b[0m     \u001b[38;5;28;01mraise\u001b[39;00m err\n\u001b[1;32m     97\u001b[0m \u001b[38;5;28;01mraise\u001b[39;00m socket\u001b[38;5;241m.\u001b[39merror(\u001b[38;5;124m\"\u001b[39m\u001b[38;5;124mgetaddrinfo returns an empty list\u001b[39m\u001b[38;5;124m\"\u001b[39m)\n",
      "File \u001b[0;32m/scratch/jr19/rh2942/.venv/lib/python3.11/site-packages/urllib3/util/connection.py:85\u001b[0m, in \u001b[0;36mcreate_connection\u001b[0;34m(address, timeout, source_address, socket_options)\u001b[0m\n\u001b[1;32m     84\u001b[0m     sock\u001b[38;5;241m.\u001b[39mbind(source_address)\n\u001b[0;32m---> 85\u001b[0m \u001b[43msock\u001b[49m\u001b[38;5;241;43m.\u001b[39;49m\u001b[43mconnect\u001b[49m\u001b[43m(\u001b[49m\u001b[43msa\u001b[49m\u001b[43m)\u001b[49m\n\u001b[1;32m     86\u001b[0m \u001b[38;5;28;01mreturn\u001b[39;00m sock\n",
      "\u001b[0;31mOSError\u001b[0m: [Errno 101] Network is unreachable",
      "\nDuring handling of the above exception, another exception occurred:\n",
      "\u001b[0;31mNewConnectionError\u001b[0m                        Traceback (most recent call last)",
      "File \u001b[0;32m/scratch/jr19/rh2942/.venv/lib/python3.11/site-packages/urllib3/connectionpool.py:714\u001b[0m, in \u001b[0;36mHTTPConnectionPool.urlopen\u001b[0;34m(self, method, url, body, headers, retries, redirect, assert_same_host, timeout, pool_timeout, release_conn, chunked, body_pos, **response_kw)\u001b[0m\n\u001b[1;32m    713\u001b[0m \u001b[38;5;66;03m# Make the request on the httplib connection object.\u001b[39;00m\n\u001b[0;32m--> 714\u001b[0m httplib_response \u001b[38;5;241m=\u001b[39m \u001b[38;5;28;43mself\u001b[39;49m\u001b[38;5;241;43m.\u001b[39;49m\u001b[43m_make_request\u001b[49m\u001b[43m(\u001b[49m\n\u001b[1;32m    715\u001b[0m \u001b[43m    \u001b[49m\u001b[43mconn\u001b[49m\u001b[43m,\u001b[49m\n\u001b[1;32m    716\u001b[0m \u001b[43m    \u001b[49m\u001b[43mmethod\u001b[49m\u001b[43m,\u001b[49m\n\u001b[1;32m    717\u001b[0m \u001b[43m    \u001b[49m\u001b[43murl\u001b[49m\u001b[43m,\u001b[49m\n\u001b[1;32m    718\u001b[0m \u001b[43m    \u001b[49m\u001b[43mtimeout\u001b[49m\u001b[38;5;241;43m=\u001b[39;49m\u001b[43mtimeout_obj\u001b[49m\u001b[43m,\u001b[49m\n\u001b[1;32m    719\u001b[0m \u001b[43m    \u001b[49m\u001b[43mbody\u001b[49m\u001b[38;5;241;43m=\u001b[39;49m\u001b[43mbody\u001b[49m\u001b[43m,\u001b[49m\n\u001b[1;32m    720\u001b[0m \u001b[43m    \u001b[49m\u001b[43mheaders\u001b[49m\u001b[38;5;241;43m=\u001b[39;49m\u001b[43mheaders\u001b[49m\u001b[43m,\u001b[49m\n\u001b[1;32m    721\u001b[0m \u001b[43m    \u001b[49m\u001b[43mchunked\u001b[49m\u001b[38;5;241;43m=\u001b[39;49m\u001b[43mchunked\u001b[49m\u001b[43m,\u001b[49m\n\u001b[1;32m    722\u001b[0m \u001b[43m\u001b[49m\u001b[43m)\u001b[49m\n\u001b[1;32m    724\u001b[0m \u001b[38;5;66;03m# If we're going to release the connection in ``finally:``, then\u001b[39;00m\n\u001b[1;32m    725\u001b[0m \u001b[38;5;66;03m# the response doesn't need to know about the connection. Otherwise\u001b[39;00m\n\u001b[1;32m    726\u001b[0m \u001b[38;5;66;03m# it will also try to release it and we'll have a double-release\u001b[39;00m\n\u001b[1;32m    727\u001b[0m \u001b[38;5;66;03m# mess.\u001b[39;00m\n",
      "File \u001b[0;32m/scratch/jr19/rh2942/.venv/lib/python3.11/site-packages/urllib3/connectionpool.py:403\u001b[0m, in \u001b[0;36mHTTPConnectionPool._make_request\u001b[0;34m(self, conn, method, url, timeout, chunked, **httplib_request_kw)\u001b[0m\n\u001b[1;32m    402\u001b[0m \u001b[38;5;28;01mtry\u001b[39;00m:\n\u001b[0;32m--> 403\u001b[0m     \u001b[38;5;28;43mself\u001b[39;49m\u001b[38;5;241;43m.\u001b[39;49m\u001b[43m_validate_conn\u001b[49m\u001b[43m(\u001b[49m\u001b[43mconn\u001b[49m\u001b[43m)\u001b[49m\n\u001b[1;32m    404\u001b[0m \u001b[38;5;28;01mexcept\u001b[39;00m (SocketTimeout, BaseSSLError) \u001b[38;5;28;01mas\u001b[39;00m e:\n\u001b[1;32m    405\u001b[0m     \u001b[38;5;66;03m# Py2 raises this as a BaseSSLError, Py3 raises it as socket timeout.\u001b[39;00m\n",
      "File \u001b[0;32m/scratch/jr19/rh2942/.venv/lib/python3.11/site-packages/urllib3/connectionpool.py:1053\u001b[0m, in \u001b[0;36mHTTPSConnectionPool._validate_conn\u001b[0;34m(self, conn)\u001b[0m\n\u001b[1;32m   1052\u001b[0m \u001b[38;5;28;01mif\u001b[39;00m \u001b[38;5;129;01mnot\u001b[39;00m \u001b[38;5;28mgetattr\u001b[39m(conn, \u001b[38;5;124m\"\u001b[39m\u001b[38;5;124msock\u001b[39m\u001b[38;5;124m\"\u001b[39m, \u001b[38;5;28;01mNone\u001b[39;00m):  \u001b[38;5;66;03m# AppEngine might not have  `.sock`\u001b[39;00m\n\u001b[0;32m-> 1053\u001b[0m     \u001b[43mconn\u001b[49m\u001b[38;5;241;43m.\u001b[39;49m\u001b[43mconnect\u001b[49m\u001b[43m(\u001b[49m\u001b[43m)\u001b[49m\n\u001b[1;32m   1055\u001b[0m \u001b[38;5;28;01mif\u001b[39;00m \u001b[38;5;129;01mnot\u001b[39;00m conn\u001b[38;5;241m.\u001b[39mis_verified:\n",
      "File \u001b[0;32m/scratch/jr19/rh2942/.venv/lib/python3.11/site-packages/urllib3/connection.py:363\u001b[0m, in \u001b[0;36mHTTPSConnection.connect\u001b[0;34m(self)\u001b[0m\n\u001b[1;32m    361\u001b[0m \u001b[38;5;28;01mdef\u001b[39;00m \u001b[38;5;21mconnect\u001b[39m(\u001b[38;5;28mself\u001b[39m):\n\u001b[1;32m    362\u001b[0m     \u001b[38;5;66;03m# Add certificate verification\u001b[39;00m\n\u001b[0;32m--> 363\u001b[0m     \u001b[38;5;28mself\u001b[39m\u001b[38;5;241m.\u001b[39msock \u001b[38;5;241m=\u001b[39m conn \u001b[38;5;241m=\u001b[39m \u001b[38;5;28;43mself\u001b[39;49m\u001b[38;5;241;43m.\u001b[39;49m\u001b[43m_new_conn\u001b[49m\u001b[43m(\u001b[49m\u001b[43m)\u001b[49m\n\u001b[1;32m    364\u001b[0m     hostname \u001b[38;5;241m=\u001b[39m \u001b[38;5;28mself\u001b[39m\u001b[38;5;241m.\u001b[39mhost\n",
      "File \u001b[0;32m/scratch/jr19/rh2942/.venv/lib/python3.11/site-packages/urllib3/connection.py:186\u001b[0m, in \u001b[0;36mHTTPConnection._new_conn\u001b[0;34m(self)\u001b[0m\n\u001b[1;32m    185\u001b[0m \u001b[38;5;28;01mexcept\u001b[39;00m SocketError \u001b[38;5;28;01mas\u001b[39;00m e:\n\u001b[0;32m--> 186\u001b[0m     \u001b[38;5;28;01mraise\u001b[39;00m NewConnectionError(\n\u001b[1;32m    187\u001b[0m         \u001b[38;5;28mself\u001b[39m, \u001b[38;5;124m\"\u001b[39m\u001b[38;5;124mFailed to establish a new connection: \u001b[39m\u001b[38;5;132;01m%s\u001b[39;00m\u001b[38;5;124m\"\u001b[39m \u001b[38;5;241m%\u001b[39m e\n\u001b[1;32m    188\u001b[0m     )\n\u001b[1;32m    190\u001b[0m \u001b[38;5;28;01mreturn\u001b[39;00m conn\n",
      "\u001b[0;31mNewConnectionError\u001b[0m: <urllib3.connection.HTTPSConnection object at 0x14dbcd5472d0>: Failed to establish a new connection: [Errno 101] Network is unreachable",
      "\nDuring handling of the above exception, another exception occurred:\n",
      "\u001b[0;31mMaxRetryError\u001b[0m                             Traceback (most recent call last)",
      "File \u001b[0;32m/scratch/jr19/rh2942/.venv/lib/python3.11/site-packages/requests/adapters.py:486\u001b[0m, in \u001b[0;36mHTTPAdapter.send\u001b[0;34m(self, request, stream, timeout, verify, cert, proxies)\u001b[0m\n\u001b[1;32m    485\u001b[0m \u001b[38;5;28;01mtry\u001b[39;00m:\n\u001b[0;32m--> 486\u001b[0m     resp \u001b[38;5;241m=\u001b[39m \u001b[43mconn\u001b[49m\u001b[38;5;241;43m.\u001b[39;49m\u001b[43murlopen\u001b[49m\u001b[43m(\u001b[49m\n\u001b[1;32m    487\u001b[0m \u001b[43m        \u001b[49m\u001b[43mmethod\u001b[49m\u001b[38;5;241;43m=\u001b[39;49m\u001b[43mrequest\u001b[49m\u001b[38;5;241;43m.\u001b[39;49m\u001b[43mmethod\u001b[49m\u001b[43m,\u001b[49m\n\u001b[1;32m    488\u001b[0m \u001b[43m        \u001b[49m\u001b[43murl\u001b[49m\u001b[38;5;241;43m=\u001b[39;49m\u001b[43murl\u001b[49m\u001b[43m,\u001b[49m\n\u001b[1;32m    489\u001b[0m \u001b[43m        \u001b[49m\u001b[43mbody\u001b[49m\u001b[38;5;241;43m=\u001b[39;49m\u001b[43mrequest\u001b[49m\u001b[38;5;241;43m.\u001b[39;49m\u001b[43mbody\u001b[49m\u001b[43m,\u001b[49m\n\u001b[1;32m    490\u001b[0m \u001b[43m        \u001b[49m\u001b[43mheaders\u001b[49m\u001b[38;5;241;43m=\u001b[39;49m\u001b[43mrequest\u001b[49m\u001b[38;5;241;43m.\u001b[39;49m\u001b[43mheaders\u001b[49m\u001b[43m,\u001b[49m\n\u001b[1;32m    491\u001b[0m \u001b[43m        \u001b[49m\u001b[43mredirect\u001b[49m\u001b[38;5;241;43m=\u001b[39;49m\u001b[38;5;28;43;01mFalse\u001b[39;49;00m\u001b[43m,\u001b[49m\n\u001b[1;32m    492\u001b[0m \u001b[43m        \u001b[49m\u001b[43massert_same_host\u001b[49m\u001b[38;5;241;43m=\u001b[39;49m\u001b[38;5;28;43;01mFalse\u001b[39;49;00m\u001b[43m,\u001b[49m\n\u001b[1;32m    493\u001b[0m \u001b[43m        \u001b[49m\u001b[43mpreload_content\u001b[49m\u001b[38;5;241;43m=\u001b[39;49m\u001b[38;5;28;43;01mFalse\u001b[39;49;00m\u001b[43m,\u001b[49m\n\u001b[1;32m    494\u001b[0m \u001b[43m        \u001b[49m\u001b[43mdecode_content\u001b[49m\u001b[38;5;241;43m=\u001b[39;49m\u001b[38;5;28;43;01mFalse\u001b[39;49;00m\u001b[43m,\u001b[49m\n\u001b[1;32m    495\u001b[0m \u001b[43m        \u001b[49m\u001b[43mretries\u001b[49m\u001b[38;5;241;43m=\u001b[39;49m\u001b[38;5;28;43mself\u001b[39;49m\u001b[38;5;241;43m.\u001b[39;49m\u001b[43mmax_retries\u001b[49m\u001b[43m,\u001b[49m\n\u001b[1;32m    496\u001b[0m \u001b[43m        \u001b[49m\u001b[43mtimeout\u001b[49m\u001b[38;5;241;43m=\u001b[39;49m\u001b[43mtimeout\u001b[49m\u001b[43m,\u001b[49m\n\u001b[1;32m    497\u001b[0m \u001b[43m        \u001b[49m\u001b[43mchunked\u001b[49m\u001b[38;5;241;43m=\u001b[39;49m\u001b[43mchunked\u001b[49m\u001b[43m,\u001b[49m\n\u001b[1;32m    498\u001b[0m \u001b[43m    \u001b[49m\u001b[43m)\u001b[49m\n\u001b[1;32m    500\u001b[0m \u001b[38;5;28;01mexcept\u001b[39;00m (ProtocolError, \u001b[38;5;167;01mOSError\u001b[39;00m) \u001b[38;5;28;01mas\u001b[39;00m err:\n",
      "File \u001b[0;32m/scratch/jr19/rh2942/.venv/lib/python3.11/site-packages/urllib3/connectionpool.py:826\u001b[0m, in \u001b[0;36mHTTPConnectionPool.urlopen\u001b[0;34m(self, method, url, body, headers, retries, redirect, assert_same_host, timeout, pool_timeout, release_conn, chunked, body_pos, **response_kw)\u001b[0m\n\u001b[1;32m    823\u001b[0m     log\u001b[38;5;241m.\u001b[39mwarning(\n\u001b[1;32m    824\u001b[0m         \u001b[38;5;124m\"\u001b[39m\u001b[38;5;124mRetrying (\u001b[39m\u001b[38;5;132;01m%r\u001b[39;00m\u001b[38;5;124m) after connection broken by \u001b[39m\u001b[38;5;124m'\u001b[39m\u001b[38;5;132;01m%r\u001b[39;00m\u001b[38;5;124m'\u001b[39m\u001b[38;5;124m: \u001b[39m\u001b[38;5;132;01m%s\u001b[39;00m\u001b[38;5;124m\"\u001b[39m, retries, err, url\n\u001b[1;32m    825\u001b[0m     )\n\u001b[0;32m--> 826\u001b[0m     \u001b[38;5;28;01mreturn\u001b[39;00m \u001b[38;5;28;43mself\u001b[39;49m\u001b[38;5;241;43m.\u001b[39;49m\u001b[43murlopen\u001b[49m\u001b[43m(\u001b[49m\n\u001b[1;32m    827\u001b[0m \u001b[43m        \u001b[49m\u001b[43mmethod\u001b[49m\u001b[43m,\u001b[49m\n\u001b[1;32m    828\u001b[0m \u001b[43m        \u001b[49m\u001b[43murl\u001b[49m\u001b[43m,\u001b[49m\n\u001b[1;32m    829\u001b[0m \u001b[43m        \u001b[49m\u001b[43mbody\u001b[49m\u001b[43m,\u001b[49m\n\u001b[1;32m    830\u001b[0m \u001b[43m        \u001b[49m\u001b[43mheaders\u001b[49m\u001b[43m,\u001b[49m\n\u001b[1;32m    831\u001b[0m \u001b[43m        \u001b[49m\u001b[43mretries\u001b[49m\u001b[43m,\u001b[49m\n\u001b[1;32m    832\u001b[0m \u001b[43m        \u001b[49m\u001b[43mredirect\u001b[49m\u001b[43m,\u001b[49m\n\u001b[1;32m    833\u001b[0m \u001b[43m        \u001b[49m\u001b[43massert_same_host\u001b[49m\u001b[43m,\u001b[49m\n\u001b[1;32m    834\u001b[0m \u001b[43m        \u001b[49m\u001b[43mtimeout\u001b[49m\u001b[38;5;241;43m=\u001b[39;49m\u001b[43mtimeout\u001b[49m\u001b[43m,\u001b[49m\n\u001b[1;32m    835\u001b[0m \u001b[43m        \u001b[49m\u001b[43mpool_timeout\u001b[49m\u001b[38;5;241;43m=\u001b[39;49m\u001b[43mpool_timeout\u001b[49m\u001b[43m,\u001b[49m\n\u001b[1;32m    836\u001b[0m \u001b[43m        \u001b[49m\u001b[43mrelease_conn\u001b[49m\u001b[38;5;241;43m=\u001b[39;49m\u001b[43mrelease_conn\u001b[49m\u001b[43m,\u001b[49m\n\u001b[1;32m    837\u001b[0m \u001b[43m        \u001b[49m\u001b[43mchunked\u001b[49m\u001b[38;5;241;43m=\u001b[39;49m\u001b[43mchunked\u001b[49m\u001b[43m,\u001b[49m\n\u001b[1;32m    838\u001b[0m \u001b[43m        \u001b[49m\u001b[43mbody_pos\u001b[49m\u001b[38;5;241;43m=\u001b[39;49m\u001b[43mbody_pos\u001b[49m\u001b[43m,\u001b[49m\n\u001b[1;32m    839\u001b[0m \u001b[43m        \u001b[49m\u001b[38;5;241;43m*\u001b[39;49m\u001b[38;5;241;43m*\u001b[39;49m\u001b[43mresponse_kw\u001b[49m\n\u001b[1;32m    840\u001b[0m \u001b[43m    \u001b[49m\u001b[43m)\u001b[49m\n\u001b[1;32m    842\u001b[0m \u001b[38;5;66;03m# Handle redirect?\u001b[39;00m\n",
      "File \u001b[0;32m/scratch/jr19/rh2942/.venv/lib/python3.11/site-packages/urllib3/connectionpool.py:826\u001b[0m, in \u001b[0;36mHTTPConnectionPool.urlopen\u001b[0;34m(self, method, url, body, headers, retries, redirect, assert_same_host, timeout, pool_timeout, release_conn, chunked, body_pos, **response_kw)\u001b[0m\n\u001b[1;32m    823\u001b[0m     log\u001b[38;5;241m.\u001b[39mwarning(\n\u001b[1;32m    824\u001b[0m         \u001b[38;5;124m\"\u001b[39m\u001b[38;5;124mRetrying (\u001b[39m\u001b[38;5;132;01m%r\u001b[39;00m\u001b[38;5;124m) after connection broken by \u001b[39m\u001b[38;5;124m'\u001b[39m\u001b[38;5;132;01m%r\u001b[39;00m\u001b[38;5;124m'\u001b[39m\u001b[38;5;124m: \u001b[39m\u001b[38;5;132;01m%s\u001b[39;00m\u001b[38;5;124m\"\u001b[39m, retries, err, url\n\u001b[1;32m    825\u001b[0m     )\n\u001b[0;32m--> 826\u001b[0m     \u001b[38;5;28;01mreturn\u001b[39;00m \u001b[38;5;28;43mself\u001b[39;49m\u001b[38;5;241;43m.\u001b[39;49m\u001b[43murlopen\u001b[49m\u001b[43m(\u001b[49m\n\u001b[1;32m    827\u001b[0m \u001b[43m        \u001b[49m\u001b[43mmethod\u001b[49m\u001b[43m,\u001b[49m\n\u001b[1;32m    828\u001b[0m \u001b[43m        \u001b[49m\u001b[43murl\u001b[49m\u001b[43m,\u001b[49m\n\u001b[1;32m    829\u001b[0m \u001b[43m        \u001b[49m\u001b[43mbody\u001b[49m\u001b[43m,\u001b[49m\n\u001b[1;32m    830\u001b[0m \u001b[43m        \u001b[49m\u001b[43mheaders\u001b[49m\u001b[43m,\u001b[49m\n\u001b[1;32m    831\u001b[0m \u001b[43m        \u001b[49m\u001b[43mretries\u001b[49m\u001b[43m,\u001b[49m\n\u001b[1;32m    832\u001b[0m \u001b[43m        \u001b[49m\u001b[43mredirect\u001b[49m\u001b[43m,\u001b[49m\n\u001b[1;32m    833\u001b[0m \u001b[43m        \u001b[49m\u001b[43massert_same_host\u001b[49m\u001b[43m,\u001b[49m\n\u001b[1;32m    834\u001b[0m \u001b[43m        \u001b[49m\u001b[43mtimeout\u001b[49m\u001b[38;5;241;43m=\u001b[39;49m\u001b[43mtimeout\u001b[49m\u001b[43m,\u001b[49m\n\u001b[1;32m    835\u001b[0m \u001b[43m        \u001b[49m\u001b[43mpool_timeout\u001b[49m\u001b[38;5;241;43m=\u001b[39;49m\u001b[43mpool_timeout\u001b[49m\u001b[43m,\u001b[49m\n\u001b[1;32m    836\u001b[0m \u001b[43m        \u001b[49m\u001b[43mrelease_conn\u001b[49m\u001b[38;5;241;43m=\u001b[39;49m\u001b[43mrelease_conn\u001b[49m\u001b[43m,\u001b[49m\n\u001b[1;32m    837\u001b[0m \u001b[43m        \u001b[49m\u001b[43mchunked\u001b[49m\u001b[38;5;241;43m=\u001b[39;49m\u001b[43mchunked\u001b[49m\u001b[43m,\u001b[49m\n\u001b[1;32m    838\u001b[0m \u001b[43m        \u001b[49m\u001b[43mbody_pos\u001b[49m\u001b[38;5;241;43m=\u001b[39;49m\u001b[43mbody_pos\u001b[49m\u001b[43m,\u001b[49m\n\u001b[1;32m    839\u001b[0m \u001b[43m        \u001b[49m\u001b[38;5;241;43m*\u001b[39;49m\u001b[38;5;241;43m*\u001b[39;49m\u001b[43mresponse_kw\u001b[49m\n\u001b[1;32m    840\u001b[0m \u001b[43m    \u001b[49m\u001b[43m)\u001b[49m\n\u001b[1;32m    842\u001b[0m \u001b[38;5;66;03m# Handle redirect?\u001b[39;00m\n",
      "File \u001b[0;32m/scratch/jr19/rh2942/.venv/lib/python3.11/site-packages/urllib3/connectionpool.py:798\u001b[0m, in \u001b[0;36mHTTPConnectionPool.urlopen\u001b[0;34m(self, method, url, body, headers, retries, redirect, assert_same_host, timeout, pool_timeout, release_conn, chunked, body_pos, **response_kw)\u001b[0m\n\u001b[1;32m    796\u001b[0m     e \u001b[38;5;241m=\u001b[39m ProtocolError(\u001b[38;5;124m\"\u001b[39m\u001b[38;5;124mConnection aborted.\u001b[39m\u001b[38;5;124m\"\u001b[39m, e)\n\u001b[0;32m--> 798\u001b[0m retries \u001b[38;5;241m=\u001b[39m \u001b[43mretries\u001b[49m\u001b[38;5;241;43m.\u001b[39;49m\u001b[43mincrement\u001b[49m\u001b[43m(\u001b[49m\n\u001b[1;32m    799\u001b[0m \u001b[43m    \u001b[49m\u001b[43mmethod\u001b[49m\u001b[43m,\u001b[49m\u001b[43m \u001b[49m\u001b[43murl\u001b[49m\u001b[43m,\u001b[49m\u001b[43m \u001b[49m\u001b[43merror\u001b[49m\u001b[38;5;241;43m=\u001b[39;49m\u001b[43me\u001b[49m\u001b[43m,\u001b[49m\u001b[43m \u001b[49m\u001b[43m_pool\u001b[49m\u001b[38;5;241;43m=\u001b[39;49m\u001b[38;5;28;43mself\u001b[39;49m\u001b[43m,\u001b[49m\u001b[43m \u001b[49m\u001b[43m_stacktrace\u001b[49m\u001b[38;5;241;43m=\u001b[39;49m\u001b[43msys\u001b[49m\u001b[38;5;241;43m.\u001b[39;49m\u001b[43mexc_info\u001b[49m\u001b[43m(\u001b[49m\u001b[43m)\u001b[49m\u001b[43m[\u001b[49m\u001b[38;5;241;43m2\u001b[39;49m\u001b[43m]\u001b[49m\n\u001b[1;32m    800\u001b[0m \u001b[43m\u001b[49m\u001b[43m)\u001b[49m\n\u001b[1;32m    801\u001b[0m retries\u001b[38;5;241m.\u001b[39msleep()\n",
      "File \u001b[0;32m/scratch/jr19/rh2942/.venv/lib/python3.11/site-packages/urllib3/util/retry.py:592\u001b[0m, in \u001b[0;36mRetry.increment\u001b[0;34m(self, method, url, response, error, _pool, _stacktrace)\u001b[0m\n\u001b[1;32m    591\u001b[0m \u001b[38;5;28;01mif\u001b[39;00m new_retry\u001b[38;5;241m.\u001b[39mis_exhausted():\n\u001b[0;32m--> 592\u001b[0m     \u001b[38;5;28;01mraise\u001b[39;00m MaxRetryError(_pool, url, error \u001b[38;5;129;01mor\u001b[39;00m ResponseError(cause))\n\u001b[1;32m    594\u001b[0m log\u001b[38;5;241m.\u001b[39mdebug(\u001b[38;5;124m\"\u001b[39m\u001b[38;5;124mIncremented Retry for (url=\u001b[39m\u001b[38;5;124m'\u001b[39m\u001b[38;5;132;01m%s\u001b[39;00m\u001b[38;5;124m'\u001b[39m\u001b[38;5;124m): \u001b[39m\u001b[38;5;132;01m%r\u001b[39;00m\u001b[38;5;124m\"\u001b[39m, url, new_retry)\n",
      "\u001b[0;31mMaxRetryError\u001b[0m: HTTPSConnectionPool(host='api.openai.com', port=443): Max retries exceeded with url: /v1/chat/completions (Caused by NewConnectionError('<urllib3.connection.HTTPSConnection object at 0x14dbcd5472d0>: Failed to establish a new connection: [Errno 101] Network is unreachable'))",
      "\nDuring handling of the above exception, another exception occurred:\n",
      "\u001b[0;31mConnectionError\u001b[0m                           Traceback (most recent call last)",
      "File \u001b[0;32m/scratch/jr19/rh2942/.venv/lib/python3.11/site-packages/openai/api_requestor.py:596\u001b[0m, in \u001b[0;36mAPIRequestor.request_raw\u001b[0;34m(self, method, url, params, supplied_headers, files, stream, request_id, request_timeout)\u001b[0m\n\u001b[1;32m    595\u001b[0m \u001b[38;5;28;01mtry\u001b[39;00m:\n\u001b[0;32m--> 596\u001b[0m     result \u001b[38;5;241m=\u001b[39m \u001b[43m_thread_context\u001b[49m\u001b[38;5;241;43m.\u001b[39;49m\u001b[43msession\u001b[49m\u001b[38;5;241;43m.\u001b[39;49m\u001b[43mrequest\u001b[49m\u001b[43m(\u001b[49m\n\u001b[1;32m    597\u001b[0m \u001b[43m        \u001b[49m\u001b[43mmethod\u001b[49m\u001b[43m,\u001b[49m\n\u001b[1;32m    598\u001b[0m \u001b[43m        \u001b[49m\u001b[43mabs_url\u001b[49m\u001b[43m,\u001b[49m\n\u001b[1;32m    599\u001b[0m \u001b[43m        \u001b[49m\u001b[43mheaders\u001b[49m\u001b[38;5;241;43m=\u001b[39;49m\u001b[43mheaders\u001b[49m\u001b[43m,\u001b[49m\n\u001b[1;32m    600\u001b[0m \u001b[43m        \u001b[49m\u001b[43mdata\u001b[49m\u001b[38;5;241;43m=\u001b[39;49m\u001b[43mdata\u001b[49m\u001b[43m,\u001b[49m\n\u001b[1;32m    601\u001b[0m \u001b[43m        \u001b[49m\u001b[43mfiles\u001b[49m\u001b[38;5;241;43m=\u001b[39;49m\u001b[43mfiles\u001b[49m\u001b[43m,\u001b[49m\n\u001b[1;32m    602\u001b[0m \u001b[43m        \u001b[49m\u001b[43mstream\u001b[49m\u001b[38;5;241;43m=\u001b[39;49m\u001b[43mstream\u001b[49m\u001b[43m,\u001b[49m\n\u001b[1;32m    603\u001b[0m \u001b[43m        \u001b[49m\u001b[43mtimeout\u001b[49m\u001b[38;5;241;43m=\u001b[39;49m\u001b[43mrequest_timeout\u001b[49m\u001b[43m \u001b[49m\u001b[38;5;28;43;01mif\u001b[39;49;00m\u001b[43m \u001b[49m\u001b[43mrequest_timeout\u001b[49m\u001b[43m \u001b[49m\u001b[38;5;28;43;01melse\u001b[39;49;00m\u001b[43m \u001b[49m\u001b[43mTIMEOUT_SECS\u001b[49m\u001b[43m,\u001b[49m\n\u001b[1;32m    604\u001b[0m \u001b[43m        \u001b[49m\u001b[43mproxies\u001b[49m\u001b[38;5;241;43m=\u001b[39;49m\u001b[43m_thread_context\u001b[49m\u001b[38;5;241;43m.\u001b[39;49m\u001b[43msession\u001b[49m\u001b[38;5;241;43m.\u001b[39;49m\u001b[43mproxies\u001b[49m\u001b[43m,\u001b[49m\n\u001b[1;32m    605\u001b[0m \u001b[43m    \u001b[49m\u001b[43m)\u001b[49m\n\u001b[1;32m    606\u001b[0m \u001b[38;5;28;01mexcept\u001b[39;00m requests\u001b[38;5;241m.\u001b[39mexceptions\u001b[38;5;241m.\u001b[39mTimeout \u001b[38;5;28;01mas\u001b[39;00m e:\n",
      "File \u001b[0;32m/scratch/jr19/rh2942/.venv/lib/python3.11/site-packages/requests/sessions.py:589\u001b[0m, in \u001b[0;36mSession.request\u001b[0;34m(self, method, url, params, data, headers, cookies, files, auth, timeout, allow_redirects, proxies, hooks, stream, verify, cert, json)\u001b[0m\n\u001b[1;32m    588\u001b[0m send_kwargs\u001b[38;5;241m.\u001b[39mupdate(settings)\n\u001b[0;32m--> 589\u001b[0m resp \u001b[38;5;241m=\u001b[39m \u001b[38;5;28;43mself\u001b[39;49m\u001b[38;5;241;43m.\u001b[39;49m\u001b[43msend\u001b[49m\u001b[43m(\u001b[49m\u001b[43mprep\u001b[49m\u001b[43m,\u001b[49m\u001b[43m \u001b[49m\u001b[38;5;241;43m*\u001b[39;49m\u001b[38;5;241;43m*\u001b[39;49m\u001b[43msend_kwargs\u001b[49m\u001b[43m)\u001b[49m\n\u001b[1;32m    591\u001b[0m \u001b[38;5;28;01mreturn\u001b[39;00m resp\n",
      "File \u001b[0;32m/scratch/jr19/rh2942/.venv/lib/python3.11/site-packages/requests/sessions.py:703\u001b[0m, in \u001b[0;36mSession.send\u001b[0;34m(self, request, **kwargs)\u001b[0m\n\u001b[1;32m    702\u001b[0m \u001b[38;5;66;03m# Send the request\u001b[39;00m\n\u001b[0;32m--> 703\u001b[0m r \u001b[38;5;241m=\u001b[39m \u001b[43madapter\u001b[49m\u001b[38;5;241;43m.\u001b[39;49m\u001b[43msend\u001b[49m\u001b[43m(\u001b[49m\u001b[43mrequest\u001b[49m\u001b[43m,\u001b[49m\u001b[43m \u001b[49m\u001b[38;5;241;43m*\u001b[39;49m\u001b[38;5;241;43m*\u001b[39;49m\u001b[43mkwargs\u001b[49m\u001b[43m)\u001b[49m\n\u001b[1;32m    705\u001b[0m \u001b[38;5;66;03m# Total elapsed time of the request (approximately)\u001b[39;00m\n",
      "File \u001b[0;32m/scratch/jr19/rh2942/.venv/lib/python3.11/site-packages/requests/adapters.py:519\u001b[0m, in \u001b[0;36mHTTPAdapter.send\u001b[0;34m(self, request, stream, timeout, verify, cert, proxies)\u001b[0m\n\u001b[1;32m    517\u001b[0m         \u001b[38;5;28;01mraise\u001b[39;00m SSLError(e, request\u001b[38;5;241m=\u001b[39mrequest)\n\u001b[0;32m--> 519\u001b[0m     \u001b[38;5;28;01mraise\u001b[39;00m \u001b[38;5;167;01mConnectionError\u001b[39;00m(e, request\u001b[38;5;241m=\u001b[39mrequest)\n\u001b[1;32m    521\u001b[0m \u001b[38;5;28;01mexcept\u001b[39;00m ClosedPoolError \u001b[38;5;28;01mas\u001b[39;00m e:\n",
      "\u001b[0;31mConnectionError\u001b[0m: HTTPSConnectionPool(host='api.openai.com', port=443): Max retries exceeded with url: /v1/chat/completions (Caused by NewConnectionError('<urllib3.connection.HTTPSConnection object at 0x14dbcd5472d0>: Failed to establish a new connection: [Errno 101] Network is unreachable'))",
      "\nThe above exception was the direct cause of the following exception:\n",
      "\u001b[0;31mAPIConnectionError\u001b[0m                        Traceback (most recent call last)",
      "Cell \u001b[0;32mIn[8], line 52\u001b[0m, in \u001b[0;36mnum_to_text\u001b[0;34m(df)\u001b[0m\n\u001b[1;32m     51\u001b[0m \u001b[38;5;28;01mtry\u001b[39;00m:\n\u001b[0;32m---> 52\u001b[0m     id_demographic\u001b[38;5;241m.\u001b[39mloc[row\u001b[38;5;241m.\u001b[39mIndex, \u001b[38;5;124m'\u001b[39m\u001b[38;5;124mdemographic\u001b[39m\u001b[38;5;124m'\u001b[39m] \u001b[38;5;241m=\u001b[39m \u001b[43mchat\u001b[49m\u001b[43m(\u001b[49m\u001b[43mprompt_convert\u001b[49m\u001b[43m)\u001b[49m\n\u001b[1;32m     53\u001b[0m \u001b[38;5;28;01mexcept\u001b[39;00m \u001b[38;5;167;01mException\u001b[39;00m \u001b[38;5;28;01mas\u001b[39;00m e: \u001b[38;5;66;03m# free account have limit of 3 request/min as of 12 July\u001b[39;00m\n",
      "Cell \u001b[0;32mIn[4], line 3\u001b[0m, in \u001b[0;36mchat\u001b[0;34m(prompt, model, temp)\u001b[0m\n\u001b[1;32m      2\u001b[0m messages \u001b[38;5;241m=\u001b[39m [{\u001b[38;5;124m\"\u001b[39m\u001b[38;5;124mrole\u001b[39m\u001b[38;5;124m\"\u001b[39m: \u001b[38;5;124m\"\u001b[39m\u001b[38;5;124muser\u001b[39m\u001b[38;5;124m\"\u001b[39m, \u001b[38;5;124m\"\u001b[39m\u001b[38;5;124mcontent\u001b[39m\u001b[38;5;124m\"\u001b[39m: prompt}]\n\u001b[0;32m----> 3\u001b[0m response \u001b[38;5;241m=\u001b[39m \u001b[43mopenai\u001b[49m\u001b[38;5;241;43m.\u001b[39;49m\u001b[43mChatCompletion\u001b[49m\u001b[38;5;241;43m.\u001b[39;49m\u001b[43mcreate\u001b[49m\u001b[43m(\u001b[49m\n\u001b[1;32m      4\u001b[0m \u001b[43m    \u001b[49m\u001b[43mmodel\u001b[49m\u001b[38;5;241;43m=\u001b[39;49m\u001b[43mmodel\u001b[49m\u001b[43m,\u001b[49m\n\u001b[1;32m      5\u001b[0m \u001b[43m    \u001b[49m\u001b[43mmessages\u001b[49m\u001b[38;5;241;43m=\u001b[39;49m\u001b[43mmessages\u001b[49m\u001b[43m,\u001b[49m\n\u001b[1;32m      6\u001b[0m \u001b[43m    \u001b[49m\u001b[43mtemperature\u001b[49m\u001b[38;5;241;43m=\u001b[39;49m\u001b[43mtemp\u001b[49m\u001b[43m,\u001b[49m\u001b[43m \u001b[49m\u001b[38;5;66;43;03m# degree of randomness of the model's output\u001b[39;49;00m\n\u001b[1;32m      7\u001b[0m \u001b[43m\u001b[49m\u001b[43m)\u001b[49m\n\u001b[1;32m      8\u001b[0m \u001b[38;5;28;01mreturn\u001b[39;00m response\u001b[38;5;241m.\u001b[39mchoices[\u001b[38;5;241m0\u001b[39m]\u001b[38;5;241m.\u001b[39mmessage[\u001b[38;5;124m\"\u001b[39m\u001b[38;5;124mcontent\u001b[39m\u001b[38;5;124m\"\u001b[39m]\n",
      "File \u001b[0;32m/scratch/jr19/rh2942/.venv/lib/python3.11/site-packages/openai/api_resources/chat_completion.py:25\u001b[0m, in \u001b[0;36mChatCompletion.create\u001b[0;34m(cls, *args, **kwargs)\u001b[0m\n\u001b[1;32m     24\u001b[0m \u001b[38;5;28;01mtry\u001b[39;00m:\n\u001b[0;32m---> 25\u001b[0m     \u001b[38;5;28;01mreturn\u001b[39;00m \u001b[38;5;28;43msuper\u001b[39;49m\u001b[43m(\u001b[49m\u001b[43m)\u001b[49m\u001b[38;5;241;43m.\u001b[39;49m\u001b[43mcreate\u001b[49m\u001b[43m(\u001b[49m\u001b[38;5;241;43m*\u001b[39;49m\u001b[43margs\u001b[49m\u001b[43m,\u001b[49m\u001b[43m \u001b[49m\u001b[38;5;241;43m*\u001b[39;49m\u001b[38;5;241;43m*\u001b[39;49m\u001b[43mkwargs\u001b[49m\u001b[43m)\u001b[49m\n\u001b[1;32m     26\u001b[0m \u001b[38;5;28;01mexcept\u001b[39;00m TryAgain \u001b[38;5;28;01mas\u001b[39;00m e:\n",
      "File \u001b[0;32m/scratch/jr19/rh2942/.venv/lib/python3.11/site-packages/openai/api_resources/abstract/engine_api_resource.py:153\u001b[0m, in \u001b[0;36mEngineAPIResource.create\u001b[0;34m(cls, api_key, api_base, api_type, request_id, api_version, organization, **params)\u001b[0m\n\u001b[1;32m    138\u001b[0m (\n\u001b[1;32m    139\u001b[0m     deployment_id,\n\u001b[1;32m    140\u001b[0m     engine,\n\u001b[0;32m   (...)\u001b[0m\n\u001b[1;32m    150\u001b[0m     api_key, api_base, api_type, api_version, organization, \u001b[38;5;241m*\u001b[39m\u001b[38;5;241m*\u001b[39mparams\n\u001b[1;32m    151\u001b[0m )\n\u001b[0;32m--> 153\u001b[0m response, _, api_key \u001b[38;5;241m=\u001b[39m \u001b[43mrequestor\u001b[49m\u001b[38;5;241;43m.\u001b[39;49m\u001b[43mrequest\u001b[49m\u001b[43m(\u001b[49m\n\u001b[1;32m    154\u001b[0m \u001b[43m    \u001b[49m\u001b[38;5;124;43m\"\u001b[39;49m\u001b[38;5;124;43mpost\u001b[39;49m\u001b[38;5;124;43m\"\u001b[39;49m\u001b[43m,\u001b[49m\n\u001b[1;32m    155\u001b[0m \u001b[43m    \u001b[49m\u001b[43murl\u001b[49m\u001b[43m,\u001b[49m\n\u001b[1;32m    156\u001b[0m \u001b[43m    \u001b[49m\u001b[43mparams\u001b[49m\u001b[38;5;241;43m=\u001b[39;49m\u001b[43mparams\u001b[49m\u001b[43m,\u001b[49m\n\u001b[1;32m    157\u001b[0m \u001b[43m    \u001b[49m\u001b[43mheaders\u001b[49m\u001b[38;5;241;43m=\u001b[39;49m\u001b[43mheaders\u001b[49m\u001b[43m,\u001b[49m\n\u001b[1;32m    158\u001b[0m \u001b[43m    \u001b[49m\u001b[43mstream\u001b[49m\u001b[38;5;241;43m=\u001b[39;49m\u001b[43mstream\u001b[49m\u001b[43m,\u001b[49m\n\u001b[1;32m    159\u001b[0m \u001b[43m    \u001b[49m\u001b[43mrequest_id\u001b[49m\u001b[38;5;241;43m=\u001b[39;49m\u001b[43mrequest_id\u001b[49m\u001b[43m,\u001b[49m\n\u001b[1;32m    160\u001b[0m \u001b[43m    \u001b[49m\u001b[43mrequest_timeout\u001b[49m\u001b[38;5;241;43m=\u001b[39;49m\u001b[43mrequest_timeout\u001b[49m\u001b[43m,\u001b[49m\n\u001b[1;32m    161\u001b[0m \u001b[43m\u001b[49m\u001b[43m)\u001b[49m\n\u001b[1;32m    163\u001b[0m \u001b[38;5;28;01mif\u001b[39;00m stream:\n\u001b[1;32m    164\u001b[0m     \u001b[38;5;66;03m# must be an iterator\u001b[39;00m\n",
      "File \u001b[0;32m/scratch/jr19/rh2942/.venv/lib/python3.11/site-packages/openai/api_requestor.py:288\u001b[0m, in \u001b[0;36mAPIRequestor.request\u001b[0;34m(self, method, url, params, headers, files, stream, request_id, request_timeout)\u001b[0m\n\u001b[1;32m    277\u001b[0m \u001b[38;5;28;01mdef\u001b[39;00m \u001b[38;5;21mrequest\u001b[39m(\n\u001b[1;32m    278\u001b[0m     \u001b[38;5;28mself\u001b[39m,\n\u001b[1;32m    279\u001b[0m     method,\n\u001b[0;32m   (...)\u001b[0m\n\u001b[1;32m    286\u001b[0m     request_timeout: Optional[Union[\u001b[38;5;28mfloat\u001b[39m, Tuple[\u001b[38;5;28mfloat\u001b[39m, \u001b[38;5;28mfloat\u001b[39m]]] \u001b[38;5;241m=\u001b[39m \u001b[38;5;28;01mNone\u001b[39;00m,\n\u001b[1;32m    287\u001b[0m ) \u001b[38;5;241m-\u001b[39m\u001b[38;5;241m>\u001b[39m Tuple[Union[OpenAIResponse, Iterator[OpenAIResponse]], \u001b[38;5;28mbool\u001b[39m, \u001b[38;5;28mstr\u001b[39m]:\n\u001b[0;32m--> 288\u001b[0m     result \u001b[38;5;241m=\u001b[39m \u001b[38;5;28;43mself\u001b[39;49m\u001b[38;5;241;43m.\u001b[39;49m\u001b[43mrequest_raw\u001b[49m\u001b[43m(\u001b[49m\n\u001b[1;32m    289\u001b[0m \u001b[43m        \u001b[49m\u001b[43mmethod\u001b[49m\u001b[38;5;241;43m.\u001b[39;49m\u001b[43mlower\u001b[49m\u001b[43m(\u001b[49m\u001b[43m)\u001b[49m\u001b[43m,\u001b[49m\n\u001b[1;32m    290\u001b[0m \u001b[43m        \u001b[49m\u001b[43murl\u001b[49m\u001b[43m,\u001b[49m\n\u001b[1;32m    291\u001b[0m \u001b[43m        \u001b[49m\u001b[43mparams\u001b[49m\u001b[38;5;241;43m=\u001b[39;49m\u001b[43mparams\u001b[49m\u001b[43m,\u001b[49m\n\u001b[1;32m    292\u001b[0m \u001b[43m        \u001b[49m\u001b[43msupplied_headers\u001b[49m\u001b[38;5;241;43m=\u001b[39;49m\u001b[43mheaders\u001b[49m\u001b[43m,\u001b[49m\n\u001b[1;32m    293\u001b[0m \u001b[43m        \u001b[49m\u001b[43mfiles\u001b[49m\u001b[38;5;241;43m=\u001b[39;49m\u001b[43mfiles\u001b[49m\u001b[43m,\u001b[49m\n\u001b[1;32m    294\u001b[0m \u001b[43m        \u001b[49m\u001b[43mstream\u001b[49m\u001b[38;5;241;43m=\u001b[39;49m\u001b[43mstream\u001b[49m\u001b[43m,\u001b[49m\n\u001b[1;32m    295\u001b[0m \u001b[43m        \u001b[49m\u001b[43mrequest_id\u001b[49m\u001b[38;5;241;43m=\u001b[39;49m\u001b[43mrequest_id\u001b[49m\u001b[43m,\u001b[49m\n\u001b[1;32m    296\u001b[0m \u001b[43m        \u001b[49m\u001b[43mrequest_timeout\u001b[49m\u001b[38;5;241;43m=\u001b[39;49m\u001b[43mrequest_timeout\u001b[49m\u001b[43m,\u001b[49m\n\u001b[1;32m    297\u001b[0m \u001b[43m    \u001b[49m\u001b[43m)\u001b[49m\n\u001b[1;32m    298\u001b[0m     resp, got_stream \u001b[38;5;241m=\u001b[39m \u001b[38;5;28mself\u001b[39m\u001b[38;5;241m.\u001b[39m_interpret_response(result, stream)\n",
      "File \u001b[0;32m/scratch/jr19/rh2942/.venv/lib/python3.11/site-packages/openai/api_requestor.py:609\u001b[0m, in \u001b[0;36mAPIRequestor.request_raw\u001b[0;34m(self, method, url, params, supplied_headers, files, stream, request_id, request_timeout)\u001b[0m\n\u001b[1;32m    608\u001b[0m \u001b[38;5;28;01mexcept\u001b[39;00m requests\u001b[38;5;241m.\u001b[39mexceptions\u001b[38;5;241m.\u001b[39mRequestException \u001b[38;5;28;01mas\u001b[39;00m e:\n\u001b[0;32m--> 609\u001b[0m     \u001b[38;5;28;01mraise\u001b[39;00m error\u001b[38;5;241m.\u001b[39mAPIConnectionError(\n\u001b[1;32m    610\u001b[0m         \u001b[38;5;124m\"\u001b[39m\u001b[38;5;124mError communicating with OpenAI: \u001b[39m\u001b[38;5;132;01m{}\u001b[39;00m\u001b[38;5;124m\"\u001b[39m\u001b[38;5;241m.\u001b[39mformat(e)\n\u001b[1;32m    611\u001b[0m     ) \u001b[38;5;28;01mfrom\u001b[39;00m \u001b[38;5;21;01me\u001b[39;00m\n\u001b[1;32m    612\u001b[0m util\u001b[38;5;241m.\u001b[39mlog_debug(\n\u001b[1;32m    613\u001b[0m     \u001b[38;5;124m\"\u001b[39m\u001b[38;5;124mOpenAI API response\u001b[39m\u001b[38;5;124m\"\u001b[39m,\n\u001b[1;32m    614\u001b[0m     path\u001b[38;5;241m=\u001b[39mabs_url,\n\u001b[0;32m   (...)\u001b[0m\n\u001b[1;32m    617\u001b[0m     request_id\u001b[38;5;241m=\u001b[39mresult\u001b[38;5;241m.\u001b[39mheaders\u001b[38;5;241m.\u001b[39mget(\u001b[38;5;124m\"\u001b[39m\u001b[38;5;124mX-Request-Id\u001b[39m\u001b[38;5;124m\"\u001b[39m),\n\u001b[1;32m    618\u001b[0m )\n",
      "\u001b[0;31mAPIConnectionError\u001b[0m: Error communicating with OpenAI: HTTPSConnectionPool(host='api.openai.com', port=443): Max retries exceeded with url: /v1/chat/completions (Caused by NewConnectionError('<urllib3.connection.HTTPSConnection object at 0x14dbcd5472d0>: Failed to establish a new connection: [Errno 101] Network is unreachable'))",
      "\nDuring handling of the above exception, another exception occurred:\n",
      "\u001b[0;31mOSError\u001b[0m                                   Traceback (most recent call last)",
      "File \u001b[0;32m/scratch/jr19/rh2942/.venv/lib/python3.11/site-packages/urllib3/connection.py:174\u001b[0m, in \u001b[0;36mHTTPConnection._new_conn\u001b[0;34m(self)\u001b[0m\n\u001b[1;32m    173\u001b[0m \u001b[38;5;28;01mtry\u001b[39;00m:\n\u001b[0;32m--> 174\u001b[0m     conn \u001b[38;5;241m=\u001b[39m \u001b[43mconnection\u001b[49m\u001b[38;5;241;43m.\u001b[39;49m\u001b[43mcreate_connection\u001b[49m\u001b[43m(\u001b[49m\n\u001b[1;32m    175\u001b[0m \u001b[43m        \u001b[49m\u001b[43m(\u001b[49m\u001b[38;5;28;43mself\u001b[39;49m\u001b[38;5;241;43m.\u001b[39;49m\u001b[43m_dns_host\u001b[49m\u001b[43m,\u001b[49m\u001b[43m \u001b[49m\u001b[38;5;28;43mself\u001b[39;49m\u001b[38;5;241;43m.\u001b[39;49m\u001b[43mport\u001b[49m\u001b[43m)\u001b[49m\u001b[43m,\u001b[49m\u001b[43m \u001b[49m\u001b[38;5;28;43mself\u001b[39;49m\u001b[38;5;241;43m.\u001b[39;49m\u001b[43mtimeout\u001b[49m\u001b[43m,\u001b[49m\u001b[43m \u001b[49m\u001b[38;5;241;43m*\u001b[39;49m\u001b[38;5;241;43m*\u001b[39;49m\u001b[43mextra_kw\u001b[49m\n\u001b[1;32m    176\u001b[0m \u001b[43m    \u001b[49m\u001b[43m)\u001b[49m\n\u001b[1;32m    178\u001b[0m \u001b[38;5;28;01mexcept\u001b[39;00m SocketTimeout:\n",
      "File \u001b[0;32m/scratch/jr19/rh2942/.venv/lib/python3.11/site-packages/urllib3/util/connection.py:95\u001b[0m, in \u001b[0;36mcreate_connection\u001b[0;34m(address, timeout, source_address, socket_options)\u001b[0m\n\u001b[1;32m     94\u001b[0m \u001b[38;5;28;01mif\u001b[39;00m err \u001b[38;5;129;01mis\u001b[39;00m \u001b[38;5;129;01mnot\u001b[39;00m \u001b[38;5;28;01mNone\u001b[39;00m:\n\u001b[0;32m---> 95\u001b[0m     \u001b[38;5;28;01mraise\u001b[39;00m err\n\u001b[1;32m     97\u001b[0m \u001b[38;5;28;01mraise\u001b[39;00m socket\u001b[38;5;241m.\u001b[39merror(\u001b[38;5;124m\"\u001b[39m\u001b[38;5;124mgetaddrinfo returns an empty list\u001b[39m\u001b[38;5;124m\"\u001b[39m)\n",
      "File \u001b[0;32m/scratch/jr19/rh2942/.venv/lib/python3.11/site-packages/urllib3/util/connection.py:85\u001b[0m, in \u001b[0;36mcreate_connection\u001b[0;34m(address, timeout, source_address, socket_options)\u001b[0m\n\u001b[1;32m     84\u001b[0m     sock\u001b[38;5;241m.\u001b[39mbind(source_address)\n\u001b[0;32m---> 85\u001b[0m \u001b[43msock\u001b[49m\u001b[38;5;241;43m.\u001b[39;49m\u001b[43mconnect\u001b[49m\u001b[43m(\u001b[49m\u001b[43msa\u001b[49m\u001b[43m)\u001b[49m\n\u001b[1;32m     86\u001b[0m \u001b[38;5;28;01mreturn\u001b[39;00m sock\n",
      "\u001b[0;31mOSError\u001b[0m: [Errno 101] Network is unreachable",
      "\nDuring handling of the above exception, another exception occurred:\n",
      "\u001b[0;31mNewConnectionError\u001b[0m                        Traceback (most recent call last)",
      "File \u001b[0;32m/scratch/jr19/rh2942/.venv/lib/python3.11/site-packages/urllib3/connectionpool.py:714\u001b[0m, in \u001b[0;36mHTTPConnectionPool.urlopen\u001b[0;34m(self, method, url, body, headers, retries, redirect, assert_same_host, timeout, pool_timeout, release_conn, chunked, body_pos, **response_kw)\u001b[0m\n\u001b[1;32m    713\u001b[0m \u001b[38;5;66;03m# Make the request on the httplib connection object.\u001b[39;00m\n\u001b[0;32m--> 714\u001b[0m httplib_response \u001b[38;5;241m=\u001b[39m \u001b[38;5;28;43mself\u001b[39;49m\u001b[38;5;241;43m.\u001b[39;49m\u001b[43m_make_request\u001b[49m\u001b[43m(\u001b[49m\n\u001b[1;32m    715\u001b[0m \u001b[43m    \u001b[49m\u001b[43mconn\u001b[49m\u001b[43m,\u001b[49m\n\u001b[1;32m    716\u001b[0m \u001b[43m    \u001b[49m\u001b[43mmethod\u001b[49m\u001b[43m,\u001b[49m\n\u001b[1;32m    717\u001b[0m \u001b[43m    \u001b[49m\u001b[43murl\u001b[49m\u001b[43m,\u001b[49m\n\u001b[1;32m    718\u001b[0m \u001b[43m    \u001b[49m\u001b[43mtimeout\u001b[49m\u001b[38;5;241;43m=\u001b[39;49m\u001b[43mtimeout_obj\u001b[49m\u001b[43m,\u001b[49m\n\u001b[1;32m    719\u001b[0m \u001b[43m    \u001b[49m\u001b[43mbody\u001b[49m\u001b[38;5;241;43m=\u001b[39;49m\u001b[43mbody\u001b[49m\u001b[43m,\u001b[49m\n\u001b[1;32m    720\u001b[0m \u001b[43m    \u001b[49m\u001b[43mheaders\u001b[49m\u001b[38;5;241;43m=\u001b[39;49m\u001b[43mheaders\u001b[49m\u001b[43m,\u001b[49m\n\u001b[1;32m    721\u001b[0m \u001b[43m    \u001b[49m\u001b[43mchunked\u001b[49m\u001b[38;5;241;43m=\u001b[39;49m\u001b[43mchunked\u001b[49m\u001b[43m,\u001b[49m\n\u001b[1;32m    722\u001b[0m \u001b[43m\u001b[49m\u001b[43m)\u001b[49m\n\u001b[1;32m    724\u001b[0m \u001b[38;5;66;03m# If we're going to release the connection in ``finally:``, then\u001b[39;00m\n\u001b[1;32m    725\u001b[0m \u001b[38;5;66;03m# the response doesn't need to know about the connection. Otherwise\u001b[39;00m\n\u001b[1;32m    726\u001b[0m \u001b[38;5;66;03m# it will also try to release it and we'll have a double-release\u001b[39;00m\n\u001b[1;32m    727\u001b[0m \u001b[38;5;66;03m# mess.\u001b[39;00m\n",
      "File \u001b[0;32m/scratch/jr19/rh2942/.venv/lib/python3.11/site-packages/urllib3/connectionpool.py:403\u001b[0m, in \u001b[0;36mHTTPConnectionPool._make_request\u001b[0;34m(self, conn, method, url, timeout, chunked, **httplib_request_kw)\u001b[0m\n\u001b[1;32m    402\u001b[0m \u001b[38;5;28;01mtry\u001b[39;00m:\n\u001b[0;32m--> 403\u001b[0m     \u001b[38;5;28;43mself\u001b[39;49m\u001b[38;5;241;43m.\u001b[39;49m\u001b[43m_validate_conn\u001b[49m\u001b[43m(\u001b[49m\u001b[43mconn\u001b[49m\u001b[43m)\u001b[49m\n\u001b[1;32m    404\u001b[0m \u001b[38;5;28;01mexcept\u001b[39;00m (SocketTimeout, BaseSSLError) \u001b[38;5;28;01mas\u001b[39;00m e:\n\u001b[1;32m    405\u001b[0m     \u001b[38;5;66;03m# Py2 raises this as a BaseSSLError, Py3 raises it as socket timeout.\u001b[39;00m\n",
      "File \u001b[0;32m/scratch/jr19/rh2942/.venv/lib/python3.11/site-packages/urllib3/connectionpool.py:1053\u001b[0m, in \u001b[0;36mHTTPSConnectionPool._validate_conn\u001b[0;34m(self, conn)\u001b[0m\n\u001b[1;32m   1052\u001b[0m \u001b[38;5;28;01mif\u001b[39;00m \u001b[38;5;129;01mnot\u001b[39;00m \u001b[38;5;28mgetattr\u001b[39m(conn, \u001b[38;5;124m\"\u001b[39m\u001b[38;5;124msock\u001b[39m\u001b[38;5;124m\"\u001b[39m, \u001b[38;5;28;01mNone\u001b[39;00m):  \u001b[38;5;66;03m# AppEngine might not have  `.sock`\u001b[39;00m\n\u001b[0;32m-> 1053\u001b[0m     \u001b[43mconn\u001b[49m\u001b[38;5;241;43m.\u001b[39;49m\u001b[43mconnect\u001b[49m\u001b[43m(\u001b[49m\u001b[43m)\u001b[49m\n\u001b[1;32m   1055\u001b[0m \u001b[38;5;28;01mif\u001b[39;00m \u001b[38;5;129;01mnot\u001b[39;00m conn\u001b[38;5;241m.\u001b[39mis_verified:\n",
      "File \u001b[0;32m/scratch/jr19/rh2942/.venv/lib/python3.11/site-packages/urllib3/connection.py:363\u001b[0m, in \u001b[0;36mHTTPSConnection.connect\u001b[0;34m(self)\u001b[0m\n\u001b[1;32m    361\u001b[0m \u001b[38;5;28;01mdef\u001b[39;00m \u001b[38;5;21mconnect\u001b[39m(\u001b[38;5;28mself\u001b[39m):\n\u001b[1;32m    362\u001b[0m     \u001b[38;5;66;03m# Add certificate verification\u001b[39;00m\n\u001b[0;32m--> 363\u001b[0m     \u001b[38;5;28mself\u001b[39m\u001b[38;5;241m.\u001b[39msock \u001b[38;5;241m=\u001b[39m conn \u001b[38;5;241m=\u001b[39m \u001b[38;5;28;43mself\u001b[39;49m\u001b[38;5;241;43m.\u001b[39;49m\u001b[43m_new_conn\u001b[49m\u001b[43m(\u001b[49m\u001b[43m)\u001b[49m\n\u001b[1;32m    364\u001b[0m     hostname \u001b[38;5;241m=\u001b[39m \u001b[38;5;28mself\u001b[39m\u001b[38;5;241m.\u001b[39mhost\n",
      "File \u001b[0;32m/scratch/jr19/rh2942/.venv/lib/python3.11/site-packages/urllib3/connection.py:186\u001b[0m, in \u001b[0;36mHTTPConnection._new_conn\u001b[0;34m(self)\u001b[0m\n\u001b[1;32m    185\u001b[0m \u001b[38;5;28;01mexcept\u001b[39;00m SocketError \u001b[38;5;28;01mas\u001b[39;00m e:\n\u001b[0;32m--> 186\u001b[0m     \u001b[38;5;28;01mraise\u001b[39;00m NewConnectionError(\n\u001b[1;32m    187\u001b[0m         \u001b[38;5;28mself\u001b[39m, \u001b[38;5;124m\"\u001b[39m\u001b[38;5;124mFailed to establish a new connection: \u001b[39m\u001b[38;5;132;01m%s\u001b[39;00m\u001b[38;5;124m\"\u001b[39m \u001b[38;5;241m%\u001b[39m e\n\u001b[1;32m    188\u001b[0m     )\n\u001b[1;32m    190\u001b[0m \u001b[38;5;28;01mreturn\u001b[39;00m conn\n",
      "\u001b[0;31mNewConnectionError\u001b[0m: <urllib3.connection.HTTPSConnection object at 0x14dbcd716f10>: Failed to establish a new connection: [Errno 101] Network is unreachable",
      "\nDuring handling of the above exception, another exception occurred:\n",
      "\u001b[0;31mMaxRetryError\u001b[0m                             Traceback (most recent call last)",
      "File \u001b[0;32m/scratch/jr19/rh2942/.venv/lib/python3.11/site-packages/requests/adapters.py:486\u001b[0m, in \u001b[0;36mHTTPAdapter.send\u001b[0;34m(self, request, stream, timeout, verify, cert, proxies)\u001b[0m\n\u001b[1;32m    485\u001b[0m \u001b[38;5;28;01mtry\u001b[39;00m:\n\u001b[0;32m--> 486\u001b[0m     resp \u001b[38;5;241m=\u001b[39m \u001b[43mconn\u001b[49m\u001b[38;5;241;43m.\u001b[39;49m\u001b[43murlopen\u001b[49m\u001b[43m(\u001b[49m\n\u001b[1;32m    487\u001b[0m \u001b[43m        \u001b[49m\u001b[43mmethod\u001b[49m\u001b[38;5;241;43m=\u001b[39;49m\u001b[43mrequest\u001b[49m\u001b[38;5;241;43m.\u001b[39;49m\u001b[43mmethod\u001b[49m\u001b[43m,\u001b[49m\n\u001b[1;32m    488\u001b[0m \u001b[43m        \u001b[49m\u001b[43murl\u001b[49m\u001b[38;5;241;43m=\u001b[39;49m\u001b[43murl\u001b[49m\u001b[43m,\u001b[49m\n\u001b[1;32m    489\u001b[0m \u001b[43m        \u001b[49m\u001b[43mbody\u001b[49m\u001b[38;5;241;43m=\u001b[39;49m\u001b[43mrequest\u001b[49m\u001b[38;5;241;43m.\u001b[39;49m\u001b[43mbody\u001b[49m\u001b[43m,\u001b[49m\n\u001b[1;32m    490\u001b[0m \u001b[43m        \u001b[49m\u001b[43mheaders\u001b[49m\u001b[38;5;241;43m=\u001b[39;49m\u001b[43mrequest\u001b[49m\u001b[38;5;241;43m.\u001b[39;49m\u001b[43mheaders\u001b[49m\u001b[43m,\u001b[49m\n\u001b[1;32m    491\u001b[0m \u001b[43m        \u001b[49m\u001b[43mredirect\u001b[49m\u001b[38;5;241;43m=\u001b[39;49m\u001b[38;5;28;43;01mFalse\u001b[39;49;00m\u001b[43m,\u001b[49m\n\u001b[1;32m    492\u001b[0m \u001b[43m        \u001b[49m\u001b[43massert_same_host\u001b[49m\u001b[38;5;241;43m=\u001b[39;49m\u001b[38;5;28;43;01mFalse\u001b[39;49;00m\u001b[43m,\u001b[49m\n\u001b[1;32m    493\u001b[0m \u001b[43m        \u001b[49m\u001b[43mpreload_content\u001b[49m\u001b[38;5;241;43m=\u001b[39;49m\u001b[38;5;28;43;01mFalse\u001b[39;49;00m\u001b[43m,\u001b[49m\n\u001b[1;32m    494\u001b[0m \u001b[43m        \u001b[49m\u001b[43mdecode_content\u001b[49m\u001b[38;5;241;43m=\u001b[39;49m\u001b[38;5;28;43;01mFalse\u001b[39;49;00m\u001b[43m,\u001b[49m\n\u001b[1;32m    495\u001b[0m \u001b[43m        \u001b[49m\u001b[43mretries\u001b[49m\u001b[38;5;241;43m=\u001b[39;49m\u001b[38;5;28;43mself\u001b[39;49m\u001b[38;5;241;43m.\u001b[39;49m\u001b[43mmax_retries\u001b[49m\u001b[43m,\u001b[49m\n\u001b[1;32m    496\u001b[0m \u001b[43m        \u001b[49m\u001b[43mtimeout\u001b[49m\u001b[38;5;241;43m=\u001b[39;49m\u001b[43mtimeout\u001b[49m\u001b[43m,\u001b[49m\n\u001b[1;32m    497\u001b[0m \u001b[43m        \u001b[49m\u001b[43mchunked\u001b[49m\u001b[38;5;241;43m=\u001b[39;49m\u001b[43mchunked\u001b[49m\u001b[43m,\u001b[49m\n\u001b[1;32m    498\u001b[0m \u001b[43m    \u001b[49m\u001b[43m)\u001b[49m\n\u001b[1;32m    500\u001b[0m \u001b[38;5;28;01mexcept\u001b[39;00m (ProtocolError, \u001b[38;5;167;01mOSError\u001b[39;00m) \u001b[38;5;28;01mas\u001b[39;00m err:\n",
      "File \u001b[0;32m/scratch/jr19/rh2942/.venv/lib/python3.11/site-packages/urllib3/connectionpool.py:826\u001b[0m, in \u001b[0;36mHTTPConnectionPool.urlopen\u001b[0;34m(self, method, url, body, headers, retries, redirect, assert_same_host, timeout, pool_timeout, release_conn, chunked, body_pos, **response_kw)\u001b[0m\n\u001b[1;32m    823\u001b[0m     log\u001b[38;5;241m.\u001b[39mwarning(\n\u001b[1;32m    824\u001b[0m         \u001b[38;5;124m\"\u001b[39m\u001b[38;5;124mRetrying (\u001b[39m\u001b[38;5;132;01m%r\u001b[39;00m\u001b[38;5;124m) after connection broken by \u001b[39m\u001b[38;5;124m'\u001b[39m\u001b[38;5;132;01m%r\u001b[39;00m\u001b[38;5;124m'\u001b[39m\u001b[38;5;124m: \u001b[39m\u001b[38;5;132;01m%s\u001b[39;00m\u001b[38;5;124m\"\u001b[39m, retries, err, url\n\u001b[1;32m    825\u001b[0m     )\n\u001b[0;32m--> 826\u001b[0m     \u001b[38;5;28;01mreturn\u001b[39;00m \u001b[38;5;28;43mself\u001b[39;49m\u001b[38;5;241;43m.\u001b[39;49m\u001b[43murlopen\u001b[49m\u001b[43m(\u001b[49m\n\u001b[1;32m    827\u001b[0m \u001b[43m        \u001b[49m\u001b[43mmethod\u001b[49m\u001b[43m,\u001b[49m\n\u001b[1;32m    828\u001b[0m \u001b[43m        \u001b[49m\u001b[43murl\u001b[49m\u001b[43m,\u001b[49m\n\u001b[1;32m    829\u001b[0m \u001b[43m        \u001b[49m\u001b[43mbody\u001b[49m\u001b[43m,\u001b[49m\n\u001b[1;32m    830\u001b[0m \u001b[43m        \u001b[49m\u001b[43mheaders\u001b[49m\u001b[43m,\u001b[49m\n\u001b[1;32m    831\u001b[0m \u001b[43m        \u001b[49m\u001b[43mretries\u001b[49m\u001b[43m,\u001b[49m\n\u001b[1;32m    832\u001b[0m \u001b[43m        \u001b[49m\u001b[43mredirect\u001b[49m\u001b[43m,\u001b[49m\n\u001b[1;32m    833\u001b[0m \u001b[43m        \u001b[49m\u001b[43massert_same_host\u001b[49m\u001b[43m,\u001b[49m\n\u001b[1;32m    834\u001b[0m \u001b[43m        \u001b[49m\u001b[43mtimeout\u001b[49m\u001b[38;5;241;43m=\u001b[39;49m\u001b[43mtimeout\u001b[49m\u001b[43m,\u001b[49m\n\u001b[1;32m    835\u001b[0m \u001b[43m        \u001b[49m\u001b[43mpool_timeout\u001b[49m\u001b[38;5;241;43m=\u001b[39;49m\u001b[43mpool_timeout\u001b[49m\u001b[43m,\u001b[49m\n\u001b[1;32m    836\u001b[0m \u001b[43m        \u001b[49m\u001b[43mrelease_conn\u001b[49m\u001b[38;5;241;43m=\u001b[39;49m\u001b[43mrelease_conn\u001b[49m\u001b[43m,\u001b[49m\n\u001b[1;32m    837\u001b[0m \u001b[43m        \u001b[49m\u001b[43mchunked\u001b[49m\u001b[38;5;241;43m=\u001b[39;49m\u001b[43mchunked\u001b[49m\u001b[43m,\u001b[49m\n\u001b[1;32m    838\u001b[0m \u001b[43m        \u001b[49m\u001b[43mbody_pos\u001b[49m\u001b[38;5;241;43m=\u001b[39;49m\u001b[43mbody_pos\u001b[49m\u001b[43m,\u001b[49m\n\u001b[1;32m    839\u001b[0m \u001b[43m        \u001b[49m\u001b[38;5;241;43m*\u001b[39;49m\u001b[38;5;241;43m*\u001b[39;49m\u001b[43mresponse_kw\u001b[49m\n\u001b[1;32m    840\u001b[0m \u001b[43m    \u001b[49m\u001b[43m)\u001b[49m\n\u001b[1;32m    842\u001b[0m \u001b[38;5;66;03m# Handle redirect?\u001b[39;00m\n",
      "File \u001b[0;32m/scratch/jr19/rh2942/.venv/lib/python3.11/site-packages/urllib3/connectionpool.py:826\u001b[0m, in \u001b[0;36mHTTPConnectionPool.urlopen\u001b[0;34m(self, method, url, body, headers, retries, redirect, assert_same_host, timeout, pool_timeout, release_conn, chunked, body_pos, **response_kw)\u001b[0m\n\u001b[1;32m    823\u001b[0m     log\u001b[38;5;241m.\u001b[39mwarning(\n\u001b[1;32m    824\u001b[0m         \u001b[38;5;124m\"\u001b[39m\u001b[38;5;124mRetrying (\u001b[39m\u001b[38;5;132;01m%r\u001b[39;00m\u001b[38;5;124m) after connection broken by \u001b[39m\u001b[38;5;124m'\u001b[39m\u001b[38;5;132;01m%r\u001b[39;00m\u001b[38;5;124m'\u001b[39m\u001b[38;5;124m: \u001b[39m\u001b[38;5;132;01m%s\u001b[39;00m\u001b[38;5;124m\"\u001b[39m, retries, err, url\n\u001b[1;32m    825\u001b[0m     )\n\u001b[0;32m--> 826\u001b[0m     \u001b[38;5;28;01mreturn\u001b[39;00m \u001b[38;5;28;43mself\u001b[39;49m\u001b[38;5;241;43m.\u001b[39;49m\u001b[43murlopen\u001b[49m\u001b[43m(\u001b[49m\n\u001b[1;32m    827\u001b[0m \u001b[43m        \u001b[49m\u001b[43mmethod\u001b[49m\u001b[43m,\u001b[49m\n\u001b[1;32m    828\u001b[0m \u001b[43m        \u001b[49m\u001b[43murl\u001b[49m\u001b[43m,\u001b[49m\n\u001b[1;32m    829\u001b[0m \u001b[43m        \u001b[49m\u001b[43mbody\u001b[49m\u001b[43m,\u001b[49m\n\u001b[1;32m    830\u001b[0m \u001b[43m        \u001b[49m\u001b[43mheaders\u001b[49m\u001b[43m,\u001b[49m\n\u001b[1;32m    831\u001b[0m \u001b[43m        \u001b[49m\u001b[43mretries\u001b[49m\u001b[43m,\u001b[49m\n\u001b[1;32m    832\u001b[0m \u001b[43m        \u001b[49m\u001b[43mredirect\u001b[49m\u001b[43m,\u001b[49m\n\u001b[1;32m    833\u001b[0m \u001b[43m        \u001b[49m\u001b[43massert_same_host\u001b[49m\u001b[43m,\u001b[49m\n\u001b[1;32m    834\u001b[0m \u001b[43m        \u001b[49m\u001b[43mtimeout\u001b[49m\u001b[38;5;241;43m=\u001b[39;49m\u001b[43mtimeout\u001b[49m\u001b[43m,\u001b[49m\n\u001b[1;32m    835\u001b[0m \u001b[43m        \u001b[49m\u001b[43mpool_timeout\u001b[49m\u001b[38;5;241;43m=\u001b[39;49m\u001b[43mpool_timeout\u001b[49m\u001b[43m,\u001b[49m\n\u001b[1;32m    836\u001b[0m \u001b[43m        \u001b[49m\u001b[43mrelease_conn\u001b[49m\u001b[38;5;241;43m=\u001b[39;49m\u001b[43mrelease_conn\u001b[49m\u001b[43m,\u001b[49m\n\u001b[1;32m    837\u001b[0m \u001b[43m        \u001b[49m\u001b[43mchunked\u001b[49m\u001b[38;5;241;43m=\u001b[39;49m\u001b[43mchunked\u001b[49m\u001b[43m,\u001b[49m\n\u001b[1;32m    838\u001b[0m \u001b[43m        \u001b[49m\u001b[43mbody_pos\u001b[49m\u001b[38;5;241;43m=\u001b[39;49m\u001b[43mbody_pos\u001b[49m\u001b[43m,\u001b[49m\n\u001b[1;32m    839\u001b[0m \u001b[43m        \u001b[49m\u001b[38;5;241;43m*\u001b[39;49m\u001b[38;5;241;43m*\u001b[39;49m\u001b[43mresponse_kw\u001b[49m\n\u001b[1;32m    840\u001b[0m \u001b[43m    \u001b[49m\u001b[43m)\u001b[49m\n\u001b[1;32m    842\u001b[0m \u001b[38;5;66;03m# Handle redirect?\u001b[39;00m\n",
      "File \u001b[0;32m/scratch/jr19/rh2942/.venv/lib/python3.11/site-packages/urllib3/connectionpool.py:798\u001b[0m, in \u001b[0;36mHTTPConnectionPool.urlopen\u001b[0;34m(self, method, url, body, headers, retries, redirect, assert_same_host, timeout, pool_timeout, release_conn, chunked, body_pos, **response_kw)\u001b[0m\n\u001b[1;32m    796\u001b[0m     e \u001b[38;5;241m=\u001b[39m ProtocolError(\u001b[38;5;124m\"\u001b[39m\u001b[38;5;124mConnection aborted.\u001b[39m\u001b[38;5;124m\"\u001b[39m, e)\n\u001b[0;32m--> 798\u001b[0m retries \u001b[38;5;241m=\u001b[39m \u001b[43mretries\u001b[49m\u001b[38;5;241;43m.\u001b[39;49m\u001b[43mincrement\u001b[49m\u001b[43m(\u001b[49m\n\u001b[1;32m    799\u001b[0m \u001b[43m    \u001b[49m\u001b[43mmethod\u001b[49m\u001b[43m,\u001b[49m\u001b[43m \u001b[49m\u001b[43murl\u001b[49m\u001b[43m,\u001b[49m\u001b[43m \u001b[49m\u001b[43merror\u001b[49m\u001b[38;5;241;43m=\u001b[39;49m\u001b[43me\u001b[49m\u001b[43m,\u001b[49m\u001b[43m \u001b[49m\u001b[43m_pool\u001b[49m\u001b[38;5;241;43m=\u001b[39;49m\u001b[38;5;28;43mself\u001b[39;49m\u001b[43m,\u001b[49m\u001b[43m \u001b[49m\u001b[43m_stacktrace\u001b[49m\u001b[38;5;241;43m=\u001b[39;49m\u001b[43msys\u001b[49m\u001b[38;5;241;43m.\u001b[39;49m\u001b[43mexc_info\u001b[49m\u001b[43m(\u001b[49m\u001b[43m)\u001b[49m\u001b[43m[\u001b[49m\u001b[38;5;241;43m2\u001b[39;49m\u001b[43m]\u001b[49m\n\u001b[1;32m    800\u001b[0m \u001b[43m\u001b[49m\u001b[43m)\u001b[49m\n\u001b[1;32m    801\u001b[0m retries\u001b[38;5;241m.\u001b[39msleep()\n",
      "File \u001b[0;32m/scratch/jr19/rh2942/.venv/lib/python3.11/site-packages/urllib3/util/retry.py:592\u001b[0m, in \u001b[0;36mRetry.increment\u001b[0;34m(self, method, url, response, error, _pool, _stacktrace)\u001b[0m\n\u001b[1;32m    591\u001b[0m \u001b[38;5;28;01mif\u001b[39;00m new_retry\u001b[38;5;241m.\u001b[39mis_exhausted():\n\u001b[0;32m--> 592\u001b[0m     \u001b[38;5;28;01mraise\u001b[39;00m MaxRetryError(_pool, url, error \u001b[38;5;129;01mor\u001b[39;00m ResponseError(cause))\n\u001b[1;32m    594\u001b[0m log\u001b[38;5;241m.\u001b[39mdebug(\u001b[38;5;124m\"\u001b[39m\u001b[38;5;124mIncremented Retry for (url=\u001b[39m\u001b[38;5;124m'\u001b[39m\u001b[38;5;132;01m%s\u001b[39;00m\u001b[38;5;124m'\u001b[39m\u001b[38;5;124m): \u001b[39m\u001b[38;5;132;01m%r\u001b[39;00m\u001b[38;5;124m\"\u001b[39m, url, new_retry)\n",
      "\u001b[0;31mMaxRetryError\u001b[0m: HTTPSConnectionPool(host='api.openai.com', port=443): Max retries exceeded with url: /v1/chat/completions (Caused by NewConnectionError('<urllib3.connection.HTTPSConnection object at 0x14dbcd716f10>: Failed to establish a new connection: [Errno 101] Network is unreachable'))",
      "\nDuring handling of the above exception, another exception occurred:\n",
      "\u001b[0;31mConnectionError\u001b[0m                           Traceback (most recent call last)",
      "File \u001b[0;32m/scratch/jr19/rh2942/.venv/lib/python3.11/site-packages/openai/api_requestor.py:596\u001b[0m, in \u001b[0;36mAPIRequestor.request_raw\u001b[0;34m(self, method, url, params, supplied_headers, files, stream, request_id, request_timeout)\u001b[0m\n\u001b[1;32m    595\u001b[0m \u001b[38;5;28;01mtry\u001b[39;00m:\n\u001b[0;32m--> 596\u001b[0m     result \u001b[38;5;241m=\u001b[39m \u001b[43m_thread_context\u001b[49m\u001b[38;5;241;43m.\u001b[39;49m\u001b[43msession\u001b[49m\u001b[38;5;241;43m.\u001b[39;49m\u001b[43mrequest\u001b[49m\u001b[43m(\u001b[49m\n\u001b[1;32m    597\u001b[0m \u001b[43m        \u001b[49m\u001b[43mmethod\u001b[49m\u001b[43m,\u001b[49m\n\u001b[1;32m    598\u001b[0m \u001b[43m        \u001b[49m\u001b[43mabs_url\u001b[49m\u001b[43m,\u001b[49m\n\u001b[1;32m    599\u001b[0m \u001b[43m        \u001b[49m\u001b[43mheaders\u001b[49m\u001b[38;5;241;43m=\u001b[39;49m\u001b[43mheaders\u001b[49m\u001b[43m,\u001b[49m\n\u001b[1;32m    600\u001b[0m \u001b[43m        \u001b[49m\u001b[43mdata\u001b[49m\u001b[38;5;241;43m=\u001b[39;49m\u001b[43mdata\u001b[49m\u001b[43m,\u001b[49m\n\u001b[1;32m    601\u001b[0m \u001b[43m        \u001b[49m\u001b[43mfiles\u001b[49m\u001b[38;5;241;43m=\u001b[39;49m\u001b[43mfiles\u001b[49m\u001b[43m,\u001b[49m\n\u001b[1;32m    602\u001b[0m \u001b[43m        \u001b[49m\u001b[43mstream\u001b[49m\u001b[38;5;241;43m=\u001b[39;49m\u001b[43mstream\u001b[49m\u001b[43m,\u001b[49m\n\u001b[1;32m    603\u001b[0m \u001b[43m        \u001b[49m\u001b[43mtimeout\u001b[49m\u001b[38;5;241;43m=\u001b[39;49m\u001b[43mrequest_timeout\u001b[49m\u001b[43m \u001b[49m\u001b[38;5;28;43;01mif\u001b[39;49;00m\u001b[43m \u001b[49m\u001b[43mrequest_timeout\u001b[49m\u001b[43m \u001b[49m\u001b[38;5;28;43;01melse\u001b[39;49;00m\u001b[43m \u001b[49m\u001b[43mTIMEOUT_SECS\u001b[49m\u001b[43m,\u001b[49m\n\u001b[1;32m    604\u001b[0m \u001b[43m        \u001b[49m\u001b[43mproxies\u001b[49m\u001b[38;5;241;43m=\u001b[39;49m\u001b[43m_thread_context\u001b[49m\u001b[38;5;241;43m.\u001b[39;49m\u001b[43msession\u001b[49m\u001b[38;5;241;43m.\u001b[39;49m\u001b[43mproxies\u001b[49m\u001b[43m,\u001b[49m\n\u001b[1;32m    605\u001b[0m \u001b[43m    \u001b[49m\u001b[43m)\u001b[49m\n\u001b[1;32m    606\u001b[0m \u001b[38;5;28;01mexcept\u001b[39;00m requests\u001b[38;5;241m.\u001b[39mexceptions\u001b[38;5;241m.\u001b[39mTimeout \u001b[38;5;28;01mas\u001b[39;00m e:\n",
      "File \u001b[0;32m/scratch/jr19/rh2942/.venv/lib/python3.11/site-packages/requests/sessions.py:589\u001b[0m, in \u001b[0;36mSession.request\u001b[0;34m(self, method, url, params, data, headers, cookies, files, auth, timeout, allow_redirects, proxies, hooks, stream, verify, cert, json)\u001b[0m\n\u001b[1;32m    588\u001b[0m send_kwargs\u001b[38;5;241m.\u001b[39mupdate(settings)\n\u001b[0;32m--> 589\u001b[0m resp \u001b[38;5;241m=\u001b[39m \u001b[38;5;28;43mself\u001b[39;49m\u001b[38;5;241;43m.\u001b[39;49m\u001b[43msend\u001b[49m\u001b[43m(\u001b[49m\u001b[43mprep\u001b[49m\u001b[43m,\u001b[49m\u001b[43m \u001b[49m\u001b[38;5;241;43m*\u001b[39;49m\u001b[38;5;241;43m*\u001b[39;49m\u001b[43msend_kwargs\u001b[49m\u001b[43m)\u001b[49m\n\u001b[1;32m    591\u001b[0m \u001b[38;5;28;01mreturn\u001b[39;00m resp\n",
      "File \u001b[0;32m/scratch/jr19/rh2942/.venv/lib/python3.11/site-packages/requests/sessions.py:703\u001b[0m, in \u001b[0;36mSession.send\u001b[0;34m(self, request, **kwargs)\u001b[0m\n\u001b[1;32m    702\u001b[0m \u001b[38;5;66;03m# Send the request\u001b[39;00m\n\u001b[0;32m--> 703\u001b[0m r \u001b[38;5;241m=\u001b[39m \u001b[43madapter\u001b[49m\u001b[38;5;241;43m.\u001b[39;49m\u001b[43msend\u001b[49m\u001b[43m(\u001b[49m\u001b[43mrequest\u001b[49m\u001b[43m,\u001b[49m\u001b[43m \u001b[49m\u001b[38;5;241;43m*\u001b[39;49m\u001b[38;5;241;43m*\u001b[39;49m\u001b[43mkwargs\u001b[49m\u001b[43m)\u001b[49m\n\u001b[1;32m    705\u001b[0m \u001b[38;5;66;03m# Total elapsed time of the request (approximately)\u001b[39;00m\n",
      "File \u001b[0;32m/scratch/jr19/rh2942/.venv/lib/python3.11/site-packages/requests/adapters.py:519\u001b[0m, in \u001b[0;36mHTTPAdapter.send\u001b[0;34m(self, request, stream, timeout, verify, cert, proxies)\u001b[0m\n\u001b[1;32m    517\u001b[0m         \u001b[38;5;28;01mraise\u001b[39;00m SSLError(e, request\u001b[38;5;241m=\u001b[39mrequest)\n\u001b[0;32m--> 519\u001b[0m     \u001b[38;5;28;01mraise\u001b[39;00m \u001b[38;5;167;01mConnectionError\u001b[39;00m(e, request\u001b[38;5;241m=\u001b[39mrequest)\n\u001b[1;32m    521\u001b[0m \u001b[38;5;28;01mexcept\u001b[39;00m ClosedPoolError \u001b[38;5;28;01mas\u001b[39;00m e:\n",
      "\u001b[0;31mConnectionError\u001b[0m: HTTPSConnectionPool(host='api.openai.com', port=443): Max retries exceeded with url: /v1/chat/completions (Caused by NewConnectionError('<urllib3.connection.HTTPSConnection object at 0x14dbcd716f10>: Failed to establish a new connection: [Errno 101] Network is unreachable'))",
      "\nThe above exception was the direct cause of the following exception:\n",
      "\u001b[0;31mAPIConnectionError\u001b[0m                        Traceback (most recent call last)",
      "Cell \u001b[0;32mIn[12], line 1\u001b[0m\n\u001b[0;32m----> 1\u001b[0m train, id_demographic_train \u001b[38;5;241m=\u001b[39m \u001b[43mid_to_demographic\u001b[49m\u001b[43m(\u001b[49m\n\u001b[1;32m      2\u001b[0m \u001b[43m    \u001b[49m\u001b[43mfilename\u001b[49m\u001b[38;5;241;43m=\u001b[39;49m\u001b[43mtrain_file\u001b[49m\u001b[43m,\u001b[49m\n\u001b[1;32m      3\u001b[0m \u001b[43m    \u001b[49m\u001b[43mWS22\u001b[49m\u001b[38;5;241;43m=\u001b[39;49m\u001b[38;5;28;43;01mTrue\u001b[39;49;00m\u001b[43m,\u001b[49m\n\u001b[1;32m      4\u001b[0m \u001b[43m    \u001b[49m\u001b[43msave_as\u001b[49m\u001b[38;5;241;43m=\u001b[39;49m\u001b[38;5;124;43m'\u001b[39;49m\u001b[38;5;124;43mWS22-train-id_demographic-text\u001b[39;49m\u001b[38;5;124;43m'\u001b[39;49m\u001b[43m,\u001b[49m\n\u001b[1;32m      5\u001b[0m \u001b[43m    \u001b[49m\u001b[43maccess_gpt\u001b[49m\u001b[38;5;241;43m=\u001b[39;49m\u001b[38;5;28;43;01mTrue\u001b[39;49;00m\n\u001b[1;32m      6\u001b[0m \u001b[43m)\u001b[49m\n",
      "Cell \u001b[0;32mIn[9], line 24\u001b[0m, in \u001b[0;36mid_to_demographic\u001b[0;34m(filename, WS22, save_as, access_gpt)\u001b[0m\n\u001b[1;32m     22\u001b[0m \u001b[38;5;28;01mif\u001b[39;00m access_gpt:\n\u001b[1;32m     23\u001b[0m     \u001b[38;5;28mprint\u001b[39m()\n\u001b[0;32m---> 24\u001b[0m     id_demographic \u001b[38;5;241m=\u001b[39m \u001b[43mnum_to_text\u001b[49m\u001b[43m(\u001b[49m\u001b[43mdata\u001b[49m\u001b[43m)\u001b[49m\n\u001b[1;32m     25\u001b[0m \u001b[38;5;28;01melse\u001b[39;00m:\n\u001b[1;32m     26\u001b[0m     \u001b[38;5;28;01mif\u001b[39;00m WS22:\n",
      "Cell \u001b[0;32mIn[8], line 57\u001b[0m, in \u001b[0;36mnum_to_text\u001b[0;34m(df)\u001b[0m\n\u001b[1;32m     55\u001b[0m         \u001b[38;5;28mprint\u001b[39m(\u001b[38;5;124m\"\u001b[39m\u001b[38;5;130;01m\\n\u001b[39;00m\u001b[38;5;124mFailed but we\u001b[39m\u001b[38;5;124m'\u001b[39m\u001b[38;5;124mre trying again in 60 seconds...\u001b[39m\u001b[38;5;130;01m\\n\u001b[39;00m\u001b[38;5;124mSTOP THE PROGRAM IF IT\u001b[39m\u001b[38;5;124m'\u001b[39m\u001b[38;5;124mS ANY OTHER ERROR UNSOLVABLE BY RUNNING IT AGAIN\u001b[39m\u001b[38;5;130;01m\\n\u001b[39;00m\u001b[38;5;124m\"\u001b[39m)\n\u001b[1;32m     56\u001b[0m         time\u001b[38;5;241m.\u001b[39msleep(\u001b[38;5;241m60\u001b[39m) \u001b[38;5;66;03m# normally it asks to wait for 20s\u001b[39;00m\n\u001b[0;32m---> 57\u001b[0m         id_demographic\u001b[38;5;241m.\u001b[39mloc[row\u001b[38;5;241m.\u001b[39mIndex, \u001b[38;5;124m'\u001b[39m\u001b[38;5;124mdemographic\u001b[39m\u001b[38;5;124m'\u001b[39m] \u001b[38;5;241m=\u001b[39m \u001b[43mchat\u001b[49m\u001b[43m(\u001b[49m\u001b[43mprompt_convert\u001b[49m\u001b[43m)\u001b[49m\n\u001b[1;32m     59\u001b[0m     \u001b[38;5;66;03m## Debugging\u001b[39;00m\n\u001b[1;32m     60\u001b[0m     \u001b[38;5;66;03m# print(f\"Input numbers: ```Gender: {data.loc[row.Index, 'gender']}, Education level: {data.loc[row.Index, 'education']}, Race: {data.loc[row.Index, 'race']}, Age: {data.loc[row.Index, 'age']}, Income: {data.loc[row.Index, 'income']}\")\u001b[39;00m\n\u001b[1;32m     61\u001b[0m     \n\u001b[1;32m     62\u001b[0m     \u001b[38;5;66;03m# if row.Index == 2:\u001b[39;00m\n\u001b[1;32m     63\u001b[0m     \u001b[38;5;66;03m#     break\u001b[39;00m\n\u001b[1;32m     65\u001b[0m id_demographic \u001b[38;5;241m=\u001b[39m id_demographic[[\u001b[38;5;124m'\u001b[39m\u001b[38;5;124mspeaker_id\u001b[39m\u001b[38;5;124m'\u001b[39m, \u001b[38;5;124m'\u001b[39m\u001b[38;5;124mdemographic\u001b[39m\u001b[38;5;124m'\u001b[39m]] \u001b[38;5;66;03m#keeping only required columns\u001b[39;00m\n",
      "Cell \u001b[0;32mIn[4], line 3\u001b[0m, in \u001b[0;36mchat\u001b[0;34m(prompt, model, temp)\u001b[0m\n\u001b[1;32m      1\u001b[0m \u001b[38;5;28;01mdef\u001b[39;00m \u001b[38;5;21mchat\u001b[39m(prompt, model\u001b[38;5;241m=\u001b[39m\u001b[38;5;124m\"\u001b[39m\u001b[38;5;124mgpt-3.5-turbo-0613\u001b[39m\u001b[38;5;124m\"\u001b[39m, temp\u001b[38;5;241m=\u001b[39m\u001b[38;5;241m1.5\u001b[39m):\n\u001b[1;32m      2\u001b[0m     messages \u001b[38;5;241m=\u001b[39m [{\u001b[38;5;124m\"\u001b[39m\u001b[38;5;124mrole\u001b[39m\u001b[38;5;124m\"\u001b[39m: \u001b[38;5;124m\"\u001b[39m\u001b[38;5;124muser\u001b[39m\u001b[38;5;124m\"\u001b[39m, \u001b[38;5;124m\"\u001b[39m\u001b[38;5;124mcontent\u001b[39m\u001b[38;5;124m\"\u001b[39m: prompt}]\n\u001b[0;32m----> 3\u001b[0m     response \u001b[38;5;241m=\u001b[39m \u001b[43mopenai\u001b[49m\u001b[38;5;241;43m.\u001b[39;49m\u001b[43mChatCompletion\u001b[49m\u001b[38;5;241;43m.\u001b[39;49m\u001b[43mcreate\u001b[49m\u001b[43m(\u001b[49m\n\u001b[1;32m      4\u001b[0m \u001b[43m        \u001b[49m\u001b[43mmodel\u001b[49m\u001b[38;5;241;43m=\u001b[39;49m\u001b[43mmodel\u001b[49m\u001b[43m,\u001b[49m\n\u001b[1;32m      5\u001b[0m \u001b[43m        \u001b[49m\u001b[43mmessages\u001b[49m\u001b[38;5;241;43m=\u001b[39;49m\u001b[43mmessages\u001b[49m\u001b[43m,\u001b[49m\n\u001b[1;32m      6\u001b[0m \u001b[43m        \u001b[49m\u001b[43mtemperature\u001b[49m\u001b[38;5;241;43m=\u001b[39;49m\u001b[43mtemp\u001b[49m\u001b[43m,\u001b[49m\u001b[43m \u001b[49m\u001b[38;5;66;43;03m# degree of randomness of the model's output\u001b[39;49;00m\n\u001b[1;32m      7\u001b[0m \u001b[43m    \u001b[49m\u001b[43m)\u001b[49m\n\u001b[1;32m      8\u001b[0m     \u001b[38;5;28;01mreturn\u001b[39;00m response\u001b[38;5;241m.\u001b[39mchoices[\u001b[38;5;241m0\u001b[39m]\u001b[38;5;241m.\u001b[39mmessage[\u001b[38;5;124m\"\u001b[39m\u001b[38;5;124mcontent\u001b[39m\u001b[38;5;124m\"\u001b[39m]\n",
      "File \u001b[0;32m/scratch/jr19/rh2942/.venv/lib/python3.11/site-packages/openai/api_resources/chat_completion.py:25\u001b[0m, in \u001b[0;36mChatCompletion.create\u001b[0;34m(cls, *args, **kwargs)\u001b[0m\n\u001b[1;32m     23\u001b[0m \u001b[38;5;28;01mwhile\u001b[39;00m \u001b[38;5;28;01mTrue\u001b[39;00m:\n\u001b[1;32m     24\u001b[0m     \u001b[38;5;28;01mtry\u001b[39;00m:\n\u001b[0;32m---> 25\u001b[0m         \u001b[38;5;28;01mreturn\u001b[39;00m \u001b[38;5;28;43msuper\u001b[39;49m\u001b[43m(\u001b[49m\u001b[43m)\u001b[49m\u001b[38;5;241;43m.\u001b[39;49m\u001b[43mcreate\u001b[49m\u001b[43m(\u001b[49m\u001b[38;5;241;43m*\u001b[39;49m\u001b[43margs\u001b[49m\u001b[43m,\u001b[49m\u001b[43m \u001b[49m\u001b[38;5;241;43m*\u001b[39;49m\u001b[38;5;241;43m*\u001b[39;49m\u001b[43mkwargs\u001b[49m\u001b[43m)\u001b[49m\n\u001b[1;32m     26\u001b[0m     \u001b[38;5;28;01mexcept\u001b[39;00m TryAgain \u001b[38;5;28;01mas\u001b[39;00m e:\n\u001b[1;32m     27\u001b[0m         \u001b[38;5;28;01mif\u001b[39;00m timeout \u001b[38;5;129;01mis\u001b[39;00m \u001b[38;5;129;01mnot\u001b[39;00m \u001b[38;5;28;01mNone\u001b[39;00m \u001b[38;5;129;01mand\u001b[39;00m time\u001b[38;5;241m.\u001b[39mtime() \u001b[38;5;241m>\u001b[39m start \u001b[38;5;241m+\u001b[39m timeout:\n",
      "File \u001b[0;32m/scratch/jr19/rh2942/.venv/lib/python3.11/site-packages/openai/api_resources/abstract/engine_api_resource.py:153\u001b[0m, in \u001b[0;36mEngineAPIResource.create\u001b[0;34m(cls, api_key, api_base, api_type, request_id, api_version, organization, **params)\u001b[0m\n\u001b[1;32m    127\u001b[0m \u001b[38;5;129m@classmethod\u001b[39m\n\u001b[1;32m    128\u001b[0m \u001b[38;5;28;01mdef\u001b[39;00m \u001b[38;5;21mcreate\u001b[39m(\n\u001b[1;32m    129\u001b[0m     \u001b[38;5;28mcls\u001b[39m,\n\u001b[0;32m   (...)\u001b[0m\n\u001b[1;32m    136\u001b[0m     \u001b[38;5;241m*\u001b[39m\u001b[38;5;241m*\u001b[39mparams,\n\u001b[1;32m    137\u001b[0m ):\n\u001b[1;32m    138\u001b[0m     (\n\u001b[1;32m    139\u001b[0m         deployment_id,\n\u001b[1;32m    140\u001b[0m         engine,\n\u001b[0;32m   (...)\u001b[0m\n\u001b[1;32m    150\u001b[0m         api_key, api_base, api_type, api_version, organization, \u001b[38;5;241m*\u001b[39m\u001b[38;5;241m*\u001b[39mparams\n\u001b[1;32m    151\u001b[0m     )\n\u001b[0;32m--> 153\u001b[0m     response, _, api_key \u001b[38;5;241m=\u001b[39m \u001b[43mrequestor\u001b[49m\u001b[38;5;241;43m.\u001b[39;49m\u001b[43mrequest\u001b[49m\u001b[43m(\u001b[49m\n\u001b[1;32m    154\u001b[0m \u001b[43m        \u001b[49m\u001b[38;5;124;43m\"\u001b[39;49m\u001b[38;5;124;43mpost\u001b[39;49m\u001b[38;5;124;43m\"\u001b[39;49m\u001b[43m,\u001b[49m\n\u001b[1;32m    155\u001b[0m \u001b[43m        \u001b[49m\u001b[43murl\u001b[49m\u001b[43m,\u001b[49m\n\u001b[1;32m    156\u001b[0m \u001b[43m        \u001b[49m\u001b[43mparams\u001b[49m\u001b[38;5;241;43m=\u001b[39;49m\u001b[43mparams\u001b[49m\u001b[43m,\u001b[49m\n\u001b[1;32m    157\u001b[0m \u001b[43m        \u001b[49m\u001b[43mheaders\u001b[49m\u001b[38;5;241;43m=\u001b[39;49m\u001b[43mheaders\u001b[49m\u001b[43m,\u001b[49m\n\u001b[1;32m    158\u001b[0m \u001b[43m        \u001b[49m\u001b[43mstream\u001b[49m\u001b[38;5;241;43m=\u001b[39;49m\u001b[43mstream\u001b[49m\u001b[43m,\u001b[49m\n\u001b[1;32m    159\u001b[0m \u001b[43m        \u001b[49m\u001b[43mrequest_id\u001b[49m\u001b[38;5;241;43m=\u001b[39;49m\u001b[43mrequest_id\u001b[49m\u001b[43m,\u001b[49m\n\u001b[1;32m    160\u001b[0m \u001b[43m        \u001b[49m\u001b[43mrequest_timeout\u001b[49m\u001b[38;5;241;43m=\u001b[39;49m\u001b[43mrequest_timeout\u001b[49m\u001b[43m,\u001b[49m\n\u001b[1;32m    161\u001b[0m \u001b[43m    \u001b[49m\u001b[43m)\u001b[49m\n\u001b[1;32m    163\u001b[0m     \u001b[38;5;28;01mif\u001b[39;00m stream:\n\u001b[1;32m    164\u001b[0m         \u001b[38;5;66;03m# must be an iterator\u001b[39;00m\n\u001b[1;32m    165\u001b[0m         \u001b[38;5;28;01massert\u001b[39;00m \u001b[38;5;129;01mnot\u001b[39;00m \u001b[38;5;28misinstance\u001b[39m(response, OpenAIResponse)\n",
      "File \u001b[0;32m/scratch/jr19/rh2942/.venv/lib/python3.11/site-packages/openai/api_requestor.py:288\u001b[0m, in \u001b[0;36mAPIRequestor.request\u001b[0;34m(self, method, url, params, headers, files, stream, request_id, request_timeout)\u001b[0m\n\u001b[1;32m    277\u001b[0m \u001b[38;5;28;01mdef\u001b[39;00m \u001b[38;5;21mrequest\u001b[39m(\n\u001b[1;32m    278\u001b[0m     \u001b[38;5;28mself\u001b[39m,\n\u001b[1;32m    279\u001b[0m     method,\n\u001b[0;32m   (...)\u001b[0m\n\u001b[1;32m    286\u001b[0m     request_timeout: Optional[Union[\u001b[38;5;28mfloat\u001b[39m, Tuple[\u001b[38;5;28mfloat\u001b[39m, \u001b[38;5;28mfloat\u001b[39m]]] \u001b[38;5;241m=\u001b[39m \u001b[38;5;28;01mNone\u001b[39;00m,\n\u001b[1;32m    287\u001b[0m ) \u001b[38;5;241m-\u001b[39m\u001b[38;5;241m>\u001b[39m Tuple[Union[OpenAIResponse, Iterator[OpenAIResponse]], \u001b[38;5;28mbool\u001b[39m, \u001b[38;5;28mstr\u001b[39m]:\n\u001b[0;32m--> 288\u001b[0m     result \u001b[38;5;241m=\u001b[39m \u001b[38;5;28;43mself\u001b[39;49m\u001b[38;5;241;43m.\u001b[39;49m\u001b[43mrequest_raw\u001b[49m\u001b[43m(\u001b[49m\n\u001b[1;32m    289\u001b[0m \u001b[43m        \u001b[49m\u001b[43mmethod\u001b[49m\u001b[38;5;241;43m.\u001b[39;49m\u001b[43mlower\u001b[49m\u001b[43m(\u001b[49m\u001b[43m)\u001b[49m\u001b[43m,\u001b[49m\n\u001b[1;32m    290\u001b[0m \u001b[43m        \u001b[49m\u001b[43murl\u001b[49m\u001b[43m,\u001b[49m\n\u001b[1;32m    291\u001b[0m \u001b[43m        \u001b[49m\u001b[43mparams\u001b[49m\u001b[38;5;241;43m=\u001b[39;49m\u001b[43mparams\u001b[49m\u001b[43m,\u001b[49m\n\u001b[1;32m    292\u001b[0m \u001b[43m        \u001b[49m\u001b[43msupplied_headers\u001b[49m\u001b[38;5;241;43m=\u001b[39;49m\u001b[43mheaders\u001b[49m\u001b[43m,\u001b[49m\n\u001b[1;32m    293\u001b[0m \u001b[43m        \u001b[49m\u001b[43mfiles\u001b[49m\u001b[38;5;241;43m=\u001b[39;49m\u001b[43mfiles\u001b[49m\u001b[43m,\u001b[49m\n\u001b[1;32m    294\u001b[0m \u001b[43m        \u001b[49m\u001b[43mstream\u001b[49m\u001b[38;5;241;43m=\u001b[39;49m\u001b[43mstream\u001b[49m\u001b[43m,\u001b[49m\n\u001b[1;32m    295\u001b[0m \u001b[43m        \u001b[49m\u001b[43mrequest_id\u001b[49m\u001b[38;5;241;43m=\u001b[39;49m\u001b[43mrequest_id\u001b[49m\u001b[43m,\u001b[49m\n\u001b[1;32m    296\u001b[0m \u001b[43m        \u001b[49m\u001b[43mrequest_timeout\u001b[49m\u001b[38;5;241;43m=\u001b[39;49m\u001b[43mrequest_timeout\u001b[49m\u001b[43m,\u001b[49m\n\u001b[1;32m    297\u001b[0m \u001b[43m    \u001b[49m\u001b[43m)\u001b[49m\n\u001b[1;32m    298\u001b[0m     resp, got_stream \u001b[38;5;241m=\u001b[39m \u001b[38;5;28mself\u001b[39m\u001b[38;5;241m.\u001b[39m_interpret_response(result, stream)\n\u001b[1;32m    299\u001b[0m     \u001b[38;5;28;01mreturn\u001b[39;00m resp, got_stream, \u001b[38;5;28mself\u001b[39m\u001b[38;5;241m.\u001b[39mapi_key\n",
      "File \u001b[0;32m/scratch/jr19/rh2942/.venv/lib/python3.11/site-packages/openai/api_requestor.py:609\u001b[0m, in \u001b[0;36mAPIRequestor.request_raw\u001b[0;34m(self, method, url, params, supplied_headers, files, stream, request_id, request_timeout)\u001b[0m\n\u001b[1;32m    607\u001b[0m     \u001b[38;5;28;01mraise\u001b[39;00m error\u001b[38;5;241m.\u001b[39mTimeout(\u001b[38;5;124m\"\u001b[39m\u001b[38;5;124mRequest timed out: \u001b[39m\u001b[38;5;132;01m{}\u001b[39;00m\u001b[38;5;124m\"\u001b[39m\u001b[38;5;241m.\u001b[39mformat(e)) \u001b[38;5;28;01mfrom\u001b[39;00m \u001b[38;5;21;01me\u001b[39;00m\n\u001b[1;32m    608\u001b[0m \u001b[38;5;28;01mexcept\u001b[39;00m requests\u001b[38;5;241m.\u001b[39mexceptions\u001b[38;5;241m.\u001b[39mRequestException \u001b[38;5;28;01mas\u001b[39;00m e:\n\u001b[0;32m--> 609\u001b[0m     \u001b[38;5;28;01mraise\u001b[39;00m error\u001b[38;5;241m.\u001b[39mAPIConnectionError(\n\u001b[1;32m    610\u001b[0m         \u001b[38;5;124m\"\u001b[39m\u001b[38;5;124mError communicating with OpenAI: \u001b[39m\u001b[38;5;132;01m{}\u001b[39;00m\u001b[38;5;124m\"\u001b[39m\u001b[38;5;241m.\u001b[39mformat(e)\n\u001b[1;32m    611\u001b[0m     ) \u001b[38;5;28;01mfrom\u001b[39;00m \u001b[38;5;21;01me\u001b[39;00m\n\u001b[1;32m    612\u001b[0m util\u001b[38;5;241m.\u001b[39mlog_debug(\n\u001b[1;32m    613\u001b[0m     \u001b[38;5;124m\"\u001b[39m\u001b[38;5;124mOpenAI API response\u001b[39m\u001b[38;5;124m\"\u001b[39m,\n\u001b[1;32m    614\u001b[0m     path\u001b[38;5;241m=\u001b[39mabs_url,\n\u001b[0;32m   (...)\u001b[0m\n\u001b[1;32m    617\u001b[0m     request_id\u001b[38;5;241m=\u001b[39mresult\u001b[38;5;241m.\u001b[39mheaders\u001b[38;5;241m.\u001b[39mget(\u001b[38;5;124m\"\u001b[39m\u001b[38;5;124mX-Request-Id\u001b[39m\u001b[38;5;124m\"\u001b[39m),\n\u001b[1;32m    618\u001b[0m )\n\u001b[1;32m    619\u001b[0m \u001b[38;5;66;03m# Don't read the whole stream for debug logging unless necessary.\u001b[39;00m\n",
      "\u001b[0;31mAPIConnectionError\u001b[0m: Error communicating with OpenAI: HTTPSConnectionPool(host='api.openai.com', port=443): Max retries exceeded with url: /v1/chat/completions (Caused by NewConnectionError('<urllib3.connection.HTTPSConnection object at 0x14dbcd716f10>: Failed to establish a new connection: [Errno 101] Network is unreachable'))"
     ]
    }
   ],
   "source": [
    "train, id_demographic_train = id_to_demographic(\n",
    "    filename=train_file,\n",
    "    WS22=True,\n",
    "    save_as='WS22-train-id_demographic-text',\n",
    "    access_gpt=True\n",
    ")"
   ]
  },
  {
   "cell_type": "code",
   "execution_count": 49,
   "id": "cc400ea2-3fc1-4c76-ac09-586ae0d70656",
   "metadata": {},
   "outputs": [],
   "source": [
    "train = map_id_to_main(id_demographic_df=id_demographic_train, main_df=train, save_as=None)"
   ]
  },
  {
   "cell_type": "code",
   "execution_count": 8,
   "id": "6024d636-6803-453c-b345-8c6ba9cc4cf7",
   "metadata": {
    "scrolled": true
   },
   "outputs": [
    {
     "name": "stdout",
     "output_type": "stream",
     "text": [
      "Columns having NaN values:  []\n",
      "Initial data shape: (270, 9)\n",
      "\n",
      "After dropping NA values, data shape: (270, 9)\n",
      "Columns having NaN values:  []\n",
      "Columns having object datatypes: \n",
      "message_id     object\n",
      "response_id    object\n",
      "essay          object\n",
      "dtype: object\n"
     ]
    }
   ],
   "source": [
    "dev, id_demographic_dev = id_to_demographic(\n",
    "    filename=dev_file,\n",
    "    WS22=True,\n",
    "    save_as='WS22-dev-id_demographic-text',\n",
    "    access_gpt=False\n",
    ")"
   ]
  },
  {
   "cell_type": "code",
   "execution_count": 9,
   "id": "ffef757a-91a5-4b62-814d-a911a1349e49",
   "metadata": {},
   "outputs": [],
   "source": [
    "dev = map_id_to_main(id_demographic_df=id_demographic_dev, main_df=dev, save_as=None)"
   ]
  },
  {
   "cell_type": "code",
   "execution_count": 58,
   "id": "67da016e-1d30-453d-9636-2058cca3d8ab",
   "metadata": {
    "scrolled": true
   },
   "outputs": [
    {
     "name": "stdout",
     "output_type": "stream",
     "text": [
      "Columns having NaN values:  []\n",
      "Initial data shape: (525, 9)\n",
      "\n",
      "After dropping NA values, data shape: (525, 9)\n",
      "Columns having NaN values:  []\n",
      "Columns having object datatypes: \n",
      "message_id     object\n",
      "response_id    object\n",
      "essay          object\n",
      "dtype: object\n"
     ]
    }
   ],
   "source": [
    "test, id_demographic_test = id_to_demographic(\n",
    "    filename=test_file,\n",
    "    WS22=True,\n",
    "    save_as='WS22-test-id_demographic-text',\n",
    "    access_gpt=False\n",
    ")"
   ]
  },
  {
   "cell_type": "code",
   "execution_count": 59,
   "id": "06a685f6-756f-43cd-92ce-ec44f7cd230c",
   "metadata": {},
   "outputs": [],
   "source": [
    "test = map_id_to_main(id_demographic_df=id_demographic_test, main_df=test, save_as=None)"
   ]
  },
  {
   "cell_type": "markdown",
   "id": "966202e0-7347-44f4-bf03-835d4a965cda",
   "metadata": {
    "jp-MarkdownHeadingCollapsed": true
   },
   "source": [
    "# Combine article to the main dataset"
   ]
  },
  {
   "cell_type": "code",
   "execution_count": 10,
   "id": "b31ee09e-4c3c-407d-b187-85eaa03e2d6a",
   "metadata": {},
   "outputs": [],
   "source": [
    "article = pd.read_csv(\"./data/article-summarised.csv\", index_col=1) #article_id as index so that I can map to it easily"
   ]
  },
  {
   "cell_type": "code",
   "execution_count": 11,
   "id": "4734c543-e2c8-4976-b51e-68d317e376b5",
   "metadata": {},
   "outputs": [
    {
     "data": {
      "text/html": [
       "<div>\n",
       "<style scoped>\n",
       "    .dataframe tbody tr th:only-of-type {\n",
       "        vertical-align: middle;\n",
       "    }\n",
       "\n",
       "    .dataframe tbody tr th {\n",
       "        vertical-align: top;\n",
       "    }\n",
       "\n",
       "    .dataframe thead th {\n",
       "        text-align: right;\n",
       "    }\n",
       "</style>\n",
       "<table border=\"1\" class=\"dataframe\">\n",
       "  <thead>\n",
       "    <tr style=\"text-align: right;\">\n",
       "      <th></th>\n",
       "      <th>Unnamed: 0</th>\n",
       "      <th>text</th>\n",
       "      <th>summary_text</th>\n",
       "    </tr>\n",
       "    <tr>\n",
       "      <th>article_id</th>\n",
       "      <th></th>\n",
       "      <th></th>\n",
       "      <th></th>\n",
       "    </tr>\n",
       "  </thead>\n",
       "  <tbody>\n",
       "    <tr>\n",
       "      <th>375</th>\n",
       "      <td>374</td>\n",
       "      <td>Visitors bring trouble to Norway's polar bears...</td>\n",
       "      <td>An increasing number of visitors to Norway's A...</td>\n",
       "    </tr>\n",
       "    <tr>\n",
       "      <th>44</th>\n",
       "      <td>43</td>\n",
       "      <td>Airline worker gunned down at Oklahoma City ai...</td>\n",
       "      <td>An airline worker was shot and killed at Oklah...</td>\n",
       "    </tr>\n",
       "  </tbody>\n",
       "</table>\n",
       "</div>"
      ],
      "text/plain": [
       "            Unnamed: 0                                               text  \\\n",
       "article_id                                                                  \n",
       "375                374  Visitors bring trouble to Norway's polar bears...   \n",
       "44                  43  Airline worker gunned down at Oklahoma City ai...   \n",
       "\n",
       "                                                 summary_text  \n",
       "article_id                                                     \n",
       "375         An increasing number of visitors to Norway's A...  \n",
       "44          An airline worker was shot and killed at Oklah...  "
      ]
     },
     "execution_count": 11,
     "metadata": {},
     "output_type": "execute_result"
    }
   ],
   "source": [
    "article.sample(2)"
   ]
  },
  {
   "cell_type": "code",
   "execution_count": 24,
   "id": "1f57dfc7-03ca-4e6c-844e-15d690f50b85",
   "metadata": {},
   "outputs": [
    {
     "data": {
      "text/plain": [
       "'Article Title: —  \\ufeffArticle Title:    Article URL:   Article author(s):   Article date:   News source:'"
      ]
     },
     "execution_count": 24,
     "metadata": {},
     "output_type": "execute_result"
    }
   ],
   "source": [
    "article.loc[63, 'text']"
   ]
  },
  {
   "cell_type": "code",
   "execution_count": 13,
   "id": "59ab791a-bdd4-469f-b655-fcb062965464",
   "metadata": {},
   "outputs": [],
   "source": [
    "def make_main_data(main_df, dataname, test=False):\n",
    "    input_data = main_df.copy() #mandatory step as dataframe is mutable\n",
    "\n",
    "    if not test: #can't remove anything on test set\n",
    "        print('Initial shape:', input_data.shape)\n",
    "        print('Rows having invalid article 63:')\n",
    "        print(input_data[input_data['article_id']==63].values)\n",
    "        \n",
    "        input_data = input_data[input_data['article_id'] != 63]\n",
    "        print('\\nCurrent shape after removing artile 63, if any:', input_data.shape)\n",
    "\n",
    "    #converting article id to corresponding article texts\n",
    "    input_data['article'] = input_data['article_id'].apply(lambda x: article.loc[x, 'summary_text'])\n",
    "        \n",
    "    # print(input_data.isna().any())\n",
    "    assert input_data.isna().any().any() == False #no NA values\n",
    "    assert input_data.isnull().any().any() == False #no null values\n",
    "    \n",
    "    input_data['demographic_essay'] = input_data['demographic'] + ' ' + input_data['essay']\n",
    "  \n",
    "    input_data.to_csv(\"./data/PREPROCESSED-\" + dataname + \".tsv\", sep='\\t')"
   ]
  },
  {
   "cell_type": "code",
   "execution_count": 27,
   "id": "b5c008ca-6367-4d9c-abe3-08d5966ebed8",
   "metadata": {
    "scrolled": true
   },
   "outputs": [],
   "source": [
    "make_main_data(main_df=train_ws23, dataname=\"WS23-train\")"
   ]
  },
  {
   "cell_type": "code",
   "execution_count": null,
   "id": "72f72cf2-4310-4140-a6e8-267adfee104a",
   "metadata": {
    "scrolled": true
   },
   "outputs": [],
   "source": [
    "make_main_data(main_df=dev_ws23, dataname=\"WS23-dev\", test=True) # will use as test set while validation, so no need to drop"
   ]
  },
  {
   "cell_type": "code",
   "execution_count": 42,
   "id": "b5d5e971-6525-4884-8d9d-4d4ffc92282e",
   "metadata": {
    "scrolled": true
   },
   "outputs": [
    {
     "name": "stdout",
     "output_type": "stream",
     "text": [
      "Rows having invalid article 63:\n",
      "[]\n"
     ]
    }
   ],
   "source": [
    "make_main_data(main_df=test_ws23, dataname=\"WS23-test\")"
   ]
  },
  {
   "cell_type": "code",
   "execution_count": 53,
   "id": "81ac3f14-04da-444a-b316-a14646504853",
   "metadata": {
    "scrolled": true
   },
   "outputs": [
    {
     "name": "stdout",
     "output_type": "stream",
     "text": [
      "Initial shape: (1860, 26)\n",
      "Rows having invalid article 63:\n",
      "[['R_pE6yE7SVdOZiObL_1' 'R_pE6yE7SVdOZiObL' 63 4.833 1.25 1 0\n",
      "  \"The first article never appeared, there was only a generic place holders and nothing to write about. I answered questions about my emotions based on how I feel right now and I'm writing this to explain that the article wasn't there. I hope that the following articles will appear and I'll be able to finish this survey as intended.\"\n",
      "  'neutral' 2 6 1 45 30000 4.5 5.5 2.5 5.5 5.5 3.571 2.143 4.143\n",
      "  4.428999999999999 325\n",
      "  \"I am a 45-year-old female of the White race. I have a four-year bachelor's degree and earn 30000 USD.\"\n",
      "  \"I am a 45-year-old female of the White race. I have a four-year bachelor's degree and earn 30000 USD. The first article never appeared, there was only a generic place holders and nothing to write about. I answered questions about my emotions based on how I feel right now and I'm writing this to explain that the article wasn't there. I hope that the following articles will appear and I'll be able to finish this survey as intended.\"]\n",
      " ['R_sYY3M27k4zjwPfz_1' 'R_sYY3M27k4zjwPfz' 63 5.0 5.0 1 1\n",
      "  'Guys, please read this. This issue needs to be seen by more of us and acknowledged as something that happens more than we realize. Is this something we can change or work on as a community? Please help me think of ways we can work on making this a nonissue in the future for the next generation. This is our kids and grandkids future we are thinking of.'\n",
      "  'surprise' 2 6 1 30 49000 5.0 4.0 2.0 5.0 1.0 3.143 4.857 5.0\n",
      "  4.428999999999999 296\n",
      "  \"I am a 30-year-old female of the White race. I have a four-year bachelor's degree and earn 49000 USD.\"\n",
      "  \"I am a 30-year-old female of the White race. I have a four-year bachelor's degree and earn 49000 USD. Guys, please read this. This issue needs to be seen by more of us and acknowledged as something that happens more than we realize. Is this something we can change or work on as a community? Please help me think of ways we can work on making this a nonissue in the future for the next generation. This is our kids and grandkids future we are thinking of.\"]\n",
      " ['R_1DAmmWVuxekOzQt_1' 'R_1DAmmWVuxekOzQt' 63 4.0 1.0 1 0\n",
      "  'That was the strangest article I\\'ve ever read - I\\'m not sure why I read it. Was it an error? Art/? It just said something like \"article title - article - article source - date.\" I\\'m not sure how to emotionally react to such a thing since it had no emotional content whatsoever, no biographical content, no factual content, no real content at all.  Seriously, I believe there is a malfunction in the survey.'\n",
      "  'surprise' 1 6 1 44 49000 5.5 5.5 1.0 4.5 2.5 4.143 3.857 3.571\n",
      "  4.2860000000000005 137\n",
      "  \"I am a 44-year-old male of the White race. I have completed a four-year bachelor's degree and earn 49000 USD.\"\n",
      "  'I am a 44-year-old male of the White race. I have completed a four-year bachelor\\'s degree and earn 49000 USD. That was the strangest article I\\'ve ever read - I\\'m not sure why I read it. Was it an error? Art/? It just said something like \"article title - article - article source - date.\" I\\'m not sure how to emotionally react to such a thing since it had no emotional content whatsoever, no biographical content, no factual content, no real content at all.  Seriously, I believe there is a malfunction in the survey.']]\n",
      "Current shape after removing artile 63, if any: (1857, 26)\n"
     ]
    }
   ],
   "source": [
    "make_main_data(main_df=train, dataname=\"WS22-train\")"
   ]
  },
  {
   "cell_type": "code",
   "execution_count": 14,
   "id": "64d69080-5ad5-4b69-80f7-f3a1117dcd17",
   "metadata": {
    "scrolled": true
   },
   "outputs": [],
   "source": [
    "make_main_data(main_df=dev, dataname=\"WS22-dev\", test=True) # will use as test set while validation, so no need to drop"
   ]
  },
  {
   "cell_type": "code",
   "execution_count": 63,
   "id": "5e7a82e3-df2f-4ff7-8304-be44dc25f988",
   "metadata": {},
   "outputs": [],
   "source": [
    "make_main_data(main_df=test, dataname=\"WS22-test\", test=True)"
   ]
  },
  {
   "cell_type": "markdown",
   "id": "ec3b99a7-240f-4b60-ad4c-1872fe7c6915",
   "metadata": {
    "jp-MarkdownHeadingCollapsed": true
   },
   "source": [
    "# Article summary"
   ]
  },
  {
   "cell_type": "code",
   "execution_count": 13,
   "id": "54a2d166-1433-420f-9012-870f3e01471e",
   "metadata": {},
   "outputs": [
    {
     "data": {
      "text/html": [
       "<div>\n",
       "<style scoped>\n",
       "    .dataframe tbody tr th:only-of-type {\n",
       "        vertical-align: middle;\n",
       "    }\n",
       "\n",
       "    .dataframe tbody tr th {\n",
       "        vertical-align: top;\n",
       "    }\n",
       "\n",
       "    .dataframe thead th {\n",
       "        text-align: right;\n",
       "    }\n",
       "</style>\n",
       "<table border=\"1\" class=\"dataframe\">\n",
       "  <thead>\n",
       "    <tr style=\"text-align: right;\">\n",
       "      <th></th>\n",
       "      <th>article_id</th>\n",
       "      <th>text</th>\n",
       "    </tr>\n",
       "  </thead>\n",
       "  <tbody>\n",
       "    <tr>\n",
       "      <th>291</th>\n",
       "      <td>292</td>\n",
       "      <td>Shooting Occurs Near California Polling Statio...</td>\n",
       "    </tr>\n",
       "    <tr>\n",
       "      <th>406</th>\n",
       "      <td>407</td>\n",
       "      <td>Yaffa Eliach, Holocaust survivor who revived a...</td>\n",
       "    </tr>\n",
       "  </tbody>\n",
       "</table>\n",
       "</div>"
      ],
      "text/plain": [
       "     article_id                                               text\n",
       "291         292  Shooting Occurs Near California Polling Statio...\n",
       "406         407  Yaffa Eliach, Holocaust survivor who revived a..."
      ]
     },
     "execution_count": 13,
     "metadata": {},
     "output_type": "execute_result"
    }
   ],
   "source": [
    "article = pd.read_csv('./data/WASSA23/articles_adobe_AMT.csv', header=0)\n",
    "article.sample(2)"
   ]
  },
  {
   "cell_type": "code",
   "execution_count": 41,
   "id": "c74b9dcd-b163-4d47-9cfe-f98d24a97dfb",
   "metadata": {
    "scrolled": true,
    "tags": []
   },
   "outputs": [
    {
     "name": "stdout",
     "output_type": "stream",
     "text": [
      "An 11-year-old Rangers fan was attacked with a bottle before a game against Celtic, leaving him with a large cut on his head. The police have described the attack as \"abhorrent\" and are appealing for help to find the person responsible. The boy was walking with his family and other Rangers fans when the bottle was thrown at them. He was taken to the hospital for treatment and has since been released. The police are urging anyone with information to come forward. The incident has shocked the communities of Glasgow, and the person responsible needs to be caught.\n",
      "\n",
      "\n",
      "Sharbat Gula, the Afghan woman known for her striking green eyes in a National Geographic cover photo, has been arrested in Pakistan for falsifying documents and staying illegally in the country. If convicted, she could face up to 14 years in jail or deportation. Last year, Gula was arrested on similar charges but was later released. Photographer Steve McCurry, who took the iconic photo, has expressed his objection to her arrest and is committed to helping her legally and financially. The UN Refugee Agency (UNHCR) stated that they can only assist Gula if she registers as a refugee, but she falls under the category of \"undocumented migrants.\" The arrest highlights the mounting pressure on Afghan refugees in Pakistan to return home, with over 370,000 Afghans being repatriated since July 1. Human Rights Watch has raised concerns about the situation, stating that millions of Afghans have sought shelter in Pakistan due to conflict and poverty in their own country.\n",
      "\n",
      "\n",
      "A tragic accident occurred at Dreamworld theme park in Australia's Gold Coast, resulting in the deaths of four adults and the miraculous escape of two young girls. The victims were crushed and drowned when their raft on the Thunder River Rapids ride flipped due to a malfunction with the conveyor belt. The victims include Kate Goodchild, Luke Dorsett, Roozi Araghi, and Cindy Low. One of the girls thrown to safety was Ms. Goodchild's daughter, who witnessed her mother's death. The theme park is closed indefinitely, and investigations are underway to determine the cause of the accident. Witnesses reported mechanical issues with the ride earlier in the day. Dreamworld staff attempted to save the trapped passengers before paramedics arrived. The tragedy has shocked the nation, and condolences have been expressed by Prime Minister Malcolm Turnbull and other officials.\n",
      "\n",
      "\n",
      "Jules Wainstein's estranged husband, Michael Wainstein, is being sued by Jonathan Sheffer, a famous conductor, for allegedly renting out an NYC apartment that Jules owns. Sheffer claims that Michael demanded over $20k for rent, security deposit, and broker fees, but later discovered that Michael was not the owner. Sheffer believes that Michael was pocketing the money for personal use. He is suing for a refund and damages. Michael's attorney denies the allegations and plans to file a lawsuit against Sheffer, claiming that he breached the lease terms.\n",
      "\n",
      "\n",
      "More survivors of the Leviathan II tragedy, in which a whale-watching boat capsized and killed six people, have filed a lawsuit against the tour operator. The lawsuit describes the terrifying moments after the boat capsized, with the ship pitching and rolling in significant waves caused by a shallow reef. The captain had stopped the boat to view sea lions when a swell rose into a larger wave, causing the vessel to heel over. One of the plaintiffs, Robert Goodfellow, was submerged beneath the sea for a considerable period of time before swimming to the surface. Another plaintiff, Marya Levin, pushed a cushion towards two other passengers who were in danger of being struck by rotating propellers. Goodfellow and Levin eventually reached a lifeboat and are now seeking damages from the tour operator for physical, mental, and emotional trauma. Other survivors have also filed lawsuits, including one detailing their attempts to escape the sinking ship and a class-action suit citing post-traumatic stress disorder. The tour operator has referred to the sinking as an \"act of god.\"\n",
      "\n",
      "\n",
      "The Forced From Home exhibit organized by Médecins Sans Frontières (MSF) aims to teach empathy for refugees by allowing participants to experience the journey of a displaced person. The exhibit has been attended by over 17,000 people, including 3,400 students. MSF hopes to communicate the reality of the refugee crisis and generate empathy in a time when anti-refugee sentiment is on the rise. The exhibit creates an empathetic response by assigning each participant a specific displaced person's identity and sharing personal stories from aid-workers who have served in MSF camps. The exhibit challenges the notion that empathy is a globalized response, as humans are wired to empathize with those in their immediate surroundings. However, empathy can be strengthened with practice and training programs have shown promise in changing people's responses to others' suffering. While empathy alone is not a solution to the refugee crisis, it is a necessary component in finding a genuine solution.\n",
      "\n",
      "\n",
      "Last weekend, Aleppo was hit by 200 airstrikes, resulting in the death of over 300 people. Among the victims were Brahim Sawas and his 10-year-old son, Mahmoud, who were covered in blood and dust. Another image showed Sawas' 8-month-old baby buried under rubble. Sawas' wife and daughter survived the airstrike. Activists took to Twitter to share pictures and videos, describing the bombings as a \"Holocaust.\"\n",
      "\n",
      "\n",
      "Management and ownership at a Saskatoon dog kennel were warned about multiple serious problems with their animal care methods before the death of 14 large breed dogs. The kennel was warned about ventilation problems, among other issues, by a certified master trainer and kennel care expert. The SPCA also received a copy of the complaints but is unable to pursue them due to lack of power. The dogs died of heat exhaustion after a malfunction in the building's heating system caused the room they were in to become excessively hot. The kennel manager expressed remorse and stated that the upper-floor room where the deaths occurred has been closed off. The kennel will remain open. The kennel had previously received positive reviews from customers, but the trainer who raised concerns said that customers don't see the full picture. The trainer quit after management refused his suggestions and took his list of concerns to the SPCA. The SPCA is part of a coalition urging the provincial Ministry of Agriculture to reform legislation to better protect animals.\n",
      "\n",
      "\n",
      "A powerful 7.8 magnitude earthquake struck central New Zealand, causing widespread devastation. At least two people were killed and many buildings and roads were damaged. The Prime Minister described the scene as \"utter devastation\" and estimated the damage bill to be in the billions of dollars. Powerlines and telecommunications were down, making it difficult to reach affected areas. A tsunami warning was issued but later downgraded. The aftershocks, including a 6.2 quake, added to the anxiety in an area still recovering from a deadly 2011 quake. The town of Kaikoura, a popular tourist spot, was heavily affected. Emergency response teams and the Navy were deployed to provide assistance. The quake also caused a slip dam breach and disrupted the dairy industry. Prime Minister Key postponed his trip to Argentina to address the disaster.\n",
      "\n",
      "\n",
      "One police officer was killed and another was wounded in a shooting in western Pennsylvania. The officers were responding to a domestic dispute when they were ambushed. A man and a woman were later found dead in a nearby home. The officer who was killed was identified as Scott Leslie Bashioum. The other officer was flown to a nearby trauma center, but there is no update on their condition. Local schools were canceled while SWAT officers searched for the suspect. The governor of Pennsylvania expressed his condolences. This incident adds to the increasing number of police officers killed by firearms in 2016.\n",
      "\n",
      "\n",
      "India and Pakistan have reported that 13 civilians have been killed in cross-border shelling in the disputed region of Kashmir. Seven civilians were killed on the Indian side, while six were killed on the Pakistani side. The casualties occurred in different areas, with some victims being inside their homes when the shells landed. Both countries have not responded to the allegations of ceasefire violations. This incident comes at a time of heightened tension between the two nuclear-armed nations, following an attack on an Indian army base in September. India has relocated thousands of people from the border area, and there have been other repercussions, such as a Bollywood director refusing to hire Pakistani actors.\n",
      "\n",
      "\n",
      "Two people were injured in a paratransit bus crash in Newark, Delaware. The crash occurred on Red Mill Road before 8:30 a.m. on Monday. A black sedan with front-end damage was found near the parked DART bus. The injured individuals were taken to Christiana Hospital, and the extent of their injuries is unknown. The incident is currently being investigated by the police.\n",
      "\n",
      "\n",
      "At least 26 Afghan civilians were killed and many others injured in airstrikes in Kunduz province, Afghanistan, while NATO and Afghan forces were fighting Taliban fighters. Two American service members also died in ground clashes. Conflicting reports on the number of casualties and no official account of the airstrikes have been provided. Some local officials claim that up to 100 civilians were killed or wounded. The incident is reminiscent of the tragic events in Kunduz last year when a U.S. airstrike mistakenly targeted a hospital, killing 42 patients and staff members. NATO officials have not confirmed the reported deaths of the civilians. Angry relatives of the victims attempted to protest, but were stopped by security forces. U.S. military officials confirmed the deaths of the two American service members and stated their commitment to helping Afghan partners defend their nation. The NATO mission in Afghanistan issued a statement referring to airstrikes by \"friendly forces\" but did not confirm any civilian casualties. The Taliban claimed that three of their fighters were targeted and killed, along with a large number of civilians.\n",
      "\n",
      "\n",
      "Two divers, Patrick Peacock and Chris Rittenmeyer, were found dead in the Eagle's Nest cave dive area in Western Florida. They had gone diving with a third man who reported them missing. The bodies were found the next day in a dangerous area of the cave system. The cave is known for its allure and is a popular destination for experienced divers. However, it is also considered dangerous, and signs warn divers of the risks. The area had been off-limits for divers from 1999 to 2003. Only highly trained divers should attempt to dive there, as even skilled divers can be affected at dangerous depths. The cause of death has not been disclosed, and autopsy results are pending. Some people have called for the area to be closed again, while others argue that people should be allowed to dive there if they have the necessary training and experience. The Florida Fish and Wildlife Conservation Commission did not comment on whether the site might be closed.\n",
      "\n",
      "\n",
      "Two men were shot in the Swampoodle section of North Philadelphia. A 58-year-old man was shot twice in the stomach and another man was shot once in the back. Both men were taken to Temple University Hospital in critical condition. No weapon was recovered and no arrests have been made.\n",
      "\n",
      "\n",
      "The text highlights 20 iconic moments in women's sport. It mentions athletes like Ronda Rousey, Maria Sharapova, and the Williams sisters who have made significant contributions to their respective sports. It also discusses pioneers like Billie Jean King and Katherine Switzer who fought for gender equality in sports. The text also mentions athletes like Danica Patrick, Flo Jo, and Mo'ne Davis who broke barriers and achieved remarkable feats in their sports. Overall, the text showcases the achievements and impact of female athletes in various sports.\n",
      "\n",
      "\n",
      "Inmates at Lewisburg federal penitentiary in Pennsylvania are forced to live with violent cellmates or be placed in restraints. Inmates have no say in who they share a cell with, even if the cellmate has a violent history or severe mental illness. If they refuse a cellmate, they are placed in restraints for hours or days. Restraints are also used as punishment for inmates who break rules or get into fights. The conditions in the Special Management Unit (SMU) at Lewisburg are harsh, with inmates spending nearly 24 hours a day in small cells with little room to move. In 2014 and 2015, there were 228 in-cell fights and assaults at Lewisburg, resulting in injuries and even deaths. The use of restraints at Lewisburg has been criticized by inmates, lawyers, and auditors, but the Bureau of Prisons denies any mistreatment. Changes have been made to the SMU, but the use of restraints remains unchanged. Inmates are left with few options: accept a violent cellmate or be restrained.\n",
      "\n",
      "\n",
      "Three U.S. military trainers were killed in Jordan when their vehicle failed to stop at the gate of a military base and security forces opened fire. The incident occurred at the King Faisal Air Base, and the cause is currently under investigation. Jordan is a close ally of the United States and is part of the U.S.-led coalition fighting the Islamic State in Syria. The U.S. Embassy in Amman stated that they are in contact with Jordanian authorities and do not believe the incident was terrorism-related. The King Faisal base is used for joint exercises and training Western-backed Syrian rebels. There are over 1,000 U.S. military personnel based in Jordan, primarily serving as advisers. Jordan's military has been on high alert since a deadly attack in June 2016.\n",
      "\n",
      "\n",
      "This year, a record number of people have drowned in the Mediterranean while attempting to escape war and seek a better life. Over 3,800 people have died, averaging about 90 deaths per week. The largest migration of refugees since World War II is currently taking place, with over 65 million people displaced from their homes. Despite fewer people crossing this year compared to 2015, the death toll has increased. The main routes across the Mediterranean are from Turkey to Greece, Libya to Italy, and West Africa to Spain. Syria produces the most refugees, with nearly five million fleeing the country due to civil war. The war in Syria has also resulted in an estimated 430,000 deaths. While some refugees are resettled in countries like the United States and Canada, the majority seek asylum in Europe or remain in the Middle East. With no end to the war in sight, the refugee crisis and the loss of lives will continue.\n",
      "\n",
      "\n",
      "375 top scientists, including 30 Nobel Prize winners, have published an open letter warning of the immediate and serious threat of climate change. They state that humans are causing climate change, with evidence of rising seas, warming oceans and atmosphere, melting ice, changing rainfall patterns, and increasing acidity in the ocean. The scientists criticize politicians and real estate developers without scientific experience who deny climate change. They express sadness that the Republican Party, historically supportive of environmental initiatives, is now rejecting climate science. The scientists emphasize the economic and social costs of inaction and call for rational decision-making to manage climate change risks. They also criticize the Republican nominee, Donald Trump, for wanting to scrap environmental agreements. The scientists highlight the success of renewable energy sources in reducing emissions and argue that action to reduce pollution does not harm the economy. They warn that voting for anti-science politicians will contribute to the climate change problem and urge voters to consider the conversation they will have with their children about their choices.\n",
      "\n",
      "\n",
      "At least 52 people were killed and over 100 injured in a suicide bomb attack at a Sufi shrine in Pakistan. ISIS claimed responsibility for the attack, which occurred during a religious ceremony in the remote mountains of Balochistan. The region's remoteness made it challenging to provide emergency services, but rescue operations are underway. Pakistan's Prime Minister has condemned the blast and ordered authorities to bring the perpetrators to justice. This is not the first time ISIS has targeted Pakistan, as they previously attacked a police academy in Quetta, resulting in numerous casualties.\n",
      "\n",
      "\n",
      "A 6-week-old baby girl was found in a shoe box on a porch in Brentwood, Long Island. A resident heard the baby crying and discovered her wrapped in a blanket with a bottle of milk. The baby is in good health and is being treated at Southside Hospital. The police are investigating the incident and are asking for any information related to the case.\n",
      "\n",
      "\n",
      "A fuel tanker explosion in northern Mozambique killed 73 people and injured 110 others. The incident occurred as residents gathered around to buy fuel from the driver. Charred bodies were found at the blast site, and more bodies may be in the surrounding woods. Some badly burned individuals attempted to escape into a nearby river. The truck driver from Malawi had turned off the main road to sell fuel to locals when the fire broke out. Medical teams and searchers were dispatched to the scene, but their efforts were hindered by darkness. The cause of the explosion is still unknown, with theories suggesting a fire near the tanker or a lightning strike. A government task force is set to visit the site.\n",
      "\n",
      "\n",
      "Tundra, a 29-year-old female polar bear, passed away at the Detroit Zoo after a sudden illness. The zoo decided to euthanize her due to a rapid decline in her health. The exact cause of her illness is unknown, but a necropsy will be performed. Tundra had recently been relocated from the Indianapolis Zoo to the Detroit Zoo, which has a large polar bear habitat called the Arctic Ring of Life. Visitors enjoyed seeing her in the habitat, which also houses two other polar bears, foxes, and seals. Tundra lived longer than the average lifespan for polar bears in captivity, thanks to better healthcare and nutrition.\n",
      "\n",
      "\n",
      "A black church in Greenville, Mississippi, was set on fire and vandalized with the words \"Vote Trump\" spray painted on the side. The fire is being investigated as a hate crime, and federal authorities are assisting with the investigation. The mayor of Greenville sees this as an attack on the black church and community. The city has experienced previous acts of racism, including the word \"nigger\" being painted on a boat. Arson is difficult to prove, but in this case, the political graffiti suggests a motive. Black churches have historically been targeted in acts of intimidation and hatred. With the upcoming election, there are concerns about violence and voter intimidation. The burning of the church is a reflection of the tense political climate in the United States.\n",
      "\n",
      "\n",
      "Representative Darrell Issa, a Republican from California, is facing a tough re-election fight after years of comfortable victories. His decision to embrace Donald Trump has worsened his chances of winning. His opponent, Doug Applegate, a retired Marine colonel, has received significant financial support from the Democratic Congressional Campaign Committee. Issa has tried to fight back by highlighting accusations made against Applegate by his former wife. In another California district, Representative Jeff Denham is also facing a tough re-election fight. Denham, like Issa, has expressed support for Trump. Both districts have a large and growing Latino population, which is expected to vote against Trump. The Democratic Congressional Campaign Committee and the House Majority PAC have invested over $4 million to defeat Issa and Denham. The Congressional Leadership Fund, a Republican super PAC, has given over $1.6 million to Denham. Denham's refusal to disavow Trump has put him at odds with the editorial board of The Modesto Bee, the largest newspaper in his district, which has endorsed his opponent, Michael Eggman.\n",
      "\n",
      "\n",
      "The Chicago Police Department is facing a digital archive that documents two decades of torture by its officers. The archive, called the Chicago Torture Archive, contains over 10,000 documents related to cases of torture between 1972 and 1991. These cases involved over 100 black men who were tortured by police officers to force confessions or intimidate witnesses. The archive, which will be housed at the University of Chicago, includes interrogations, trial files, journalism works, and records of activism. The launch of the archive coincides with recent efforts in Chicago to address police misconduct, including the passing of the Reparations for Burge Torture Victims ordinance. The archive's director hopes that the lessons learned from these cases can inform and inspire young activists. While the archive provides a comprehensive resource for studying the cases, there are concerns about privacy and whether victims and their families were made aware of the archive's existence. Despite these concerns, the archive is seen as an essential tool for academics, researchers, and historians to understand this dark chapter in Chicago's history. It also presents an opportunity for the police department to mend relationships with residents and increase transparency and accountability.\n",
      "\n",
      "\n",
      "A study suggests that legalizing the ivory trade would lead to the extinction of elephants, as the demand for ivory far exceeds what can be sustainably harvested. The researchers argue that even in the best-protected elephant populations, it is not possible to harvest enough ivory without driving the elephants to extinction. The demand for ivory in Asia results in the killing of around 27,000 elephants each year. The study emphasizes the need to focus on reducing demand for ivory in order to save elephants from extinction. Additionally, the study highlights the importance of accurately determining the amount of ivory within each country's borders to set sustainable quotas. The Kenya government recently destroyed over 100 tons of elephant ivory in an effort to combat the illegal ivory trade.\n",
      "\n",
      "\n",
      "The Islamic State (ISIS) has used a rocket containing mustard gas against U.S. troops in Iraq, according to a top U.S. military official. This is the first time a chemical weapon has been used against U.S. forces in Iraq, although ISIS has previously used chemical weapons. The U.S. military recently attacked a former pharmaceutical plant near Mosul that ISIS was using to produce mustard agent and other chemicals. No soldiers were injured in the attack, and there have been no symptoms of exposure to mustard gas. Both ISIS and President Bashar al-Assad in Syria have been accused of using chemical weapons. The fighting around Mosul is expected to intensify as Iraqi forces, supported by U.S. soldiers, advance into the city.\n",
      "\n",
      "\n",
      "A new study reveals that 28.6% of cancer deaths in the United States are caused by smoking. The research considered 12 smoking-related cancers and found that smoking is involved in 22.9% of cancer deaths in women and 33.7% in men. In 2014, an estimated 167,133 people died from smoking-related cancers. However, this number does not include deaths from other smoking-related diseases. The study also highlights geographic variations, with higher percentages of smoking-related cancer deaths in certain states. Tobacco control efforts have been credited with preventing eight million premature deaths, but many parts of the country still have weak tobacco control policies. The analysis only focused on cigarettes, excluding other smoking methods and secondhand smoke. The data relies on self-reports, which may underestimate smoking prevalence. The tobacco industry still holds influence, particularly in Southern states where most tobacco is grown.\n",
      "\n",
      "\n",
      "A palm oil company named PT Mohairson Pawan Khatulistiwa plans to clear more than half of the Sungai Putri forest in Indonesia, which is home to a critically endangered orangutan population. Despite the Indonesian government's commitment to protecting peat, forests, and orangutans, the company has been granted a license to destroy the forest. The forest is at risk of being converted into an industrial tree plantation, and the company has already started work on building a drainage canal. The destruction of the forest and the orangutans' habitat is incompatible with Indonesia's national action plan for orangutans. The development violates Indonesia's legal processes and international commitments. Improved management is needed in Sungai Putri to address illegal logging and fires. There are conflicting opinions on the deforestation, with some supporting it for potential employment opportunities and compensation, while others argue that it is unsustainable. Alternative solutions that involve collaboration between various stakeholders are available to fulfill development objectives and alleviate poverty in Indonesia.\n",
      "\n",
      "\n",
      "Conversion therapy is a set of practices aimed at changing a person's sexuality or gender identity to fit heterosexual or cisgender norms. It is often religiously motivated and can include methods such as talk therapy, electroshock therapy, and aversion therapy. A survivor of conversion therapy, TC, shared his experience of being subjected to these practices, including harassment and physical abuse. Conversion therapy has been linked to serious harm, including increased rates of suicide and mental health issues among LGBTQ individuals. While mainstream psychiatric organizations do not support conversion therapy, it is still promoted in some circles. Only five states and the District of Columbia have laws protecting LGBTQ youth from being forced into conversion therapy. TC, who escaped conversion therapy, emphasizes the need to recognize the harm caused by these practices and to treat LGBTQ individuals with dignity and respect.\n",
      "\n",
      "\n",
      "Wells Fargo Bank has admitted to firing 5,300 low-paid workers over five years for opening fake accounts to meet sales targets. The bank has faced outrage and has stalled stock awards to two top executives. Wells Fargo CEO/Chairman John Stumpf admitted to finding nearly 80,000 phony accounts in Pennsylvania. The bank claims that it did not impose fees for most of these accounts. However, former employees have reported unethical practices, such as raiding customers' private data and forging credit card application signatures. Other banks, both community banks and big multinationals, have also engaged in similar practices. Wells Fargo has stated that it has scrapped its incentive system and will come up with a new plan next year.\n",
      "\n",
      "\n",
      "Afghanistan is facing a looming humanitarian crisis as the number of displaced people continues to rise. Over a million people were already uprooted last year, and this year, at least another million Afghans are on the move within the country and across its borders. The violence and conflict in Afghanistan have forced many to flee, while others are escaping poverty and drought. The United Nations and other aid agencies are struggling to provide emergency assistance, and if they fail, it will become a full-blown crisis. The country has been plagued by massive displacement since the Soviet invasion in 1979, and the current violence is some of the worst since the Taliban was toppled. The clashes between Afghan and Taliban forces have pushed even more people from their homes. The government is unable to reach all affected areas, and the Taliban now controls more territory than at any time since 2001. The return of refugees to areas controlled by insurgents is a concern, as it could exacerbate insecurity and joblessness. The displaced are often rejected and forced into squalid camps, with limited access to clean water and food. The situation is dire, and the government is incapable of creating jobs or improving the economy in remote areas. Criminal and terrorist networks may exploit the jobless and displaced youths, further deepening the crisis.\n",
      "\n",
      "\n",
      "A month after Hurricane Matthew hit southwestern Haiti, the region is facing widespread hunger and destruction. At least 800,000 people urgently need food, but there is not enough aid reaching the affected areas. Truckloads of food and medical supplies have been looted, and desperate crowds have clashed with police. The storm destroyed homes, crops, and livestock, leaving many without shelter or a means to survive. Cholera outbreaks are also occurring due to contaminated water supplies. The United Nations has only raised one-third of the emergency funding needed to help the affected population. The Haitian government, along with international relief organizations, is coordinating efforts to provide assistance, but political obstacles and the upcoming elections pose challenges. The situation is dire, with people sleeping under trees and lacking basic necessities. The destruction is so severe that some remote mountain villages may not receive aid until the end of November.\n",
      "\n",
      "\n",
      "Canadian actor Richard Hong was found dead in a Los Angeles home rented by Canadian TV and radio personality George Stroumboulopoulos, according to the Los Angeles Police.\n",
      "\n",
      "\n",
      "A suicide car bomber attacked Germany's consulate in northern Afghanistan, killing six people and injuring over 120. The blast destroyed the consulate's gate and wall, as well as the nearby Mazar Hotel and surrounding buildings. The attack was carried out by heavily armed terrorists and was claimed by the Taliban. Germany has 983 soldiers stationed in Afghanistan as part of the NATO mission. The Taliban stated that the attack was in retaliation for recent airstrikes in Kunduz.\n",
      "\n",
      "\n",
      "Four Americans were killed in a suicide bomb attack at Bagram Airfield in Afghanistan. The attack also wounded 16 US service members and one Polish soldier. The Taliban claimed responsibility for the attack, stating that it had been planned for four months. The US Embassy in Kabul will be closed as a precautionary measure. NATO Secretary General Jens Stoltenberg expressed support for those affected by the attack and reiterated NATO's commitment to fighting terrorism. Afghan President Mohammad Ashraf Ghani condemned the attack and vowed to bring the perpetrators to justice. Urgent investigations are being carried out to determine how the attacker gained access to the base. This attack follows a series of recent attacks in Afghanistan, including a suicide car bomb targeting the German Consulate and a joint Afghan-US battle against the Taliban that resulted in civilian and military casualties.\n",
      "\n",
      "\n",
      "A young male wolf, part of the Huckleberry pack in Washington state, was killed by a government sniper after traveling over 700 miles in search of a mate. The wolf had been saved from extermination as a pup in 2014. He was collared in February and survived the wolf-killing fields in Idaho before being shot near Wildlife Services in Montana. The Center for Biological Diversity, along with lawyers, scientists, and activists, are fighting for the protection of wolves in states where they often face cruel deaths.\n",
      "\n",
      "\n",
      "Aging bonobos have been found to develop farsightedness, similar to humans. Instead of using glasses, they adjust their position when grooming to compensate for their deteriorating eyesight. Researchers observed that older bonobos sat back and extended their arms farther than younger bonobos, and this behavior increased over time. This shift in position is believed to be an adaptation to their declining vision. The study compared grooming distances of 14 wild bonobos between the ages of 11 and 45. The findings could provide insights into human aging and the impact of evolutionary heritage on age-related deterioration.\n",
      "\n",
      "\n",
      "Ahmad Khan Rahami, the man responsible for the bombings in Manhattan and on the Jersey Shore, had been planning the attacks for months and was inspired by international terrorists, according to a criminal complaint filed in federal court. The complaint details the extent of the damage caused by the bombs, including shattered windows and victims with ball bearings and metal fragments in their bodies. It was also revealed that Rahami's father had previously expressed concerns to the authorities about his son's potential involvement in terrorism, but no further action was taken. Rahami's notebook, recovered after he was shot and wounded by the police, contained writings expressing his extremist Islamic ideology and admiration for terrorist figures. The complaint also mentions that Rahami had been acquiring materials for his weapons through eBay. The investigation is ongoing to determine if Rahami had any assistance in building the bombs.\n",
      "\n",
      "\n",
      "Aiden Webb, a 22-year-old rock climber from Norfolk, died while attempting to scale Vietnam's tallest mountain, Mount Fansipan. His body was found six days after he set off alone for the climb. His girlfriend, Bluebell Baughan, had pleaded with him to get help after he got lost on the mountain. Webb slipped, injured himself, and got lost off the main trail due to a landslide. He refused Baughan's pleas to call for help and had to spend the night dressed only in shorts. In his last text, he asked Baughan to raise the alarm, but the message failed to get through. His body was eventually found in a stream, and local police concluded that he had drowned while unconscious. The cause of his death could not be ascertained due to embalming. Webb's parents described him as a joy to be around and expressed their close bond as a family.\n",
      "\n",
      "\n",
      "Aimee Copeland, who lost her hands, a leg, and a foot in a fight with flesh-eating bacteria, is now focused on her recovery and future goals. She has regained her strength through exercise and is determined to walk again with the help of prostheses. Copeland plans to start a nonprofit center to counsel people who have faced traumatic injuries. She has also found love and is in a happy relationship. Copeland remains positive and is grateful for the impact her experience has had on her life. She hopes to undergo a procedure called osseointegration to improve her mobility and regain independence.\n",
      "\n",
      "\n",
      "An airline worker was shot and killed at Oklahoma City's Will Rogers World Airport in a premeditated attack. The suspect, who appeared to die from a self-inflicted gunshot wound, knew the victim's schedule and routine. The airport was closed and flights were canceled or diverted while police investigated. The airport has high security, but it is unclear if surveillance cameras captured the shooting. The victim, Michael Winchester, was a ramp supervisor for Southwest Airlines. He was described as a former student athlete at the University of Oklahoma, and his son currently plays for the Kansas City Chiefs.\n",
      "\n",
      "\n",
      "Airstrikes by a U.S.-backed Saudi-led coalition in the Yemeni city of Hodeidah killed at least 43 people and injured many more, according to Yemeni officials and local news reports. The strikes targeted a security complex where prisoners were being held. The city is controlled by Houthi rebels, who also control the capital and much of northern Yemen. The Saudi-led coalition claimed that the complex was being used as a command center by the rebels. The airstrikes occurred on the same day that Yemen's internationally recognized president rejected a new U.N. peace proposal. The conflict in Yemen has resulted in the deaths of over 10,000 people and has caused a humanitarian crisis in the country.\n",
      "\n",
      "\n",
      "A man in Alabama was sentenced to 40 years in prison for murdering his daughter's sexual abuser, 13 years after the abuser's release from prison. The victim, who suffered from post-traumatic stress disorder, expressed her anger and frustration at the abuser's short sentence. The father, driven by rage and a desire for vengeance, shot and killed the abuser. The father pleaded guilty to first-degree murder and also pleaded guilty to attempted murder of another man. The father's actions sparked a debate online, with some supporting him and others condemning his actions. The daughter praised her father for protecting her and sparing her from having to relive the abuse in court. However, not everyone believed the father was justified, and some criticized his actions as endangering innocent lives. The daughter, despite her father's intentions, still feels guilt and is struggling emotionally.\n",
      "\n",
      "\n",
      "Residents in war-ravaged eastern Aleppo received a text message warning them to evacuate within 24 hours before a planned assault. The message, likely sent by the Syrian government, also gave rebels an ultimatum to surrender or be killed. While there were no reports of bombardment by Monday afternoon, witnesses spotted fighter jets in the city. Russian warplanes have been backing the regime with airstrikes since September, causing destruction in Aleppo. The UN warned that the city is on the brink of starvation and lacks essential supplies. Turkey has been carrying out airstrikes in northern Syria to support the Free Syrian Army and plans to move on to Manbij after liberating al-Bab from ISIS. This move has stirred sectarian tensions and complicated efforts to free Syrian cities from ISIS control. Turkey considers some Kurdish militia groups as terrorists, while the US supports and arms them. The conflict between the US and Russia over which groups to target in Syria further complicates the situation.\n",
      "\n",
      "\n",
      "The war in Aleppo, Syria has had a devastating impact on the city's older residents. Many of them are facing difficult circumstances, including food and medicine shortages, as well as neglect from their families. The siege imposed by pro-government forces has made it nearly impossible to find medicine to treat chronic diseases commonly experienced by older people. Overstretched medical facilities are unable to provide proper care, leading to more deaths. Some families have even abandoned their older family members due to the extreme conditions. The situation has left many older residents feeling weak, frightened, and helpless. Despite the dangers, some refuse to leave their homes, while others are trapped and unable to leave due to the siege. The older residents of Aleppo are struggling to balance their own needs with the demands of their families, often sacrificing their own well-being. The war has taken away their dignity and left them feeling isolated and afraid.\n",
      "\n",
      "\n",
      "A new study from the University of Washington, funded by NASA and other agencies, reveals that all 19 polar bear populations across the Arctic are facing a shorter sea ice season. The study, which is the first to quantify the sea ice changes in each polar bear subpopulation, shows a trend towards earlier sea ice melt in the spring and later ice growth in the fall. These changes negatively impact the feeding and breeding capabilities of the bears, as they rely on the sea ice for essential activities such as hunting and traveling. The study also found that the critical timing of the sea ice break-up and freeze-up is changing in all areas, which is harmful for polar bears. The researchers recommend that the timing of spring ice retreat and fall ice advance be incorporated as measures of climate change in future reports.\n",
      "\n",
      "\n",
      "The text discusses the issue of gun violence in America, focusing on two specific incidents where children were killed by gunfire. It highlights the prevalence of gun deaths in the country, particularly among black children, and the lack of attention given to these deaths compared to mass shootings. The text also explores the stories of the children who were killed and the circumstances surrounding their deaths. It concludes by discussing the need for gun control in America and the impact of the Second Amendment on the issue.\n",
      "\n",
      "\n",
      "American Apparel has filed for Chapter 11 bankruptcy protection for the second time after its latest turnaround plan failed. Canadian clothing manufacturer Gildan Activewear has agreed to acquire intellectual property assets and inventory from American Apparel for $66 million. The company's stores will remain open while it pursues a sale of its operations, but liquidation is a serious risk. American Apparel's chief restructuring officer stated that the company's turnaround strategy completely failed, with a 33% decline in year-over-year sales. The company has faced financial troubles for years, including the firing of its CEO in 2014 and strategic missteps. American Apparel currently has 110 stores and listed about $215 million in debts.\n",
      "\n",
      "\n",
      "Adam Crapser, a South Korean man who was adopted by an American couple when he was 3 years old, is being deported back to South Korea. Crapser has spent 37 of his 41 years in the United States and has a family there. However, he is being held in an immigration detention center and will be deported as soon as the necessary arrangements are made. Crapser's life in the United States has been difficult, including being abandoned by his adoptive parents and experiencing abuse in subsequent foster homes. He has also had a criminal record, which makes him eligible for deportation. The deportation is a result of his adoptive parents and the adoption agency failing to register him for U.S. citizenship. Many intercountry adoptees face this issue, and Congress is currently considering a bill that would grant citizenship to all children adopted by U.S. citizens. Crapser hopes that the bill will pass, but it will be too late for him. The Adoptee Rights Campaign and others find his deportation appalling and are urging the community to call members of Congress to support a legislative fix.\n",
      "\n",
      "\n",
      "A study published in Plos One reveals that Americans waste a significant amount of food, with about 133 billion pounds of edible food going uneaten in 2010. Two-thirds of this waste is attributed to consumers. The paper highlights the negative environmental impact of food waste, as 95% of it ends up in landfills. Ohio State University professor Brian Roe suggests that increasing awareness of the issue can lead to purposeful action to reduce food waste. A national survey conducted last year found that 53% of Americans are aware of the problem, a 10% increase from a previous study. The survey also revealed that many people believe throwing away food after the package date reduces the risk of food-related illnesses and that some food waste is necessary for freshness. Additionally, 77% of respondents feel guilty about wasting food, while 58% understand the environmental consequences. However, 51% believe it is difficult to reduce home food waste, and 42% claim to lack the time to address the issue.\n",
      "\n",
      "\n",
      "The large Somali community in Minneapolis went through a rigorous screening process to enter the US, but younger generations are struggling to earn a living. Donald Trump's anti-immigrant stance is based on a false notion that the country's safety is at risk from Muslim extremists due to lax vetting policies. In reality, refugees face a lengthy screening process by the United Nations before coming to the US. However, once in the country, they receive limited support in terms of job-search help and cash assistance, making it difficult for them to integrate into the American economy. This lack of support contributes to refugee families' difficulty in escaping poverty and younger generations' sense of isolation.\n",
      "\n",
      "\n",
      "The US is facing an \"innovation crisis\" as other countries outperform it in measures of innovation. Economists attribute this decline to burdensome regulations and a weak job market. Some argue that the US's focus on individual self-reliance and smaller social safety net may discourage risk-taking. Studies show that demand-side factors, such as job insecurity and middling wage growth, are affecting entrepreneurship. Canada's maternity leave reform and France's unemployment insurance reform offer potential solutions to boost entrepreneurship. Policies that promote a tight labor market and full employment are crucial for the future strength of the US economy.\n",
      "\n",
      "\n",
      "Millions of trees across the United States are dying due to a combination of factors including disease, insects, drought, and wildfires, all exacerbated by climate change. One example is the rapid ohi'a death disease in Hawaii, which has infected nearly 50,000 acres of native forest. The cause of this disease is still unknown, and scientists are struggling to find a treatment. In California, an invasive pathogen called Sudden Oak Death is killing millions of trees, including redwoods. Bark beetles and mountain pine beetles are also wreaking havoc on forests, expanding their range due to climate change. The loss of trees has far-reaching consequences, affecting clean water, carbon storage, and entire ecosystems. Scientists are working on genetic research to understand why some trees are able to survive these threats, but they warn that in a few decades, American forests may be unrecognizable.\n",
      "\n",
      "\n",
      "An animal-welfare organization called Four Paws recently rescued the remaining animals from a zoo near the Gaza Strip city of Khan Younis. The zoo, known as the \"world's worst zoo,\" had a history of neglect and animal deaths, including taxidermy of dead animals. The rescue mission was complicated due to the ongoing conflict in the region, but the team successfully evacuated the animals and transferred them to sanctuaries. The rescue has been hailed as a milestone in animal rights, but concerns remain about the wider issues of wildlife trafficking and the commercialization of wild animals in Gaza. The rescued animals will now receive care and rehabilitation in their new homes. There are hopes to create new legislation in Gaza to address these issues and prevent animal smuggling. The organization is also concerned about other zoos in conflict zones that require immediate attention.\n",
      "\n",
      "\n",
      "The economic crisis in Venezuela has led to a shortage of food, affecting both people and animals. Around 50 animals at Caricuao Zoo have starved in the last six months due to the rising cost of food caused by the economic downturn. The country's inability to import food and other necessities, along with skyrocketing inflation, has led to widespread hunger. Zoo staff have resorted to feeding carnivorous animals fruits and vegetables, and even slaughtered horses. The malnourishment of animals can have long-lasting health effects, including psychological issues. Other zoos in Venezuela are also struggling to feed their animals and are seeking donations. The situation in Venezuela is not unique, as animals in other countries, such as Gaza and Yemen, are also suffering due to poor social climates and conflicts. Animal rights organizations are working to address these issues and provide assistance to the affected animals.\n",
      "\n",
      "\n",
      "Wells Fargo has agreed to pay over $4 million in a settlement after illegally repossessing 413 cars owned by American servicemembers. The bank violated the Servicemembers Civil Relief Act by repossessing cars without necessary court orders. The settlement also restores credit to the affected servicemembers. In addition, Wells Fargo was fined $20 million by the Office of the Comptroller of the Currency for denying military members certain banking protections. The bank is already facing scrutiny for its fraudulent practices, and CEO John Stumpf faced criticism and calls for his resignation during a congressional hearing.\n",
      "\n",
      "\n",
      "Arctic sea ice levels have reached their second lowest level ever recorded, according to scientists. The drastic melt in 2016, despite stormy and cool weather conditions, has surprised experts. The ice levels fell to their lowest point this year on September 10, covering about 1.6 million square miles, almost the same as in 2007. The reduction in sea ice has significant implications for the planet's temperature, atmospheric and oceanic circulation, and the Arctic ecosystem. Experts warn that if sea ice continues to decline, there may be no more sea ice within three generations. The warming oceans will result in even less sea ice each subsequent winter. The annual refreezing process has already begun, but experts predict further dramatic losses in the coming years.\n",
      "\n",
      "\n",
      "The debate in South Africa revolves around whether bike lanes are racist and classist. The lack of bike lanes in Johannesburg has led to dangerous conditions for cyclists, with many fatalities. The new mayor, Herman Mashaba, halted the construction of new bike lanes due to the cost and prioritization of basic services for the poor. Opponents argue that bike lanes symbolize a city that is not designed for everyone, while proponents see them as a way to address historical inequalities and create a more livable city. However, the implementation of bike lanes has been problematic, with misuse by taxis and cars parking in them. The issue became a political target, with bike lanes being criticized as a symbol of decadence and out-of-touch thinking. Despite the controversy, some cyclists, like Dan Khumalo, appreciate the presence of bike lanes as it makes their commutes safer.\n",
      "\n",
      "\n",
      "Arnold Palmer, a legendary golfer known as \"The King,\" has passed away at the age of 87. He was a highly successful golfer, winning seven major championships and earning a massive fan base called \"Arnie's Army.\" Palmer was also a successful businessman, philanthropist, and pilot. His charismatic personality made him a sought-after pitchman for various products. He was known for his humble upbringing and was considered an everyday hero by many.\n",
      "\n",
      "\n",
      "The input text consists of an article title, article URL, article author(s), article date, and news source.\n",
      "\n",
      "\n",
      "The text highlights the ongoing disaster in Haiti caused by Hurricane Matthew, which has received little media coverage compared to previous disasters. The hurricane has caused significant material damage, including the destruction of houses, crops, and trees, as well as a spike in cholera cases. The lack of urgency and support from the central government and international agencies has frustrated local officials and community organizations. The slow response has led to desperation among the affected population, with some resorting to looting. The centralization of resources in Port-au-Prince and limited aid funds have contributed to the dire situation. The priority now is to support farmers in the affected regions to recover and rebuild their livelihoods. The Lambi Fund of Haiti is working with partner organizations to clean canals, clear fields, and provide local seeds for planting. The text emphasizes the need for awareness and support from the international community to help Haiti achieve food sovereignty and recover from the disaster.\n",
      "\n",
      "\n",
      "The Confederate battle flag, a divisive symbol, has resurfaced in the context of President-elect Donald Trump's campaign and his supporters. The flag has been displayed at Trump rallies and used as a response to anti-Trump protests. The flag's resurgence raises questions about race relations under Trump and the influence of his campaign on white resentment and white nationalism. Historians note that the flag has had shifting meanings over time, representing white resistance to integration during the Civil Rights era and now symbolizing concerns about the displacement of white culture. While some Trump supporters argue that the flag represents heritage, others acknowledge that it has been hijacked by hate groups. Reports of discrimination and hate crimes targeting minorities have increased since the election, with many incidents invoking Trump and his campaign slogans. The flag's new context is perplexing to some Southerners who view it as a symbol of Southern sacrifice rather than a political statement.\n",
      "\n",
      "\n",
      "A massive fire broke out in a small apartment complex in Payson, Arizona, injuring at least 10 people. The fire, which was ignited by an explosion, completely engulfed the building. Eight people inside suffered minor injuries, while one person was transported to a burn center and remains in stable condition. Two people outside the apartments also sustained minor injuries. Fire crews were able to control the fire within 10 minutes after the gas company shut off the gas in the neighborhood. The cause of the fire is still under investigation.\n",
      "\n",
      "\n",
      "At least 239 migrants are believed to have drowned in two shipwrecks off the coast of Libya this week, according to the United Nations refugee agency. Survivor accounts suggest that two overcrowded boats broke up just off the Libyan coast on Wednesday. The 31 survivors were taken to the Italian island of Lampedusa. If true, these shipwrecks bring the toll of dead and missing in the Mediterranean to 4,220 this year, the highest on record. Most of the migrants appear to have come from sub-Saharan Africa. The European Union is conducting a search-and-rescue operation in the western Mediterranean, but the focus remains on deterrence rather than protection. The shifting migration patterns have been a boon to smugglers, as demand has increased across the trickier North African route.\n",
      "\n",
      "\n",
      "An Australian woman working for an Afghan relief organization has been kidnapped by unknown gunmen in Kabul, Afghanistan. The woman was seized while traveling in a car with her driver. The Australian Embassy in Kabul is urgently investigating the incident. This is not the first case of abduction involving Australians in Afghanistan this year. The country has a high risk of kidnapping for both locals and foreigners. In a previous case, an Australian aid worker was abducted but later released. The Taliban has also been involved in large-scale kidnappings, with nearly 200 people taken hostage in June.\n",
      "\n",
      "\n",
      "Azealia Banks tearfully shared her side of the Russell Crowe incident in a new interview. She described the argument that led to her being kicked out of Crowe's hotel room as \"humiliating.\" Banks claimed that Crowe made disparaging comments about her career, and when she responded, the whole table turned against her. She alleged that Crowe called her the N-word, choked her, and physically removed her from the suite. However, a source close to Crowe denied these claims and stated that he acted in defense of his guests. Banks also expressed disappointment that RZA, who invited her to the party, did not stand up for her. RZA later contradicted Banks' narrative and accused her of threatening someone with a glass. Despite the backlash, Banks remains resilient and confident in her youth and music career.\n",
      "\n",
      "\n",
      "BP has reported a leak of about 95 tonnes of oil into the North Sea from its Clair platform. The spill is smaller than previous incidents in the area and is being monitored from the air. The leak was caused by a technical issue with a system designed to separate production fluids. BP believes allowing the oil to disperse naturally at sea is the best approach. Experts are assessing the potential impact on the environment, particularly on seabird species. A full report and monitoring of the situation are requested.\n",
      "\n",
      "\n",
      "Three anti-poaching rangers, including two South Africans and a Mozambican, were attacked by angry villagers in Mozambique after apprehending a poacher. The rangers, including Sean van Niekerk, were whipped, stabbed, and pelted with rocks. Van Niekerk suffered a minor skull fracture, stab wounds, and injuries to his face and back. Despite the incident, he remains committed to saving wildlife. The attack occurred when the rangers were transporting the poacher to the police station and a mob from the community approached them. The police officers who were present fled, leaving the rangers to defend themselves until a helicopter arrived. Van Niekerk hopes that sharing this story will expose the incompetence and corruption of the police officers involved.\n",
      "\n",
      "\n",
      "At a global wildlife summit, a bid to provide the highest level of international legal protection to all African elephants was defeated. However, new measures were passed to add vital protection for elephants, including the closure of legal ivory markets within nations and tougher measures to deal with nations failing to control poached ivory. The debate over elephant poaching has divided African countries, with some arguing that making money from ivory sales and trophy hunting is necessary for protection, while others believe that poaching and the illegal ivory trade pose the greatest threat. Most African elephants already have the highest level of international legal protection, but elephants in Namibia, South Africa, Zimbabwe, and Botswana have a lower level of protection. A proposal to upgrade these populations to the highest level of protection was defeated. The EU and some scientific and conservation groups opposed the upgrade, arguing that it did not meet the biological criteria. The issue of cutting the demand for ivory and better enforcement against poachers were highlighted as key solutions.\n",
      "\n",
      "\n",
      "Billy Bob Thornton, the ex-husband of Angelina Jolie, has revealed that he never felt good enough for her. He explained that her high-profile lifestyle made him uncomfortable around rich and important people. Despite their divorce, Thornton says he is still friends with Jolie and speaks to her every few months. He also discussed the infamous vials of blood they wore around their necks during their marriage, stating that it was a romantic gesture. Jolie is currently going through a divorce with Brad Pitt, who was recently cleared of child abuse allegations. Jolie's representative stated that she is relieved the investigation has concluded and that her focus has always been the health of the family.\n",
      "\n",
      "\n",
      "A 6-year-old boy in China was found dead after falling into a deserted well while assisting his father with vegetable harvesting.\n",
      "\n",
      "\n",
      "A bus driver in Brisbane, Australia, was killed after a passenger doused him in flammable liquid and set him on fire. The motive behind the attack remains unclear. Six passengers managed to escape with the help of a taxi driver who forced open the back door. The suspect, a 48-year-old man, has been charged with murder and arson, as well as 11 counts of attempted murder. The victim, Manmeet Alisher, was a well-known figure in Brisbane's Indian community and was described as a talented singer and dancer. The incident is not believed to be terrorism-related.\n",
      "\n",
      "\n",
      "The British Government is supporting an oil drilling project in Uganda's Murchison Falls National Park, which poses a significant risk to the endangered Rothschild giraffe species. The project involves drilling multiple wells in the park, which is home to one of the last remaining populations of these giraffes. Leaked documents reveal that the British oil company, Tullow Oil, has been in talks with the government to provide taxpayer-backed loans and insurance for the project. Conservationists have been relocating giraffes away from the drilling sites to protect them. Greenpeace UK criticizes the government's support for the project and urges them to focus on sustainable energy sources instead. Tullow Oil claims to have committed to protecting the Rothschild giraffe during the development.\n",
      "\n",
      "\n",
      "A British banker, Rurik Jutting, has been found guilty of murdering two Indonesian women in Hong Kong. The jury returned unanimous verdicts after a two-week trial, highlighting the significant inequality in Hong Kong and the decadent lifestyles of some expatriates. Jutting, who was sentenced to life in prison, has the right to appeal but has indicated that he will request a transfer to a British prison. The judge described the case as one of the most horrifying murder cases in Hong Kong and called Jutting an \"archetypal sexual predator.\" The families of the victims welcomed the verdict but expressed that the sentence does not compare to the pain they have endured.\n",
      "\n",
      "\n",
      "The text tells the story of Shelton McElroy and his two brothers, who grew up in the foster care system after their mother was sentenced to prison. Shelton and one of his brothers also ended up in prison later in life. The brothers were separated and moved between foster homes, with Shelton experiencing a troubled childhood and multiple incarcerations. Despite their struggles, the brothers managed to reconnect in prison, but their relationship was strained. Shelton's older brother, William, tried to support them but eventually gave up. Shelton reflects on the interconnectedness of the foster care and penal systems in the US and the lack of support for individuals with mental health issues. He has since turned his life around, becoming a counselor and helping others who have experienced similar hardships.\n",
      "\n",
      "\n",
      "Cliven Bundy has been illegally running his cattle on public land in Nevada for years. His cattle have become semi-feral and roam over a large area near the Nevada, Utah, Arizona border. Bundy does not vaccinate or treat his cattle for disease, does not control breeding, and rarely brands them. The cattle are now reported to be slowly starving, although there is no official confirmation. The State of Nevada has not taken action to round up the cattle due to logistical difficulties and threats from Bundy supporters. Removing the cattle will be expensive and potentially dangerous, as they are near feral and aggressive. The value of the herd will also decline in the hot Nevada summer.\n",
      "\n",
      "\n",
      "A security crackdown in northern Rakhine state, Burma, following militant attacks has worsened the humanitarian situation and drawn international attention to Aung San Suu Kyi's government. The government has accused the Rohingya Muslim community of being behind the attacks, leading to a manhunt and reports of abuse by the military. The United Nations and the US have called for investigations into the alleged abuse and the restoration of humanitarian access. Human Rights Watch has reported burned villages and alleged rape of Muslim women by soldiers. The crisis is seen as a major test for Suu Kyi's new government, which is accused of not doing enough to address the Rohingya crisis. The Rohingya, who are essentially stateless, are considered illegal immigrants by many in the Buddhist-majority country. The security crackdown has displaced thousands of people and disrupted access to healthcare and food assistance. Suu Kyi has called for strengthening border security, following the rule of law, and creating a development plan for the area. However, the Rohingya community does not believe there is a militant group operating in the state and accuses the government of deliberate assassination. The crisis has further eroded confidence in Suu Kyi's government among the affected population.\n",
      "\n",
      "\n",
      "Shawn Gill experienced a case of stolen and mistaken identity when someone used his name after a car accident. The actual driver was David Joseph Singer, who had a criminal record. Gill reported the identity theft and filed the necessary paperwork, but his license was still suspended and he lost his job as a driver for Lyft and Uber. Gill appealed the decision but faced difficulties in court due to incorrect police paperwork and testimony. Gill's friend sought help from a journalist to uncover the truth. It is unclear how Singer obtained Gill's ID information, and there are questions about why the incorrect information was not corrected. Gill's lawyer advised him not to talk to the police, but a letter from the officer who made the report could potentially clear Gill's record. The article calls for Commissioner Richard Ross to intervene and resolve the situation.\n",
      "\n",
      "\n",
      "A new analysis by the CDC reveals common mistakes made by contact lens wearers that can lead to eye infections. The study found that 25.1% of eye infection cases were linked to misuse of contact lenses, including sleeping in them or wearing them for longer than recommended. Other forms of misuse included using expired lenses, storing lenses in tap water, and wearing them while swimming. The CDC warns that sleeping in contact lenses can increase the risk of infections, and wearers of daily disposable lenses have a lower risk.\n",
      "\n",
      "\n",
      "Cytomegalovirus (CMV) is a viral infection that poses a greater threat to infants in the United States than Zika, but it is rarely discussed. CMV can cause permanent disabilities such as hearing loss, microcephaly, intellectual deficits, and vision abnormalities in up to 20% of infected infants. There is no vaccine or standard treatment for CMV, but there are hints that antiviral drugs may benefit some newborns. CMV is transmitted through contact with saliva and urine, often from diaper-wearing children to adults. Pregnant women often get it from toddlers, especially those in day care. However, few women are warned about this infection, and less than half of obstetrician-gynecologists provide information on how to avoid CMV. Some experts argue that education campaigns and infant screening for the infection should be carried out to prevent the devastating effects of CMV. Routine screening of newborns for CMV is being pushed to identify those who are infected early and provide them with necessary tests and treatment. A recent study found that infants with CMV symptoms at birth who took an antiviral drug for six months had better hearing and cognitive skills at 2 years. However, it is not yet known if antiviral medication is safe and effective for babies with only hearing loss as a symptom. CMV infection can have long-term effects on a child's development, and the full extent of these effects may not be known until the child is in school.\n",
      "\n",
      "\n",
      "The World Meteorological Organisation (WMO) has reported that levels of CO2 in the atmosphere have surpassed an important threshold and are unlikely to dip below it for \"many generations\". The 400 parts per million benchmark was broken globally for the first time in recorded history in 2015, and 2016 is expected to be the first full year to exceed this mark. The increase in CO2 levels can be attributed to a strong El Niño event, which caused drought conditions in tropical regions, reducing the ability of vegetation to absorb CO2. Additionally, there were extra emissions from fires sparked by the drier conditions. The WMO emphasizes the need to focus on cutting CO2 emissions in order to tackle climate change and keep temperature increases below 2 degrees Celsius.\n",
      "\n",
      "\n",
      "A history teacher in California was placed on leave after comparing President-elect Donald Trump to Adolf Hitler. The teacher, Frank Navarro, who has taught at Mountain View High School for 40 years and is an expert on the Holocaust, was asked to leave after a parent complained about the lesson. Navarro claims that his lesson was based on facts and not opinion, and he feels that his free speech is being suppressed. The incident occurred amidst the controversy surrounding Trump's election victory over Hillary Clinton. Navarro had previously received complaints about his one-sided lessons, but he insists that his plan was based on facts. A petition to bring Navarro back has garnered over 1,000 signatures.\n",
      "\n",
      "\n",
      "The US presidential election has led to a surge in calls to crisis and suicide prevention hotlines. The National Suicide Prevention Lifeline received a significant increase in calls, with the volume being two to three times higher than usual. The Crisis Text Line also experienced a surge in texts, with eight times the normal volume. The Trevor Project, which provides support to LGBTQ youth, saw a doubling of call volume, with more than 95% of callers discussing the election. The Trans Lifeline, which supports the transgender community, has been flooded with calls since the election, receiving more than 500 calls a day. The election results have caused panic and fear among callers, particularly regarding the potential loss of insurance and trans-affirming healthcare. These crisis hotlines are urging people to support each other, get back to routines, and limit exposure to media that exacerbates feelings of hopelessness. Acts of kindness and compassion are also encouraged to help alleviate anxiety.\n",
      "\n",
      "\n",
      "The Cavendish banana, which is the most widely sold banana in the Western world, is facing the threat of extinction due to its vulnerability to diseases. The previous popular variety, Gros Michel, was wiped out by a fungal disease called Fusarium wilt. The Cavendish replaced it but is now susceptible to a disease called Black Sigatoka. Additionally, a new strain of Fusarium wilt called Tropical Race 4 (TR4) is spreading and could devastate the banana industry. To combat these diseases, scientists are studying the genetics of wild banana varieties and banana pathogens to find resistant genes. However, there has been little effort and funding for this research. By increasing genetic diversity in cultivated bananas, the industry can reduce its vulnerability to diseases. Scientists have already identified the genome sequences of bananas and the fungi causing the diseases, which provides a basis for identifying disease-resistant genes. With the use of genetic engineering and plant breeding, these genes can be transferred into desired cultivars. It is crucial to increase the pool of genetic diversity in cultivated bananas to avoid repeating the history of the Gros Michel and Cavendish varieties.\n",
      "\n",
      "\n",
      "Ryan Collins, a man from Pennsylvania, has been sentenced to 18 months in jail for hacking into the accounts of celebrities and stealing nude photos and videos. He pleaded guilty to the charges and had stolen the usernames and passwords of over 600 people, including Jennifer Lawrence, Kate Upton, Scarlett Johansson, and Kirsten Dunst. Collins tricked his victims by sending emails that appeared to be from Google or Apple. Although he accessed the photos between 2012 and 2014, he was not charged with releasing them. Prosecutors have found no evidence linking Collins to the leaks or sharing the obtained information. He accessed at least 50 iCloud accounts and 72 Gmail accounts using fraudulent email addresses. Collins was originally charged in Los Angeles but was sentenced in Pennsylvania, his home state.\n",
      "\n",
      "\n",
      "Two men have been arrested in connection with the stabbing death of a partygoer in Manhattan. James Rackover, a surrogate son to celebrity jeweler Jeffrey Rackover, and Lawrence Dilione have been charged with hindering prosecution, tampering with evidence, and concealing a corpse. The victim, Joseph Comunale, was stabbed 15 times and his partially burned body was found buried under a foot of earth. The motive for the attack is still under investigation, but sources suggest it may have been triggered by Comunale rejecting sexual advances. The suspects attempted to bleach the victim's blood from his clothes and used gasoline to try to burn his body. The case has shocked friends of Jeffrey Rackover, who described James as the son he never had.\n",
      "\n",
      "\n",
      "Chicago has shut down hundreds of public drinking fountains due to excessive levels of lead in the water. The ongoing crisis in Flint, Michigan has prompted other communities to test for lead, including the Chicago Park District. Testing revealed that nearly a quarter of outdoor fountains and 14 indoor fountains and sinks exceeded the federal standard for lead levels. Some fountains had lead levels 80 times higher than the permissible level. All fountains and sinks with high lead levels have been disabled and will undergo further testing and repairs. The lack of adequate testing for lead in public settings is a national problem, according to public health officials. Lead can have serious health effects, especially in young children, and there is no safe level of lead in the body. Lead pipes and fixtures are still common in communities across the country. While taking a sip from a single fountain may not seriously affect health, it can contribute to cumulative lead exposure, particularly for vulnerable populations like the homeless and children.\n",
      "\n",
      "\n",
      "A woman appeared on The Dr Phil Show to share her horrifying experience of being sexually abused by both of her parents. The victim, Amanda, revealed that her parents forced her to have sex with them and even made her pose for explicit photographs and videos to sell online. Her mother, Justine, expressed remorse for her actions and admitted to making poor choices. Both parents were charged with sexual assault and exploitation and received 20-year prison sentences. Amanda also claimed that her mother coached her sexually and was a willing participant in the abuse. Despite the trauma, Amanda's parents would continue with normal family life after the abuse. Amanda has struggled to come to terms with the fact that her parents are now out of prison. Her father, Jim, has yet to apologize to her and has been described as manipulative. Justine blamed their behavior on money, stating that Jim discovered the profitability of child pornography. The episode has sparked discussions about child abuse and pedophilia on social media, with viewers expressing their horror and disgust.\n",
      "\n",
      "\n",
      "A young boy who was trapped in a narrow well in China for four days has been found dead. The boy fell into the well while helping his father harvest vegetables. Despite efforts from over 500 responders, the well was too narrow for adults to enter, so excavators were used to dig it out. The boy's body was discovered on Thursday.\n",
      "\n",
      "\n",
      "As Iraqi forces continue to push into Mosul, civilian casualties are increasing. The battle against the Islamic State has resulted in soldiers and civilians being injured or killed by chlorine gas, mortar fire, bombs, and artillery shells. The presence of civilians in the city has made the fight more difficult for Iraqi forces and airstrikes from the U.S.-led coalition. The Islamic State has been using civilians as human shields, preventing them from leaving the city. The medical station on the outskirts of Mosul is treating injured civilians, but many are unable to reach medical assistance. The fight for Mosul is expected to be prolonged, putting more civilians at risk. The Iraqi military does not release overall casualty figures, but the toll is likely much higher than reported. The battle has also caused food shortages, forcing some residents to flee. The situation is dire, with injured children and desperate pleas for help.\n",
      "\n",
      "\n",
      "The battle for Mosul continues, with civilians caught in the crossfire having to choose between fleeing or staying in their homes. Over 47,730 people have been displaced due to the ongoing military operations, and more than 12,800 people have fled since Tuesday. Witnesses report that ISIS has executed dozens of people, leaving their bodies as a warning. The UN has confirmed that at least 60 civilians have been killed this week, with reports of ISIS committing atrocities. Local ISIS commanders are fleeing, leaving behind trained teenage combatants. ISIS has also been forcing children to carry out executions. A senior ISIS commander has been killed in the battle. The battle for Mosul is difficult and slow, with ISIS using various tactics to hamper Iraqi advances.\n",
      "\n",
      "\n",
      "A new study reveals that human-induced climate change has doubled the area affected by forest fires in the western United States over the past 30 years. The study shows that heightened temperatures and increased aridity since 1984 have caused fires to spread across an additional 16,000 square miles, an area larger than Massachusetts and Connecticut combined. The authors warn that further warming will exponentially increase fire activity in the coming decades. The study also highlights the role of climate change in exacerbating the recent California drought and the rise in fire incidents. Factors such as a natural climate oscillation and firefighting practices have also contributed to the increase in fires. The researchers emphasize the need to prepare for larger fire years due to climate change.\n",
      "\n",
      "\n",
      "A report commissioned by Fairtrade Australia and New Zealand warns that climate change poses a significant threat to the world's coffee supply. The report highlights the impact of warming temperatures on farmland, which will reduce the global area suitable for coffee by about 50%. It also emphasizes the increased risk of diseases and pests, such as coffee rust and the coffee berry borer. Major coffee companies have been aware of these threats for years and have been implementing support programs for coffee growers. However, the report suggests that no single company is large enough to tackle the challenge of climate change on its own. The World Coffee Research group is developing adaptive strategies to address the issue, including preserving genetic diversity, creating a variety catalog, and evaluating new coffee varieties. Despite these efforts, there are still major gaps in knowledge on how to best help coffee producers adapt to climate change. The report raises concerns about the livelihoods of the 125 million people worldwide who depend on coffee, particularly those in developing countries. Urgent action is needed to prevent devastating consequences for these communities.\n",
      "\n",
      "\n",
      "Consumer Reports has released a report identifying fifteen supplement ingredients that can cause illness or even death. The risks associated with these ingredients include cancer, organ damage, and cardiac arrest. The severity of the threats depends on factors such as pre-existing conditions, the quantity of ingredients taken, and the length of exposure. The report lists the dangerous ingredients, including aconite, caffeine powder, chaparral, coltsfoot, comfrey, germander, greater celandine, green tea extract powder, Kava, lobelia, methylsynephrine, pennyroyal oil, red yeast rice, usnic acid, and Yohimbe. The report warns against the use of these ingredients due to their potential health risks. The CDC has reported that the use of dietary supplements in the United States is common, with over forty percent of the population using them from 1998 to 2004. Multivitamins and multiminerals are the most commonly used products.\n",
      "\n",
      "\n",
      "Since Donald Trump's election, there have been over 200 acts of election-related intimidation and harassment in the US, targeting marginalized groups such as black, Latino, Muslim, Jewish, Asian, queer people, and women. These acts include physical harm, hate speech, and racist graffiti. Trump supporters feel empowered to express their disdain for those they dislike or deem insignificant. It is crucial for America to stand united against these attacks and promote a message of intolerance towards hate.\n",
      "\n",
      "\n",
      "Dakota Fanning's parents, Steven and Heather Fanning, are getting a divorce after being married for almost 27 years. The couple has two adult children, Dakota and Elle, so child support is not an issue. It is unclear if spousal support will be requested. Steven has filed for divorce citing irreconcilable differences and is still figuring out how to divide their property.\n",
      "\n",
      "\n",
      "Dahir Ahmed Adan, a 20-year-old Somali refugee, was identified as the suspect in the stabbing spree at a Minnesota mall. He allegedly stabbed 10 people before being shot dead by an off-duty police officer. Adan was wearing a private security uniform and asked at least one person if they were Muslim while carrying out the stabbings. Although an ISIS-affiliated media outlet claimed responsibility, there is no evidence linking Adan to the terrorist group. Adan was described as a quiet and studious young man from a well-known local Somali family. He had recently called his soccer coach for weight-loss advice and was out of work after his part-time security guard job ended. Investigators are examining Adan's media accounts and electronic devices to determine his motive. Minnesota has the largest Somali community in the US, and community leaders expressed concern about potential backlash. The Somali community in Minnesota has been targeted by ISIS for recruitment, with several individuals convicted or charged with supporting the extremist group.\n",
      "\n",
      "\n",
      "The Marrakesh Climate Talks are taking place amidst dangerously hot weather in North Africa. Record-breaking temperatures this summer have raised concerns about the impact of climate change on the region. Even if warming is limited to 2°C, the Mediterranean region would still experience unprecedented changes. Morocco could face increased temperatures and drought, leading to the displacement of forests and expansion of deserts. The fossil fuel industry's recklessness is pushing the planet towards catastrophe, and urgent action is needed to address this. Governments must divest from climate destruction and invest in renewable energy. Ending fossil fuel subsidies and removing the industry's influence from climate talks are crucial steps. Legal action is also being taken against major carbon emitters. The demand to world leaders is to stop new fossil fuel projects and transition to 100% renewable energy.\n",
      "\n",
      "\n",
      "A deadly outbreak of bloodstream infections in Wisconsin has left health officials puzzled. The infections, caused by a species of bacteria called Elizabethkingia anophelis, have killed 15 people and sickened 33 others. The microbe is resistant to common antibiotics, making treatment difficult. The outbreak is unusual because the bacteria is typically found in hospitals, but many of the infected individuals have not had recent contact with healthcare facilities. Investigators are testing various products for contamination as a possible source. The outbreak is challenging to understand as little is known about Elizabethkingia. The bacteria is commonly found in soil and mosquitoes, and it thrives in moist biofilms. Previous outbreaks have been linked to contaminated taps in hospitals. The current outbreak is the first reported of this particular species of Elizabethkingia. Officials believe it is unlikely that the contamination comes from tap or groundwater, but the source remains unknown.\n",
      "\n",
      "\n",
      "Mikhail Y. Lesin, a former aide of Russian President Vladimir Putin, died from head injuries sustained in accidental falls after excessive drinking, according to authorities in Washington. Lesin, who helped create the Kremlin's Russia Today television network, was found dead in a D.C. hotel room in November 2015. Initially ruled as \"undetermined,\" the manner of death has now been amended to an accident with acute ethanol intoxication as a contributing cause. Lesin's death was caused by blunt-force injuries to his head, as well as injuries to his neck, torso, arms, and legs from falls. The investigation determined that Lesin entered his hotel room for the final time after days of excessive alcohol consumption and was found dead the next morning. The ruling of accidental death has been accepted by the interim D.C. police chief. Lesin was known for his role in the Kremlin-dominated media landscape and his volatile temper. He resigned as head of Gazprom-Media in 2014 and kept a low profile until his death. Speculation about his death included theories of foul play due to his land dealings in California, but a friend and business associate believed he died after heavy drinking.\n",
      "\n",
      "\n",
      "Over 1,800 public primary schools in Delhi will close to protect children from dangerous levels of air pollution. The decision affects more than a million children. The smog is a result of burning crops, fireworks, dust, and vehicle emissions. The most dangerous particles, PM 2.5, reached 600 micrograms per cubic meter. Sustained exposure to this concentration is equivalent to smoking 40 cigarettes a day and increases the risk of stroke, heart failure, asthma, and pneumonia. The pollution has caused visible effects on children, including coughing and difficulty breathing. Foreigners and elites have expressed concern about winter air pollution, and some embassies discourage families with children from moving to Delhi. Parents have reported symptoms such as burning eyes and congestion in their children. The city has taken these measures for the first time, and they hope weather conditions will improve soon. Keeping children at home reduces their exposure to air pollution, but indoor air quality is often not much better unless doors and windows are closed and sealed.\n",
      "\n",
      "\n",
      "Despite significant progress in global vaccination efforts, measles still claims the lives of more than 350 children daily, according to a report by UNICEF, the World Health Organization, and other health agencies. The report emphasizes that the fight against measles is hindered not by a lack of tools or knowledge, but by a lack of political will to ensure every child is immunized. While vaccination campaigns and increased routine vaccine coverage have saved millions of lives, there are still countries where a majority of children are not vaccinated. The Democratic Republic of Congo, Ethiopia, India, Indonesia, Nigeria, and Pakistan account for half of all unvaccinated babies and 75% of measles-related deaths. Outbreaks of measles in various countries, caused by gaps in immunization, remain a significant problem. The report highlights the need to immunize young people who have missed out on vaccinations and notes that measles tends to resurge during conflicts or humanitarian crises.\n",
      "\n",
      "\n",
      "A man dressed as a construction worker vandalized Donald Trump's star on the Hollywood Walk of Fame, using a sledgehammer and pickax to smash the symbol. The man attempted to remove the star but was unsuccessful. He claimed that he wanted to auction the star to raise money for women who have accused Trump of sexual assault or harassment. The suspect was later arrested on a charge of felony vandalism. The star will be replaced, and the Hollywood Chamber of Commerce intends to prosecute the vandal to the full extent of the law. Trump's star has been targeted multiple times in the past, with incidents of paint, graffiti, and other defacement.\n",
      "\n",
      "\n",
      "Iraqi military and police forces have discovered a mass grave near the town of Hamam al-Alil, south of Mosul, containing around 100 decapitated bodies. The bodies were found at an agricultural college and are currently being examined to determine their identities. The Iraqi Joint Command condemned the Islamic State for their crimes against the people. Meanwhile, Kurdish peshmerga forces recaptured the town of Bashiqa, with heavy fighting reported. The US officials stated that 33,000 Iraqi civilians have been displaced so far by the Mosul operation, lower than expected. Aid organizations estimate that up to 1.5 million civilians have been living in Mosul under Islamic State control, and at least 700,000 are expected to be displaced. The international community is preparing for a humanitarian emergency, with emergency relief supplies being brought to areas where displaced people are expected to go. The United States is assisting in preparations for governance in Mosul and vetting the displaced, but these tasks will be handled by the Iraqi and regional Kurdish governments.\n",
      "\n",
      "\n",
      "A grieving father, Shayne Goodchild, spoke publicly for the first time since the Dreamworld theme park accident in Australia that killed three of his family members. Goodchild confirmed that his daughter Kate's death was witnessed by her husband and their 8-month-old daughter. He also mentioned that his 12-year-old granddaughter saw her mother's life being taken. The accident occurred when a malfunction on the Thunder River Rapids Ride caused a flume carrying six people to flip over. Goodchild expressed gratitude for the support they have received and offered condolences to the family of the fourth victim. Private funerals will be held for the victims, and the park will remain closed until after the funerals. Goodchild expressed a desire to know what went wrong and why their loved ones were taken from them.\n",
      "\n",
      "\n",
      "Egyptian authorities have recovered 162 bodies from a sunken migrant boat in the Mediterranean, with the death toll expected to rise to nearly 300. The boat capsized off the coast of Rosetta, carrying an estimated 450 people, mostly young Egyptian men. The number of Egyptians attempting to cross to Europe has risen sharply in the last two years, due to economic pressure and a possible shift away from Libya as a departure point. Meanwhile, China and other Asian countries are under pressure to shut down tiger farms, which supply the black market with skins, bones, and other parts. The Convention on International Trade of Endangered Species of Wild Fauna and Flora (CITES) has voted to ban international trade in pangolins, the most trafficked mammal on Earth. The ban aims to protect all eight species of Asian and African pangolins, which are hunted for their scales and meat. A wildfire in California's Santa Cruz Mountains has threatened hundreds of structures, with nearly 1,100 firefighters working to protect homes and communication towers. Cooler weather conditions are expected to help contain the fire.\n",
      "\n",
      "\n",
      "At least 55 people have died and dozens are missing after a boat carrying migrants capsized off the coast of Egypt. The boat, which was overcrowded with up to 450 migrants, sank near the city of Rosetta. So far, 163 survivors have been rescued and four suspected human traffickers have been arrested. The search for more survivors will focus on the boat's cold storage room, where witnesses say around 100 people were trapped. This incident highlights the dangerous journey that migrants are taking to reach Europe, with Egypt becoming an increasingly popular departure point. The UN refugee agency predicts that this year will be the deadliest on record for the Mediterranean.\n",
      "\n",
      "\n",
      "A former elementary school volunteer, Deonte Carraway, has been indicted on two additional sex charges by a federal grand jury. He now faces a total of 15 federal counts of sexual exploitation of a minor to produce child pornography. The charges involve an additional child and video known to county investigators, but do not increase the number of known victims. Carraway also faces local charges in Prince George's County, where he was indicted on 270 counts of sex crimes and child pornography involving 23 children. Carraway allegedly used cellphones and an anonymous social media app to solicit videos and photos of children performing sexual acts at various locations. He is scheduled for trial in federal court on March 14.\n",
      "\n",
      "\n",
      "A tugboat crash in British Columbia's coastal waters caused a diesel fuel leak, endangering wildlife and prompting efforts to recover the affected species. Divers found endangered abalone and juvenile herring in the fuel spill area. The outer boom meant to contain the oil broke free, spreading the oil further. Salvage crews have recovered 40% of the estimated 200,000 liters of fuel. The marine life in the Gale Passage, including a crucial herring spawning area, is at risk. The local clam fishery has been shut down, and the spill response has been criticized. Diesel is highly toxic to marine creatures. Additional protection measures are being considered.\n",
      "\n",
      "\n",
      "Environmental health officers are calling for a smoking ban in playgrounds, zoos, and other areas where children play. The Chartered Institute of Environmental Health wants local councils to designate these areas as smoking exclusion zones to reduce the chances of children thinking that smoking is normal. The ban would also protect children from secondhand smoke. A recent poll showed that 89% of adults surveyed support a ban on smoking in children's play areas. Some councils have already implemented voluntary bans in certain outdoor places. Forest, a smokers' rights group, criticized the proposal, calling it \"Orwellian.\" The smoking ban in enclosed public places has been in effect in the UK since 2007.\n",
      "\n",
      "\n",
      "For nearly a century, the Canadian government forcibly assimilated indigenous Canadians by taking them from their families and placing them in church-run boarding schools. These schools punished students for speaking their native languages or observing indigenous traditions, and subjected them to physical and sexual assault, medical experimentation, and sterilization. Photographer Daniella Zalcman's book, Signs of Your Identity, documents the lasting effects of this trauma through double exposure portraits of former students and related places or items. The system caused the death of at least 6,000 children, and the last Indian Residential School closed in 1996. The government issued its first apology in 2008.\n",
      "\n",
      "\n",
      "Former Democratic senator Evan Bayh is facing a tough race against Republican candidate Todd Young in Indiana. Bayh has been attacked for his multiple homes, high earnings, and corporate ties. However, he still has a chance of winning, with recent polls showing a statistical tie between him and Young. Republicans are facing a cash crunch, with Bayh having a significant edge in ad spending. If Bayh wins, it would be a significant blow to GOP chances of holding their majority in the Senate. Bayh's entrance into the race was seen as a recruiting coup for the Democrats, and his bipartisan appeal has given him an advantage. Young's pitch is that Bayh has transformed from a centrist to a supporter of President Obama's agenda, using his positions to land post-Senate business. The attacks on Bayh's wealth resonate in Indiana, where the culture is parochial and politicians often emphasize their \"Hoosier\" identity. Bayh wants the race to focus on his accomplishments, such as the Evan Bayh 21st Century Scholars Program. However, the race has become increasingly negative, with outside groups playing a significant role.\n",
      "\n",
      "\n",
      "The text discusses the ongoing debate over the best approach to fighting cholera. On one side are public health advocates who believe that vaccines can make a significant impact in preventing and treating cholera. On the other side are public health officials who argue that vaccines are not effective enough and that the focus should be on improving water and sanitation infrastructure. The World Health Organization (WHO) has tried to support both approaches but has not settled on how to fund them. Cholera is a deadly disease caused by contaminated water, and it kills about 100,000 people worldwide each year. Two oral vaccines exist, but they have limitations and do not address the underlying causes of cholera. The debate over vaccines has caused division and hindered progress in the fight against cholera. The text also mentions the history of cholera and the breakthroughs in understanding and treating the disease. It highlights the devastating cholera outbreak in Haiti after the 2010 earthquake and the missed opportunity to distribute vaccines. The text concludes by mentioning new ideas and approaches, such as using mobile phones to report cholera cases and promoting water sterilization tablets.\n",
      "\n",
      "\n",
      "The Zika virus has been known to scientists for decades, but it has only recently become a serious public health concern. The majority of infected individuals do not experience symptoms, making it difficult to test for. Pregnant women are particularly at risk, as the virus can cause birth defects. Zika primarily spreads through infected mosquitoes, but it can also be transmitted through sexual contact. There is currently no vaccine or treatment for Zika, but scientists are making progress in developing them. The virus is prevalent in many countries, particularly in Africa, Asia, and the Pacific Islands. Zika was first discovered in monkeys in Uganda in 1947 and has since spread to various parts of the world. In the United States, there have been thousands of cases, with Puerto Rico being heavily affected. The CDC has issued travel warnings for Zika in many countries.\n",
      "\n",
      "\n",
      "An investigation by Human Rights Watch has concluded that the deadly attack on a school in Syria was carried out by Syrian regime and Russian warplanes. Russia initially denied that any airstrikes had taken place, but satellite imagery and drone footage released by the Russian Ministry of Defence showed damage consistent with HRW's evidence. HRW has compiled video evidence and witness testimonies, and called on Russia to conduct a thorough investigation. This attack is one of many targeting civilian infrastructure in Syria, with over 4,200 schools damaged or destroyed during the six-year war. Efforts are being made to establish culpability for war crimes committed in Syria through the UN General Assembly and national courts in Europe and the United States.\n",
      "\n",
      "\n",
      "Eye injuries in youth sports are common and often involve activities that are not typically considered risky for eyes, according to a study of emergency room visits related to eye problems among athletes. The study found that about 30,000 sports-related eye injuries were treated each year at participating emergency rooms, with a majority occurring in people younger than 18. Basketball was the sport most likely to result in eye injuries, followed by baseball, softball, air guns, cycling, and soccer. While most injuries were minor, some required surgery and threatened athletes' vision. The study suggests that protective eyewear, such as wraparound glasses, could help prevent these injuries.\n",
      "\n",
      "\n",
      "Iran has blinded a man for throwing acid in the face of a four-year-old girl. This punishment, known as \"eye-for-an-eye,\" was carried out for the second time this year. The attacker had previously blinded another girl in 2009. The law of retribution, a part of Islam's sharia code, allows victims to personally inflict punishments on their attackers. However, some victims choose to spare their attackers in exchange for blood money. Human rights groups have criticized this legal code as inhumane and brutal.\n",
      "\n",
      "\n",
      "According to an FBI report, hate crimes against Muslims in the US have increased by 67% in one year, reaching the highest number since 2001. The report also reveals a rise in hate crimes against Jewish, black, and LGBTQ individuals. These figures have been linked to President-elect Donald Trump's anti-minority rhetoric, which has fueled public anger and aggression. Experts believe that the actual number of hate crimes is likely higher than reported, and they expect the situation to worsen due to the mainstreaming of Islamophobia by Trump.\n",
      "\n",
      "\n",
      "Preliminary data released by the FBI show a 20% decrease in the number of police officers intentionally killed in the line of duty in 2015 compared to 2014. This contradicts the belief that increased criticism of police, inspired by the Black Lives Matter movement, has led to a \"war on cops.\" However, the president of the national Fraternal Order of Police disagrees with the data and believes that officer deaths are increasing. The FBI data also reveal that instances of officers being killed in unprovoked or ambush attacks have remained steady for the past four years. The reasons for the decrease in officer deaths are unclear, but better training and policies are among the possible factors.\n",
      "\n",
      "\n",
      "The families of 43 missing Mexican college students are leading a march in Mexico City to demand their return on the second anniversary of their disappearance. The students were intercepted by local police and handed over to a drug cartel while hijacking buses in 2014. The government initially claimed the students were killed and incinerated, but international experts and the families doubt this theory. One father believes his son and the others are still alive and that the families will never trust the government.\n",
      "\n",
      "\n",
      "The author reflects on their family trip to France, despite concerns about safety. They describe the joy of their children experiencing new places and the resilience of daily life in Paris. The author acknowledges moments of vulnerability but emphasizes the importance of choosing to experience life. They also discuss the realization that violence can happen anywhere, even at home. The trip ends with a visit to Nice, shortly before a tragic attack occurs there. The author concludes by acknowledging the constant presence of fear but also the need to continue living and experiencing the world.\n",
      "\n",
      "\n",
      "A family of five in Northwest Washington lost their home and two cats in a fire. The fire department responded to the incident and all residents escaped unharmed. The Red Cross was called to assist the family, who cannot return to their damaged home. The cause of the fire is currently being investigated.\n",
      "\n",
      "\n",
      "Toughie, the last Rabbs' fringe-limbed tree frog, has died, marking the extinction of his species. The frog, featured in the Photo Ark project, served as a symbol of the extinction crisis. Toughie's species was only described in 2008, three years after he was found during a frog rescue mission. The deadly chytrid fungus wiped out up to 85% of amphibians in Toughie's habitat. Photographer Joel Sartore, who photographed Toughie for the Photo Ark project, emphasizes the importance of raising awareness about extinction. He believes that people need to meet and fall in love with these animals to care about their preservation. The loss of species threatens healthy ecosystems and ultimately our own survival. Sartore warns that if we continue on this path, we could lose half of all species by the end of the century.\n",
      "\n",
      "\n",
      "New research suggests that habitat degradation poses a greater risk to the survival of turtles and tortoises than rising global temperatures. Over 60% of these species are listed as vulnerable, endangered, or critically endangered due to factors such as trading, collection for food and medicine, and habitat degradation. The study used climate models and the fossil record to investigate the impact of long-term climate change on these species. Results show that turtles and tortoises were able to withstand warmer climates in the past as long as there was enough water to support them. However, they are highly sensitive to changes in temperature and rainfall, making climate change a significant threat to their conservation status.\n",
      "\n",
      "\n",
      "A female lawyer has accused Supreme Court Justice Clarence Thomas of groping her in 1999. Moira Smith, who was 23 at the time, claims that Thomas grabbed her without her consent during a Truman Foundation dinner. Smith described the incident on Facebook before deactivating her page. She stated that Thomas \"cupped his hand around my butt and pulled me pretty close to him\" and later \"squeezed\" her behind. Smith's former roommates and fellow Truman scholars confirmed that she had described the incident at the time. Thomas has denied the allegations. This comes years after Thomas' confirmation hearings were marred by accusations of sexual harassment from Anita Hill. Hill recently wrote an op-ed about her experience, emphasizing the importance of believing women who come forward with allegations of sexual harassment or violence.\n",
      "\n",
      "\n",
      "Chelsea Cain, the author of Marvel's \"Mockingbird\" comic series, deactivated her Twitter account after receiving abusive tweets celebrating the cancellation of her series. The tweets attacked her personally and criticized the idea of a female hero having her own series. Marvel Editor-In-Chief Axel Alonso and other Marvel employees voiced their support for Cain. Marvel canceled the series due to low sales, but they have 22 other female-led series currently in production. Cain left Twitter due to the daily abuse she received, not because of rape threats or privacy concerns. Twitter also announced the closure of its video-looping platform Vine due to bullying and harassment issues.\n",
      "\n",
      "\n",
      "Rapper P-Dice is suing Fetty Wap for allegedly cutting him out of the profits and credit for the hit song \"679.\" P-Dice claims he helped write the song and had a deal to receive 16.9% of the profits, but Fetty deleted his performance and reduced his share to 5%. P-Dice is seeking damages of over $7 million. Fetty Wap's representative declined to comment.\n",
      "\n",
      "\n",
      "A mother, two children, and a dog died in a house fire in West Virginia. Firefighters arrived to find flames and severe damage to the two-story home. The cause of the fire is being investigated by the state fire marshal's office.\n",
      "\n",
      "\n",
      "A group of mostly black University of Central Missouri students protesting Donald Trump and the racial climate on campus were targeted with fireworks. The incident occurred while about a dozen white students supporting Trump gathered at the edge of the crowd. One protester claimed to have been spat on and subjected to a racial slur. University police were unable to find the person responsible. This protest is one of many happening across the country.\n",
      "\n",
      "\n",
      "A flamingo named Pinky was euthanized after a visitor at Busch Gardens in Tampa, Florida, allegedly attacked her. The visitor, Joseph Anthony Corrao, reached into Pinky's pen, grabbed her, and threw her to the ground. Pinky was known for her distinctive walking style called the \"Flamingo Flamenco.\" Witnesses reported that Corrao had also picked up another flamingo but put it down unharmed. Pinky had become a beloved member of the park and had made appearances for conservation and education efforts. Corrao was charged with animal cruelty and jailed on a $2,000 bond. The judge described the act as \"bordering on depraved.\"\n",
      "\n",
      "\n",
      "One year after a dam ruptured in Brazil, causing a massive mudslide and environmental disaster, the people living along the affected river are still afraid to drink the water and eat the fish. The mudslide buried towns, killed 19 people, and caused extensive damage to the environment. The cleanup efforts by the mining company responsible have been slow and ineffective, and doubts remain about the safety of the river water. The government's priority now is to reforest the river banks to prevent further contamination. Many businesses, including fishing and steelmaking, rely on the river, and fishermen who lost their livelihoods receive compensation. However, many fishermen have lost hope of ever fishing in the river again.\n",
      "\n",
      "\n",
      "A prolonged drought in the southeast U.S. has led to numerous forest fires in the southern Appalachian Mountains. These fires have burned over 107,000 acres, with 37 fires covering at least 100 acres each. Arson is suspected in some cases. The fires have caused a hazy pall over northern Georgia, and officials have warned of unhealthy air quality. State firefighters are working to contain the fires and have urged people to avoid starting new ones. The drought has also affected water levels, with a popular state park's main attraction reduced to a trickle.\n",
      "\n",
      "\n",
      "French authorities are evacuating and demolishing a camp in Calais known as \"the Jungle,\" which houses around 8,000 migrants hoping to enter England. The migrants, who are from Africa and the Middle East, are being relocated to centers across France. Some migrants are protesting and fires have broken out in the camp. The operation is expected to take a week.\n",
      "\n",
      "\n",
      "France's President Francois Hollande has announced plans to completely shut down the migrant camp known as \"the Jungle\" in Calais. He has called on London to help deal with the thousands of people living in squalor in the camp, whose ultimate goal is to reach Britain. France intends to relocate the migrants in small groups around the country, but right-wing opponents accuse Hollande of mismanaging a problem that they believe is Britain's responsibility. Hollande reminded Britain that if France stopped preventing migrants from entering Britain, it would be obliged to deal with the matter when asylum-seekers arrive on its shores. He expects London to honor agreements on managing the flow of migrants.\n",
      "\n",
      "\n",
      "The suicides of two French girls who were bullied at school have sparked a debate about how to better protect teenagers. The story of Emilie, who took her own life in January, and the dramatization of Marion Fraisse's story, who died three years ago, have shed light on the issue of bullying in France. The film adaptation of Marion's story, titled \"Marion, 13 ans pour toujours - Marion, Forever 13,\" portrays the gradual descent of a young girl into depression and suicide. The film has prompted a discussion on social media, with many sharing their own experiences of bullying. France has attempted to address the problem with an anti-bullying law and a hotline for reporting incidents, but activists argue that more needs to be done. The issue of bullying extends beyond the school gates, with cyber-bullying also being a concern. Parents, teachers, and students are encouraged to openly discuss the problem to find a solution. Emilie's story, published in her diary, highlights the emotional and physical abuse she endured at school. A report by Unicef states that bullying is a global issue with severe negative effects on children's mental health. The recent attention on these tragic cases may lead to a change in how bullying is addressed in France.\n",
      "\n",
      "\n",
      "A study suggests that garden ponds are contributing to the spread of deadly frog diseases in the UK. Ranaviruses, which can infect amphibians, reptiles, and fish, have devastated common frog populations. The research indicates that infected animals from aquatic retailers or the movement of species between ponds may be worsening the problem. The virus appears to be spreading faster than frogs can hop, and human-aided dispersal is likely involved. Ranaviruses are a group of viruses found worldwide, and they can kill common frogs by causing sores and blisters on their skin or internal bleeding. Genetic records suggest that ranavirus was introduced to the UK on two separate occasions. Garden ponds can act as stepping stones for infected animals to reach new sites, and the transfer of frogspawn or frogs between ponds may be aiding the spread of the virus. The study emphasizes the need to manage the risk of disease outbreaks while still supporting wildlife by adding ponds to urban gardens. Limiting the movement of potentially-infectious material is strongly advised.\n",
      "\n",
      "\n",
      "Gay men are unable to donate blood to victims of the Orlando shooting due to a year-long celibacy requirement imposed by the FDA. These regulations were implemented in 2015, supposedly ending the ban on gay men's blood, but still prevent even monogamous gay men from donating. The ban originated in 1983 during the HIV/AIDS epidemic, but the American Medical Association has called for its end, stating it is discriminatory and lacks scientific basis. Misinformation spread on social media falsely claimed the ban had been lifted in Orlando. The ban is seen as unjustified, and other countries, like Argentina, have already abolished it. The Council on American-Islamic Relations is helping to maintain blood supplies. The article calls for the end of this oppressive policy and highlights the need for continued resistance in the face of tragedy.\n",
      "\n",
      "\n",
      "A 13-year-old boy in Georgia had his right leg amputated after being repeatedly \"body slammed\" by a contractor at his school. The incident occurred when the boy tried to leave the classroom to call his mother. The school failed to provide adequate medical care and made the boy attempt to walk to the bus despite his injuries. The contractor involved in the incident, Bryant Mosley, is no longer providing services to the school district. The school district claims that the use of restraint was necessary for the safety of the child and others in the room. The boy's attorney argues that the method used was not part of the Georgia restraint guidance. The family plans to pursue a civil suit in the future.\n",
      "\n",
      "\n",
      "A new study suggesting that Earth could be doomed to warming of up to 13 degrees Fahrenheit is being dismissed as flawed by climate scientists. The study, published in Nature, offers a reconstruction of global sea-surface temperatures for the past two million years. However, several top scientists argue that the author's conclusions about catastrophic temperature rise are not supported by the data. They claim that the study's author made a fundamental mistake in her analysis. Other scientists also criticize the study for extrapolating from past ice ages to the present climate. NASA's chief climate scientist states that if greenhouse gas levels stay the same, temperatures may rise an additional 0.5 to 1 degree Celsius, not 7 degrees. The study's author defends her work, stating that it shows a close relationship between temperature and greenhouse gases. However, critics argue that her method is not the way to determine the Earth's sensitivity to CO2. The question of how sensitive Earth's climate will be to CO2 emissions remains open. In a separate article, a congressional committee reveals that sexual harassment and bullying among National Park Service employees at iconic parks like Yosemite and Yellowstone has been pervasive and ongoing for years. Whistleblowers detailed several alleged offenses, including stalking and inappropriate behavior by supervisors. The Park Service has vowed to end harassment and is working to change its culture.\n",
      "\n",
      "\n",
      "A new study in Science reveals that global warming has already affected every aspect of life on Earth, from genes to entire ecosystems. With just a 1 degree Celsius increase in temperature, major impacts are already being felt in natural systems. More than 80% of ecological processes that support healthy marine, freshwater, and terrestrial ecosystems show signs of responses to climate change. These impacts have consequences for humans, including increased pests and disease outbreaks, unpredictable changes in fisheries, and decreasing agriculture yields. Understanding the adaptive capacity in nature can help address these issues and apply the same principles to crops, livestock, and aquacultural species. The study emphasizes the need to limit warming to 1.5 degrees Celsius, as there are already significant and widespread impacts from climate change across biological systems.\n",
      "\n",
      "\n",
      "A study has found that projected climate change by 2070 will occur too quickly for grass species, including wheat, corn, rice, and sorghum, to adapt. This poses a risk to the world's ability to grow enough food, as these species provide almost half of the calories consumed by humans. The grass family is not only important for diets but also for global biodiversity and ecosystems. The study compared the rates of climate change niche change in grass species with projected climate change and found a significant difference. This suggests that many grass species may disappear from certain locations. While the study did not focus on food security, it highlights the potential problems for farmers growing food crops. However, there is ongoing research to develop \"climate-proof\" food crops using wild relatives of domesticated species. Unfortunately, these wild relatives are also at risk from climate change.\n",
      "\n",
      "\n",
      "A survey conducted by the American Psychological Association (APA) found that 52% of Americans consider the 2016 Presidential Election to be a significant source of stress. This stress is not limited to any particular political party and is exacerbated by social media posts, which can range from factual to inflammatory. Additionally, 38% of adults say that cultural and political discussions on social media cause them stress. The APA has provided a list of do's and don'ts for reading and reacting to election news. The stress trend is expected to continue until mid-November, as more people rely on online sources for news. While cable TV news remains the top source of election news, more millennials are turning to alternative sources for information.\n",
      "\n",
      "\n",
      "Hate crimes against Muslims in the United States reached their highest level since 2001, with a 67% increase in anti-Islamic incidents in 2015 compared to the previous year. Experts and advocates attribute this rise to anger over terrorist attacks and anti-Islam rhetoric during the presidential campaign. The Council on American-Islamic Relations blames the mainstreaming of Islamophobia by public figures like Donald Trump for the increase in hate crimes. Overall hate crimes increased by 6.7% in 2015, with anti-black, anti-Jewish, and anti-sexual orientation incidents also rising. The Southern Poverty Law Center reported 201 incidents of election-related harassment and intimidation, and there were reports of hateful acts before and after Trump's election. The data is limited as many law enforcement agencies do not report hate crimes voluntarily. Analysts believe that the spike in hate crimes against Muslims is due to anger after terrorist attacks, prejudice against Muslims, and the labeling of Muslims as enemies. The professor who wrote about the surge in crimes against Muslims expects that the levels of hate crimes in 2016 are either at or above those of 2015.\n",
      "\n",
      "\n",
      "A new study from Harvard and Columbia universities estimates that the haze from Indonesian fires last year may have caused over 100,000 premature deaths in Southeast Asia. The previous official death toll was only 19 deaths in Indonesia. The fires, set to clear land for palm oil and pulpwood plantations, occur mainly on Sumatra and Borneo, with the haze blowing over Singapore and Malaysia. The study combined satellite data with health impact models and pollution readings to estimate that 91,600 deaths occurred in Indonesia, 6,500 in Malaysia, and 2,200 in Singapore. The study only looked at health impacts on adults and the effect of fine-particulate matter, not the impact on children or other toxins produced by the fires. Last year's fires were among the worst in memory, causing widespread illness and diplomatic tensions. In other news, Samoa experienced a rare hail storm, causing disbelief among residents who thought it was a hoax. This was only the second time hail has fallen in Samoa since records began. The storm lasted 10 to 15 minutes and produced small hail stones with no reported damage. Finally, Typhoon Meranti, the strongest typhoon to hit China this year, has left 28 people dead and 15 missing in the east of the country. The typhoon caused significant damage to houses and resulted in economic losses of over $2.5 billion.\n",
      "\n",
      "\n",
      "Nosey, a 34-year-old female African elephant, has been held captive and subjected to decades of abuse. She has been forced to live in solitary confinement, perform in circuses, and give rides to people. This has caused significant stress to her physical and psychological well-being. Nosey has spent most of her life in a small trailer, receiving little exercise and no socialization. She has developed arthritis due to her long-term confinement. Despite over 200 citations and 30 violations of the Animal Welfare Act by her owner, Hugo Tommy Liebel, the USDA has not taken action. Nosey is suffering from chronic, untreated health problems and lives in pain. The USDA has the power and responsibility to respond to citizen complaints and confiscate Nosey, releasing her into a proper elephant sanctuary. Immediate action is needed to end the daily abuse of this animal.\n",
      "\n",
      "\n",
      "Protesters in Charlotte, North Carolina are demanding an end to racism and systemic oppression. They believe that true change can only happen by completely abolishing incarceration and the police department. They emphasize the importance of education and awareness about racism and injustice. The protesters argue that black lives need to matter for all lives to matter. They also call for more understanding of the justice system and individual rights. Some protesters highlight the historical context of racism in America and stress the need for new tactics to achieve liberation. They criticize the hypocrisy of the nation and compare the struggle for racial equality to the American Revolution.\n",
      "\n",
      "\n",
      "Capt. Yu Xu, one of China's first female fighter pilots, was killed in a training accident. During a routine flight with the aerobatics team, her aircraft collided with another, causing her to eject. Unfortunately, she was hit by the wing of the other plane and died. Her male co-pilot survived. Yu was certified to fly the J-10 fighter, which is considered the first Chinese domestic fighter to rival Western fighters. She was highly respected and admired in China, with many considering her a hero. The accident has sparked discussions about women in the military and their training.\n",
      "\n",
      "\n",
      "A gunman, identified as a \"disgruntled lawyer,\" injured nine people in a shooting outside a shopping center in Houston, Texas. The suspect, who was wearing historic military attire with Nazi emblems, was shot dead by police. He had a semi-automatic handgun, a semi-automatic rifle, a knife, and 2,600 rounds of live ammunition, all legally purchased. Six victims were taken to the hospital, and three were treated at the scene. The motive for the attack is believed to be the suspect's troubled relationship with his law firm. This incident occurred just days after a shooting at a shopping center in Washington state, where five people were killed. The suspect in that case, Arcan Cetin, confessed to the shooting and has a history of mental problems.\n",
      "\n",
      "\n",
      "A new study from Umeå University in Sweden found that high rates of air pollution are linked to poorer psychiatric health in children and adolescents. The researchers examined register-based data on individuals under 18 from different regions in Sweden and found that air pollution levels do impact psychiatric diagnoses in young people. The risk of having at least one psychiatric diagnosis increased with a 10 microgram per cubic meter increase in nitrogen dioxide levels in the air. Nitrogen dioxide is a harmful air pollutant that results from road traffic and fossil fuel use. Long-term exposure to nitrogen dioxide has been associated with reduced lung function, respiratory problems, and increased allergy rates.\n",
      "\n",
      "\n",
      "Indigenous communities in Labrador, Canada are protesting the construction of a hydroelectric dam due to concerns about the release of methylmercury into Lake Melville, which would contaminate their food sources. A study from Harvard's environmental scientist, Elsie Sunderland, predicts that the dam will expose communities to double the amount of methylmercury they currently ingest, potentially causing acute poisoning. The dam's developer, Nalcor Energy, acknowledges that methylmercury levels will spike but claims they will eventually return to pre-dam levels. However, Sunderland's study contradicts this claim. The study also highlights that other hydroelectric projects in Canada pose similar risks to indigenous populations. Indigenous leaders and the province of Newfoundland and Labrador have reached a compromise to address the methylmercury impact, but specific measures have not been determined yet.\n",
      "\n",
      "\n",
      "Venezuela is currently facing political turmoil as President Nicolas Maduro's version of chavismo has brought chaos to the country and turned voters against him. The opposition has been pushing for a recall referendum to remove Maduro from power, but the government has been delaying and suspending the process. Venezuelans have taken to the streets in protest, but security forces and government sympathizers have responded violently. The military and paramilitary groups continue to support Maduro, but there are signs of cultural differences and potential divisions within the military. The opposition is calling for dialogue and negotiations, but many see it as a stalling tactic. The situation in Venezuela is uncertain and the future remains unclear.\n",
      "\n",
      "\n",
      "A man in Edinburgh was attacked by a large group of youths after being chased through a park. The man was walking through a playground when the group started shouting and threatening him with a bottle. They chased him into another area where they attacked him and stole his wallet. The man sustained minor injuries. The police are seeking information about the incident and are particularly interested in finding the male teenager who initially threatened the victim with a weapon.\n",
      "\n",
      "\n",
      "A study has found that humans have destroyed about 10 percent of Earth's wilderness since 1992, equivalent to an area half the size of the Amazon and twice the size of Alaska. The research team from Australia's University of Queensland defines wilderness as an area with no human development. The destruction is primarily due to activities such as logging, agriculture, mining, and oil and gas exploration. The study aims to raise awareness and calls for international policies to protect remaining wilderness areas. The loss of wilderness is particularly significant in South America, which has experienced a 30 percent decline. The researchers warn that once wilderness is gone, it cannot be restored, emphasizing the need to protect what is left. The report criticizes the United Nations and others for ignoring the problem and highlights the urgency of taking action to prevent further loss.\n",
      "\n",
      "\n",
      "Terence Crutcher, an unarmed black man, was remembered at a funeral service in Tulsa, Oklahoma. The service drew hundreds of mourners and highlighted concerns about biased policing in the United States. The funeral came a day after the police officer who shot Crutcher was booked on a first degree manslaughter charge. Videos released by the police show Crutcher with his hands in the air before being shot. Speakers at the funeral described Crutcher as a father of four with a good heart. The service took place after a rally organized by Black Lives Matter and other groups.\n",
      "\n",
      "\n",
      "ISIS has executed 232 people near Mosul and taken tens of thousands as human shields against advancing Iraqi forces, according to the United Nations. The terror group carried out mass killings as punishment for defying its orders. Since October 17, ISIS has taken tens of thousands of men, women, and children from the outskirts of Mosul into the city, intending to use them as human shields. Iraqi forces have launched an operation to cut ISIS supply lines west of Mosul. Reports indicate that ISIS has abducted thousands of families from various areas. The use of human shields is a violation of international humanitarian law. The UN High Commissioner for Human Rights condemned ISIS's strategy and urged those fighting ISIS not to carry out revenge attacks. The Mosul operation has already displaced thousands of people, and camps have been set up to accommodate them. Civilians continue to flee despite the risks involved.\n",
      "\n",
      "\n",
      "ITT Technical Institute, a for-profit chain of schools in the US, will be closing down all of its campuses due to financial sanctions from the US Department of Education. The closure will affect hundreds of thousands of students and over 8,000 employees. ITT blamed the closure on the actions and sanctions from the Department of Education, which barred the company from enrolling new students using federal financial aid. The company has been found to be out of compliance with accreditor standards twice this year. For-profit colleges like ITT Tech have been criticized for charging high tuition fees without providing a valuable education. Some students may be eligible to have their federal student loans discharged and transfer their credits to another institution. This closure follows a similar situation with Corinthian Colleges in 2015.\n",
      "\n",
      "\n",
      "In South Africa, private security companies are training anti-poaching guards to protect rhinos from poachers. The demand for rhino horns, which are used in traditional medicine and high-end ornaments, has led to a spike in poaching. The South African government has declared rhino poaching a \"national priority crime\" and has implemented initiatives to combat the problem. Private rhino owners have spent millions of dollars on security measures, but the fight against poaching remains challenging. The security industry plays a crucial role in protecting rhinos on private game reserves, but there are concerns about the escalating conflict and the potential for violence. Some believe that more focus should be placed on education and awareness to address the root causes of poaching.\n",
      "\n",
      "\n",
      "Thousands of residents have fled the eastern neighborhoods of Mosul, the city held by the Islamic State, in the first significant wave of people escaping since the offensive to retake the city began two weeks ago. Over 1.2 million people are still believed to be trapped in Mosul, while newly constructed camps in the area can only accommodate 60,000 people. The fleeing residents, including shepherds with their herds of sheep, are heading towards a camp for displaced people on the banks of the Khazir River. Some of those who escaped were visibly relieved, removing their black veils and waving V for victory as Iraqi and Kurdish troops passed by. The Islamic State leader, Abu Bakr al-Baghdadi, released an audio recording calling on his followers to remain steadfast and fight. Iraqi commanders believe it is only a matter of time before the city is recaptured, but the fate of the civilians trapped inside remains uncertain. The number of civilians fleeing has significantly increased as fighting moves into more densely populated neighborhoods. Iraqi forces are trying to keep families in their homes as much as possible to avoid a humanitarian crisis, but many people are choosing to flee as conflict approaches. The Iraqi forces are also searching houses for Islamic State fighters trying to hide among civilians.\n",
      "\n",
      "\n",
      "Goldfish that are released into the wild can become invasive and cause serious ecological damage. In Australia's Vasse River, goldfish have thrived and grown to large sizes, with some reaching 16 inches and four pounds. Goldfish invasions have also been reported in other places like Nevada, Colorado, and Alberta. The growth rate of goldfish in the Vasse River is the fastest known in the world. The problem with goldfish invasions stems from a disconnect between how people view goldfish as cute pets and their behavior in the wild. Goldfish are capable of rapid reproduction, uprooting vegetation, disturbing sediment, and transmitting diseases and parasites. Eradicating goldfish is difficult once they are established. Recent research has shown that goldfish are long-distance swimmers and migrate to spawn. Understanding goldfish behavior can help inform management strategies. It is crucial for pet owners to responsibly dispose of unwanted fish to prevent further invasions. Flushing fish down the toilet is not recommended.\n",
      "\n",
      "\n",
      "Insha Mushtaq, a 14-year-old girl from Indian-administered Kashmir, lost her vision in both eyes after being hit by pellets. She has been in and out of hospitals for the past three months in an attempt to regain her vision, but nothing has worked so far. Insha remains hopeful and still dreams of becoming a doctor. The ongoing unrest in Kashmir has resulted in the deaths of 89 civilians and thousands of injuries. Both India and Pakistan claim Kashmir, and the region has been a source of conflict for over 60 years. Pellet guns, originally used as a non-lethal weapon in 2010, have caused over a thousand eye injuries in recent months. Insha's family is struggling to cope with her injuries, and she tries to stay positive despite the challenges ahead.\n",
      "\n",
      "\n",
      "India, one of the largest greenhouse gas emitters, will ratify the Paris climate agreement next month, according to Prime Minister Narendra Modi. The agreement, which aims to limit global temperature increase to below 2C, will only come into force after being ratified by at least 55 countries responsible for 55% of global carbon emissions. The US and China, together responsible for 40% of emissions, have already joined the agreement. Once ratified, countries must wait at least three years before exiting the agreement.\n",
      "\n",
      "\n",
      "India's tiger population, which accounts for more than half of the world's total, has been rapidly declining due to human interference. While the population had been increasing in recent years, with 2,226 tigers in 2015 compared to 1,411 in 2005, this year has seen a significant increase in tiger deaths. 78 tigers have already died in the first 10 months of the year, surpassing the number of deaths in the same period over the past six years. The cause of some deaths is still being determined, but others have been attributed to human activities such as poaching, poisoning, electrocution, and road accidents. India has seized the largest number of tigers and tiger products, with 540 seizures between 2000 and 2015. The increase in tiger mortalities and seizures is a cause for concern, and experts emphasize the need for coordinated enforcement operations to combat illegal wildlife trade, which they describe as a transnational organized crime.\n",
      "\n",
      "\n",
      "Jessica Wongso, an Indonesian citizen and Australian permanent resident, has been found guilty of murdering her friend by poisoning her coffee with cyanide. She has been sentenced to 20 years in jail. The victim, Wayan Mirna Salihin, died shortly after drinking the coffee ordered by Wongso. The trial, which attracted significant public interest in both Indonesia and Australia, has been broadcast live on major television stations. Wongso denies the charges and plans to appeal the verdict. The case has sparked intense public scrutiny and debate, with strong opinions on Wongso's guilt or innocence. The court case has raised many unanswered questions and has been criticized for being a media trial.\n",
      "\n",
      "\n",
      "An infant orangutan named Dina was confiscated from an illegal trader and taken to the Sumatran Orangutan Conservation Programme (SOCP) for care. Within 24 hours, Dina collapsed and was diagnosed with meningitis, leaving her paralyzed and blind. She is currently receiving intensive care and treatment, but her future is uncertain. The SOCP's mission is to protect and conserve the critically endangered Sumatran orangutan through various efforts. They aim to provide the highest level of care for orangutans like Dina and rely on support to continue their work.\n",
      "\n",
      "\n",
      "A six-week-old girl died after falling down an elevator shaft in a Brooklyn apartment building. The mother attempted to push the stroller into the out-of-service elevator on the 23rd floor, but it wasn't there. Both the mother and the baby fell onto the roof of the elevator and then dropped further to the 17th floor. The baby was found unconscious and unresponsive and was pronounced dead at the hospital. The cause of death is still unknown, and an investigation is ongoing. The apartment complex has a history of elevator violations, with over 120 violations since 2005. The elevator involved in the incident had been inspected recently, and one non-hazardous violation was issued. The building's elevator service company declined to comment, and the Elevator Industries Association did not respond to inquiries. The incident is now under investigation, and all elevators in the complex will be tested for safety.\n",
      "\n",
      "\n",
      "A 2-year-old boy fell to his death from the 11th floor of an apartment building in Willoughby Hills. The child was able to push open the window screen and fell onto the parking deck below. The mother had put him and a sibling to bed an hour before the incident, and the parents were unaware of what had happened. Investigators believe it was a pure accident and are warning other parents about the dangers of open and unlocked windows in high-rise apartments.\n",
      "\n",
      "\n",
      "Investors are becoming hesitant to invest in Ethiopia due to recent violent protests. The unrest, which began last year, has led to attacks on industrial farms and factories, particularly those with state ties or owned by foreigners. Ethiopia's industrialization program and economic growth are at risk as current investors reconsider their options and new ones shy away. The government declared a state of emergency in response to the violence, leading to concerns from international organizations. The government has promised to help investors recoup their losses, but the future remains uncertain. Many investors are waiting to see if the government can address the underlying issues causing the unrest.\n",
      "\n",
      "\n",
      "Iraqi Christians who were brutalized by the Islamic State and betrayed by their neighbors doubt they will ever be able to return to Mosul. The advance of the Islamic State scattered religious and ethnic minorities in the area, and the future of the region will be defined by who decides to return. While some villagers express hope in rebuilding and staying, others believe the area is lost and will only get worse. Iraq's news media has been showing images of soldiers recapturing desecrated churches, implying that it will soon be safe for Christians to return. However, Christians have been leaving Iraq for years, and community leaders say it will be difficult to go back to Mosul due to the pain and threats they experienced. Many Christians who do return would likely only do so to sell their houses and leave.\n",
      "\n",
      "\n",
      "A mass grave containing bodies showing evidence of torture by the Islamic State (ISIS) was discovered near Mosul, Iraq. The exact number of bodies and cause of death is unknown, but investigators believe that many more burial sites will be found as Iraqi forces continue to retake territory from ISIS. The bodies found in this grave had been dumped on piles of trash, with some showing signs of being bound and blindfolded. Locals reported that ISIS fighters had been rounding up former members of Iraqi security forces in the area. A UN human rights organization stated that ISIS recently abducted 295 former Iraqi security forces members and forced 1,500 families to retreat with them to the Mosul airport, potentially using them as human shields.\n",
      "\n",
      "\n",
      "The future of the Zika virus is uncertain. Experts have different opinions on how long it will stick around and how often it will return. Some believe it will behave like other arboviruses, recurring regularly with upticks in cases during the rainy season. Others predict that it will vanish in a few years, similar to chikungunya. The current outbreak in the Americas is due to the fact that people in the region had no immunity to the virus. Future outbreaks may be smaller if people develop immunity, but there could also be long lulls between outbreaks, allowing for a buildup of younger people who aren't immune. It is unclear if there will be fewer cases of microcephaly in the future due to the immunity gained from Zika infections. The impact of mosquito control efforts on young girls getting infected is also uncertain. It is unknown if Zika will strike Africa and Asia with the same ferocity as the Americas, but experts believe the two strains of Zika will be cross-protective. The uncertainty surrounding Zika's future affects the prospects for a vaccine. If Zika activity subsides, it will be difficult to conduct clinical trials to prove the vaccine's effectiveness. However, the fear of the virus's impact on developing fetuses may continue to drive demand for a vaccine.\n",
      "\n",
      "\n",
      "Islamic State militants in Iraq are kidnapping thousands of villagers and using them as human shields as they retreat towards Mosul. Those who refuse to comply are shot, while others are taken but manage to escape. The militants are also executing former policemen and army officers out of paranoia. This tactic of holding civilians hostage complicates the U.S.-led airstrikes and puts civilians at risk of being caught in crossfire. The militants have also set fire to oil wells and a sulfur plant, causing noxious fumes. As Iraqi forces advance towards Mosul, the militants are expected to put up a tough fight.\n",
      "\n",
      "\n",
      "Islamic State fighters launched a series of car bomb attacks in northern Syria as U.S.-backed forces began their push to retake Raqqa, the de facto capital of the Islamic State. The operation aims to isolate Raqqa and cut off supply routes for the militants. The car bomb attacks were a preview of the fierce battle that lies ahead. The U.S.-led coalition conducted airstrikes in support of the offensive. However, the U.S. also sought to calm Turkey, which is concerned about the increased influence of Kurdish groups in the region. The Obama administration faces the challenge of balancing its relationship with Turkey and the Syrian Kurdish forces it supports. Talks were held to secure Turkish support for the operation and to reassure Ankara that the offensive would not benefit Syrian Kurds.\n",
      "\n",
      "\n",
      "Two earthquakes hit central Italy, causing further damage to buildings already weakened by the August quake. Although there were no reports of serious injuries or deaths, the aftershocks revealed structural weaknesses in the area and added to the psychological stress of the residents. The government has allocated 40 million euros for housing those displaced by the quakes and promised to begin reconstruction soon. Thousands of people slept in their cars as emergency shelter was inadequate. The towns of Ussita and Visso were particularly affected, with a large percentage of houses deemed uninhabitable. The historic bell tower in Camerino collapsed, but the mayor stated that previous reconstruction work had contributed to the absence of serious injuries. With winter approaching, officials are considering alternative solutions to tents for housing the affected population, particularly the elderly.\n",
      "\n",
      "\n",
      "Janet Reno, the first female US attorney general, has passed away at the age of 78 after a long battle with Parkinson's disease. Reno served as attorney general under President Bill Clinton from 1993 to 2001. She was known for her dedication to justice, equality, and criminal justice reform. Reno oversaw high-profile convictions, including those of the \"Unabomber\" Ted Kaczynski and the perpetrators of the Oklahoma City bombing. However, her time in office was also marked by controversies, such as the Waco siege and the Elian Gonzalez custody dispute. Reno's career was characterized by her commitment to doing what was right, rather than what was easy or politically expedient. She will be remembered for her service, counsel, and friendship.\n",
      "\n",
      "\n",
      "A Japanese rail company has released a video discouraging women from applying make-up on trains. The video shows two women applying mascara and lipstick, and another woman whispers \"ugly to see\" before scolding them. Some people believe this is an excessive restriction on behavior, while others support the message. The rail company argues that the video is part of a series aimed at educating passengers on rules and etiquette. Other videos in the series focus on discouraging smartphone use while walking and carrying large bags on crowded trains. The top complaint by passengers using the trains is making loud noises.\n",
      "\n",
      "\n",
      "Boxer Floyd Mayweather Jr. is being sued by a Las Vegas jeweler for allegedly owing $1.4 million for a diamond necklace. The jeweler claims that Mayweather purchased a $3 million necklace and made several payments, but refused to pay the remaining balance. Mayweather's representative declined to comment on the lawsuit. Last year, Mayweather was ranked as the highest-paid celebrity, earning $300 million, but has since retired from boxing and currently sits at No. 54 on Forbes' list with $44 million earned in the last 12 months.\n",
      "\n",
      "\n",
      "Nahed Hattar, a Jordanian writer, was shot and killed outside a courthouse in Amman. He was facing charges for sharing an anti-ISIS cartoon that offended Muslim groups. Hattar had been remanded in custody last month for the Facebook post, which was deemed \"blasphemous.\" The cartoon was intended to criticize ISIS beliefs, but it sparked anger instead. Hattar's killing has been condemned by the government, and an investigation is underway. He was known for his controversial positions and support of Syrian President Bashar al-Assad. Jordan is a key member of the US-led coalition fighting ISIS.\n",
      "\n",
      "\n",
      "A judge declared a mistrial in the case of a white former police officer charged with murder in the fatal shooting of an unarmed black motorist during a traffic stop. The jury was deadlocked, with some leaning towards a conviction of voluntary manslaughter. The officer, Ray Tensing, shot Sam DuBose in the head after pulling him over for a missing license plate. Tensing testified that he feared for his life, but prosecutors argued that the evidence contradicted his story. The judge set a new hearing date to determine if the case will be retried. The DuBose family wants another trial and is disappointed with the jury's inability to reach a conclusion. The shooting has raised attention to how police deal with blacks. Legal experts say juries tend to give police officers the benefit of the doubt, but will convict if the actions were clearly unwarranted. The trial was conducted under heightened security due to the potential for unrest. The University of Cincinnati fired Tensing and reached a settlement with DuBose's family.\n",
      "\n",
      "\n",
      "A couple in Spokane, Washington found a baby kitten strangled to death and wrapped in phone and electrical chargers. The kitten's body was tightly bound, and its jaw was ripped down with a cord running through its mouth and around its neck. The couple is determined to find the person responsible for this cruel act and is fighting for animal rights and justice. They have reached out to a rescue group for help and are distributing flyers to raise awareness and gather information. They are urging the public to share the story on social media and talk about it with others.\n",
      "\n",
      "\n",
      "Kate Beckinsale's husband, Len Wiseman, has filed for divorce citing irreconcilable differences. Both parties have waived any right to spousal support, indicating the presence of a prenuptial agreement. The couple, who married in 2004 and have no children together, had their marriage on the rocks since November when Len was seen with model CJ Franco and Kate was spotted without her wedding ring on the red carpet.\n",
      "\n",
      "\n",
      "Sleep paralysis is a common sleep problem that affects around 8% of the population. It occurs when a person is awake and conscious but unable to move, except for their eyes. Sleep paralysis often involves nightmares or hallucinations and can last from a few seconds to a few minutes. The causes of sleep paralysis are not fully understood, but stress and disruptions to sleep, such as alcohol or caffeine, can increase the risk. It can also be a symptom of other sleep disorders and mental health conditions. Kendall Jenner discussed her struggles with sleep paralysis, which may be linked to her anxiety and jet lag. Sleep paralysis is more common in people with mental health problems and young adults. For most people, it is not a chronic condition, but some individuals experience recurrent episodes. Practicing good sleep behaviors, such as avoiding alcohol and caffeine and sleeping on your side, can help prevent sleep paralysis. If it becomes a problem, a specialist may be able to prescribe medications to suppress REM sleep and alleviate symptoms.\n",
      "\n",
      "\n",
      "Bob Murken, the city's director of legislative affairs, had a near-death experience after being attacked by flesh-eating bacteria. He was diagnosed with necrotizing fasciitis, a rare disease that has a 25% fatality rate. Murken underwent multiple surgeries and spent three weeks in critical care before being able to return home. Despite the ordeal, he was able to ride his bike to work again in mid-August. The timing of his illness was unfortunate, as he was in the midst of working on Mayor Kenney's tax on sweetened beverages.\n",
      "\n",
      "\n",
      "The Kenyan government has deported a senior South Sudan opposition member, James Gatdet Dak, despite threats against him. This comes after the UN dismissed the Kenyan general in charge of the peacekeeping force in South Sudan for failing to protect civilians during recent violence. Dak, a spokesman for the main South Sudanese rebel group, expressed support for the removal of the Kenyan top officer in the UN mission in South Sudan in a Facebook post. The conflict in South Sudan has resulted in tens of thousands of deaths and displacement of hundreds of thousands. Human rights experts warn that Dak is at risk in South Sudan. Kenya has threatened to withdraw its peacekeeping troops from South Sudan following the dismissal of their general. The row between the UN and the Kenyan government highlights the tense relations between the two.\n",
      "\n",
      "\n",
      "Kesha revealed in an interview with The New York Times magazine that she was under immense pressure to maintain a party girl image and dumb down her music while working with her former producer, Dr. Luke. She also stated that she was pressured to starve herself, which led her to check into a treatment center for eating disorders in 2014. Kesha has been open about her struggles with body image and has since taken steps towards reinvention. However, Dr. Luke's lawyer released a statement claiming that Kesha's allegations are false and part of a press campaign to mislead the public. The lawyer also stated that Kesha had the freedom to release music but chose not to until recently.\n",
      "\n",
      "\n",
      "Comedian and actor Kevin Meaney has died at his home in Forestburgh, New York. The cause of death and his age are currently unknown. Meaney was known for his appearances on late-night TV and his catchphrase, \"That's not right.\" He gained fame after his HBO special in 1986 and made multiple appearances on \"The Tonight Show\" with Johnny Carson. Meaney also starred in the CBS sitcom \"Uncle Buck\" and appeared on \"Saturday Night Live.\" Fellow comedians have expressed their condolences on Twitter.\n",
      "\n",
      "\n",
      "Kim Kardashian West was held at gunpoint in a robbery in Paris, where a group of men stole millions of dollars' worth of jewelry. The concierge, Abdulrahman, revealed that the robbers initially wanted money, not jewels. There was speculation that a diamond ring Kardashian West showed off on social media prompted the heist, but Abdulrahman clarified that the robber was only interested in money. After giving him the ring, the thief pocketed it and continued to demand money. Some jewels and gold were lost because the thief left the bag open. The police are still investigating, but no arrests have been made. Kardashian West has reduced her social media presence and public outings since the incident.\n",
      "\n",
      "\n",
      "Kylie Jenner warns her fans about the dangers of purchasing fake lip kits and other products from unauthorized websites. She emphasizes that the only legitimate place to buy her products is kyliecosmetics.com. Jenner expresses concern about the harmful ingredients used in counterfeit products and urges her customers to prioritize their safety. She advises against shopping elsewhere to avoid being scammed and encourages her fans to only purchase from her official website.\n",
      "\n",
      "\n",
      "L'Oréal is facing another lawsuit from a customer who claims that their hair relaxer product caused bald spots, burns, blistering, and scabs on her scalp. The customer relied on the promise of fuller, silkier hair but was disappointed with the results. This lawsuit follows similar allegations made by a group of angry customers in September. The plaintiff is seeking more than $5 million in damages on behalf of all women who were allegedly burned by the product.\n",
      "\n",
      "\n",
      "Lena Headey, known for her role in \"Game of Thrones,\" is involved in a custody battle with her ex-husband over their 6-year-old son. They had initially agreed to share joint custody in England, but her ex-husband now wants their son to live with him in Los Angeles. Lena has offered various compromises, but he has rejected them. The case will now be decided by a judge.\n",
      "\n",
      "\n",
      "A man is suing Royal Caribbean after his husband fell overboard during a Caribbean cruise and died. The lawsuit claims that the cruise line failed to make a timely attempt to save him or recover his body. The husband alleges that they were subjected to homophobic taunts and slurs from crewmembers before the incident. The argument escalated, and the husband fell off the stateroom balcony, landing on a lifeboat before falling into the ocean. The complaint states that security officers failed to secure and rescue him. The Coast Guard performed a search-and-rescue operation, but the body was never found. The husband is seeking compensatory damages for negligence and emotional distress.\n",
      "\n",
      "\n",
      "Lead contamination in a housing project in South Los Angeles is putting 300 children at risk of lead poisoning. Elevated blood lead levels have been recorded in the children, with some levels well above the CDC threshold. The former industrial site near the housing project has been found to have elevated lead and arsenic levels. The proposed lowering of the lead detection level for federal cleanup action could affect millions of subsidized and public housing units. The site has been cleaned up, but residents are concerned about the impact of planned demolition. Lead levels have also been found in nearby schools, but authorities claim they are not a risk to human health. The housing project also faces other pollution issues, including a trichloroethylene plume in the groundwater and a breach in an underground oil pipeline. Soil tests conducted by a nonprofit organization found that over 50% of the samples taken exceeded the cleanup threshold. The situation has been described as a case of environmental racism.\n",
      "\n",
      "\n",
      "Leon Russell, a musician known for his dynamic performances, has died at the age of 74. He emerged in the 1970s as a prominent rock 'n' roll performer and songwriter after working as a studio pianist in the 1960s. Russell's health had been declining in recent years, and he had undergone surgery and suffered a heart attack. However, he had plans to return to the road in January. Russell's period of stardom was relatively short, but he experienced a comeback in 2010 when he collaborated with Elton John on an album. Russell recorded numerous albums and was also a successful songwriter for other artists. He was known for his unique image and energetic stage presence. Russell's last performance was in July 2016. He began his career as part of the Wrecking Crew, a group of studio musicians, and later became a star in his own right. Russell's collaboration with Elton John brought him back into the spotlight after a period of relative obscurity.\n",
      "\n",
      "\n",
      "Leonard Cohen, the renowned songwriter and poet, died in his sleep after a fall in his Los Angeles home. His death was sudden and unexpected. Cohen, known for his religious imagery and themes of redemption and desire, was buried in Montreal next to his parents. He was born into a Jewish family and moved to New York in 1966 to pursue a career in music. Although he influenced many musicians and received numerous honors, Cohen rarely achieved mainstream success. His most famous song, \"Hallelujah,\" has been covered by countless artists. Cohen's work explored religion, love, politics, and the search for balance in life.\n",
      "\n",
      "\n",
      "Leonard Cohen, the Canadian poet, novelist, and songwriter, has died at the age of 82. Cohen, known for his spare and profound lyrics, wrote songs that explored themes of love, faith, despair, and politics. His best-known song, \"Hallelujah,\" has been covered by over 200 artists. Cohen's career spanned nearly five decades, during which he released 14 studio albums. He was inducted into the Rock and Roll Hall of Fame in 2008. Cohen's final studio album, \"You Want It Darker,\" was released in October. He will be remembered as a master of poetic songwriting and an enigmatic figure in the music industry.\n",
      "\n",
      "\n",
      "An appeals court in Florida has upheld the murder conviction of Michael Dunn, a white man who fatally shot a black teenager during an argument over loud rap music. Dunn was sentenced to life in prison without parole in 2014 for the shooting of Jordan Davis. Dunn's lawyers argued that he acted in self-defense, but the court denied their claim. The case drew national attention and sparked debate over Florida's \"Stand Your Ground\" law and racial issues. Davis' family expressed relief at the court's decision, but acknowledged that their fight for justice and changes in gun laws continues.\n",
      "\n",
      "\n",
      "A homeless man who trespassed onto Miranda Kerr's property and allegedly stabbed her security guard has been charged with attempted murder, assault with a deadly weapon, and mayhem. The intruder, Shaun Haywood, was shot four times during the confrontation. Miranda Kerr was not present during the incident. If convicted, Haywood could face life imprisonment.\n",
      "\n",
      "\n",
      "A Texas man, Terry Washington, was arrested for allegedly beating a turtle to death with a hammer. He claimed self-defense, stating that the turtle lunged at him and tried to bite him while he was fishing at Austin's Lady Bird Lake. A passerby captured a graphic video of the incident, which led to Washington's arrest. He has been charged with cruelty to a non-livestock animal, a felony offense, and is currently in jail on a $5,000 bond.\n",
      "\n",
      "\n",
      "Protests in Charlotte turned violent for a second night after a man was shot during a demonstration. The unidentified man is on life support after what officials called a \"civilian on civilian\" confrontation. Tear gas was used by law enforcement to restore order. The shooting has increased tension between the police and demonstrators. The unrest in Charlotte follows two other police-involved shootings in the past week. The shootings are under investigation and have sparked debate on the issues of police violence and gun control. The incident has also become a focal point in the presidential campaign.\n",
      "\n",
      "\n",
      "A man named Christopher Cadenbach killed his two young sons and then himself in an apparent murder-suicide. Cadenbach was wanted for domestic violence and the police had been searching for him. His mother became concerned when he said he wouldn't be taken alive, so she alerted the police. An Amber Alert was issued for his two abducted sons. The police found Cadenbach in a local park and as soon as they arrived, he started shooting his children. The police tried to engage him, but he ultimately took his own life.\n",
      "\n",
      "\n",
      "A man in China inserted a 7-inch long stainless-steel chopstick into his penis to investigate blood in his urine. He had to undergo surgery to remove the object, which had reached his rectal wall. Doctors warned that pushing it further could have been fatal. The man is now recovering in the hospital, but it is unclear if he will experience any long-term damage.\n",
      "\n",
      "\n",
      "A white police officer in Tulsa, Oklahoma has been charged with first-degree manslaughter for fatally shooting an unarmed black driver. Officer Betty Jo Shelby claimed she feared for her life when Terence Crutcher, the driver, did not respond to her commands and walked away with his hands up. Prosecutors have charged her with committing manslaughter \"in the heat of passion.\" The shooting has sparked outrage and is part of a larger pattern of police killings of black individuals. The officer has been placed on paid administrative leave and a separate investigation is being conducted to determine if Crutcher's civil rights were violated.\n",
      "\n",
      "\n",
      "Mariah Carey was seen having dinner with her backup dancer, Bryan Tanaka, at Nobu in Malibu. This comes after her ex-fiancé, James Packer, had a confrontation with Tanaka in Mariah's dressing room and got him banned from Caesar's Palace. Mariah and James had a messy breakup, with Mariah accusing him of mistreating her assistant on a yacht in Greece.\n",
      "\n",
      "\n",
      "Senator Mark Kirk apologized to his opponent, Representative Tammy Duckworth, after using her Thai heritage to criticize her family's military history during a debate. Duckworth accepted the apology and urged Kirk to focus on the issues. Kirk had questioned Duckworth's ties to the American Revolution, to which she responded by highlighting her family's long history of military service. Kellyanne Conway, Donald Trump's campaign manager, mocked Kirk over the incident. Duckworth, an Iraq War veteran who lost her legs and partial use of her right arm during a mission, was born in Thailand but has deep American roots. Kirk has previously faced criticism for misrepresenting his military career. Duckworth's opponents have also faced criticism for attacking her war record.\n",
      "\n",
      "\n",
      "A mass grave containing the bodies of hundreds of Iraqi policemen who were executed by ISIS has been discovered near Mosul. The grave was found by Iraqi security forces during their assault on the ISIS stronghold. The bodies are believed to have been buried as recently as October, just before the US-backed forces began their assault on Mosul. The grave was visited by Human Rights Watch, who found four exposed corpses and piles of rubbish covering other bodies. Witnesses reported that ISIS rounded up around 2,000 people from the area and forced them to head towards Mosul, separating the former policemen and driving them away. Gunfire and screams were heard on multiple occasions, indicating further executions. Human Rights Watch has called for ISIS to be held accountable for these crimes against humanity.\n",
      "\n",
      "\n",
      "The Bramble Cay melomys, a reddish-brown rodent, recently made international news when it was declared extinct. While climate change played a role in its demise, human inaction was the ultimate cause. Rising sea levels due to climate change destroyed the melomys' habitat and food sources. However, it was revealed that Australian researchers had planned to start a captive breeding program for the melomys, but they were unable to find any individuals on Bramble Cay. This missed opportunity highlights the tragedy that had been unfolding for years. In a new paper, biologist John Woinarski and colleagues argue that the extinction of the melomys, along with two other Australian species, could have been prevented. The Christmas Island pipistrelle and Christmas Island forest skink also suffered from human neglect and inaction, allowing introduced predators to decimate their populations. Australia's biodiversity conservation law lacks explicit commitment to preventing human-caused extinctions, leaving species vulnerable. These extinctions are often overlooked due to the small size and remote locations of the species. Australia has the highest rate of mammal extinctions in the world, with 30 species lost since European colonization. Woinarski's assessment is driven by personal grief and a desire to learn from past mistakes. Australia still has over a thousand threatened and endangered species, and action is needed to prevent further extinctions. While climate change did contribute to the melomys' extinction, it is important to recognize the other environmental factors and the human choice to not save the species.\n",
      "\n",
      "\n",
      "The protest against the Dakota Access pipeline has grown to include thousands of Native Americans from hundreds of tribes. The Standing Rock Sioux Tribe is concerned about the pipeline potentially contaminating their water supply and violating historical and cultural sites. The protests gained national attention when private security used dogs and pepper spray on protesters. A federal judge has halted the pipeline's construction, and museum workers and archaeologists have called for a more thorough review of the potential risk to artifacts. Native Americans from across the country have joined the protest, aiming to stop the pipeline and protect the environment. The protest continues both on-site and online.\n",
      "\n",
      "\n",
      "Members of the band Eagles of Death Metal, who were playing at the Bataclan concert hall during the Paris Attacks, attended a memorial in Paris to honor the 130 people killed in the coordinated terrorist attacks. The band's frontman, Jesse Hughes, praised the city's response to the tragedy. Sting performed the first show at the Bataclan since the attacks, but Hughes was not allowed to enter due to his previous comments about Muslim security personnel collaborating with the attackers. Hughes later apologized for his statement. At the memorial, Hughes expressed his gratitude to the people of France. Sting's performance included a moment of silence and a statement in French to remember the victims and celebrate the venue's history.\n",
      "\n",
      "\n",
      "A recent study suggests that men conceived through intracytoplasmic sperm injection (ICSI), a type of in vitro fertilization, may have lower sperm concentration and more fertility struggles compared to men conceived naturally. The study focused on 54 men conceived through ICSI and found that they had lower average sperm concentration, total sperm count, and total motile sperm count. The researchers suggest that couples should be informed about this potential outcome before undergoing ICSI. However, the study also found that a low sperm concentration in fathers did not necessarily match the values found in their sons. Therefore, some men conceived through ICSI may still be able to father children naturally. It is recommended for them to start trying to conceive at a younger age, as fertility declines with age.\n",
      "\n",
      "\n",
      "Mexico is bracing for the consequences of a Trump presidency, as his campaign promises of building a wall, renegotiating trade deals, and deporting Mexican immigrants threaten the country's economy and relationship with the US. The peso has already suffered a significant drop, and experts predict a turbulent financial future for Mexico. The election has also caused an existential crisis for Mexico, as it reflects the negative image the country has in the US. Canada is also concerned about the impact of Trump's presidency, particularly on trade. While some Canadians reacted with anxiety, others saw it as an opportunity for pride. The election has forced Mexico to rethink its relationship with the US, and President Peña Nieto has expressed his willingness to work with Trump. However, paying for a wall is out of Mexico's vision, and the country hopes to continue collaborating with the US for mutual development. The election will likely have the most profound impact on the economy, as the US and Mexico are deeply integrated in terms of trade and employment. Mexico is America's third-largest trading partner, and millions of American jobs are tied to trade with Mexico. Trump's argument that Mexico benefits more from NAFTA than the US resonated with some voters, but experts believe that Mexico has little leverage to apply pressure in the relationship. An economic crisis in Mexico could lead to a migration crisis, as Mexicans may seek work in the US. However, some believe that the threat from the outside will bring Mexicans together and encourage them to work harder. There is optimism that Trump's hostile talk will diminish once he takes office, and that economic factors will temper his policies towards Mexico. However, with the Republican control of the House and Senate, Trump's victory signals an ideological realignment in the US.\n",
      "\n",
      "\n",
      "Miami Marlins pitcher José Fernández, a Cuban defector who became a star in Major League Baseball, was killed in a boating accident. Fernández, along with two other men, was found dead after their boat was discovered upside down on a rocky jetty. The boat had hit the rocks at full speed, and none of the victims were wearing life vests. Fernández, who was 24 years old, was not the owner of the boat. The accident has shocked the baseball community, with players and fans expressing their grief on social media. Fernández's death is seen as a tragic loss for Miami, baseball, and anyone who knew him.\n",
      "\n",
      "\n",
      "Michael Bublé's friend and mentor, David Foster, provided an update on how the singer is coping after his 3-year-old son, Noah, was diagnosed with cancer. Foster stated that Bublé is currently in a \"huge bubble\" and will not sing again until his child is well. Despite the heartbreaking diagnosis, Bublé is in good shape and has good doctors supporting him. Foster believes that Bublé's \"good karma\" will contribute to a positive outcome. Bublé and his wife have asked for privacy as they focus on helping Noah get well.\n",
      "\n",
      "\n",
      "Actor Michael Douglas has expressed concerns about the health of his former co-star Val Kilmer, suggesting that Kilmer is dealing with oral cancer. However, Kilmer has dismissed these claims and continues to make promotional plans for his movie \"Cinema Twain.\" Kilmer has previously faced rumors about his health, but he has denied them and has since had a tracheostomy tube removed. Douglas, who battled stage four oral cancer himself, has stated that Kilmer's situation does not look good.\n",
      "\n",
      "\n",
      "Filmmaker and activist Michael Moore wrote a \"Morning After To-Do List\" for Democrats, urging them to fire pundits, pollsters, and media members who clung to an incorrect election narrative. He also called for Democrats to remove any members of Congress who aren't ready to fight and to remind people that Hillary Clinton won the popular vote. Moore argued that Trump's victory was not a surprise, as he had predicted it in his film \"Michael Moore in TrumpLand.\" He attributed Trump's success to the anger and despair of working-class Americans who have been neglected by both parties. Late night hosts offered a mix of encouraging messages and punchlines after the election.\n",
      "\n",
      "\n",
      "A new study by Arizona State University researchers found that middle school is the most stressful time for mothers. The study involved analyzing surveys from over 2,200 well-educated moms across the country, and mothers of only middle-school-age children reported the highest levels of stress, loneliness, and emptiness. Middle school is a challenging time for children, with raging hormones, changing bodies and brains, exposure to peer pressure and risky behaviors, and a desire for independence while still feeling dependent on parents. Parents often struggle to navigate these changes and may not realize that their children still want a relationship with them. It is important for parents to listen, be supportive, and not give up during this time. Developing a strong relationship during middle school can carry into the teen years and young adulthood. Mothers should also reach out to other moms for support during this challenging time.\n",
      "\n",
      "\n",
      "A new report by the Natural Resources Defense Council (NRDC) reveals that over 18 million Americans are supplied with drinking water that violates federal laws on lead content. The report states that the water crisis in Flint, Michigan is not an isolated incident, and that violations of national rules protecting against lead contamination are widespread. The NRDC's analysis of Environmental Protection Agency (EPA) data shows that 5,363 water systems, serving more than 18 million people, breached the federal Lead and Copper Rule in 2015. These violations include inadequate testing for lead and insufficient treatment to prevent lead from leaching into the water supply. The violations occurred in almost every state, with 1,110 community water utilities providing water that exceeded the EPA's actionable limit for lead. Despite the widespread failure of water suppliers, very few were punished by the EPA last year. Of the over 8,000 violations, enforcement action was only taken against 11% of cases, and penalties were sought for just 3% of violations. The EPA has acknowledged the challenges in compliance with the Lead and Copper Rule and has intensified work with state drinking water programs. However, a revised rule will not be implemented until 2017 at the earliest. The NRDC emphasizes that unsafe drinking water is a national problem that requires a national solution. The failure of the system to detect violations is highlighted by the fact that Flint was not considered in violation of the Lead and Copper Rule last year, despite the well-known water crisis. The CDC has reported that lead levels in the blood of Flint children significantly increased after the city switched its water supply. The NRDC also revealed that water utilities often manipulate test results to downplay lead levels. The Guardian has reported that at least 33 US cities have used methods to mask the true level of lead in water tests. The report raises concerns about the extent of the issue and calls for a coordinated effort at all levels to prevent future crises.\n",
      "\n",
      "\n",
      "Australian hiker Andrew Gaskell, who went missing in Malaysia's Mulu National Park, has been found alive after two weeks. He survived by eating berries, bananas, and wild fruit. Gaskell was discovered covered in leeches and disoriented but is in stable condition with minor injuries. His friend described him as mentally strong, which likely helped him endure. Gaskell's family had difficulty contacting him due to poor mobile coverage in the hiking area.\n",
      "\n",
      "\n",
      "Maia Sandu, a presidential candidate in Moldova, is facing criticism for being a single woman. Former President Vladimir Voronin, who is chairman of the communist party, stated that presidential candidates should be married and campaign with their spouses. He refused to even shake Sandu's hand, calling her a \"betrayal of family values\" and a \"national disgrace.\" Bishop Marchel, a leader in the Moldovan Orthodox Church, also attacked Sandu, claiming that her attitude towards Christian morality diverges from normal principles. Sandu defended herself, stating that being a single woman is not a shame. Voronin also criticized Sandu's opponent, Igor Dodon, but implied that Dodon is a preferable choice. Sandu has campaigned on a pro-European Union platform, while Dodon aligns his views with those of U.S. President-elect Donald Trump. The presidential election in Moldova will have a runoff vote on November 13.\n",
      "\n",
      "\n",
      "A UK mom, Jodie Shaw, posted a photo of her C-section scar on Instagram to challenge the notion that C-sections are \"the easy way out.\" Shaw explained that she had to have a C-section due to a fibroid and low-lying placenta. She wanted to show that sometimes women don't have a choice in their birth plans. The photo received positive responses and reached thousands of likes on social media. Shaw hopes her story educates people about different types of births and emphasizes that a C-section is still a valid method of giving birth.\n",
      "\n",
      "\n",
      "A mother in Fresno, Texas kicked her son out of the house after he voted for Donald Trump in a school mock election. The incident was captured on video and went viral. The mother made the child stand on a street corner with a sign explaining why he was kicked out. The case is not considered child abuse, and no charges have been filed. The mother described it as a joke.\n",
      "\n",
      "\n",
      "A pickup truck collided with a small utility trailer on Halloween night in Chunky, Mississippi, resulting in the death of a mother and her two daughters. The trailer was hit from behind, and the family was among 10 people on board. The other injured individuals include the middle child of the family, the sister of the mother, and her children. The surviving child is in critical condition. The cause of the accident is under investigation. The community is devastated by the tragedy, and counselors are providing support to the school and community members affected by the incident.\n",
      "\n",
      "\n",
      "A new study reveals that U.S. veterans have a high prevalence of sleep disorders, with sixteen percent of veterans with PTSD experiencing sleep disorders. The prevalence of sleep disorders among veterans has increased from less than one percent in 2000 to about six percent in 2010. Sleep apnea is the most common sleep disorder among veterans, followed by insomnia. Veterans with cancer, cardiovascular disease, and other chronic diseases also have higher rates of sleep disorders. The study did not establish a direct link between PTSD and sleep disorders, but a follow-up study will examine this connection.\n",
      "\n",
      "\n",
      "The UN reports that tens of thousands of civilians have been abducted by ISIS in Mosul and used as human shields. The group has also killed former security service members and civilians who refused to obey their orders. Iraqi, Kurdish, and allied forces are advancing to retake Mosul, but there are concerns that ISIS will use the remaining 1.5 million people in the city to defend themselves. Reports suggest that civilians have been forced from their homes and relocated inside the city since the offensive began. ISIS is preventing families from fleeing to territory held by the Iraqi army and targeting those suspected of disloyalty.\n",
      "\n",
      "\n",
      "According to FBI data, murders in the US increased by 10.8% in 2015, the largest single-year percentage jump since 1971. The rise in violence was driven by an increase in the murders of black men and an increase in gun murders. The number of firearm murders increased by roughly 1,500, while knife murders dropped slightly. The percentage of murders committed with guns increased to 71.5%. Despite the increase in murders, overall crime rates did not increase substantially. The attorney general mentioned the overall increase in violent crime but did not mention the increase in murders. A third of the murder increase was driven by ten larger cities, including Baltimore and Chicago. Black men and women face less violence today than in the early 1990s. In a separate incident, two New Jersey Transit buses crashed in the Lincoln Tunnel, injuring as many as 44 people.\n",
      "\n",
      "\n",
      "A Muslim woman wearing traditional garments had her clothes set on fire by a man with a lighter while shopping on Fifth Avenue in New York City. The woman noticed her blouse was on fire and saw a man with a lighter in his hand before he walked away. The incident is being investigated as a hate crime, but no suspects have been identified or arrested. This incident follows a recent attack where a Brooklyn woman allegedly beat two Muslim mothers and tried to rip off their hijabs. The Council on American-Islamic Relations has expressed concern over the increasing attacks on Muslims and called for more resources to prevent such incidents. Another attack in August involved a Queens man shooting and killing an imam and his assistant. The suspect in that case denies the charges.\n",
      "\n",
      "\n",
      "Two girls in Myanmar who were kept prisoner and tortured for five years in a tailor shop have sparked outrage and an investigation. The police had previously refused to get involved despite pleas from the girls' families. The girls, who were sent to work in the shop at the ages of 11 and 12, were denied contact with their parents, not paid, and subjected to abuse. The case highlights the issue of child slavery in Myanmar, where at least a million children are forced to give up education and work. The authorities' handling of the case has angered the public, who see it as evidence of a biased judicial system. It was only when a journalist got involved that action was taken, leading to the arrest of the tailor and her two adult children. The president has ordered a report on how the police handled the case and is taking a closer look at the work of the human rights commission. The journalist involved is receiving a presidential award for his efforts.\n",
      "\n",
      "\n",
      "Indian Prime Minister Narendra Modi defended his surprise ban on most currency in circulation in India, which has caused chaos and inconvenience for millions of people. Modi argued that the ban was necessary to fight corruption and reduce the use of unaccounted-for cash in the country. However, opposition leaders and many citizens have criticized the move, as people have faced long lines at banks and ATMs, and many machines have run out of cash. Despite the hardships, some individuals expressed support for the ban, believing that it will ultimately benefit the nation. The transition to new currency notes has been complicated by the fact that many ATMs are not working and cannot dispense the new notes. The Finance Ministry reported that Indians have deposited about $45 billion in banned currency notes since the policy began, while banks and ATMs have given out $7.5 billion in new currency notes. The ban has had a significant impact on businesses, with sales falling and customers unable to pay with cash. While some individuals believe the ban is necessary, others argue that it is causing unnecessary suffering for the poor and that the real black money is hidden in Swiss bank accounts.\n",
      "\n",
      "\n",
      "A new study warns that if climate change continues, deserts in the Middle East will expand to the Mediterranean and even reach Southern Spain, transforming forests into barren lands. The study, published in the journal Science, used climate models and historical data to predict the changes in the Mediterranean if the Paris Agreement fails. Researchers found that when global warming hits 2 degrees, deserts would expand in Spain, the Near East, and North Africa. The impact of temperature changes on lands and people's lives could also affect global security. President Barack Obama has called for the development of clean energy resources to avoid conflicts and criticized climate change skeptics. He also suggested that droughts in Syria contributed to the civil war.\n",
      "\n",
      "\n",
      "The Transportation Department has released data on discrimination complaints filed against airlines, showing a 37% increase in such complaints this year. The move comes in response to concerns about discriminatory treatment by airlines, particularly incidents involving Muslims. The data revealed that 52 complaints were based on race, 8 on national origin, 1 on color, 2 on religion, and 4 on sex discrimination. In September, the department received 6 discrimination complaints, down from the previous year. Additionally, the report showed a decrease in complaints regarding the treatment of disabled passengers. The report also included information on airlines' on-time performance, flight delays, baggage handling, and incidents involving animals.\n",
      "\n",
      "\n",
      "The flood-ravaged state of Louisiana may face a population loss as residents consider leaving after the flood waters recede. While few people have confirmed their departure, it is a topic of discussion among many. The state's economy will suffer if there is a decline in population, as it will reduce spending and tax revenue. Louisiana experienced a 6% population decrease after hurricanes Katrina and Rita in 2005, taking over five years to recover. Although this year's exodus is unlikely to be as severe, the shortage of available housing and the closure of small businesses due to the flooding pose challenges. Additionally, the decline in oil industry jobs and the state's high unemployment rate further complicate the situation. The aid and insurance money that typically accompanies natural disasters may not be enough to prevent people from leaving, exacerbating an already struggling economy.\n",
      "\n",
      "\n",
      "Nigeria is investigating reports of sexual abuse and rape of women and girls who survived Boko Haram violence. Human Rights Watch published a report detailing accounts of sexual abuse and coercion by camp leaders, vigilante group members, policemen, and soldiers at camps in Borno State. The Inspector General of Police has set up a special team to investigate the cases. The victims, many of whom were impregnated by their abusers, had escaped captivity by Boko Haram only to become victims at the camps. The Borno State governor plans to deploy undercover detectives to the camps to bring the culprits to justice. Boko Haram is responsible for thousands of deaths and displacements in Nigeria.\n",
      "\n",
      "\n",
      "Nigerian police are investigating a video of a boy being beaten and set on fire for allegedly stealing food. The victim's age and location are disputed, with some reports claiming he was a seven-year-old attacked in Lagos, while others say he was in his twenties and part of a robbery gang. The police have stated that the video does not suggest the assault occurred in Lagos. The footage has sparked outrage and calls for justice to be served.\n",
      "\n",
      "\n",
      "Rescue teams are working to save more people trapped in the rubble of a collapsed 10-storey building in Kisii Town. The death toll currently stands at nine, with hopes of finding more survivors. The rescue efforts are being coordinated by the Kenya Defence Forces, Kenya Red Cross, and St-John Ambulance personnel. It is suspected that drilling underneath the building may have caused its collapse. The developer of the building is currently in hiding, and authorities are urging him to surrender for investigation. The blame game between the county and national governments has been criticized, with the focus being on rescue operations. Efforts are being made to save those still trapped, with additional tools and machinery ordered. The NCA is assessing adjacent buildings for safety, as they pose a danger to the rescue operations. All buildings in Kisii Town will be assessed to ensure their safety, and contractors are warned against violating construction procedures. This is the second incident this year, following the collapse in Huruma, Nairobi County. The developer of the Kisii building is being blamed for ignoring NCA warnings.\n",
      "\n",
      "\n",
      "The North Carolina Republican Party has condemned the Ku Klux Klan (KKK) for planning a parade to honor President-elect Donald Trump's victory. The KKK's official newspaper had previously expressed support for Trump. The Trump campaign quickly denounced the parade and reiterated their disavowal of hate groups. This is not the first time Trump has faced criticism for his response to white supremacists, as he was hesitant to disavow support from former KKK leader David Duke during the campaign.\n",
      "\n",
      "\n",
      "North Korea has experienced heavy flooding caused by Typhoon Lionrock, leading to an unusual appeal for help from the government. The flooding has caused significant destruction to homes, infrastructure, and power systems in the country's Northeastern Hamgyong province. At least 133 people have been killed and nearly 400 are missing. The government has redirected its loyalty campaign to assist those affected. This public admission of needing help is rare for North Korea. The international community is being called upon to respond to the disaster. This comes after North Korea's fifth nuclear test, which was met with international condemnation.\n",
      "\n",
      "\n",
      "The E-Rate program, which provides subsidies for schools to enhance internet connections, has received bipartisan support and billions of dollars in funding. However, a study in North Carolina found that the program had no benefits for students and actually hurt their performance. Other research has also shown little to no gains in student achievement with improved computer access. Despite this, the program has continued to receive funding and has been plagued with fraud and lax oversight. Additionally, the push for more advanced networks and expensive technology may not be necessary, as many educational resources do not require high bandwidth connections. The funding for E-Rate comes from a tax on long distance telecommunications, which disproportionately affects lower-income households. The article suggests suspending the program until its effectiveness can be objectively tested, and exploring other options for using the funds.\n",
      "\n",
      "\n",
      "The Oklahoma Highway Patrol is set to release dashcam video of a car chase and deadly gun battle with Michael Vance, a suspect in a series of violent crimes. Vance was killed by troopers near Leedey, Oklahoma, after being suspected of killing two relatives and shooting three law enforcement officers. The video will be released at a press conference on Tuesday.\n",
      "\n",
      "\n",
      "Microcephaly, a birth defect characterized by malformed heads and stunted brain development, has been linked to the Zika virus. The severity of microcephaly can vary, but it often results in mental impairment. Detecting the condition before birth is difficult, leading to debates about abortion. Raising a child with microcephaly requires extensive care and support, which can be costly. Early intervention programs can help, but they often end after three years. The CDC and American Academy of Pediatrics have published guidelines for evaluating and caring for infants with Zika-related microcephaly. The cost of care for each child is estimated to be $10 million over a lifetime. Families with resources, like the Grounds family, can provide the best care for their child, but many others struggle. Nicholas, a child with microcephaly, has made progress with intensive intervention, but ongoing support is necessary. Parents of children with microcephaly need support throughout their lives. Genetic testing revealed that Nicholas inherited two mutated genes from his parents, causing microcephaly. The odds of their second child having the condition were one in four.\n",
      "\n",
      "\n",
      "The author criticizes the Republican Party for not defending women against Donald Trump's sexist remarks and behavior. She questions why GOP leaders did not stand up for women after they had defended the party against accusations of sexism for years. The author suggests that the party prioritized appealing to certain voters over appealing to women. She argues that Trump's comments were not just \"locker room talk\" but a confession of assault. The author highlights how the Republican Party ignored Trump's chauvinism and even used their influence to force Republicans to support him. She believes that the GOP will suffer in the election and calls for the political obituaries of Trump's defenders. The author concludes by stating that she will not vote for Trump and warns that the GOP will lose the women's vote if they do not defend them.\n",
      "\n",
      "\n",
      "The US military has admitted that civilians were likely killed in a joint Afghan-US operation in Kunduz, Afghanistan. The operation targeted Taliban leaders planning attacks in the city. Alongside the 30 civilians, two US service members were also killed. The US military expressed regret for the loss of innocent lives and promised to investigate the incident. Afghan forces, with US military advice, conducted the operation and encountered significant enemy fire. In addition to the civilian casualties, four members of Afghan special forces were killed, and 26 insurgents were killed. The Pentagon identified the dead US service members and expressed condolences. The incident occurred on the same day as a Taliban mortar attack that killed seven people attending a wedding party. In April, the Pentagon announced disciplinary action for a fatal US strike on a Kunduz hospital in 2015. The strike was deemed unintentional human error and equipment failure, rather than a war crime.\n",
      "\n",
      "\n",
      "Seven leaders of an armed militia who led a 41-day stand-off at a US federal wildlife refuge in Oregon have been acquitted of conspiracy and firearms charges. The occupation of the refuge, which began in January, was a protest against federal control of land. The defendants argued that they did not intend to prevent federal officers from going to work, and the jury was unable to find beyond reasonable doubt that they had. The acquittal has been seen as a victory for states' rights and a blow to the federal government. The case against a second group of defendants is due to go to trial in February.\n",
      "\n",
      "\n",
      "The Orlando gunman, Omar Mateen, was known to the FBI for years but was not considered a security threat. This highlights the challenge of identifying \"lone wolf\" terrorists who are not connected to established extremist groups. The FBI retains data on individuals even after determining they are not a threat, raising concerns about privacy rights. The shooting has sparked debate about whether individuals interviewed by the FBI should be able to purchase guns or be under continued surveillance. The FBI interviewed Mateen multiple times but was unable to find any suspicious ties. The bureau is allowed to keep data on individuals even after closing investigations, which has raised concerns about privacy. Trust between local communities and the government is crucial in identifying domestic lone-wolf extremists before they commit acts of terrorism. The difficulty in identifying individuals like Mateen highlights the lack of a profile for potential terrorists.\n",
      "\n",
      "\n",
      "Police in Northeast Philadelphia are seeking the public's help in identifying an elderly woman who was found wandering without a coat in the middle of the night. The woman, believed to be in her late 60s or early 70s, was uncooperative and confused when approached by officers. She has been taken to the hospital for evaluation, and authorities are now trying to locate her family. Anyone with information is urged to contact the Northeast Detective Division or call 911.\n",
      "\n",
      "\n",
      "Pakistan is expelling over 100 Turkish schoolteachers at the request of Turkey's President Erdogan. The expulsion is seen as an appeasement to Erdogan's demand to close schools linked to exiled cleric Fethullah Gulen, whom Erdogan accuses of orchestrating a coup attempt. Turkey has arrested tens of thousands of people suspected of ties to Gulen since the coup, and Erdogan has pressured other countries to aid in the crackdown. Pakistan is one of the few countries to comply. The affected schools deny any affiliation with political organizations and are petitioning against the expulsions. Over 400 Turkish citizens will have to leave Pakistan, but Erdogan reassured the students that they would not suffer.\n",
      "\n",
      "\n",
      "On the one-year anniversary of the Paris attacks, the city mourned the 130 people killed in the coordinated attacks. Families of the victims shared their stories of grief and loss, with one father recounting the moment he found out his daughter had been killed at the Bataclan. French President Francois Hollande unveiled plaques at the attack sites and a memorial was held at the newly renovated Bataclan. The attacks have had a lasting impact on France, with a rise in xenophobia and a decline in tourism. However, survivors and families of the victims are finding ways to heal and move forward, with some writing books to cope with their emotions.\n",
      "\n",
      "\n",
      "Donald Trump's victory in the presidential election has sparked a polarizing reaction, especially among women and people of color. Social media is filled with reports of hate speech and hate crimes in the aftermath of the election, with many describing it as \"Day 1 in Trump's America.\" Resources and organizations are available for those who want to get involved or seek support.\n",
      "\n",
      "\n",
      "Pete Burns, the lead singer of the 1980s British pop band Dead or Alive, has died at the age of 57. His management team announced that he passed away from \"massive cardiac arrest.\" Burns was known for his androgynous look and the band's hit song \"You Spin Me Round.\" He also appeared on \"Celebrity Big Brother\" and was known for his love of plastic surgery. Despite criticism, Burns stated that he had a successful career in music and TV.\n",
      "\n",
      "\n",
      "Mayor Samsudin Dimaukom of Datu Saudi-Ampatuan, a Muslim autonomous area of Mindanao in the Philippines, was killed in a shootout with local authorities. He was on President Rodrigo Duterte's list of \"narco-politicians\" with alleged ties to the illegal drug world. Dimaukom and his wife had previously surrendered to the police to deny involvement. During a highway roadblock, an armed encounter occurred between Dimaukom's men and the police, resulting in the deaths of 10 men. Duterte's administration has been conducting a violent war on drugs, resulting in the deaths of hundreds of drug suspects by the police and vigilantes. Critics argue that the police are acting with impunity. Dimaukom is not the first elected official implicated in the drug war. The Senate Committee in the Philippines, led by a Duterte ally, decided to stop investigating extrajudicial killings of drug dealers and users.\n",
      "\n",
      "\n",
      "England's Stuart Broad believes that many players will have difficulty sleeping tonight due to the tense fourth day of the first Test match against Bangladesh. Bangladesh needs 33 runs to win with only two wickets remaining.\n",
      "\n",
      "\n",
      "The bodies of former Polish President Lech Kaczynski and his wife are being exhumed as part of a new investigation into the 2010 plane crash that killed 96 prominent Poles. The ruling party, Law and Justice, led by Jaroslaw Kaczynski, the late president's twin brother, has cast doubt on previous investigations and believes the crash was an assassination. They are seeking evidence against former Polish Prime Minister Donald Tusk, who they believe had some involvement. The exhumations will involve tests to determine the cause of the crash, including checking for explosives. The exhumations are controversial, with some dismissing conspiracy theories and others upset at the violation of cultural taboos. The crash occurred while the delegation was traveling to honor Polish officers murdered by the Soviet secret police during World War II.\n",
      "\n",
      "\n",
      "Police in Hope, Indiana, shared a disturbing photo of a mother passed out in her car from a drug overdose, with her 10-month-old son crying in the backseat. The incident highlights a growing trend of parents using drugs with their children in the car to avoid disapproval. The mother was revived with Narcan and charged with child neglect and possession of drug paraphernalia. The child now lives with his grandmother. This case is similar to a previous incident in East Liverpool, Ohio, where a couple overdosed with their 4-year-old son in the car. The police hope that sharing these photos will discourage drug users from endangering children. The opioid crisis continues to claim the lives of about 78 Americans every day.\n",
      "\n",
      "\n",
      "Protests against President-elect Donald Trump continued in Portland, Oregon, where one person was shot during a confrontation with a protester. The shooter fled the scene. The protests in Portland followed a night of rowdy demonstrations, with police using tear gas to disperse the crowd. Similar protests have taken place across the country, including in Los Angeles, where 200 people were arrested, and in New York, where a \"love rally\" was held. Protests also occurred in Miami, Atlanta, Chicago, and other cities. International demonstrations were held in Berlin, Germany. The protests have been largely peaceful, but there have been instances of vandalism and violence.\n",
      "\n",
      "\n",
      "One person has died and seven others have been injured in clashes in the Indonesian capital, according to a police spokesman. The incident occurred in Jakarta.\n",
      "\n",
      "\n",
      "A priest who was abducted in Mexico has been found alive but with signs of torture. This incident brings attention to the attacks on priests in Mexico, with two others being found shot to death after being kidnapped. While robbery is suggested as the motive for the killings, fellow priests believe there may be other factors involved. The priest had been threatened recently due to his activism and criticism of corruption and crime in the area. This incident sparked unrest in the town of Catemaco, where residents demanded the priest's release. Mexico has seen the killing of 31 priests since 2006, with Veracruz, Guerrero, and Mexico states being the most dangerous for priests due to drug cartel violence.\n",
      "\n",
      "\n",
      "Protesters in New Delhi took to the streets to express their anger at the government's slow response to the city's severe air pollution crisis. The toxic smoke, caused by factors such as low winds, holiday fireworks residue, and crop-burning in neighboring states, has led to the closure of schools, canceled cricket matches, and a surge in patients with breathing problems. The air quality, measured by the PM 2.5 particulate pollutant, was more than six times the acceptable level. The city's chief minister announced emergency measures, including banning construction activity, limiting diesel-generator use, and closing a coal-fired power plant. However, experts argue that more long-term solutions are needed, such as expanding public transport and permanently closing aging coal-fired plants. The burning of crop waste in neighboring states is a major contributor to the pollution, and the government is being urged to take action. Protesters, including schoolchildren, are demanding immediate action to address the pollution crisis.\n",
      "\n",
      "\n",
      "Protests erupted in Charlotte, North Carolina after a black man was fatally shot by a police officer. Around 16 police officers were injured during clashes with protesters, who looted trucks and set fire to cargo on a highway. The shooting occurred when officers were trying to serve an arrest warrant, claiming that the man posed a deadly threat. However, the man's family disputes this, stating that he was unarmed and holding a book. The incident has reignited scrutiny of the police department, which previously faced controversy over the shooting of an unarmed black man. This shooting is the latest in a series of incidents that have sparked outrage and debate about race relations and law enforcement. The police department is currently conducting an investigation into the shooting.\n",
      "\n",
      "\n",
      "Three soldiers from Qatar have been killed while participating in Saudi-led military operations in Yemen. This is the largest loss of life for Qatar in the conflict since their first reported ground deployment in September. The soldiers were identified as Mohammed Awad Salim, Mohammed Dawood Khayal, and Mohammed Nasser Mohammed. The conflict in Yemen involves the internationally recognized government and the Saudi-led coalition against Houthi rebels and forces loyal to a former president. The coalition has been conducting airstrikes since March 2015.\n",
      "\n",
      "\n",
      "Queen Sirikit of Thailand has been hospitalized since 16 November due to a lung infection. The palace has stated that she has a high fever but is still able to breathe. However, there are speculations that her illness is being downplayed and that she is gravely unwell. She is receiving treatment with antibiotics and is able to eat. Queen Sirikit's husband, King Bhumibol Adulyadej, passed away a month ago after ruling Thailand for 70 years. General Prem Tinsulanonda has been chosen as regent following the king's death. Thailand experienced a period of mourning for 30 days after the king's passing.\n",
      "\n",
      "\n",
      "The Eastern Cape in South Africa is experiencing a surge in rhino poaching, with the 19th rhino killed this year on the Fish River Nature Reserve. Experts are alarmed by the increase in poaching, which they consider to be the worst in the province's history. The latest incident involved the killing of an 18-year-old black rhino cow, leaving behind a 1½-year-old calf. Black rhinos are critically endangered, with a global population of approximately 5,000 in the wild.\n",
      "\n",
      "\n",
      "Hope, a beloved white rhino cow and survivor of a brutal attack, has passed away due to a bacterial infection. She had become an ambassador for her species and symbolized the fight against poaching. The founder of Saving The Survivors, Dr. Johan Marais, discovered Hope and dedicated himself to saving her. Despite her tragic death, the organization remains committed to ending poaching and protecting rhinos from extinction. Hope's memory will live on as a symbol of resilience and the mission to create hope from adversity.\n",
      "\n",
      "\n",
      "Many patients avoid colonoscopies due to the unpleasant preparation process, which involves drinking a salty, repulsive-tasting drink and laxative. However, a Boston-based company called ColonaryConcepts is developing bowel-clearing food bars and drinks that taste more like fruit smoothies and chocolate. These products have been tested in a phase 2 trial and have shown promising results in terms of effectiveness and patient satisfaction. The new colonoscopy prep is scheduled to begin phase 3 trials next year and could potentially enter the market in 2018. This alternative option aims to improve the tolerability and cleansing effect of the preparation process. It is important for patients to not put off colonoscopies, as they are crucial for detecting and preventing colon cancer.\n",
      "\n",
      "\n",
      "This year is on track to be the warmest on record, and if carbon emissions continue to rise, record hot years will become the \"new normal\" by 2025. The damage has already been done, and the global average temperature of 2015 will be the norm by 2040. Extreme seasons will become the norm within decades if emissions continue as usual. However, there is still hope to prevent record-breaking heat at a seasonal and regional level with immediate action on carbon emissions. The Paris climate agreement's proposed emissions cuts are not enough to avoid the worst effects of climate change. To keep global temperature rise under 2 degrees Celsius, emissions need to be slashed by an additional 25 percent by 2030. Despite concerns about President-elect Donald Trump's stance on climate change, world leaders and activists remain committed to battling climate change.\n",
      "\n",
      "\n",
      "A maintenance worker was killed at a recycling plant in Indianapolis when he was crushed inside a machine that compresses and melts plastics. The worker, Michael Burris, died from blunt force injuries to his head, body, and extremities. The incident occurred when Burris was trying to unclog the disabled machine, which unexpectedly started operating again. The machine is used to compress light-weight plastic into dense pellets for the production of plastic goods. The authorities are currently investigating the accident.\n",
      "\n",
      "\n",
      "A federal report from the U.S. Department of Agriculture (USDA) has concluded that the barrier separating humans and primates at the Cincinnati Zoo was not in compliance with standards for housing primates when a child fell into the gorilla exhibit in May. The report issued a critical citation because the barrier failed and caused harm to an animal. However, before the incident, the zoo had not been cited for shortcomings with the barrier during previous inspections. The zoo has since updated the barrier and is now in compliance with federal standards. The family of the child who entered the enclosure has stated that they do not want to pursue legal action against the zoo. The USDA has issued 10 citations at the zoo in the last three years, but none were related to the gorilla exhibit. The Cincinnati Zoo officials have reaffirmed their commitment to the well-being of the animals and the safety of visitors. The Association of Zoos and Aquariums (AZA) has stated that the zoo meets their standards related to barriers.\n",
      "\n",
      "\n",
      "An Oregon man died in Yellowstone National Park after falling into a boiling, acidic spring while attempting to \"hot pot\" or soak in one of the park's thermal pools. The victim's sister witnessed the incident and reported it to park officials. The brother and sister had illegally ventured off the boardwalk at Norris Geyser Basin. Rescuers were unable to retrieve the body initially, and it was later determined that the extreme heat and acidity of the water had dissolved it. The park prohibits walking off the boardwalks or swimming in hot springs, but no citations have been issued in this case.\n",
      "\n",
      "\n",
      "Prominent Republican women are concerned that defending Donald Trump against accusations of sexual assault is damaging the party's relationship with female voters. Trump's comments about women have been a source of concern throughout his campaign, but the release of a 2005 video and subsequent allegations by 11 women have escalated the issue. Many male Republicans have come to Trump's defense, dismissing the accusers and potentially alienating female voters. This division within the party comes as polls show that women are supporting Hillary Clinton by a significant margin. Female Republican strategists and politicians, including Sen. Kelly Ayotte and Carly Fiorina, have distanced themselves from Trump. The recent interview between Newt Gingrich and Megyn Kelly further highlighted the party's struggle with women voters. Republican women are increasingly feeling that the party does not represent them and are critical of the party's handling of Trump's behavior. The GOP's treatment of women is playing into the \"war on women\" narrative that Democrats have pushed in the past. Trump's personal attacks on women, both in the media and on social media, have also contributed to the party's struggle with female voters. Overall, many Republican women believe that the party is not doing enough to address the concerns of female voters and that this will have negative consequences for the party in the general election.\n",
      "\n",
      "\n",
      "Republicans in Congress are concerned about potential losses in the upcoming election. They are accepting the possibility of a Hillary Clinton victory and a Democratic majority in the Senate. This has led to discussions about how Republicans should proceed after the election. They must decide whether to cooperate with Democrats and try to get things done, or to adopt a noncooperative strategy in hopes of regaining control in the 2018 midterm elections. There are also questions about the future of Speaker Paul D. Ryan and the Supreme Court nominee. Republicans fear that Clinton will be influenced by progressive forces and that compromises will be difficult to achieve. They also worry about the dissatisfaction among their voters and the potential backlash if they work with Democrats. However, some Republicans argue that waiting until 2018 may be a better strategy. Democratic leader Chuck Schumer believes there is a moral imperative to get government working again and hopes to work with Republicans. Hillary Clinton is seen as someone capable of building relationships with Republican leaders. Overall, if Democrats win the White House and Senate, considerable effort will be needed to bring a new spirit to a gridlocked Congress.\n",
      "\n",
      "\n",
      "All 33 miners trapped in a gas explosion in a Chinese coal mine have been found dead. Two miners initially survived the explosion, but no others were found alive. Gas explosions in mines are often caused by sparks igniting leaked gas. The State Administration of Work Safety has ordered an investigation and vowed to punish those responsible. China's mining industry has a history of being dangerous, and the country plans to close over 1,000 outdated mines to reduce overproduction.\n",
      "\n",
      "\n",
      "A retired D.C. police officer shot and killed his son during a domestic dispute in their home. The son, Carl Holloway, had a weapon, but the type was not disclosed. No charges have been filed, and the father's identity has not been released. The shooting took place in Northeast Washington, and investigators are determining if it was justified. Holloway had a prior assault charge and was scheduled to appear in court. His attorney stated that a plea agreement had been negotiated, and Holloway seemed fine during their conversation before the incident.\n",
      "\n",
      "\n",
      "The reward fund for information leading to the arrest and conviction of the person who shot and killed a baby Salt River wild horse and wounded two others has increased to $25,000. Animal Recovery Mission, a non-profit organization, matched the existing reward fund. The Salt River Wild Horse Management Group, American Wild Horse Preservation Campaign, Humane Society of the United States, and Schill Law Firm also contributed to the reward. Despite the reward, no tips leading to the suspect's apprehension have been received. ARM Investigations, a coalition partner of the Salt River Wild Horse Management Group, decided to match the reward fund in hopes of encouraging a crucial tip. The organization fights animal cruelty and focuses on conservation programs. The witness saw a man shooting three Salt River wild horses, resulting in the death of a 6-month-old foal named Kai and injuries to two other horses. The horses are being monitored and treated by the SRWHMG. This is not the first time the wild horses of Salt River have been shot at, and the SRWHMG suspects they are being hunted. The organization is dedicated to protecting and studying the Salt River wild horses. The public can still contribute to the reward fund through a Go Fund Me page. The Maricopa Sheriff's department has not yet found any strong leads.\n",
      "\n",
      "\n",
      "Armed police in North Dakota have arrested 141 Native American protesters and environmental activists who were occupying private land in the path of a controversial new oil pipeline. The police used non-lethal rounds, pepper spray, and sound cannons to push the protesters back to their main encampment on public land. Skirmishes lasted overnight and continued until early Friday morning. The protesters were demonstrating against the pipeline, which they believe threatens the region's water supply and crosses land never ceded by the tribe. The police claimed they used non-lethal bean bag rounds in response to stone throwing and a woman firing a pistol at officers. The protest has been ongoing for months and has drawn the attention of activists and celebrities.\n",
      "\n",
      "\n",
      "The United Nations has expressed concern over the sharp increase in civilian casualties in Yemen since peace talks collapsed last month. The majority of these casualties were caused by airstrikes from a coalition led by Saudi Arabia. At least 329 civilians have been killed and 426 injured since the beginning of August. Saudi Arabia and its allies are trying to prevent an international investigation into possible war crimes. The United States and Britain, major suppliers of arms to Saudi Arabia, are finding it harder to ignore the bloodshed. The most recent example of the carnage was an airstrike on a market and residential area in Hodeidah, which killed at least 26 civilians. The United Nations has documented numerous attacks on civilian facilities by both coalition and rebel forces. Doctors Without Borders has pulled staff members out of six hospitals in Yemen after coalition planes bombed a facility. The United Nations has also expressed concern over the blockade of the city of Taiz, which has left residents critically short of food and water. The majority of civilian casualties have been caused by the Saudi-led coalition, according to a report to the Human Rights Council. Saudi Arabia and President Hadi's government have condemned the report as biased and have proposed a Yemeni commission to investigate human rights violations. Rights groups argue that a national body lacks expertise and that its reporting falls short of international standards. The European Union has drafted a competing resolution calling for a United Nations mission to Yemen. The Council will decide how to proceed after a week of diplomatic negotiations. President Hadi accused Iran of blocking the path towards peace in Yemen.\n",
      "\n",
      "\n",
      "Four people were killed in a river ride malfunction at Dreamworld, Australia's largest theme park. The incident occurred on the Thunder River Rapids Ride, a popular attraction that is considered tame and family-friendly. Two people were ejected from the raft, while the other two were trapped inside. The victims' identities have not been released, and authorities have not provided details about the injuries sustained. Witnesses reported seeing the ride flip and a girl being pulled from it before it overturned. Emergency services were unable to save the victims, and the park was closed for the day. The incident has deeply affected the staff and prompted an investigation by multiple agencies.\n",
      "\n",
      "\n",
      "American actor Robert Vaughn, best known for his role as a suave spy in the TV series \"The Man From U.N.C.L.E.,\" has passed away at the age of 83. Vaughn had been battling acute leukemia and was receiving treatment in recent months. Born to parents in show business, Vaughn began his acting career after serving in the military. He received an Academy Award nomination for his role in \"The Young Philadelphians\" and went on to star in films like \"The Magnificent Seven\" and TV shows such as \"The Dick Van Dyke Show.\" Vaughn is survived by his wife and two children.\n",
      "\n",
      "\n",
      "Russia launched a major air offensive in Syria, targeting the rebel-held part of Aleppo just hours after Russian President Vladimir Putin spoke with President-elect Donald Trump about their goals for ending the Syria crisis. The strikes were described as ongoing and were carried out by Russian Navy frigates and fighter jets. The Pentagon called the missile launches a \"show\" and stated that Russia already had enough firepower in Syria to cause serious damage. The Obama administration has been trying to negotiate a cease-fire in Aleppo for months, but the situation remains dire, with the city under siege and no aid allowed in since July. In addition to the military offensive, a joint report by the World Food Program and the Food and Agricultural Organization stated that food production in Syria has reached an all-time low, threatening to drive more people from their homes.\n",
      "\n",
      "\n",
      "A Russian fighter jet crashed into the Mediterranean while attempting to land on a Russian aircraft carrier. The pilot ejected and was safely recovered. The crash was attributed to a technical problem. The incident occurred as a flotilla of Russian naval vessels, including the aircraft carrier, arrived off the Syrian coast. The Russian navy stated that the voyage was to ensure naval presence and safeguard maritime traffic. However, some view it as a show of force.\n",
      "\n",
      "\n",
      "Scottie Pippen's wife, Larsa Pippen, told police that she was scared of him during an argument at their home. The NBA star broke his own cell phone out of frustration during the altercation. This incident occurred shortly before Scottie filed for divorce. Larsa informed the police that they were having marital problems and that Scottie would raise his voice, yell, and scare her. The police report states that Scottie admitted to the argument and breaking his phone in frustration. Larsa mentioned that she would be speaking to an attorney. No arrests were made, and there were no allegations of domestic violence. Scottie's unhappiness with Larsa's relationship with Future had been a point of contention between them.\n",
      "\n",
      "\n",
      "A shooting occurred at a nightclub in South Philadelphia. The male victim was shot multiple times and went to the hospital. The incident took place at Club Onyx on Columbus Boulevard at around 5 a.m. on Monday. The victim is in stable condition, and the motive for the shooting is unknown. No arrests have been made yet.\n",
      "\n",
      "\n",
      "Sally Brampton, the founding editor of Elle magazine in the UK, took her own life after health professionals failed to offer her help, according to an inquest. Brampton, who had a long battle with depression, drowned after walking into the sea near her home. She had sought help from a psychiatrist and GP but did not receive the assistance she needed. Two months prior to her death, she had been referred to mental health services but was not offered any help. The inquest revealed that crucial information about her condition had not been provided to the relevant services. The coroner concluded that there were missed opportunities to help Brampton, but it is uncertain if they would have changed the outcome. The mental health services have since made changes and no longer use faxes. Brampton was a respected journalist and author, known for her book \"Shoot the Damn Dog\" about her battle with depression.\n",
      "\n",
      "\n",
      "Actress Susan Sarandon has launched an online petition urging people to empty their bank accounts in protest of the Dakota Access Pipeline. The petition targets big banks such as Bank of America, HSBC, UBS, Wells Fargo, Chase, and Citibank, which are involved in supporting the pipeline. Sarandon argues that the pipeline will destroy sacred Native American sites and have severe environmental consequences. The petition asks signatories to withdraw their money and place it in credit unions until the banks divest and pressure the White House for an environmental impact statement. As of now, there is no evidence of people following through with the pledge.\n",
      "\n",
      "\n",
      "Over 14,000 Saudi women have signed a petition calling for an end to the country's male guardianship system, which requires women to have the consent of a male guardian for various activities. The campaign gained support online through a trending Twitter hashtag. Women in Saudi Arabia must obtain permission from a male relative for activities such as traveling, working, studying, and even leaving the country. The petition was delivered to the government, and the activists are awaiting a response. The male guardianship system also affects women's ability to rent a flat, seek medical treatment, or file a legal claim. The campaign has received an incredible response, with hundreds of women bombarding the Saudi King's office with telegrams supporting the cause. However, there is opposition from some Saudi women who argue for reforming the system. The activists are demanding that women be treated as full citizens and that an age between 18 and 21 be designated as the point at which a woman is considered an adult. There has been no official response to the petition yet.\n",
      "\n",
      "\n",
      "Scientists have found that the method used by the U.S. poultry industry to stun chickens before slaughter does not consistently render them unconscious. This means that a significant number of chickens likely experience intense suffering when they are killed. The lack of regulations governing the humane slaughter of chickens in the U.S. has allowed poultry companies to prioritize meat quality over ensuring that chickens are reliably stunned. Animal protection groups are pressuring companies to phase out the use of electric water-baths and adopt alternative methods, such as controlled atmosphere killing. Gas stunning systems are considered more humane and produce better meat quality. The current process of slaughtering chickens also causes them stress and pain, with many experiencing broken bones and wing damage. The U.S. Agriculture Department estimates that hundreds of thousands of birds are unintentionally boiled alive each year. Animal welfare groups are campaigning to improve conditions for broiler chickens and some companies, like Perdue Farms, have pledged to install gas stunning systems in their facilities.\n",
      "\n",
      "\n",
      "The Great Barrier Reef, although severely damaged, is not completely dead. It is currently on \"life support\" due to coral bleaching. The reef is home to numerous species and is considered the world's largest living thing. Preliminary findings show that 22% of its coral has died from the bleaching event. Climate change is the main cause of coral bleaching, as it leads to the expulsion of algae from the corals. The Great Barrier Reef Marine Park Authority is conducting surveys to assess the impact of the bleaching. While scientists have expressed concerns about the reef's future, it is not beyond saving. The reef supports 70,000 jobs in reef tourism, and large sections of it are still in reasonable shape. The focus should be on better protecting the reef rather than giving up on it.\n",
      "\n",
      "\n",
      "Scientists are puzzled by the uneven pattern of damage caused by the Zika virus across Latin America. While the virus has infected over 650,000 people in the region, the majority of babies born with congenital neurological damage linked to Zika have been clustered in northeastern Brazil. Health officials and scientists are investigating other factors that may be contributing to the higher toll in this region, such as the presence of other mosquito-borne viruses or environmental and genetic factors. The number of cases of birth defects linked to Zika outside of Brazil has been relatively low, leading researchers to caution that it will take years to fully understand the dangers the virus poses to babies' brains. The outbreak in Puerto Rico is being closely monitored, but the mainland United States has so far averted a major outbreak. The lack of funding for Zika research and prevention has hindered efforts to accurately count the number of people infected and assess the true impact of the virus.\n",
      "\n",
      "\n",
      "A BBC Scotland investigation has revealed the difficulties faced by ageing timeshare owners who want to get out of their contracts. Sellmytimeshare.tv, owned by Monster, claims to help dispose of timeshares, but an undercover investigation found it to be more complicated than advertised. Timeshares, marketed as a hassle-free lifetime of holidays, are owned by around 600,000 people in the UK. A retired couple from Alva in Clackmannanshire have been trying to relinquish their timeshare contracts for two years due to health issues and difficulty in finding affordable travel insurance.\n",
      "\n",
      "\n",
      "Two American sisters, Robin Korkki and Anne Korkki, were found unresponsive in their resort in the Seychelles and later pronounced dead. Autopsies revealed that they died from acute pulmonary edema, or excess fluid in the lungs, with Anne also having excess fluid in the brain. The cause of the fluid buildup is still unknown, and toxicology analysis is being conducted. No visible injuries were found on the bodies. The sisters' family is seeking answers and some members have traveled to the Seychelles to gather details and bring the bodies home. The Seychelles is a popular tourist destination known for its beaches and coral reefs. The sisters arrived on September 15 and were scheduled to leave on September 24.\n",
      "\n",
      "\n",
      "Shannen Doherty opens up about her experience with cancer in an emotional interview with Chelsea Handler. Doherty discusses how cancer has changed her and the challenges she has faced. Handler, who lost her mother to breast cancer, also becomes emotional during the interview. Doherty talks about rethinking her identity and apologizing to her husband for the impact of her illness. She was diagnosed with breast cancer in 2015 and has undergone a mastectomy, chemotherapy, and radiation. Doherty shares an emotional photo from her hospital bed, encouraging others to stay strong in their own battles with cancer.\n",
      "\n",
      "\n",
      "A man in Australia escaped with cuts to his leg after a shark collided with his surfboard near Byron Bay. The incident led to the closure of local beaches for 24 hours. The shark emerged from under the man while he was waiting for a wave, causing minor lacerations to his leg. The type of shark involved is unknown. This attack follows a similar incident in the same area a few weeks ago. The New South Wales coast has seen 14 unprovoked shark attacks in 2015, with a hotspot from Evans Head to Byron Bay. Efforts to control shark populations have been challenging, with a recent shark eco-barrier trial being canceled due to rough sea conditions. The government plans to increase tagging and relocation of sharks using \"smart drumlines\" to catch them. Shark attacks are on the rise due to the popularity of water sports and the movement of bait fish closer to shore, although fatalities are still rare.\n",
      "\n",
      "\n",
      "A police dog named Lina died in a hot patrol car in western Arkansas. The dog's handler has been placed on paid administrative leave while an investigation takes place. Lina had been with the sheriff's office for three years and was used in drug investigations. The sheriff described the dog's death as a \"bad accident.\" The investigation is being handled by the Washington County Sheriff's Office. This incident follows a similar case in Oklahoma where a police dog died after being left in a hot car for 38 hours and its handler was charged with animal cruelty.\n",
      "\n",
      "\n",
      "A shooting occurred near a polling station in Azusa, California. The suspect, a Hispanic male, was found dead in a barricaded home. It is unclear if he died from police fire or if he killed himself. The shooting was not related to the election. The victim was a man in his 70s who was killed by the assailant with an assault-style weapon. The shooter is still barricaded in a nearby home.\n",
      "\n",
      "\n",
      "A new review suggests that sleep disorders increase the risk of stroke and affect recovery. The study found a link between sleep breathing problems and stroke risk and recovery, but less evidence for the link between sleep-wake disorders and stroke. People with sleep disorders may be more likely to have another stroke or other health problems. For those with sleep apnea, treatment with a continuous positive airway pressure machine (CPAP) is recommended. A CDC report shows that a significant number of Americans have sleep disorders, indicating a need for public awareness and education about the importance of sleep.\n",
      "\n",
      "\n",
      "Hundreds of thousands of South Koreans took to the streets in Seoul for the second consecutive weekend, demanding the resignation of President Park Geun-hye. The protests were sparked by Park's admission that she shared classified information with someone lacking security clearance. The demonstrations, which included families, students, and union members, were some of the largest anti-government protests in decades. Four officers and 26 protesters were injured during the protests. Park's spokesman stated that she realizes the seriousness of the situation and is considering ways to normalize affairs. Protesters are calling for Park's resignation due to feelings of betrayal and frustration with her leadership. The protests also stem from other incidents, such as the Sewol ferry sinking. Despite roadblocks, protesters attempted to march to the presidential palace. The demonstrations will continue until there are answers and a resolution to the political turmoil.\n",
      "\n",
      "\n",
      "Wildfires near the Georgia-North Carolina line have led to evacuations and the need for residents to wear masks outdoors. The largest wildfire has burned over 13,000 acres and is only 20% contained. Special health masks are being distributed in North Carolina as regular surgical masks do not provide enough protection from smoke particles. Despite the smoke, the Charlotte Marathon was able to proceed as planned. Many of the wildfires are suspected arsons, with a dark blue SUV being sought in one case. In Tennessee, 72% of active wildfires are suspected arsons. In North Carolina's Nantahala National Forest, over 20 wildfires are being investigated for suspected arson. The federal government has approved funding to fight the fires in western North Carolina. In South Carolina, residents are being asked to donate drinks to help firefighters battling a wildfire.\n",
      "\n",
      "\n",
      "Former IMF chief Rodrigo Rato and 64 other bankers are on trial in Madrid for an alleged credit card racket at Spain's Bankia bank. They are accused of using unofficial company credit cards for luxury purchases, totaling about €12m. The purchases were not declared to the tax authorities. Bankia was rescued in 2012 at a significant public expense, causing losses for small investors. Prosecutors are seeking jail time and fines for Rato and the former president of Caja Madrid, which merged with Bankia. Rato's successors at the IMF, Dominique Strauss-Kahn and Christine Lagarde, have also faced legal issues.\n",
      "\n",
      "\n",
      "A train crash in Spain has killed at least four people and injured nearly 50 others. The train derailed in the northwest region of the country while en route to Portugal. The cause of the crash is unknown, but passengers reported that the train began to rock before the accident. This incident occurred near the site of a previous train crash in 2013.\n",
      "\n",
      "\n",
      "A strong earthquake with a magnitude of 6.4 shook Chile, but there were no reports of damage or injury. The possibility of a tsunami was also discounted. The quake occurred south of Santiago and at a depth of 54 miles. Chile's navy stated that a tsunami was unlikely. Chile has a history of earthquakes, with a devastating one in 2010 that killed over 500 people. The country has since improved its alert systems for earthquakes and tsunamis.\n",
      "\n",
      "\n",
      "A recent study published in the Proceedings of the National Academy of Sciences reveals that 90% of seabirds currently eat plastic in the ocean, and by 2050, virtually all seabirds will be consuming it. The research explains that seabirds rely on their sense of smell to hunt for food, and the scent emitted by plastic in the ocean tricks them into confusing it with food. The study also found that birds that track the scent of a sulfurous compound emitted by algae, which coats floating plastic, are six times more likely to consume plastic. The research sheds light on species that are often overlooked, such as petrels and shearwaters, which are impacted by plastic ingestion. The study highlights the need to address the growing plastic pollution in oceans, which affects not only seabirds but also sea turtles, fish, and other marine animals. The problem of plastic pollution starts on land, with nonpoint source pollution being one of the biggest contributors. The top five countries that dump plastics into oceans are China, Philippines, Vietnam, Indonesia, and Thailand.\n",
      "\n",
      "\n",
      "A study published in the journal JAMA Otolaryngology-Head & Neck Surgery reveals that one in ten Americans suffer from tinnitus, a persistent buzzing or ringing in the ears. The study found that tinnitus is connected to hearing loss and is often not discussed with doctors. The research also shows that higher rates of tinnitus are reported in individuals with consistent exposure to loud noises, either at work or during recreational activities. Treatment options include hearing aids and psychotherapy to change the way affected individuals think about tinnitus.\n",
      "\n",
      "\n",
      "A recent study has found that rates of toddlers and preschoolers being hospitalized for opioid overdoses have more than doubled in recent years. The study analyzed data from over 13,000 records of children admitted to U.S. hospitals between 1997 and 2012. The increase in overdoses is possibly due to the rise in prescribed painkillers, such as OxyContin and Vicodin. Young children are often exposed to these drugs by finding pills on the floor, getting into their parents' purses, or opening bottles. The study emphasizes the need for parents to limit children's exposure to these medications and for companies to improve packaging. The study also highlights the underreported issue of young overdoses in the pediatrics community. Additionally, the study found that heroin poisonings among children increased by 161%.\n",
      "\n",
      "\n",
      "A new study conducted in California has found that lung cancer patients exposed to air pollution may have shorter survival times. The research focused on California due to its wide range of air pollution levels and extensive air quality monitoring network. The study found that patients in areas with high levels of fine particulate matter had a median survival time of only 2.4 years, compared to 5.7 years in areas with lower pollution levels. Lung cancer patients whose cancer had spread to other parts of their bodies had shorter survival times overall, regardless of air pollution levels. The researchers suggest that newly diagnosed lung cancer patients should consider moving out of areas with high levels of air pollution. Lung cancer is the leading cause of cancer death in America, according to the CDC.\n",
      "\n",
      "\n",
      "A 5.0 magnitude earthquake struck Cushing, Oklahoma, causing substantial damage to dozens of buildings. However, no damage was reported at the oil terminal, which is one of the world's largest. This was the third earthquake in Oklahoma this year with a magnitude of 5.0 or greater. No major injuries were reported, but there were cracks, fallen bricks, and facades damaged. The earthquake was centered 1 mile west of Cushing and occurred near a previous magnitude 4.3 quake. Aftershocks were feared, and parts of the city were cordoned off. An assisted living community was evacuated, and the Cushing Public School District canceled classes. Highways and bridges within a 15-mile radius of the epicenter were undamaged. The quake was felt as far away as Iowa, Illinois, and Texas. Cushing is known as the \"Pipeline Crossroads of the World\" and has a large oil storage terminal. Two pipeline companies reported no trouble, but not all companies had been heard from.\n",
      "\n",
      "\n",
      "According to new government data, the rate of suicide deaths among children aged 10 to 14 has doubled since 2007. However, deaths from motor vehicle traffic and homicide have decreased over the same time period. Younger children may attempt suicide impulsively due to bad relationships with family and friends, while older children may do so because of relationship issues. Warning signs for suicide in children include increased sadness, irritability, anger, loss of interest in friends or activities, and saying mean or derogatory things. It is important for parents to talk to their children and listen to their feelings. There is limited research on suicide in children, and experts hope that the report will raise awareness and lead to more prevention efforts.\n",
      "\n",
      "\n",
      "A recent article in the independent newspaper Novaya Gazeta has sparked a national debate in Russia about the role of social media in promoting suicide among young people. The article claims that Russia's most popular social network, VKontakte (VK), has numerous groups that encourage vulnerable young people to kill themselves. The article alleges that at least 80 recent suicides can be linked to these online groups. Critics have accused the article of sensationalism and placing too much emphasis on the internet as a cause of juvenile suicide. However, the article has also prompted law enforcement agencies to launch a criminal case over groups on VK that allegedly promote suicide. Russia has one of the highest rates of youth suicide in the world, and the article has brought much-needed attention to this serious issue.\n",
      "\n",
      "\n",
      "The National Oceanic and Atmospheric Administration (NOAA) reported that the summer of 2016 in the United States was the 5th hottest on record, tied with 2006. The average temperature was 73.5 degrees Fahrenheit, which was 2.1 degrees above average. Every state in the continental US, including Alaska, experienced above-average temperatures. Precipitation also broke records, with a season total of 0.60 inch above average, making it the 24th wettest on record. In August, the US experienced the 17th warmest month on record, with an average temperature of 73.6 degrees Fahrenheit. The year-to-date average temperature for the contiguous US was the 3rd warmest on record. Several states, including Connecticut, Delaware, Maryland, Massachusetts, New Jersey, New York, Pennsylvania, and Rhode Island, had record warm Augusts. California had its warmest summer on record, contributing to an active wildfire season. Alaska experienced its third warmest August, second warmest summer, and record warmth for the year. Louisiana also experienced record flooding in mid-August due to a storm system that dropped over 30 inches of rain.\n",
      "\n",
      "\n",
      "The Supreme Court has halted the execution of an Alabama death row inmate, Thomas D. Arthur, for the seventh time. The execution was scheduled for Thursday evening but was stayed as officials waited for the Supreme Court to consider his appeals. Justice Clarence Thomas issued an order halting the execution until further notice. The court later granted Arthur's stay request, with Chief Justice John G. Roberts Jr. voting in favor as a courtesy to his colleagues. The stay will remain in place until the justices decide whether to consider the case. Arthur was sentenced to death for the 1982 killing of Troy Wicker, the husband of a woman with whom Arthur had an affair. His attorneys argued against Alabama's lethal injection protocol and suggested execution by firing squad instead. The state's Department of Corrections is only allowed to carry out executions by injection and electrocution. Alabama's death penalty system has faced increased scrutiny following a Supreme Court ruling that struck down Florida's death penalty system.\n",
      "\n",
      "\n",
      "Red squirrels in the UK have been found to carry leprosy, a disease that was eradicated in humans in Britain centuries ago. The squirrels were found to have two different species of leprosy bacterium, one of which is almost identical to a strain recovered from a medieval human skeleton. There is currently no evidence of squirrel-to-human transmission, but researchers are concerned about the health of the endangered red squirrels. The reason why squirrels, humans, and armadillos are the only known species to harbor the bacterium is still unknown. The discovery of leprosy in squirrels may help researchers understand how the disease manifests in humans and how it spreads.\n",
      "\n",
      "\n",
      "A deadly shooting occurred at a Starbucks in Las Vegas after a customer's card was declined. The suspect fired shots in the air and then at a customer, who later died. The incident was initially treated as a hostage situation, causing a delay in medical treatment. The suspect called the police and falsely described a different shooter. The suspect, a Hispanic man with a criminal history, was later detained and found to be in possession of a gun.\n",
      "\n",
      "\n",
      "A suspected serial killer in Anchorage, Alaska was stopped by a police officer who was responding to a theft complaint. The officer, Arn Salao, was shot multiple times by the suspect, James Dale Ritchie, but managed to return fire and fight off his assailant. Another officer arrived at the scene and also fired at Ritchie, killing him. Ballistics tests revealed that the gun Ritchie used was the same one used in five other homicides in Anchorage in 2016. Ritchie had prior arrests for drugs and burglary and had recently returned to Alaska from West Virginia. Two of the victims linked to Ritchie's gun were identified as Jason Netter Sr. and Brianna Foisy, who were found dead in July. Another two victims, Bryant De Husson and Kevin Schuyler Turner, were found dead in August. The motive behind the killings is unknown, and it is unclear if Ritchie knew any of the victims. The police believe that the chance encounter between Officer Salao and Ritchie may have saved countless lives. Two other unsolved double homicides in Anchorage have not been linked to Ritchie.\n",
      "\n",
      "\n",
      "Russia has criticized the US and UK for their \"unacceptable\" tone and rhetoric in speeches on Syria at the UN. The US accused Russian and Syrian forces of \"laying waste\" to rebel-held areas of Aleppo, while the UK accused them of committing war crimes. Activists reported fresh air strikes on Aleppo, resulting in civilian casualties. The US, UK, and France accused Russia of lying about its involvement in the assault on Aleppo. Russian media dismissed the accusations as \"groundless\" and praised the response of Russian envoy Vitaly Churkin. Russia blamed the US for the unravelling of the truce deal and warned of terrorist activities. Hospitals in rebel-held Aleppo are struggling due to a shortage of blood and damaged water supplies.\n",
      "\n",
      "\n",
      "Russia has claimed that the UN aid convoy that was bombed in Syria on Monday night was escorted by terrorists, denying accusations that it was behind the attack. The convoy, which was delivering food aid to opposition-held parts of Aleppo, was hit shortly after the end of a ceasefire. The Russian defense ministry released drone footage showing a pickup truck carrying militants and a heavy mortar driving alongside the convoy before it was bombed. More than a dozen people were killed, including the director of the organization. The truce collapsed as leaders were gathered at the UN in New York to negotiate a longer-term peace plan. The US accused the Syrian government and Russia of violating the ceasefire, while Moscow accused the US-led coalition of aiding ISIS. The incident highlights the deep mistrust between the superpowers and the failure to achieve a lasting agreement to end the conflict.\n",
      "\n",
      "\n",
      "Germany, which took in more asylum seekers than the rest of Europe combined, is facing the challenge of deciding who gets to stay. Syrians and Iraqis are almost guaranteed sanctuary, while Nigerians and Pakistanis are more likely to have their claims rejected. Even Syrians are increasingly falling short of winning full refugee status. Critics argue that asylum officials are turning a deaf ear to genuine petitions from asylum seekers arriving from countries outside the Middle East war zones. The German government is increasingly targeting migrants deemed ineligible for protection and is enforcing deportation more strictly. The system is flawed, with many appeals against the Federal Office's decisions and concerns about inexperienced decision-makers and declining interpreter quality.\n",
      "\n",
      "\n",
      "A Tampa man named John Bernal lost his wife, youngest daughter, and youngest son in a tragic car accident. The family's minivan burst into flames after being hit head-on, leaving only the teenage daughter and her cousin as survivors. Eyewitnesses claim it was street racing, but the Florida Highway Patrol has found no evidence to support this. The driver who caused the accident, Pablo Cortes III, and his passenger were also killed. Family members are devastated and express their sympathy for John Bernal, who is described as being in pieces.\n",
      "\n",
      "\n",
      "An elderly man and woman in their 70s died while snorkeling on the Great Barrier Reef. They were part of a group of 21 elderly French travelers on a tour with Passions of Paradise. The tour company stated that the couple had pre-existing medical conditions and were accompanied by a guide. Another person in the group also suffered a medical condition but survived. Passions of Paradise had staff on the beach, boat, and in the water, all with CPR and first aid qualifications. A rescue helicopter was not available at the time. The cause of death is believed to be heart attacks, as the couple had declared serious medical conditions and the woman was on strong medications.\n",
      "\n",
      "\n",
      "A suicide car bomb targeted the German consulate in Mazar-e-Sharif, Afghanistan, killing four people and injuring over 100. The Taliban claimed responsibility for the attack, referring to Germany as \"the invader.\" Mazar-e-Sharif is not a Taliban stronghold, but the city has seen recent violence, including a joint Afghan-US battle against the Taliban that resulted in civilian and military casualties. The attack on the consulate occurred a week after Taliban mortars killed seven people at a wedding party in Faryab province. Kunduz, where the consulate is located, has been the site of several anti-Taliban operations, including a fatal US strike on a hospital in 2015.\n",
      "\n",
      "\n",
      "A former teacher, Alexandria Vera, has agreed to a plea deal after being accused of having a sexual relationship with a 13-year-old student. She pleaded guilty to aggravated sexual assault of a child, a lesser charge than the original continuous sexual abuse charge. The relationship lasted for nine months, and Vera claimed that she and the victim loved each other. She said the boy's family accepted their relationship and even became excited when she became pregnant with his child. However, when Child Protective Services questioned her, she had an abortion. Neighbors reported seeing the boy at Vera's house frequently, and she claimed he was her brother. Vera will be sentenced in January, with prosecutors agreeing to a maximum term of 30 years. The boy will remain in foster care, and his parents have been ordered to undergo therapy and attend parent classes.\n",
      "\n",
      "\n",
      "Terry Jones, an original member of Monty Python, has been diagnosed with primary progressive aphasia, a variant of frontotemporal dementia. This illness affects his ability to communicate, and he is no longer able to give interviews. Despite his condition, Jones will still be recognized for his Outstanding Contribution to Film and Television at an awards ceremony in Cardiff. Primary progressive aphasia is a rare syndrome that affects a person's ability to express thoughts and find words. The news of Jones's diagnosis has saddened fans and garnered support from fellow Monty Python member Eric Idle. Jones, known for his work in Monty Python and films such as \"Life of Brian\" and \"The Meaning of Life,\" has also directed dramas and released a documentary on the economy.\n",
      "\n",
      "\n",
      "Donald Trump's proposed environmental policies include eliminating the EPA, withdrawing from the Paris Agreement, and cutting federal spending on clean energy. Environmental groups are preparing for a fight, as these actions could have significant negative impacts on the planet. The biggest threats posed by the Trump administration include backing out of the Paris Agreement, killing the Clean Power Plan, eliminating the EPA, appointing climate change deniers to lead the EPA and Department of Energy, cutting federal spending on clean energy, avoiding regulations on methane, and opening federal lands to oil and gas drilling. However, it may be difficult for Trump to repeal and revise these regulations, and there is still hope for the planet as clean energy initiatives and pollution regulations have widespread support among the American people. Environmental organizations are prepared to fight against these policies.\n",
      "\n",
      "\n",
      "The suspect behind the mall attack in Minnesota has been identified as 22-year-old Dahir Aden, a Somali-American student. He stabbed nine people at a shopping mall before being shot and killed by an off-duty police officer. Aden's family first learned of his death from the police, and authorities have not formally identified him as a suspect. Aden's father described him as an honors student with no history of violence. The Somali community expressed fears of backlash and called for unity. The Islamic State claimed responsibility for the attack, but authorities are still investigating any potential links to foreign terrorist organizations. The off-duty police officer was praised for his heroic actions in ending the attack.\n",
      "\n",
      "\n",
      "A Muslim woman's clothing was set on fire while she was walking on Fifth Avenue in New York City, in what is being investigated as a possible hate crime. The New York City Police Department released a video of a man suspected of setting fire to the woman's blouse. The woman, a Scottish tourist, felt something warm on her arm and realized her blouse was on fire. She saw a man holding a lighter who then ran away. The incident occurred just days after two Muslim women were attacked in Brooklyn. The attacker in that case was charged with felony assault as a hate crime. Additionally, a mosque in Orlando, Florida was set on fire during the start of a Muslim holiday. The Council on American-Islamic Relations called on city officials to address attacks against Muslims.\n",
      "\n",
      "\n",
      "The Democratic Party suffered a shocking defeat in the recent election, with Donald Trump winning key demographics that were expected to support Democrats. Many Obama voters flipped to Trump, and he outperformed Romney among union households, whites without a college degree, and low-income households. The success of Obama's coalition may have been due to his unique talent as a politician, rather than a stable majority. The Democratic Party is now facing a struggle for dominance between Sanders supporters and the establishment wing. With no legislative victories in sight and upcoming electoral losses, the party's future is uncertain. Economic insecurity may have contributed to the rise of racism and far-right political parties. To prevent the views that led to Trump's victory, Democrats need to focus on delivering economic gains to working people.\n",
      "\n",
      "\n",
      "Scientists have been working on developing birth control for men, and a recent clinical trial showed promising results. However, the trial was discontinued due to side effects such as mood changes, depression, pain at the injection site, and increased libido. The article highlights the side effects of various birth control options for women, which are equally as bad but have not been halted. Women have always borne the burden of birth control, and the article argues that men should share in the responsibility. The availability of birth control has been revolutionary for women, leading to wage gains, increased college enrollment, and a decline in teen pregnancies. The article points out the double standard in the standards for male and female birth control, with women being expected to endure more side effects. The article concludes by highlighting the hypocrisy that women face in exchange for reproductive freedom.\n",
      "\n",
      "\n",
      "Teach for America, an organization that recruits and trains teachers for schools serving underprivileged students, is preparing for the potential end of the Deferred Action for Childhood Arrivals (DACA) program under the Trump administration. The organization has 146 teachers who are not documented citizens and are protected under DACA. Viridiana Carrizales, who planned for a Trump presidency, has developed a plan to help these teachers relocate and navigate immigration issues. Teach for America got involved in immigration policy in 2012 when they lobbied for the DREAM Act. When DACA became an option in 2014, Teach for America provided resources to help aspiring teachers go through the approval process. The status of these teachers is causing concern for the organization's top executive, Elisa Villanueva Beard. Teach for America teachers with DACA status also have undocumented students in their classes and discuss these issues in a private Facebook group. Carrizales, who came to the US illegally from Mexico, worries about the 146 DACAmented teachers and their families. Despite the sadness and fear among the teachers, there is a sense of resilience and determination to come through stronger.\n",
      "\n",
      "\n",
      "The residents of Matheny Tract, a poor community in California's Central Valley, have been living with contaminated water for years. They have had to pay for bottled water in addition to their tainted tap water. However, legislation based on the \"human right to water\" is now being implemented, and Matheny Tract will be the first community to receive clean water under this law. Similar legislation has been introduced in Michigan, but is still stuck in committee. The issue of water inequality in rural communities has been brought to the forefront by the state's record-breaking drought. Many small rural systems in California have contaminated water, affecting an estimated 160,000 people. These communities often lack public investment and are overlooked by their local governments. The right to water is seen as a fundamental human right, and California's legislation is seen as a step towards addressing water inequality. The state has also introduced a publicly accessible database on water systems that are out of compliance. Matheny Tract is scheduled to receive clean water on June 1, marking a significant improvement for the community.\n",
      "\n",
      "\n",
      "Jewish communities in the United States are grappling with fear, grief, and anger following Donald Trump's election as president. Synagogues across the country have held prayer and healing services to address these emotions. While Jews have not been directly insulted by Trump, they fear that his presidency will create a hostile environment for minority groups. The Jewish community is overwhelmingly liberal and Democratic, leading to a sense of alienation from their fellow Americans. However, they also recognize the need for understanding and reaching out to Trump supporters. Jews are urged to reflect on their own actions and allyship with other marginalized groups. This new era has brought about a struggle for Jews to understand Trump supporters while maintaining their own values and finding solidarity with others.\n",
      "\n",
      "\n",
      "A knife-wielding man attempted to stab a security guard at the Israeli Embassy in Ankara, Turkey. He was shot in the leg by Turkish police. The man, who carried a foot-long knife, shouted phrases such as \"I will change the Middle East!\" and \"Allahu akbar\" before running towards the embassy gate. The attacker was later identified as a 41-year-old from Konya, Turkey. There is no evidence linking him to a wider plot, and he appears to be mentally unstable with no criminal record or organizational links. A bomb squad is examining a bag the man left behind. Turkey has experienced several terrorist attacks in recent months, including a car bomb in Ankara claimed by Kurdish militants and a suicide bomb attack believed to be carried out by the Islamic State. Relations between Turkey and Israel have been improving after years of estrangement.\n",
      "\n",
      "\n",
      "Multiple studies show that Trump's sexist rhetoric can have a significant impact on thinking, stress, and self-esteem. Women have expressed feeling gross and objectified by his comments, and even trauma victims have been distressed by his behavior. Trump's defense that his words are \"just words\" or \"locker room talk\" does not render them harmless, as rude language can impair cognition and lead to less creative thinking. Uncivil political discourse, especially in a presidential debate, undermines trust in government and discourages women from running for office. Discriminatory speech has negative consequences for women, leading to anger, depression, and lower self-esteem. Different types of discrimination can compound each other, with women of color experiencing even greater harm. Trump's candidacy exposes the bleak state of gender relations in the US and raises questions about how sexism will be taken seriously in the future.\n",
      "\n",
      "\n",
      "Sean Thompson, a member of the Occupy movement, pied Sacramento Mayor Kevin Johnson during a fundraiser. Thompson criticized Johnson for focusing on the construction of the Golden 1 Center instead of projects that benefit the community. Johnson's Chief of Staff denied claims that the mayor violently attacked Thompson. Thompson expressed regret for promoting violence but still stands by his actions. He believes the money spent on the arena should have been used for public schools, community development, or helping the homeless. Thompson stated that he would pie the mayor again if given the chance. The Bay Area has a history of political pieing, with a notable incident occurring in 1998 involving then-San Francisco Mayor Willie Brown.\n",
      "\n",
      "\n",
      "Scott Michael Greene, a 46-year-old white man, has been arrested in connection with the fatal shootings of two Des Moines-area officers. The officers, Anthony \"Tony\" Beminio and Justin Martin, were shot in an \"ambush-style attack\" while in their patrol cars. Greene was detained without incident and charged on Thursday.\n",
      "\n",
      "\n",
      "The World Economic Forum (WEF) released its annual global gender gap report, revealing that the US has slipped to 45th place in terms of gender equality. This decline is attributed to a decrease in women's participation in the labor force and a shrinking number of women in senior positions. However, the US has closed its education gender gap. Globally, progress towards economic equality has slowed, with the gender pay gap persisting and women's labor force participation lower than men's. The report warns that the global economic gender gap is not expected to close until 2196. The lack of progress in economic equality is concerning, as jobs typically held by women are at risk due to technological disruption. The top-ranking countries in terms of gender equality are predominantly Scandinavian. The Global Gender Gap Index ranks countries based on the distribution of resources between men and women.\n",
      "\n",
      "\n",
      "Coconut trees are facing threats from lethal yellowing bacteria in the Caribbean, Cote d'Ivoire, and Papua New Guinea, which could lead to a shortage of coconuts. Unlike other crops, coconuts cannot be stored in seed vaults due to their high water content, so maintaining living gene banks is necessary. However, these gene banks require a lot of space and are vulnerable to land grabs. Additionally, growing and breeding coconuts is challenging due to their long maturation period and the need for hand pollination. Efforts to isolate and freeze coconut embryos for preservation are still unreliable. Funding for coconut gene banks is also limited, as most coconut growers are small farmers. The future of the Coconut Genetic Resources Network (COGENT) is uncertain due to funding issues.\n",
      "\n",
      "\n",
      "Typhoon Meranti, the strongest storm of the year, swept close to Taiwan with winds of 230 mph. The storm caused heavy rain and flooding in many Taiwanese cities, leading to halted transportation services and grounded flights. Over half-a-million people lost electricity, but there were only a few injuries reported. Meranti did not directly hit Taiwan but came shortly after typhoon Nepartak. The storm is now expected to head towards China and is predicted to be the strongest typhoon to hit the area since 1969.\n",
      "\n",
      "\n",
      "Climate change has had a broad impact on ecosystems, with evidence of its effects on biodiversity and ecosystem functioning. A study identified 94 core ecological processes, of which 82% showed evidence of impact from climate change. These impacts range from shifts in species ranges and changes in phenology to disruptions at the genetic and ecosystem levels. Species are adapting to temperature extremes, with changes in physiology and morphology. Changes in phenology, abundance, and distribution of species have also been observed. These impacts have implications for food security, as reduced genetic diversity, inconsistent crop yields, and decreased productivity in fisheries threaten resources. Changes in disease vectors and the emergence of novel pathogens and pests pose a direct threat to human health and resources. Understanding these impacts is crucial for adapting to and mitigating the influence of climate change on biodiversity and ecosystem services.\n",
      "\n",
      "\n",
      "Keith Springer, an expert in killing small animals, is on a mission to eradicate an army of house mice that are endangering a remote colony of seabirds on Gough Island. The mice have multiplied and are feasting on the eggs and chicks of millions of seabirds, including the critically endangered Tristan albatross. Springer is working on an audacious plan to spray poison pellets from helicopters to kill the mice, but the operation is challenging and expensive. A campaign is underway to raise funds for the eradication project. If successful, the plan will save the seabirds and allow a new generation of albatrosses to thrive.\n",
      "\n",
      "\n",
      "India's unregulated coal industry has resulted in serious health and environmental issues. The mining has caused respiratory problems and illnesses like tuberculosis among people, while forests are being cleared for coal mining, leading to conflicts between wild elephants and humans. Elephants have caused significant property and crop damage, and deaths due to electrocution have become common. The affected communities have not received adequate compensation or support. Additionally, the generation of fly ash by power plants is causing pollution and leaching into groundwater. Lung diseases such as tuberculosis are prevalent in villages near open cast mines.\n",
      "\n",
      "\n",
      "The text describes an undercover investigation into the exploitation of Syrian refugees and children in the garment industry in Turkey. The investigation reveals that many Syrian refugees, who lack work permits, are forced to work illegally in factories for low wages. The factories often hide workers during audits and continue exploiting them once the auditors leave. Some brands are aware of the abuses and are trying to address them, but others are unaware of the conditions in their supply chain. The investigation concludes that until brands have full visibility into their supply chain, the exploitation of refugees and children is likely to persist.\n",
      "\n",
      "\n",
      "A study from the University of Copenhagen has confirmed a link between hormonal contraceptives and depression. The study, which tracked one million Danish women for 13 years, found that women taking the combined oral contraceptive were 23% more likely to be diagnosed with depression, while those using progestin-only pills were 34% more likely. Teens were at the greatest risk, with an 80% increase in depression when taking the combined pill. Other hormone-based methods, such as the hormonal IUS/coil, the patch, and the ring, were shown to increase depression at a higher rate than oral contraceptives. The study suggests that the practice of encouraging teens to use these alternatives to the pill is misguided. The medical community's response to the study has been dismissive, with experts downplaying the link and offering paternalistic advice. The burden of avoiding unwanted pregnancy falls on women, despite the potential negative effects on their health and wellbeing. Effective alternatives to hormonal contraceptives exist, but they are often overlooked. It is important to remember that women are twice as likely to experience depression as men, and blaming women's depression on their biological femaleness is acceptable, but blaming medication formulated from synthetic hormones is not. The study's authors plan to research the possible association between hormonal birth control and suicide attempts or completions. While not every woman experiences depression and anxiety from hormonal contraceptives, it is important to acknowledge that many do, and their lives could be improved by recognizing and addressing this issue.\n",
      "\n",
      "\n",
      "The treatment of children in the Calais camp is not just neglectful, but abusive. The camp is in a state of hardship, with most inhabitants gone and those remaining facing constant tension and the threat of fire and bulldozers. The French authorities promised to accommodate all refugees but failed to do so, leaving many homeless. Despite detailed census information, the authorities ignored estimates and abandoned almost 2,000 refugees. Help Refugees warned that housing minors in shipping containers would expose them to danger, and now there are approximately 1,500 children subjected to these conditions. The children report lack of basic necessities such as drinking water, clean toilets, and working showers, and are only provided with one meal a day. The authorities have shown little regard for their wellbeing and have failed to safeguard them. Arbitrary security measures and restrictions on volunteers further isolate the children and cut off their access to communication and legal assistance. Many refugees are sleeping outside in the cold and rain, exposed to danger. Despite the desperate conditions, volunteers continue to provide support. Charities received notice that children in the container camp will be transferred to accommodation centers across France, but there are no guarantees and the process may take time. It is crucial for charities to ensure that refugees in France receive better care.\n",
      "\n",
      "\n",
      "A gas shortage in the Southeastern United States has caused long lines at gas stations and limited availability of fuel. The shortage was caused by a leak in a pipeline that runs from Houston to New Jersey, resulting in over 300,000 gallons of gas being leaked. The states affected by the shortage include Alabama, Georgia, Tennessee, and the Carolinas. While prices have increased, they are still below $2.50 per gallon in many areas. The shortage has led to panic and frustration among drivers, with some gas stations completely running out of fuel. Efforts are being made to address the shortage, including repairs to the pipeline and alternative methods of transporting gasoline.\n",
      "\n",
      "\n",
      "The text discusses the forgotten victims of the drought in the western United States, particularly in Nevada. The lack of rain and snow has caused reservoirs to reach record lows, rivers to dwindle, and lakes to disappear. The drought has had devastating effects on the Native American tribes in Nevada, such as the Yomba Reservation, where ranchers have been forced to sell off their herds. The drought not only has ecological and economic impacts but also sociological and psychological ones, leading to domestic violence, substance abuse, and a sense of displacement. The article also mentions the importance of preserving native cultures and the efforts being made to help tribal communities survive the drought.\n",
      "\n",
      "\n",
      "The eldest generation in Russia, known as the \"children of the war,\" are living in poverty. Despite surviving World War II and other hardships, they are struggling to make ends meet on a meager pension. The falling ruble and rising prices have made it difficult for pensioners to afford basic necessities. Many have resorted to selling apples and relying on secondhand clothing and homegrown food. Medical care is also a challenge, as the cost of treatment is often too high. The government's response has been inadequate, offering a one-time payment instead of increasing pensions. Despite these difficulties, pensioners in Oryol have found solace in a DIY school for the elderly, where they can learn new skills and find companionship. However, they still long for a better quality of life and feel frustrated by the lack of support from the government.\n",
      "\n",
      "\n",
      "President Obama oversaw significant growth in federal spending to reduce inequality, but President-elect Trump and the Republican majorities in Congress are likely to undo these measures. Trump's proposed policies, such as building a border wall, deporting undocumented workers, and cutting taxes, could lead to financial panic and a possible recession. The repeal of Obamacare and the proposed tax cuts would disproportionately affect the poor, with millions potentially losing access to healthcare and the highest-income taxpayers benefiting the most. In order to balance the budget, the GOP would need to make significant spending cuts, which would likely impact assistance programs for the young and poor. Trump's vague plans make it unclear which specific policies would be eliminated, but House Speaker Paul Ryan's \"A Better Way\" plan provides some insight into potential cuts. Overall, Trump's presidency could make it much harder to be poor in America and represents a repudiation of Obama's economic policies.\n",
      "\n",
      "\n",
      "The death toll in the Mediterranean Sea has reached a new record number, with over 4,600 people dead or missing this year. The central Mediterranean route, mainly departing from Libya, has seen the highest number of deaths. The issue is not the lack of resources in rescue operations, but the instability and violence in Libya, where human traffickers exploit people's hopes for a better life. The Libyan Civil War worsened the situation, leaving vulnerable migrants in a dangerous position. Traffickers are increasingly unconcerned with safety, forcing migrants to make the journey in rough seas without proper equipment. The International Organisation for Migration (IOM) advocates for long-term policies that provide information about the dangers of the journey and safe passages for migrants. The IOM is also fighting against a negative narrative on migration, highlighting its historical positive impact.\n",
      "\n",
      "\n",
      "A 5.7 magnitude earthquake in Tanzania has resulted in 13 deaths and over 200 injuries. The quake struck near the town of Bukoba and was felt as far away as Rwanda, Uganda, and Kenya. Rescue operations are ongoing, and some houses have collapsed. The situation is currently calm and under control, with no expectation of many more injuries. The earthquake was felt in the Great Lakes region, but earthquakes of this intensity are uncommon. The regional hospital is overwhelmed, and emergency operations are poor. The earthquake did not cause any damage in Dar es Salaam, but concerns remain for the safety of families in the affected area.\n",
      "\n",
      "\n",
      "The internet is criticizing Khloe Kardashian for posting a photo of her hand with her rumored boyfriend, Tristan Thompson, showing off their expensive jewelry. People are concerned that Khloe is putting herself at risk of being robbed, following her sister Kim Kardashian's recent robbery in Paris. Kim has since stopped sharing her wealth on social media, but her sisters continue to do so. It is unclear when Kim will return to social media, but her absence is costing her up to $1 million per month.\n",
      "\n",
      "\n",
      "Millions of Nigerians are facing a severe hunger crisis, exacerbated by the ongoing conflict with Boko Haram. The situation is particularly dire in Borno state, where nearly a quarter of a million children are severely malnourished. Aid organizations like Mercy Corps are working to provide assistance, but many areas remain unreachable due to insecurity. The Nigerian military must secure these areas to allow aid workers safe passage. However, funding for the crisis is lacking, with less than one-third of the United Nations appeals being funded. Mercy Corps is providing financial assistance, repairing water points, and offering protection to vulnerable civilians. Despite the challenges, organizations are determined to scale up their operations and make a difference.\n",
      "\n",
      "\n",
      "The author discusses the aftermath of Donald Trump's election and the implications it has for the country. They emphasize the importance of not conceding to the lies propagated by the Trump campaign and the potential damage a Trump administration could cause, particularly in regards to climate change and civil liberties. The author also expresses concern about the long-term effects of the election, such as the appointment of Supreme Court justices and increased voter suppression. They acknowledge the temptation to disengage from politics but argue that citizens must stand up for the truth and American values. While the author acknowledges the challenges ahead, they believe it is crucial to strive for a better future for America.\n",
      "\n",
      "\n",
      "Three adults were found dead in a home in Fullerton, California, after a child called 911 to report her parents had died. Two men and a woman were discovered dead, while two children were found unharmed. The police have not released the ages of the children or their relationship to the adults. There were signs of trauma on the bodies, and the deaths are being investigated as a multiple homicide. Authorities are working to identify who is responsible for the deaths and do not believe the community is currently in danger.\n",
      "\n",
      "\n",
      "Male models are being paid up to 75% less than women, according to a top modelling agent. Elizabeth Rose, who manages male models at Premier, believes it is unfair and not a form of female empowerment. She explains that women can be paid up to £40,000 for a top show, while male models only receive £10,000 on average. However, she notes that the situation is slowly changing as advertisers are increasingly using male models for grooming products. Elizabeth also highlights that the top 10 female models all make millions, whereas only the top three male models earn over a million. She tries to negotiate higher fees for male models but acknowledges that women face more discrimination due to their age. Elizabeth believes that change can happen if more agents and models refuse to accept unequal pay.\n",
      "\n",
      "\n",
      "A 19-year-old college student in Texas crashed into a police car while taking a topless selfie and sending nude photos to her boyfriend on Snapchat. The accident caused the airbag to deploy, but no one was injured. The student also had an open bottle of wine in her car. When approached by the officer, she was trying to put on her blouse and explained that she was taking the photo at a red light. She was arrested for suspicion of driving while intoxicated and released on bail.\n",
      "\n",
      "\n",
      "A British tourist who claimed she was raped in Dubai is now facing charges of extramarital sex. The woman, 25, reported being attacked by two U.K. men last month, but instead of being treated as a victim, she was locked up and charged. She is currently on bail but cannot leave the country and needs $30,000 for legal fees. The men have returned to Birmingham, while the woman fears a long jail term for violating the United Arab Emirates' Sharia laws on sex. Her passport has been taken, and she is staying with an English family. The incident occurred during her dream adventure after leaving her IT consultancy career. The victim's family claims that the men took turns raping her while filming the assault. In the UAE, sex outside marriage is prohibited for couples, and single individuals are forbidden from having sex with married individuals. The victim's marital status is unclear.\n",
      "\n",
      "\n",
      "A father and son tragically died after falling off a cliff during a hike near Shaver Lake in Fresno, California. Despite efforts by deputies, a helicopter power failure prevented them from reaching the hikers. A search-and-rescue crew will be sent out to recover the bodies. The identities of the victims have not been disclosed.\n",
      "\n",
      "\n",
      "A man in Enugu, Nigeria, killed his wife and then committed suicide. The couple had been living happily until the man attacked his wife, causing severe injuries that led to her death. The man was found in a coma and later died in the hospital. The bodies of the couple have been taken to a mortuary. The police are investigating the incident.\n",
      "\n",
      "\n",
      "A Halloween night crash in Chunky, Mississippi has resulted in the deaths of one adult and two children. The victims were riding on a trailer when it was struck by a vehicle on U.S. Highway 80. Two individuals died at the scene, while another passed away while waiting for a hospital helicopter. Several others were injured, some with life-threatening injuries, and were transported to three different hospitals. The names and ages of the victims, as well as their relationship to each other, have not been released. Investigators are currently at the scene.\n",
      "\n",
      "\n",
      "Protesters in Oakland caused damage to businesses during anti-Trump demonstrations. At least 11 people were arrested as protesters set fires, smashed windows, and sprayed graffiti on seven businesses. Police in riot gear attempted to control the crowd's access to the city's central business district. The number of protesters decreased from 1,000 to a few hundred by the end of the night.\n",
      "\n",
      "\n",
      "In his first televised sit-down interview since becoming President-elect, Donald Trump told his supporters to stop harassing minorities. He expressed sadness over reports of harassment and urged his supporters to \"stop it.\" Trump also criticized the protests that have broken out since his election, calling them \"horrible\" and blaming the press for exaggerating the incidents. He discussed his plans for FBI Director James Comey, saying he hasn't made up his mind about whether to ask for his resignation. Trump also addressed his stance on same-sex marriage, abortion, and deporting undocumented immigrants. He pledged to focus on deporting criminals and building a border wall. Trump defended his transition team, which includes lobbyists, saying that they know the system but will be phased out. He stuck by his claim that he knows more than American generals about fighting ISIS. Trump also expressed support for ditching the Electoral College and handing the presidency to the winner of the popular vote. He dismissed concerns about the impact of his presidency on his family's businesses, saying that saving the country is more important. Trump plans to turn down the presidential salary and does not intend to change his tone.\n",
      "\n",
      "\n",
      "The Trump campaign has been pursuing a strategy of publicly courting black voters while privately seeking to depress their turnout, according to a BusinessWeek article. The campaign has three major voter suppression operations targeting idealistic white liberals, young women, and African Americans. These operations include placing negative ads on select African American radio stations and using Facebook \"dark posts\" to deliver targeted messages. The campaign believes that depressing Clinton's vote total among these groups will benefit Trump. However, there is evidence that negative campaigning does not significantly depress voter turnout. Trump's approach to African Americans has been seen as insincere, with many of his events aimed at them taking place in predominantly white areas. As a result, Trump's polling among African Americans is poor, with him trailing Clinton by a large margin. While Trump's advisors believe that he doesn't need black votes to win, future Republican candidates will, and the campaign's efforts to suppress black voter turnout may harm the party's relationship with this demographic for years to come.\n",
      "\n",
      "\n",
      "William H. Pryor, Jr., a potential nominee for the Supreme Court of the United States, has a history of anti-LGBT acts. In 2003, he argued to uphold Texas' law criminalizing consensual LGBT sex, stating that it is not a fundamental right. Pryor has also been criticized for his extreme far-right views and opposition to Roe v. Wade.\n",
      "\n",
      "\n",
      "The text discusses how Donald Trump was able to give a voice to the pain and anger of millions of Americans who felt ignored and dismissed by the political elite. These individuals had been poorly educated and lacked the words to express their feelings and experiences. Trump appealed to their fears and frustrations, promising to restore their world and make America great again. The text also highlights the long-standing anger and despair that has been building for decades due to job loss and economic changes. The media and policymakers often use clinical terms to describe the struggles faced by these workers, while corporations prioritize profits over human decency. Trump's supporters accepted his controversial actions because they felt he understood their perspective.\n",
      "\n",
      "\n",
      "With two weeks to go, Donald Trump's chances of winning the election are almost closed. Hillary Clinton is ahead in states worth more than 270 electoral votes. The focus now is on how many down-ballot Republicans Trump will drag down with him. Republican operatives and conservative radio hosts have declared that Trump is done and there is little he can do to turn it around. Trump's deficits in national and swing state polls are unprecedented, and his ground game is weak compared to Clinton's. Early voting numbers in Arizona and the shrinking advantage of Republicans in Florida and North Carolina indicate a potential win for Clinton. However, Democrats are not taking the outcome for granted and are working hard to mobilize voters. Trump's refusal to accept the voting results and his controversial remarks have galvanized Clinton's supporters. Trump's blaming of a globalist conspiracy and claims of a rigged election have raised concerns about the integrity of the election system. Trump's downward spiral has also affected House Republicans and vulnerable Senate candidates. Overall, Republicans are scared and the race has become a \"horror show\" for them.\n",
      "\n",
      "\n",
      "Turkish President Recep Tayyip Erdogan has escalated his conflict with the Kurdish opposition by arresting at least eight members of parliament from the pro-Kurdish Peoples' Democratic Party (HDP), including the party's two leaders. The arrests have been criticized as an assault on Turkey's democracy and have drawn condemnations from European capitals and the United Nations. The crackdown on political opponents follows a failed coup attempt in July, with tens of thousands of people being arrested or dismissed from their jobs. The government has also been targeting Kurdish opposition politicians, linking them to Kurdish militant groups. The arrests of HDP lawmakers are seen as a turning point in the government's campaign of arrests and have raised fears of greater instability in the country.\n",
      "\n",
      "\n",
      "Typhoon Meranti has caused damage in Taiwan and southeastern China, resulting in two deaths and dozens of injuries. The storm knocked out power and water supplies in both countries, with millions of homes affected. In addition, the storm caused the collapse of an 800-year-old bridge in China. Meanwhile, across the US, trees are dying at an alarming rate due to climate change, drought, disease, insects, and wildfires. California has lost 66 million trees since 2010, primarily due to drought and pine beetles. The spread of \"Sudden Oak Death\" is also infecting various plants in northern California. The presence of dead trees poses a significant fire hazard. Furthermore, a study has found that household dust exposes people to toxic chemicals, with phthalates being the most commonly found. This exposure can lead to serious health problems, especially in children.\n",
      "\n",
      "\n",
      "The Obama administration has announced that it will resume deportations of undocumented Haitian immigrants due to a surge in Haitian migrants seeking to enter the United States. After the 2010 earthquake in Haiti, deportations were suspended, but they were partially resumed later on for those convicted of serious crimes or considered a threat to national security. However, since last spring, thousands of Haitian migrants who had moved to Brazil for work have been making their way to the United States. These migrants have been allowed to enter the country and given permission to stay for up to three years under a humanitarian parole provision. With the full resumption of deportations, Haitians without visas will now be put into expedited removal proceedings. The surge in Haitian migrants has overwhelmed shelters in Tijuana, and many migrants have chosen to sleep on the streets. The change in American policy has surprised advocates in San Diego and Tijuana, who object to the policy change that does not reflect any actual change in reality.\n",
      "\n",
      "\n",
      "The UK government has approved the construction of a new runway at London's Heathrow airport, despite concerns about air pollution, noise, and the destruction of hundreds of homes. The decision is seen as a way to show that the country is \"open for business\" after the Brexit vote. The government rejected other options for expanding airport capacity and the decision will now be studied further and voted on by Parliament. Construction is expected to take years and could cost 2.6 billion pounds. Critics argue that the expansion is catastrophic for the environment and local community.\n",
      "\n",
      "\n",
      "A new report by environmental group Amazon Watch reveals that the United States is driving the destruction of the Amazon rainforest by importing crude oil from the region. American refineries processed over 230,000 barrels of Amazon crude oil per day last year, with California alone refining an average of 170,978 barrels per day. The expansion of oil drilling in the Amazon poses a serious threat to the region, with proposed oil and gas fields covering an area larger than Texas. The destruction of the Amazon rainforest releases greenhouse gases and puts indigenous communities and biodiversity at risk. Ecuador's state oil company recently started drilling near the biologically rich Yasuni national park. Indigenous communities are at risk of pollution, displacement, and deadly illnesses. Amazon Watch is calling for a reduction in Amazon crude imports and the establishment of \"no go zones\" in decision making.\n",
      "\n",
      "\n",
      "The US-backed air campaign in Yemen has been accused of war crimes, with rights groups and UN officials stating that the coalition has disregarded civilian casualties and failed to distinguish between civilian and military targets. Nearly 4,000 civilians have been killed in the war, with 60% of them dying in airstrikes by the Saudi-led coalition. The war has caused widespread hunger and displacement, and warplanes have targeted medical centers, schools, and infrastructure. The US provides intelligence and logistical help to Saudi Arabia, but has reduced the number of military personnel advising the coalition. The coalition claims to investigate violations, but critics argue that the backing from the US and international community has given them a free rein. The strike on a hospital in Abs exemplifies the problems with the airstrikes, as the hospital was on a list of sites not to be targeted and had markings to indicate it was a medical facility. The strike has had a significant impact, with Doctors Without Borders pulling its personnel from northern Yemen and leaving the Abs hospital closed. Experts argue that the strikes on the taxi and hospital constitute war crimes.\n",
      "\n",
      "\n",
      "Alec Cook, a University of Wisconsin student, has been charged with multiple counts of sexual assault, strangulation, false imprisonment, and fourth-degree sexual assault. The charges are based on allegations from five women, with the earliest incident dating back to March 2015. Cook's arrest in October 2016 led to more women coming forward with potential information about him. Cook's lawyers have called for the public to wait for the facts before condemning him, criticizing the \"politically correct\" culture that leads to \"blind acceptance of mere accusations.\"\n",
      "\n",
      "\n",
      "Ugandan police have blocked a gay pride parade in two resorts near Kampala. More than 100 LGBTI people attempted to participate in the celebrations, but were escorted back to Kampala by police. The minister for ethics and integrity had threatened to mobilize mobs against participants. Homosexuality is illegal in Uganda. This is the second time the LGBTI community has tried to hold gay pride celebrations this year, with the previous attempt resulting in arrests. The reason for the targeting of this event is unclear, as previous celebrations have gone unnoticed by the police. In 2014, a bill to further criminalize homosexuality was overturned in court.\n",
      "\n",
      "\n",
      "Venezuelan children are fainting and falling asleep in school due to hunger. Many students are absent because their families cannot afford to buy food. One teacher reported that a student skipped class every Thursday because it was their family's designated day to buy food at government-regulated prices. Another teacher witnessed a child faint during a cultural event because they had only eaten an arepa at 10 a.m. and it was already 3 p.m. The government spends very little on meals in public schools, and a lawmaker criticized the government for prioritizing weapons over food. A recent poll revealed that 48% of the time children do not attend school, it is due to food-related issues. Many children eat only twice a day or even just once, and for some, the school lunch is their only meal of the day. Some parents are considering changing their children from private to public schools, while others are contemplating taking their children out of school altogether. In addition to the food crisis, public schools are also facing infrastructure problems, with stolen computers and desks and a lack of funds for school supplies.\n",
      "\n",
      "\n",
      "An Arizona police officer has been placed on administrative leave after a video surfaced of him punching a woman in the face during an arrest. The woman was struggling with the officers, claiming that the issue had already been resolved. The officer, identified as Jeff Bonar, struck her in the face with a closed fist. The incident was filmed by a bystander and shared on Facebook. The woman's boyfriend and children witnessed the incident. The woman was ultimately charged with assaulting an officer and resisting arrest. An internal affairs investigation is underway.\n",
      "\n",
      "\n",
      "Violence has escalated between Myanmar's security forces and the Rohingya, a persecuted Muslim population. Two soldiers were killed by attackers armed with guns, knives, and spears. In retaliation, the government used helicopters to fire at the attackers. The area is closed to Western journalists, making it difficult to verify the scale of the fighting. The Rohingya have been under siege since the government sent security forces to hunt for armed Rohingya assailants who had killed nine police officers. Human rights groups have received reports of killings, rapes, and beatings of Rohingya civilians. Western diplomats have called for an independent investigation into the violence, but Myanmar's leader, Aung San Suu Kyi, has declined. The Rohingya population has been subjected to decades of repression, making them susceptible to radicalization. The government's harsh proposals may have been the catalyst for the recent attacks. The Rohingya villages have become armed camps, with reports of food scarcity, curfews, and rape by soldiers. Myanmar officials deny the occurrence of rapes.\n",
      "\n",
      "\n",
      "A viral video shows a man being attacked by a python while taking a selfie. The man had rescued the snake from a hotel in northwestern India.\n",
      "\n",
      "\n",
      "Police in Virginia have apprehended a stray emu that escaped from a farm in Haymarket. The emu was captured without incident and was not a threat to the arresting officers.\n",
      "\n",
      "\n",
      "An increasing number of visitors to Norway's Arctic region have led to more endangered polar bears being killed. Officials in Norway are making efforts to protect the bears.\n",
      "\n",
      "\n",
      "The World Health Organization (WHO) has warned about the increasing number of junk food ads targeting children online. The WHO criticized governments for not addressing this issue and failing to protect children's rights. They highlighted studies linking childhood obesity to the marketing of unhealthy food and beverages high in fat, sugar, and salt. The organization called on Member States to introduce restrictions on advertising these products on all platforms, including the internet. The WHO also expressed concern about video bloggers who promote junk food and have a significant influence on children. They are currently reviewing which foods and drinks can run ads targeting children.\n",
      "\n",
      "\n",
      "The suspect in the Washington mall shooting, Arcan Cetin, will be arraigned on Monday. He is facing five counts of first-degree murder. Cetin was taken into custody after a 24-hour manhunt and was arrested near his home. He is a legal permanent resident of the United States, originally from Turkey. The motive for the shooting is still being determined, and authorities have not found a link between the suspect and the victims. Cetin walked into the mall and opened fire with a rifle before fleeing the scene. The weapon used in the shooting is still being investigated.\n",
      "\n",
      "\n",
      "A 20-year-old suspect, Arcan Cetin, has been arrested for the shooting at a mall in Burlington, Washington, which resulted in the death of five people. Cetin, a legal permanent resident from Turkey, was found \"zombie-like\" and unarmed at the time of his arrest. Although the motive for the shooting is unclear, Cetin's ex-girlfriend had previously worked at the targeted department store. He had been charged three times with domestic assault and was under a court order not to possess a firearm. The FBI stated that terrorism was not suspected. Cetin is facing five counts of first-degree murder and is expected to appear in court on Monday. The shooting has deeply affected the small city of Burlington, and the victims have not yet been publicly identified. Survivors are still trying to come to terms with the tragedy, as the community joins the list of places known for mass shootings.\n",
      "\n",
      "\n",
      "Overpumping of groundwater in Dhaka, Bangladesh is causing a water crisis that extends beyond the city center. The pumping has caused groundwater levels to drop significantly over the past 50 years, leading to water quality and supply issues in surrounding peri-urban and rural communities. The presence of naturally occurring arsenic in shallow groundwater further exacerbates the problem. The pumping is causing faster groundwater flow, which can transport contaminants like arsenic to deeper areas of the aquifer, even outside the city limits. This poses a threat to deep wells used for arsenic mitigation in these areas. The researchers used detailed subsurface measurements to model the geology of Dhaka and found that strong pumping and heterogeneity in the underground sediments affect the hydrology of the area. Heterogeneity refers to the way sand and clay are oriented underground and is critical to how contaminants move in groundwater. In a delta system like Bangladesh, the clay layers are chopped up, allowing water to move in unpredictable ways and creating uncertainty about well contamination. The researchers theorize that if pumping continues at current levels, some wells outside the city center could become contaminated sooner than expected. The low water levels caused by pumping could also compromise the operation of handpumps in these areas. Arsenic is tasteless, odorless, and colorless, making it difficult for communities to detect its presence in water without testing. The researchers' models showed that typical hydrogeological data used to assess well safety is not predictive in this type of heterogeneous system. This highlights the need for water quality monitoring and the development of artificial groundwater recharge methods to address the water crisis in the region.\n",
      "\n",
      "\n",
      "Former Wells Fargo employees have described the mental health nightmares they experienced while working at the bank. Many employees suffered from stress-induced migraines, severe anxiety, depression, and other psychological problems due to the high-pressure work environment and unethical practices. Some employees were rewarded for using unethical practices to meet unrealistic sales goals, while others were constantly observed and critiqued by managers. The experiences of these employees highlight the toll that a toxic work culture can have on mental health. Wells Fargo has acknowledged its failures and is making changes to support its employees and uphold a customer-focused culture. The extreme stress and involvement in illegal activity can worsen mental health problems. Even managers at the bank experienced severe depression and anxiety. The mental health nightmares extended to employees in the mortgage division as well, with bullying, punishment, and intimidation being common. Employees were constantly measured against each other and bonuses were sometimes blocked. The lack of compassion from supervisors during personal crises led some employees to quit. The experiences of these employees have left a lasting impact on their mental health and perception of Wells Fargo.\n",
      "\n",
      "\n",
      "According to former Wells Fargo workers, the practice of opening unauthorized accounts to meet sales goals has been happening for much longer than the bank has admitted. The scandal, which involved the opening of as many as two million fake accounts since 2011, has led to the firing of 5,300 employees and an investigation by the Justice Department. One former branch manager, Susan Fischer, recalls being instructed to have her employees open unauthorized accounts in 2007. When she refused, she faced pressure and eventually had to take a medical leave of absence. Fischer is now speaking out to prevent this behavior from continuing.\n",
      "\n",
      "\n",
      "Advocates for the West has filed a lawsuit on behalf of Western Watersheds Project to challenge the Forest Service's grazing decisions in the White Clouds Wilderness and East Fork Salmon River. The Forest Service has allowed heavy grazing and repeated violations on these public lands, despite acknowledging in 2003 that grazing was causing significant harm to resources. The lawsuit aims to protect the sensitive habitat for various fish species and improve management of the watershed. The grazing has also impacted recreational opportunities in the area. The groups are urging the Forest Service to take action and prioritize the preservation of these lands.\n",
      "\n",
      "\n",
      "The world's wildlife trade policy body, CITES, is calling for better treatment and tracking of illegally traded animals that are confiscated by authorities. Between 2010 and 2014, over 60,000 wild creatures were seized, with a fifth of them being threatened species. However, wildlife advocates argue that animals often suffer after being confiscated, as they are sometimes sent to inadequate facilities, returned to traffickers, or released back into the wild where they can spread diseases. CITES guidelines state that confiscated animals should be sent back to the exporting country, a designated rescue center, or other appropriate places, with humane treatment ensured. However, this doesn't always happen due to cost, impracticality, or lack of designated rescue centers. CITES member countries have agreed to distribute a questionnaire to gather information on how nations deal with confiscated animals, and Humane Society International has offered recommendations on setting up rescue centers.\n",
      "\n",
      "\n",
      "Cows release methane gas, a greenhouse gas, which has a much higher negative effect on the climate compared to carbon dioxide. The livestock industry, including cattle breeding and farming, is responsible for 18% of global greenhouse gas emissions, more than the entire transportation sector. Livestock pastures and feed production use a significant portion of the Earth's land surface, leading to deforestation and habitat loss. The increasing demand for meat and dairy products contributes to the overgrowth of the farming industry and its impact on global warming. Producing one kilogram of beef emits an equivalent amount of CO2 as an average European car every 250 kilometers and consumes a significant amount of energy. Consuming less meat and dairy products is an effective way to reduce one's carbon footprint and protect the environment.\n",
      "\n",
      "\n",
      "President-Elect Donald J. Trump's policies could have catastrophic effects on the planet's climate. By withdrawing from the Paris Agreement and terminating President Obama's Clean Power Plan, Trump could push global temperatures to rise higher than 1.5 degrees Celsius, leading to devastating consequences such as extreme weather patterns and mass extinctions. While other countries are committed to their climate commitments, Trump's actions could encourage them to abandon their commitments and emit more greenhouse gases. Trump's denial of climate change and his intention to cut off American support for UN climate science further exacerbate the situation. However, climate activists and environmental leaders are determined to continue their efforts at the local and state levels, pushing for emissions-restriction plans and the expansion of renewable energy infrastructure. Despite the divisions between Democrats and Republicans on climate policy, there is bipartisan support for investments in clean energy and climate resilience. The construction of wind and solar power plants could not only address climate change but also boost U.S. manufacturing and reduce electricity costs. The willingness of Trump and Republican leaders to support such initiatives remains uncertain.\n",
      "\n",
      "\n",
      "PTSD is a misunderstood and stigmatized disorder that affects many veterans. It is estimated that 8 million Americans suffer from PTSD, with rates among Vietnam War and Iraq War veterans being particularly high. The negative connotations surrounding PTSD prevent many veterans from seeking help. Veterans want others to know that referring to them as \"weak\" is ignorant, as war experiences are incomprehensible to those who haven't lived through them. PTSD symptoms can be masked and go unnoticed, making it difficult to recognize. Many PTSD sufferers suffer in silence, fearing judgment and trying to appear strong. Contrary to popular belief, PTSD does not make individuals violent. Recovery from PTSD is possible, and veterans encourage others to seek help and know that they are not alone.\n",
      "\n",
      "\n",
      "Ahmad Khan Rahami, a 28-year-old New Jersey resident, has been identified as the suspect in the bombings in New York and New Jersey. He has been charged with planting several bombs and faces charges including the use of a weapon of mass destruction. Rahami remains hospitalized after sustaining gunshot wounds during a shootout with police. He is also wanted for the explosion in Seaside Park. Two law enforcement officers were injured while apprehending Rahami, and President Obama praised their work. New York City Mayor Bill de Blasio stated that the bombings were an act of terror, and authorities have not found any indication of a terrorist cell operating in the area. Rahami was captured and is now in custody.\n",
      "\n",
      "\n",
      "The mental health care provided to detainees at Guantánamo Bay has been compromised by a lack of training, ethical boundaries, and information about their treatment during interrogations. Psychiatrists and psychologists were often unaware of the abuse that had taken place, and were discouraged from asking detainees about their experiences. The quality of care has been criticized by human rights groups and defense teams, who argue that it has been negligent and ineffective. Many detainees suffer from psychological problems as a result of their treatment, but PTSD is rarely diagnosed due to the impracticality of treatment in the prison environment. The mental health personnel faced numerous challenges, including distrust from detainees and the blurred lines between medical care and interrogation. Despite these obstacles, they did their best to provide care to the prisoners.\n",
      "\n",
      "\n",
      "Bollywood actress Mallika Sherawat was tear-gassed and beaten during an attempted robbery in Paris. The incident occurred when she and a male companion arrived back at their apartment complex. Sherawat, known for her outspoken feminism, has starred in several Bollywood films and made appearances in Hollywood. She endorsed Hillary Clinton during the US elections and has a large online fan base. Despite the ordeal, she has remained active on social media. Sherawat was previously married but has no children and splits her time between Los Angeles and India.\n",
      "\n",
      "\n",
      "The text discusses the benefits of using Provide Savings™, a platform that allows drivers to compare car insurance quotes and potentially save money. It highlights that drivers can receive discounts for not having any tickets or accidents in the past three years, and those living in qualified ZIP codes may receive even higher discounts. The text emphasizes the convenience of having all the necessary information in one place, similar to how Expedia or Orbitz save money on travel. It advises drivers to compare quotes before purchasing car insurance to avoid overpaying. The text also mentions that car insurance agents make money from premiums, which may affect the fairness of the price. Provide Savings™ aims to provide consumers with the lowest rates and trustworthy tools.\n",
      "\n",
      "\n",
      "The healthcare system in the United States is ill-prepared to treat obese patients, with doctors often unwilling to look past their weight and provide proper care. Obese patients face difficulties ranging from inadequate equipment to biased attitudes from healthcare providers. Doctors may spend less time with obese patients, fail to refer them for diagnostic tests, and attribute symptoms to their weight without investigating other causes. The lack of appropriate medical care for obese patients extends to treatments, with drug doses often not calibrated for obese patients and surgeons refusing to perform joint replacements unless the patient loses weight. The situation is further complicated by the fear of medical professionals of being penalized for complications and poor outcomes. The article also discusses the challenges faced by doctors and therapists in providing medical care to transgender patients due to limited knowledge and bias. The Mexican government's investigation into the disappearance of 43 college students in 2014 remains unsolved, leading many to question its ability and willingness to find answers. The Inter-American Commission on Human Rights is now being relied upon to provide justice and answers for the families of the missing students. The article highlights the stories of three survivors of the attacks in Iguala, Mexico, who continue to seek justice and fight for their rights.\n",
      "\n",
      "\n",
      "The vaquita, the most endangered marine mammal on Earth, is facing extinction due to gill net fishing and the illegal trade of totoaba. Urgent conservation measures were approved to protect the vaquita, including a permanent ban on gill net fishing and efforts to crack down on the totoaba trade. However, experts argue that these measures are not enough to save the species. The current plan neglects local livelihoods, fails to involve local fishermen in designing a sustainable management plan, and does not adequately address the totoaba trade. The ban on gill nets is seen as a step forward, but more interventions are needed to ensure the vaquita's recovery. This case highlights the challenges and complexities of endangered species conservation. Conservation efforts often come too late or lack the thoroughness needed to make a lasting impact. A long-term vision and proactive action are necessary to effectively conserve species and natural resources.\n",
      "\n",
      "\n",
      "Sally Jessy Raphael, former daytime talk show host, reflects on her show's decline into salacious content and tabloid fodder. She feels betrayed by producers who pushed her in that direction and wishes she had fought harder to stay true to the type of show she wanted. Despite the show's different direction, it was canceled in 2002, leaving Raphael and her staff feeling betrayed. She regrets reassuring her employees about the show's renewal and wishes she had been more honest with them.\n",
      "\n",
      "\n",
      "Thousands of women in Iceland left work early to protest the gender wage gap. They gathered in Austurvollur square in Reykjavik, shouting \"Out\" to discrimination against women. The protest highlighted the 30% pay gap between men and women in Iceland. The demonstration aimed to bring attention to the issue and demand change. Despite Iceland's reputation as a gender-equal nation, progress on pay equity has been slow. The World Economic Forum's Global Gender Gap ranking shows that Iceland still has gaps in earned income and wages for similar work. The report also reveals that global progress towards economic parity between men and women has suffered setbacks in recent years. The gender pay gap persists due to various factors, including women entering less well-paid professions and the time it takes for employers' implicit gender biases to change. The protest in Iceland emphasizes the urgency of addressing the gender pay gap and the need for faster progress.\n",
      "\n",
      "\n",
      "Megan Short, who died alongside her husband and three children in a murder-suicide, had plans to leave her husband, according to his relatives. Mark Short's cousin and aunt revealed that the couple had been going through a tough separation, and Megan had alleged on Facebook that her husband was abusive. Mark had taken the family to Disney World in an attempt to salvage their relationship, but Megan still planned to leave. The police found the family dead of gunshot wounds in their home, along with a \"murder-suicide note\" and a handgun. Mark's relatives described him as a laid-back man who would do anything for his family. The family had struggled with their youngest child's health issues, and Megan had written about her PTSD and anxiety in a blog post. Despite their struggles, their Facebook profiles showed a happy family. Mark's body was expected to be released for a funeral in Delaware County, while Megan's family handled arrangements for her and the children.\n",
      "\n",
      "\n",
      "Wildfires from Tennessee, Georgia, and North Carolina are causing a smoky haze in South Carolina. A cold front and drought conditions are contributing to the spread of the fires. The smoke is not expected to dissipate until there is rain or the fires are controlled. The wildfires in western North Carolina are so large they can be seen from space. The National Oceanic and Atmospheric Administration reported that January through October 2016 was the second warmest period in 122 years.\n",
      "\n",
      "\n",
      "The Pilcomayo River in Paraguay is experiencing an extensive die-off of caiman, fish, and other river creatures due to a combination of drought and mismanagement. Up to 98% of caimans and 80% of capybaras are suspected dead. The river has dried up for nearly 435 miles and the government has declared an environmental emergency. The mismanagement of water resources and infrastructure by both Paraguay and Argentina has exacerbated the crisis. The river's wandering behavior and the significant amount of sediment it transports downstream have contributed to the blockage and dispersal of the river outside its channel. The government is working to find a solution, but there is no water to release or divert. Zimbabwe plans to sell its wildlife, including elephants and possibly endangered African wild dogs, to replenish its coffers due to cash shortages and a drought. Critics argue that the mismanagement of the economy and lack of accountability make this plan unworkable. South Australia has been hit by a destructive storm just 24 hours after a super cell thunderstorm knocked out the state's entire power network. The storm caused heavy rain, flooding, and major damage, and left thousands without power. The state is still recovering from the previous storm and is facing challenges in restoring power and dealing with the aftermath.\n",
      "\n",
      "\n",
      "Wind turbines are not only killing local birds, but also birds from hundreds of miles away, according to researchers from Purdue University and the U.S. Geological Survey. Using DNA and stable isotopes, the researchers found that golden eagles killed at a wind farm in California can come from far distances. This raises concerns about the impact of wind farms on bird populations. The Altamont Pass Wind Resource Area (APWRA) in California, one of the oldest and largest wind farms in the world, has been responsible for the deaths of thousands of birds. The researchers found that eagles are attracted to the area due to the abundance of prey and the windy conditions, but fail to see the turbine blades and get hit. The study also revealed that a large percentage of the birds killed are from neighboring states, highlighting the need for environmental assessments to consider the impact on the entire population. The findings have implications for the management of wind energy facilities and the conservation of bird species.\n",
      "\n",
      "\n",
      "A Saudi student, Hussain Saeed Alnahdi, was killed in a college town in Wisconsin. The police arrived to find him unconscious and bleeding, but have yet to identify a suspect or determine the motive. The incident has sparked allegations of a hate crime, given the rise in anti-Muslim sentiment during the presidential race. Alnahdi was well-liked and had quickly become part of the community. Saudi students make up a significant portion of the international student body at the University of Wisconsin-Stout. There have been reports of anti-Muslim harassment in nearby areas, but the town's administrators and police claim to be unaware of any racial tensions or prejudice.\n",
      "\n",
      "\n",
      "Baby Isibindi, a rhino at the Thula Thula Rhino Orphanage, has passed away after a difficult 56 hours. The orphanage had no power, and Isibindi had to be kept warm in a duvet. Despite the challenges, the orphanage team worked tirelessly to care for the other rhinos. The author expresses both sadness and relief at Isibindi's passing and hopes for the well-being of other orphaned babies.\n",
      "\n",
      "\n",
      "Mexicans are concerned about the economic damage that a Trump presidency might bring, particularly his promises to rewrite the trade deal and deport millions of unauthorized immigrants. Mexico's top economic officials tried to calm fears, stating that Mexico was in a strong economic position. The peso dropped in value after Trump's win appeared imminent. President Enrique Peña Nieto expressed his willingness to work with Trump. Mexicans are unsure if Trump's words will match his actions as president. Some economists predict a recession if Trump pursues his outlined plans. Mexicans are also worried about the deportation of illegal immigrants. The election has reshuffled Mexico's domestic politics, with a potential nationalist backlash in the upcoming presidential election.\n",
      "\n",
      "\n",
      "The International Rescue Committee (IRC) has called for large-scale, long-term investment in Somalia to ensure the successful repatriation of Somali refugees from the Dadaab camp in Kenya. The Kenyan government plans to close the camp by November 30th and has accepted a request to extend the deadline by six months. However, the IRC warns that deferring the closure will not address the refugees' concerns about violence, displacement, and gender-based violence in Somalia. The IRC emphasizes the need for support and integration programs for refugees, as well as investment in Somalia to provide earning opportunities. Since the announcement of the camp's closure, the rate of refugee movement from Kenya to Somalia has increased four-fold.\n",
      "\n",
      "\n",
      "A woman in Los Angeles allegedly locked her 11-year-old son in closets for three years before he died. Teachers at his school had expressed concerns about his well-being, but social workers found no cause for alarm. The boy's stepfather believed he was living in Mexico until the mother revealed that he had died. The boy's body was found in a closet, severely malnourished and covered in pressure sores. The mother has been charged with murder and child abuse. The family lived in a one-bedroom house, with the boy kept hidden in closets and sedated with sleep medications. The other children in the family were aware of the situation but concealed it from their stepfather. The stepfather was devastated upon learning the truth and called the police. A public memorial was held for the boy, and the stepfather vowed to continue telling his story to prevent similar cases from happening again.\n",
      "\n",
      "\n",
      "A woman was critically injured in a traffic collision in Prince George's County. The crash involved three cars and occurred at Piscataway and Tippett Roads in the Clinton area.\n",
      "\n",
      "\n",
      "A woman was pushed to her death in front of a New York City subway train. The incident occurred at the Times Square station, and the victim was pronounced dead at the scene. The suspect, who was wearing a pink shirt and scarf, was apprehended by police. The motive is still under investigation, but witnesses mentioned a possible dispute between the victim and the suspect. The incident caused a temporary disruption in subway service. The Metropolitan Transportation Authority states that while many subway incidents are accidental, dozens of people are hit by trains each year. In a similar case in 2012, a woman was convicted and sentenced to 24 years in prison for pushing a man into the path of a subway train.\n",
      "\n",
      "\n",
      "Women are concerned about the potential threat to affordable birth control under the Trump-Pence administration. Trump and Pence have expressed intentions to repeal the Affordable Care Act, which covers birth control. In response, some women are considering getting an intrauterine device (IUD) as a long-lasting form of birth control that could outlast any changes made by the administration. IUDs are highly effective and safe, with some versions lasting up to 12 years. Women are advised to take action soon, as an IUD can cost up to $1,000 without insurance coverage. Planned Parenthood offers a guide for those interested in learning more about IUDs. The fate of the Affordable Care Act and its birth control provisions is uncertain after President Obama leaves office on January 20, 2017.\n",
      "\n",
      "\n",
      "Yaffa Eliach, a Holocaust survivor and historian, passed away at the age of 81. She is known for her massive photography collection that memorializes the lives of Holocaust victims rather than focusing on their deaths. The collection, displayed in the U.S. Holocaust Memorial Museum, includes a photo of a young Yaffa Eliach taken on the day her home town was occupied by Germans. She was one of the few survivors from her town and spent years collecting photographs and documentation of every Jew who lived there. The collection became a principal exhibition at the Holocaust Museum and was installed in a tower. Eliach insisted that no photo be cropped, capturing people enjoying life before the massacre. She also wrote a book chronicling the history of her town. Eliach's work aimed to show the humanity of the victims and preserve their stories.\n",
      "\n",
      "\n",
      "Yahoo announced that personal data from at least 500 million user accounts was stolen by a \"state-sponsored actor.\" The stolen data includes names, email addresses, telephone numbers, dates of birth, hashed passwords, and encrypted or unencrypted security questions and answers. The hacker did not obtain data about users' credit cards or bank accounts. The breach occurred in late 2014, but it is unclear when Yahoo first became aware of it. The hacker first offered to sell the data last month. Yahoo believes the hacker is no longer in their network and did not name the country involved. In 2012, Yahoo had over 1 billion user accounts. The breach comes two months after Yahoo announced the sale of its core internet business to Verizon for $4.8 billion. Verizon learned of the breach recently but has few details at this time.\n",
      "\n",
      "\n",
      "The number of suspected cholera cases in Yemen has risen to 1,410 within three weeks, according to the World Health Organization (WHO). The outbreak was declared on October 6, and by October 10, there were 24 suspected cases. However, as of Thursday, there were 1,410 suspected cases in 10 out of Yemen's 23 governorates. The conflict between a Saudi Arabia-led coalition and the Iran-aligned Houthi group has destroyed much of Yemen's infrastructure, making it difficult to control the disease outbreak. Cholera is just one of the risks in Yemen's war, which has left millions displaced and in need of medical help. Only 47 of the suspected cases have tested positive for cholera, and the outbreak has spread beyond the capital to nine other governorates. Children under 10 account for half of the cases, with six deaths from cholera and 36 associated deaths from acute watery diarrhea. Prompt treatment with intravenous fluids and antibiotics is crucial in severe cases.\n",
      "\n",
      "\n",
      "Yorkshire Wildlife Park has offered to rescue a polar bear named Pizza from Guangzhou's Grandview Aquarium. Over half a million supporters signed a petition demanding the closure of the aquarium, which has faced criticism for its treatment of animals. If the current owners agree, Pizza could be moved to a proper sanctuary. The Grandview Aquarium is currently under investigation for the deaths of many animals. Animal welfare organizations, including PETA and Animals Asia, have been campaigning for Pizza's release. Yorkshire Wildlife Park has made the offer to provide a happy ending to the situation.\n",
      "\n",
      "\n",
      "The text discusses the ongoing conflict between humans and elephants in Zambia's national parks and buffer zones. Farmers like Humphrey Mubita and Kelvin Kapesa face the loss of crops and even lives due to elephants encroaching on their land. They criticize the lack of compensation from the government and call for the installation of electric fences. Namukulo Munalula Hayumbu suggests an insurance scheme to compensate for losses. Conservation organizations like Conservation Lower Zambezi (CLZ) support park rangers in their fight against poaching but face challenges in gaining community support. The text emphasizes the need for long-term solutions, such as education and curbing global demand for ivory.\n",
      "\n",
      "\n",
      "Justin Ross Harris, a man from Georgia, is on trial for leaving his infant son to die in a hot car. Prosecutors argue that Harris left his son in the car for seven hours because he was pursuing extramarital affairs. Defense attorneys admit Harris's philandering but argue that his son's death was a tragic accident. The fate of Harris is now in the hands of the jurors. The trial has gained significant publicity, leading to the proceedings being moved 300 miles away. Harris faces charges of malice murder, felony murder, and cruelty to children. The prosecution emphasized Harris's illicit chats with women, including underage girls, on the day of his son's death. The defense argues that Harris's sexual behavior is unrelated to the death. The prosecution highlighted the position of the car seat as evidence that Harris could see his son. The defense claims that the investigation was biased and misled the jurors.\n",
      "\n",
      "\n",
      "On the one-year anniversary of the Paris attacks, the city mourned the 130 people killed in the coordinated attacks. One survivor, Georges Salines, received a phone call in the middle of the night informing him that his daughter had been at the Bataclan concert hall, where 90 people were killed. The attacks have left a lasting impact on the country, with increased security measures and a rise in xenophobia. However, Parisians are determined to move forward and remember the victims. Salines and another survivor, Denys Plaud, have found solace in writing about their experiences. Salines has written a book, while Plaud returned to the Bataclan to pay his respects. Both survivors emphasize the importance of remembering the victims and living life to the fullest.\n",
      "\n",
      "\n",
      "The war in Syria escalated as government forces and their Russian allies launched intense aerial assaults on opposition-held areas of Aleppo. The bombings killed about 100 people and knocked out running water for two million people. Efforts at the United Nations to revive a cease-fire collapsed, and hopes for humanitarian relief faded. The bombings left residents buried in debris and turned neighborhoods into rubble. The Syrian government announced a new offensive, including a ground operation, but analysts doubt their ability to seize and hold significant territory. Diplomatic efforts between Russia and the United States also disintegrated. The situation in Aleppo continues to worsen, with no end in sight.\n",
      "\n",
      "\n",
      "LaKira Johnson, who was pregnant with twins, was shot during a senseless shooting in Washington, D.C. Although the twins were initially okay, LaKira later experienced complications and lost the pregnancy. The incident raises legal and moral questions about when life begins and whether the twins' deaths should be considered homicides. LaKira's family is struggling to cope with the loss, and they are waiting for the twins' bodies to be released for cremation. The city has recorded 121 homicides this year, and the twins' deaths will be counted as homicides if an arrest is made.\n",
      "\n",
      "\n",
      "A squirrel went on a rampage at a retirement home in Florida, biting and scratching residents and leaving three people injured. The staff called 911 for immediate medical assistance. The squirrel was eventually thrown out of the building, but three people were treated for bites. The fate of the squirrel is unknown. The Centers for Disease Control and Prevention states that squirrels are generally believed to pose little risk of rabies. The retirement home, Sterling Court, offers various amenities and is located near Orlando and Daytona Beach.\n",
      "\n",
      "\n",
      "A man in Virginia shot and killed a black Labrador mix after it jumped behind him on a park trail. The dog's owner, Susan R. Smith, had her dog off its leash, which violated county rules. The man claimed self-defense, and authorities found that the dogs were behaving aggressively. The man had a concealed weapon license and was not charged. Smith wishes the man had used other methods to scare her dog away. Animal services officials stated that the dogs were off their leashes and behaved aggressively towards the man. No charges were filed, and Smith acknowledges that the man was within his rights.\n",
      "\n",
      "\n",
      "\"Silicon Valley\" stars Kumail Nanjiani and Thomas Middleditch were harassed by two Donald Trump supporters in a Los Angeles bar. The supporters approached them, expressing their fandom but disagreeing with their views on Trump. The situation escalated with one supporter yelling derogatory terms and getting in Nanjiani's face. The bouncer intervened and kicked the supporters out. Nanjiani expressed concern for people who look like him and emphasized the need to stand against hate and bigotry. Middleditch explained that the term \"cuck\" used by the supporters is associated with the Alt Right movement.\n",
      "\n",
      "\n"
     ]
    }
   ],
   "source": [
    "long_index = []\n",
    "for row in article.itertuples():\n",
    "    prompt_summary = f\"\"\"\n",
    "    Your task is to summarize given text delimited by triple backticks.\n",
    "    Use at most 1000 characters.\n",
    "    Do not add any additional information not contained in the input text.\n",
    "    \n",
    "    Input text: ```{article.loc[row.Index,'text']}```\n",
    "    \"\"\"\n",
    "    # we don't need variation, so, temp=0 \n",
    "    try:\n",
    "        article.loc[row.Index, 'summary_text'] = chat(prompt=prompt_summary, temp=0)\n",
    "    except:\n",
    "        # base gpt3.5: \"This model's maximum context length is 4097 tokens. However, your messages resulted in 4536 tokens.\", so 16K context is used\n",
    "        article.loc[row.Index, 'summary_text'] = chat(prompt=prompt_summary, model=\"gpt-3.5-turbo-16k\", temp=0)\n",
    "        long_index.append(row.Index)\n",
    "    \n",
    "    # debugging\n",
    "    print(article.loc[row.Index, 'summary_text'])\n",
    "    print(\"\\n\")\n",
    "    # if row.Index == 1:\n",
    "    #     break"
   ]
  },
  {
   "cell_type": "code",
   "execution_count": 42,
   "id": "f48fd3c6-f66e-4d9c-85a1-5816645ad6d2",
   "metadata": {},
   "outputs": [],
   "source": [
    "article.to_csv(\"./data/article-summarised.csv\")"
   ]
  },
  {
   "cell_type": "code",
   "execution_count": 59,
   "id": "b7d96843-fcaf-4fa1-80e3-70d457bb0869",
   "metadata": {},
   "outputs": [
    {
     "name": "stdout",
     "output_type": "stream",
     "text": [
      "Longer texts (index) summarised by 16k model: [16, 49, 112, 153, 387, 390]\n"
     ]
    }
   ],
   "source": [
    "print(f\"Longer texts (index) summarised by 16k model: {long_index}\")"
   ]
  },
  {
   "cell_type": "markdown",
   "id": "9ee2e40c-967e-4a4d-bc0c-67125a470d8d",
   "metadata": {},
   "source": [
    "## \\# of characters"
   ]
  },
  {
   "cell_type": "code",
   "execution_count": 62,
   "id": "7c30f540-cdda-4db7-a54d-e3303f1eeaa6",
   "metadata": {},
   "outputs": [
    {
     "name": "stdout",
     "output_type": "stream",
     "text": [
      "Minimum, mean and maximum of raw articles: 101 4316.566985645933 32058\n"
     ]
    }
   ],
   "source": [
    "print(\"Minimum, mean and maximum of raw articles:\", \n",
    "      article['text'].str.len().min(), article['text'].str.len().mean(), article['text'].str.len().max())"
   ]
  },
  {
   "cell_type": "code",
   "execution_count": 85,
   "id": "9f4b55be-8235-41ba-b675-091be063040b",
   "metadata": {},
   "outputs": [
    {
     "name": "stdout",
     "output_type": "stream",
     "text": [
      "Minimum, mean and maximum of summarised articles: 107 776.7846889952153 2063\n"
     ]
    }
   ],
   "source": [
    "print(\"Minimum, mean and maximum of summarised articles:\", \n",
    "      article['summary_text'].str.len().min(), article['summary_text'].str.len().mean(), article['summary_text'].str.len().max())"
   ]
  },
  {
   "cell_type": "markdown",
   "id": "e6252d3b-054f-4ecf-8bea-b4b70cbf93b5",
   "metadata": {},
   "source": [
    "# Combine WS22 and WS23"
   ]
  },
  {
   "cell_type": "markdown",
   "id": "b3f5fd1c-abc5-445f-a24c-5be9a6db5c0b",
   "metadata": {},
   "source": [
    "## Preprocessed"
   ]
  },
  {
   "cell_type": "markdown",
   "id": "acd53747-b2b9-49c1-b0f1-d13a56849ecf",
   "metadata": {
    "jp-MarkdownHeadingCollapsed": true
   },
   "source": [
    "### Train"
   ]
  },
  {
   "cell_type": "code",
   "execution_count": 22,
   "id": "8754f023-2b96-48f9-a6c1-96ed98632ae0",
   "metadata": {},
   "outputs": [],
   "source": [
    "ws22 = pd.read_csv('./data/PREPROCESSED-WS22-train.tsv', sep='\\t', index_col=0)\n",
    "ws23 = pd.read_csv('./data/PREPROCESSED-WS23-train.tsv', sep='\\t', index_col=0)"
   ]
  },
  {
   "cell_type": "code",
   "execution_count": 23,
   "id": "5e56f148-6a9d-4bcf-a93c-dd4abcbbcdae",
   "metadata": {},
   "outputs": [
    {
     "data": {
      "text/html": [
       "<div>\n",
       "<style scoped>\n",
       "    .dataframe tbody tr th:only-of-type {\n",
       "        vertical-align: middle;\n",
       "    }\n",
       "\n",
       "    .dataframe tbody tr th {\n",
       "        vertical-align: top;\n",
       "    }\n",
       "\n",
       "    .dataframe thead th {\n",
       "        text-align: right;\n",
       "    }\n",
       "</style>\n",
       "<table border=\"1\" class=\"dataframe\">\n",
       "  <thead>\n",
       "    <tr style=\"text-align: right;\">\n",
       "      <th></th>\n",
       "      <th>message_id</th>\n",
       "      <th>response_id</th>\n",
       "      <th>article_id</th>\n",
       "      <th>empathy</th>\n",
       "      <th>distress</th>\n",
       "      <th>empathy_bin</th>\n",
       "      <th>distress_bin</th>\n",
       "      <th>essay</th>\n",
       "      <th>emotion</th>\n",
       "      <th>gender</th>\n",
       "      <th>...</th>\n",
       "      <th>personality_agreeableness</th>\n",
       "      <th>personality_stability</th>\n",
       "      <th>iri_perspective_taking</th>\n",
       "      <th>iri_personal_distress</th>\n",
       "      <th>iri_fantasy</th>\n",
       "      <th>iri_empathatic_concern</th>\n",
       "      <th>speaker_id</th>\n",
       "      <th>demographic</th>\n",
       "      <th>demographic_essay</th>\n",
       "      <th>article</th>\n",
       "    </tr>\n",
       "  </thead>\n",
       "  <tbody>\n",
       "    <tr>\n",
       "      <th>0</th>\n",
       "      <td>R_1hGrPtWM4SumG0U_1</td>\n",
       "      <td>R_1hGrPtWM4SumG0U</td>\n",
       "      <td>67</td>\n",
       "      <td>5.667</td>\n",
       "      <td>4.375</td>\n",
       "      <td>1</td>\n",
       "      <td>1</td>\n",
       "      <td>it is really diheartening to read about these ...</td>\n",
       "      <td>sadness</td>\n",
       "      <td>1</td>\n",
       "      <td>...</td>\n",
       "      <td>5.5</td>\n",
       "      <td>5.5</td>\n",
       "      <td>3.571</td>\n",
       "      <td>2.0</td>\n",
       "      <td>3.429</td>\n",
       "      <td>4.0</td>\n",
       "      <td>41</td>\n",
       "      <td>I am a 33-year-old male of the White race. I h...</td>\n",
       "      <td>I am a 33-year-old male of the White race. I h...</td>\n",
       "      <td>At least 239 migrants are believed to have dro...</td>\n",
       "    </tr>\n",
       "    <tr>\n",
       "      <th>1</th>\n",
       "      <td>R_1hGrPtWM4SumG0U_2</td>\n",
       "      <td>R_1hGrPtWM4SumG0U</td>\n",
       "      <td>86</td>\n",
       "      <td>4.833</td>\n",
       "      <td>4.875</td>\n",
       "      <td>1</td>\n",
       "      <td>1</td>\n",
       "      <td>the phone lines from the suicide prevention li...</td>\n",
       "      <td>sadness</td>\n",
       "      <td>1</td>\n",
       "      <td>...</td>\n",
       "      <td>5.5</td>\n",
       "      <td>5.5</td>\n",
       "      <td>3.571</td>\n",
       "      <td>2.0</td>\n",
       "      <td>3.429</td>\n",
       "      <td>4.0</td>\n",
       "      <td>41</td>\n",
       "      <td>I am a 33-year-old male of the White race. I h...</td>\n",
       "      <td>I am a 33-year-old male of the White race. I h...</td>\n",
       "      <td>The US presidential election has led to a surg...</td>\n",
       "    </tr>\n",
       "  </tbody>\n",
       "</table>\n",
       "<p>2 rows × 27 columns</p>\n",
       "</div>"
      ],
      "text/plain": [
       "            message_id        response_id  article_id  empathy  distress  \\\n",
       "0  R_1hGrPtWM4SumG0U_1  R_1hGrPtWM4SumG0U          67    5.667     4.375   \n",
       "1  R_1hGrPtWM4SumG0U_2  R_1hGrPtWM4SumG0U          86    4.833     4.875   \n",
       "\n",
       "   empathy_bin  distress_bin  \\\n",
       "0            1             1   \n",
       "1            1             1   \n",
       "\n",
       "                                               essay  emotion  gender  ...  \\\n",
       "0  it is really diheartening to read about these ...  sadness       1  ...   \n",
       "1  the phone lines from the suicide prevention li...  sadness       1  ...   \n",
       "\n",
       "   personality_agreeableness  personality_stability  iri_perspective_taking  \\\n",
       "0                        5.5                    5.5                   3.571   \n",
       "1                        5.5                    5.5                   3.571   \n",
       "\n",
       "   iri_personal_distress  iri_fantasy  iri_empathatic_concern  speaker_id  \\\n",
       "0                    2.0        3.429                     4.0          41   \n",
       "1                    2.0        3.429                     4.0          41   \n",
       "\n",
       "                                         demographic  \\\n",
       "0  I am a 33-year-old male of the White race. I h...   \n",
       "1  I am a 33-year-old male of the White race. I h...   \n",
       "\n",
       "                                   demographic_essay  \\\n",
       "0  I am a 33-year-old male of the White race. I h...   \n",
       "1  I am a 33-year-old male of the White race. I h...   \n",
       "\n",
       "                                             article  \n",
       "0  At least 239 migrants are believed to have dro...  \n",
       "1  The US presidential election has led to a surg...  \n",
       "\n",
       "[2 rows x 27 columns]"
      ]
     },
     "execution_count": 23,
     "metadata": {},
     "output_type": "execute_result"
    }
   ],
   "source": [
    "ws22.head(2)"
   ]
  },
  {
   "cell_type": "code",
   "execution_count": 24,
   "id": "f43ad435-7ae4-45cb-bea8-a0ea23cf5f2e",
   "metadata": {},
   "outputs": [
    {
     "data": {
      "text/html": [
       "<div>\n",
       "<style scoped>\n",
       "    .dataframe tbody tr th:only-of-type {\n",
       "        vertical-align: middle;\n",
       "    }\n",
       "\n",
       "    .dataframe tbody tr th {\n",
       "        vertical-align: top;\n",
       "    }\n",
       "\n",
       "    .dataframe thead th {\n",
       "        text-align: right;\n",
       "    }\n",
       "</style>\n",
       "<table border=\"1\" class=\"dataframe\">\n",
       "  <thead>\n",
       "    <tr style=\"text-align: right;\">\n",
       "      <th></th>\n",
       "      <th>conversation_id</th>\n",
       "      <th>article_id</th>\n",
       "      <th>essay</th>\n",
       "      <th>empathy</th>\n",
       "      <th>distress</th>\n",
       "      <th>speaker_id</th>\n",
       "      <th>gender</th>\n",
       "      <th>education</th>\n",
       "      <th>race</th>\n",
       "      <th>age</th>\n",
       "      <th>...</th>\n",
       "      <th>iri_personal_distress</th>\n",
       "      <th>iri_fantasy</th>\n",
       "      <th>iri_empathatic_concern</th>\n",
       "      <th>speaker_number</th>\n",
       "      <th>split</th>\n",
       "      <th>essay_id</th>\n",
       "      <th>emotion</th>\n",
       "      <th>demographic</th>\n",
       "      <th>demographic_essay</th>\n",
       "      <th>article</th>\n",
       "    </tr>\n",
       "  </thead>\n",
       "  <tbody>\n",
       "    <tr>\n",
       "      <th>0</th>\n",
       "      <td>2</td>\n",
       "      <td>35</td>\n",
       "      <td>It breaks my heart to see people living in tho...</td>\n",
       "      <td>6.833333</td>\n",
       "      <td>6.625</td>\n",
       "      <td>30</td>\n",
       "      <td>1.0</td>\n",
       "      <td>6.0</td>\n",
       "      <td>3.0</td>\n",
       "      <td>37.0</td>\n",
       "      <td>...</td>\n",
       "      <td>2.000</td>\n",
       "      <td>3.429</td>\n",
       "      <td>5.000</td>\n",
       "      <td>1</td>\n",
       "      <td>train</td>\n",
       "      <td>1</td>\n",
       "      <td>Hope/Sadness</td>\n",
       "      <td>I am a 37-year-old male of the African America...</td>\n",
       "      <td>I am a 37-year-old male of the African America...</td>\n",
       "      <td>A month after Hurricane Matthew hit southweste...</td>\n",
       "    </tr>\n",
       "    <tr>\n",
       "      <th>1</th>\n",
       "      <td>3</td>\n",
       "      <td>35</td>\n",
       "      <td>I wonder why there aren't more people trying t...</td>\n",
       "      <td>5.833333</td>\n",
       "      <td>6.000</td>\n",
       "      <td>19</td>\n",
       "      <td>1.0</td>\n",
       "      <td>6.0</td>\n",
       "      <td>2.0</td>\n",
       "      <td>32.0</td>\n",
       "      <td>...</td>\n",
       "      <td>2.857</td>\n",
       "      <td>2.857</td>\n",
       "      <td>2.714</td>\n",
       "      <td>1</td>\n",
       "      <td>train</td>\n",
       "      <td>2</td>\n",
       "      <td>Anger</td>\n",
       "      <td>I am a 32-year-old male of Hispanic or Latino ...</td>\n",
       "      <td>I am a 32-year-old male of Hispanic or Latino ...</td>\n",
       "      <td>A month after Hurricane Matthew hit southweste...</td>\n",
       "    </tr>\n",
       "  </tbody>\n",
       "</table>\n",
       "<p>2 rows × 27 columns</p>\n",
       "</div>"
      ],
      "text/plain": [
       "   conversation_id  article_id  \\\n",
       "0                2          35   \n",
       "1                3          35   \n",
       "\n",
       "                                               essay   empathy  distress  \\\n",
       "0  It breaks my heart to see people living in tho...  6.833333     6.625   \n",
       "1  I wonder why there aren't more people trying t...  5.833333     6.000   \n",
       "\n",
       "   speaker_id  gender  education  race   age  ...  iri_personal_distress  \\\n",
       "0          30     1.0        6.0   3.0  37.0  ...                  2.000   \n",
       "1          19     1.0        6.0   2.0  32.0  ...                  2.857   \n",
       "\n",
       "   iri_fantasy  iri_empathatic_concern  speaker_number  split  essay_id  \\\n",
       "0        3.429                   5.000               1  train         1   \n",
       "1        2.857                   2.714               1  train         2   \n",
       "\n",
       "        emotion                                        demographic  \\\n",
       "0  Hope/Sadness  I am a 37-year-old male of the African America...   \n",
       "1         Anger  I am a 32-year-old male of Hispanic or Latino ...   \n",
       "\n",
       "                                   demographic_essay  \\\n",
       "0  I am a 37-year-old male of the African America...   \n",
       "1  I am a 32-year-old male of Hispanic or Latino ...   \n",
       "\n",
       "                                             article  \n",
       "0  A month after Hurricane Matthew hit southweste...  \n",
       "1  A month after Hurricane Matthew hit southweste...  \n",
       "\n",
       "[2 rows x 27 columns]"
      ]
     },
     "execution_count": 24,
     "metadata": {},
     "output_type": "execute_result"
    }
   ],
   "source": [
    "ws23.head(2)"
   ]
  },
  {
   "cell_type": "code",
   "execution_count": 25,
   "id": "4c2350b3-87c0-4fd1-a48e-ebfc66a0b273",
   "metadata": {},
   "outputs": [],
   "source": [
    "column_ws22 = ws22.columns.tolist()"
   ]
  },
  {
   "cell_type": "code",
   "execution_count": 26,
   "id": "904df17e-81f8-46d6-992a-0852b6651fd4",
   "metadata": {},
   "outputs": [],
   "source": [
    "column_ws23 = ws23.columns.tolist()"
   ]
  },
  {
   "cell_type": "code",
   "execution_count": 27,
   "id": "b11fa393-2079-415e-9ca7-b4dd0df1f5ae",
   "metadata": {},
   "outputs": [],
   "source": [
    "common_columns = [i for i in column_ws22 if i in column_ws23]"
   ]
  },
  {
   "cell_type": "code",
   "execution_count": 28,
   "id": "88708768-f729-4002-93e6-6eb48b3d954f",
   "metadata": {},
   "outputs": [
    {
     "data": {
      "text/plain": [
       "['article_id',\n",
       " 'empathy',\n",
       " 'distress',\n",
       " 'essay',\n",
       " 'emotion',\n",
       " 'gender',\n",
       " 'education',\n",
       " 'race',\n",
       " 'age',\n",
       " 'income',\n",
       " 'personality_conscientiousness',\n",
       " 'personality_openess',\n",
       " 'personality_extraversion',\n",
       " 'personality_agreeableness',\n",
       " 'personality_stability',\n",
       " 'iri_perspective_taking',\n",
       " 'iri_personal_distress',\n",
       " 'iri_fantasy',\n",
       " 'iri_empathatic_concern',\n",
       " 'speaker_id',\n",
       " 'demographic',\n",
       " 'demographic_essay',\n",
       " 'article']"
      ]
     },
     "execution_count": 28,
     "metadata": {},
     "output_type": "execute_result"
    }
   ],
   "source": [
    "common_columns"
   ]
  },
  {
   "cell_type": "code",
   "execution_count": 29,
   "id": "dc09ed33-c383-4070-a025-d3cba962f94f",
   "metadata": {},
   "outputs": [],
   "source": [
    "ws22 = ws22[common_columns]\n",
    "ws23 = ws23[common_columns]"
   ]
  },
  {
   "cell_type": "code",
   "execution_count": 30,
   "id": "cf34cc9e-0713-4bd8-8a52-f9b23b90d8dc",
   "metadata": {},
   "outputs": [
    {
     "name": "stdout",
     "output_type": "stream",
     "text": [
      "(1857, 23) (779, 23)\n"
     ]
    }
   ],
   "source": [
    "print(ws22.shape, ws23.shape)"
   ]
  },
  {
   "cell_type": "code",
   "execution_count": 31,
   "id": "333c0b84-61e7-460a-9d03-ce4097bfe186",
   "metadata": {},
   "outputs": [],
   "source": [
    "ws = pd.concat([ws22, ws23], ignore_index=True)"
   ]
  },
  {
   "cell_type": "code",
   "execution_count": 32,
   "id": "6fb14a7d-8b2a-411a-a6ac-22dd20557e10",
   "metadata": {},
   "outputs": [
    {
     "data": {
      "text/plain": [
       "(2636, 23)"
      ]
     },
     "execution_count": 32,
     "metadata": {},
     "output_type": "execute_result"
    }
   ],
   "source": [
    "ws.shape"
   ]
  },
  {
   "cell_type": "code",
   "execution_count": 34,
   "id": "48435828-5c7f-436a-84fb-7da07399870b",
   "metadata": {},
   "outputs": [],
   "source": [
    "ws.to_csv('./data/PREPROCESSED-WS22-WS23-train.tsv', sep='\\t', index=False)"
   ]
  },
  {
   "cell_type": "markdown",
   "id": "9fc29d7b-3b4f-4be7-bf75-3a4e1d35469a",
   "metadata": {
    "jp-MarkdownHeadingCollapsed": true
   },
   "source": [
    "### Dev"
   ]
  },
  {
   "cell_type": "code",
   "execution_count": 3,
   "id": "24397a42-05fb-4ce6-94b3-becace45f441",
   "metadata": {},
   "outputs": [],
   "source": [
    "ws22 = pd.read_csv('./data/PREPROCESSED-WS22-dev.tsv', sep='\\t', index_col=0)\n",
    "ws23 = pd.read_csv('./data/PREPROCESSED-WS23-dev.tsv', sep='\\t', index_col=0)"
   ]
  },
  {
   "cell_type": "code",
   "execution_count": 4,
   "id": "e6e532fc-c7b6-4108-8e98-562e3f3cd076",
   "metadata": {},
   "outputs": [
    {
     "data": {
      "text/html": [
       "<div>\n",
       "<style scoped>\n",
       "    .dataframe tbody tr th:only-of-type {\n",
       "        vertical-align: middle;\n",
       "    }\n",
       "\n",
       "    .dataframe tbody tr th {\n",
       "        vertical-align: top;\n",
       "    }\n",
       "\n",
       "    .dataframe thead th {\n",
       "        text-align: right;\n",
       "    }\n",
       "</style>\n",
       "<table border=\"1\" class=\"dataframe\">\n",
       "  <thead>\n",
       "    <tr style=\"text-align: right;\">\n",
       "      <th></th>\n",
       "      <th>message_id</th>\n",
       "      <th>response_id</th>\n",
       "      <th>article_id</th>\n",
       "      <th>essay</th>\n",
       "      <th>gender</th>\n",
       "      <th>education</th>\n",
       "      <th>race</th>\n",
       "      <th>age</th>\n",
       "      <th>income</th>\n",
       "      <th>speaker_id</th>\n",
       "      <th>demographic</th>\n",
       "      <th>demographic_essay</th>\n",
       "      <th>article</th>\n",
       "    </tr>\n",
       "  </thead>\n",
       "  <tbody>\n",
       "    <tr>\n",
       "      <th>0</th>\n",
       "      <td>R_3QLVVnAgRBRH41U_1</td>\n",
       "      <td>R_3QLVVnAgRBRH41U</td>\n",
       "      <td>13</td>\n",
       "      <td>The story about the air strikes is very sadden...</td>\n",
       "      <td>1.0</td>\n",
       "      <td>4.0</td>\n",
       "      <td>3.0</td>\n",
       "      <td>20.0</td>\n",
       "      <td>24000.0</td>\n",
       "      <td>12</td>\n",
       "      <td>I am a 20-year-old male of African American de...</td>\n",
       "      <td>I am a 20-year-old male of African American de...</td>\n",
       "      <td>At least 26 Afghan civilians were killed and m...</td>\n",
       "    </tr>\n",
       "    <tr>\n",
       "      <th>1</th>\n",
       "      <td>R_3QLVVnAgRBRH41U_2</td>\n",
       "      <td>R_3QLVVnAgRBRH41U</td>\n",
       "      <td>127</td>\n",
       "      <td>It is clear that climate change is something t...</td>\n",
       "      <td>1.0</td>\n",
       "      <td>4.0</td>\n",
       "      <td>3.0</td>\n",
       "      <td>20.0</td>\n",
       "      <td>24000.0</td>\n",
       "      <td>12</td>\n",
       "      <td>I am a 20-year-old male of African American de...</td>\n",
       "      <td>I am a 20-year-old male of African American de...</td>\n",
       "      <td>New research suggests that habitat degradation...</td>\n",
       "    </tr>\n",
       "  </tbody>\n",
       "</table>\n",
       "</div>"
      ],
      "text/plain": [
       "            message_id        response_id  article_id  \\\n",
       "0  R_3QLVVnAgRBRH41U_1  R_3QLVVnAgRBRH41U          13   \n",
       "1  R_3QLVVnAgRBRH41U_2  R_3QLVVnAgRBRH41U         127   \n",
       "\n",
       "                                               essay  gender  education  race  \\\n",
       "0  The story about the air strikes is very sadden...     1.0        4.0   3.0   \n",
       "1  It is clear that climate change is something t...     1.0        4.0   3.0   \n",
       "\n",
       "    age   income  speaker_id  \\\n",
       "0  20.0  24000.0          12   \n",
       "1  20.0  24000.0          12   \n",
       "\n",
       "                                         demographic  \\\n",
       "0  I am a 20-year-old male of African American de...   \n",
       "1  I am a 20-year-old male of African American de...   \n",
       "\n",
       "                                   demographic_essay  \\\n",
       "0  I am a 20-year-old male of African American de...   \n",
       "1  I am a 20-year-old male of African American de...   \n",
       "\n",
       "                                             article  \n",
       "0  At least 26 Afghan civilians were killed and m...  \n",
       "1  New research suggests that habitat degradation...  "
      ]
     },
     "execution_count": 4,
     "metadata": {},
     "output_type": "execute_result"
    }
   ],
   "source": [
    "ws22.head(2)"
   ]
  },
  {
   "cell_type": "code",
   "execution_count": 5,
   "id": "889da20d-ebd9-4c6b-9fd6-d42b9e7f3364",
   "metadata": {},
   "outputs": [
    {
     "data": {
      "text/html": [
       "<div>\n",
       "<style scoped>\n",
       "    .dataframe tbody tr th:only-of-type {\n",
       "        vertical-align: middle;\n",
       "    }\n",
       "\n",
       "    .dataframe tbody tr th {\n",
       "        vertical-align: top;\n",
       "    }\n",
       "\n",
       "    .dataframe thead th {\n",
       "        text-align: right;\n",
       "    }\n",
       "</style>\n",
       "<table border=\"1\" class=\"dataframe\">\n",
       "  <thead>\n",
       "    <tr style=\"text-align: right;\">\n",
       "      <th></th>\n",
       "      <th>conversation_id</th>\n",
       "      <th>article_id</th>\n",
       "      <th>essay</th>\n",
       "      <th>speaker_id</th>\n",
       "      <th>gender</th>\n",
       "      <th>education</th>\n",
       "      <th>race</th>\n",
       "      <th>age</th>\n",
       "      <th>income</th>\n",
       "      <th>speaker_number</th>\n",
       "      <th>split</th>\n",
       "      <th>essay_id</th>\n",
       "      <th>demographic</th>\n",
       "      <th>demographic_essay</th>\n",
       "      <th>article</th>\n",
       "    </tr>\n",
       "  </thead>\n",
       "  <tbody>\n",
       "    <tr>\n",
       "      <th>0</th>\n",
       "      <td>1</td>\n",
       "      <td>35</td>\n",
       "      <td>How sad is it that this kind of pain and suffe...</td>\n",
       "      <td>68</td>\n",
       "      <td>2</td>\n",
       "      <td>2</td>\n",
       "      <td>1</td>\n",
       "      <td>21</td>\n",
       "      <td>20000</td>\n",
       "      <td>1</td>\n",
       "      <td>dev</td>\n",
       "      <td>0</td>\n",
       "      <td>I am a 21-year-old female of the White race. I...</td>\n",
       "      <td>I am a 21-year-old female of the White race. I...</td>\n",
       "      <td>A month after Hurricane Matthew hit southweste...</td>\n",
       "    </tr>\n",
       "    <tr>\n",
       "      <th>1</th>\n",
       "      <td>4</td>\n",
       "      <td>35</td>\n",
       "      <td>The article is kind of tragic and hits close t...</td>\n",
       "      <td>79</td>\n",
       "      <td>1</td>\n",
       "      <td>6</td>\n",
       "      <td>3</td>\n",
       "      <td>33</td>\n",
       "      <td>64000</td>\n",
       "      <td>1</td>\n",
       "      <td>dev</td>\n",
       "      <td>3</td>\n",
       "      <td>I am a 33-year-old male of the Black or Africa...</td>\n",
       "      <td>I am a 33-year-old male of the Black or Africa...</td>\n",
       "      <td>A month after Hurricane Matthew hit southweste...</td>\n",
       "    </tr>\n",
       "  </tbody>\n",
       "</table>\n",
       "</div>"
      ],
      "text/plain": [
       "   conversation_id  article_id  \\\n",
       "0                1          35   \n",
       "1                4          35   \n",
       "\n",
       "                                               essay  speaker_id  gender  \\\n",
       "0  How sad is it that this kind of pain and suffe...          68       2   \n",
       "1  The article is kind of tragic and hits close t...          79       1   \n",
       "\n",
       "   education  race  age  income  speaker_number split  essay_id  \\\n",
       "0          2     1   21   20000               1   dev         0   \n",
       "1          6     3   33   64000               1   dev         3   \n",
       "\n",
       "                                         demographic  \\\n",
       "0  I am a 21-year-old female of the White race. I...   \n",
       "1  I am a 33-year-old male of the Black or Africa...   \n",
       "\n",
       "                                   demographic_essay  \\\n",
       "0  I am a 21-year-old female of the White race. I...   \n",
       "1  I am a 33-year-old male of the Black or Africa...   \n",
       "\n",
       "                                             article  \n",
       "0  A month after Hurricane Matthew hit southweste...  \n",
       "1  A month after Hurricane Matthew hit southweste...  "
      ]
     },
     "execution_count": 5,
     "metadata": {},
     "output_type": "execute_result"
    }
   ],
   "source": [
    "ws23.head(2)"
   ]
  },
  {
   "cell_type": "code",
   "execution_count": 6,
   "id": "062c101f-4f27-4506-bffc-f479af5c5960",
   "metadata": {},
   "outputs": [],
   "source": [
    "column_ws22 = ws22.columns.tolist()"
   ]
  },
  {
   "cell_type": "code",
   "execution_count": 7,
   "id": "cb8f210e-987b-498a-9d88-6bdb9275992f",
   "metadata": {},
   "outputs": [],
   "source": [
    "column_ws23 = ws23.columns.tolist()"
   ]
  },
  {
   "cell_type": "code",
   "execution_count": 8,
   "id": "e42c6a2e-8f36-4dde-8fc5-40a391f38692",
   "metadata": {},
   "outputs": [],
   "source": [
    "common_columns = [i for i in column_ws22 if i in column_ws23]"
   ]
  },
  {
   "cell_type": "code",
   "execution_count": 9,
   "id": "7ff94db5-d249-454c-ac85-d591d88b4ba2",
   "metadata": {},
   "outputs": [
    {
     "data": {
      "text/plain": [
       "['article_id',\n",
       " 'essay',\n",
       " 'gender',\n",
       " 'education',\n",
       " 'race',\n",
       " 'age',\n",
       " 'income',\n",
       " 'speaker_id',\n",
       " 'demographic',\n",
       " 'demographic_essay',\n",
       " 'article']"
      ]
     },
     "execution_count": 9,
     "metadata": {},
     "output_type": "execute_result"
    }
   ],
   "source": [
    "common_columns"
   ]
  },
  {
   "cell_type": "code",
   "execution_count": 10,
   "id": "98535085-17fd-4644-8a3e-cf3f4a3b5b32",
   "metadata": {},
   "outputs": [],
   "source": [
    "ws22 = ws22[common_columns]\n",
    "ws23 = ws23[common_columns]"
   ]
  },
  {
   "cell_type": "code",
   "execution_count": 11,
   "id": "bd1260f7-7b19-4396-a09d-b88ea91c2594",
   "metadata": {},
   "outputs": [
    {
     "name": "stdout",
     "output_type": "stream",
     "text": [
      "(270, 11) (208, 11)\n"
     ]
    }
   ],
   "source": [
    "print(ws22.shape, ws23.shape)"
   ]
  },
  {
   "cell_type": "code",
   "execution_count": 12,
   "id": "bb415e2f-9696-480c-8c7e-26dd6517c5e1",
   "metadata": {},
   "outputs": [],
   "source": [
    "ws = pd.concat([ws22, ws23], ignore_index=True)"
   ]
  },
  {
   "cell_type": "code",
   "execution_count": 13,
   "id": "2036527c-404d-4dae-b048-cf72ee9990c3",
   "metadata": {},
   "outputs": [
    {
     "data": {
      "text/plain": [
       "(478, 11)"
      ]
     },
     "execution_count": 13,
     "metadata": {},
     "output_type": "execute_result"
    }
   ],
   "source": [
    "ws.shape"
   ]
  },
  {
   "cell_type": "code",
   "execution_count": 14,
   "id": "666567f4-785b-4c8e-a854-07b09dc9d674",
   "metadata": {},
   "outputs": [],
   "source": [
    "ws.to_csv('./data/PREPROCESSED-WS22-WS23-dev.tsv', sep='\\t', index=False)"
   ]
  },
  {
   "cell_type": "markdown",
   "id": "2b0d0b34-9699-45d4-a2f7-1faef1d4f01e",
   "metadata": {
    "jp-MarkdownHeadingCollapsed": true
   },
   "source": [
    "### Dev labels"
   ]
  },
  {
   "cell_type": "code",
   "execution_count": 13,
   "id": "f47bb834-e7b5-487f-ab59-e680f8cbbe06",
   "metadata": {},
   "outputs": [],
   "source": [
    "ws22 = pd.read_csv('./data/WASSA22/goldstandard_dev_2022.tsv', sep='\\t', header=None)\n",
    "ws23 = pd.read_csv('./data/WASSA23/goldstandard_dev.tsv', sep='\\t', header=None)"
   ]
  },
  {
   "cell_type": "code",
   "execution_count": 14,
   "id": "5a99ef71-dee6-429f-8c9b-662896e75970",
   "metadata": {},
   "outputs": [
    {
     "data": {
      "text/html": [
       "<div>\n",
       "<style scoped>\n",
       "    .dataframe tbody tr th:only-of-type {\n",
       "        vertical-align: middle;\n",
       "    }\n",
       "\n",
       "    .dataframe tbody tr th {\n",
       "        vertical-align: top;\n",
       "    }\n",
       "\n",
       "    .dataframe thead th {\n",
       "        text-align: right;\n",
       "    }\n",
       "</style>\n",
       "<table border=\"1\" class=\"dataframe\">\n",
       "  <thead>\n",
       "    <tr style=\"text-align: right;\">\n",
       "      <th></th>\n",
       "      <th>0</th>\n",
       "      <th>1</th>\n",
       "      <th>2</th>\n",
       "      <th>3</th>\n",
       "      <th>4</th>\n",
       "      <th>5</th>\n",
       "      <th>6</th>\n",
       "      <th>7</th>\n",
       "      <th>8</th>\n",
       "      <th>9</th>\n",
       "      <th>10</th>\n",
       "      <th>11</th>\n",
       "    </tr>\n",
       "  </thead>\n",
       "  <tbody>\n",
       "    <tr>\n",
       "      <th>0</th>\n",
       "      <td>7.000</td>\n",
       "      <td>7.000</td>\n",
       "      <td>sadness</td>\n",
       "      <td>5.5</td>\n",
       "      <td>5.5</td>\n",
       "      <td>4.0</td>\n",
       "      <td>5.0</td>\n",
       "      <td>4.5</td>\n",
       "      <td>4.429</td>\n",
       "      <td>2.286</td>\n",
       "      <td>4.143</td>\n",
       "      <td>3.143</td>\n",
       "    </tr>\n",
       "    <tr>\n",
       "      <th>1</th>\n",
       "      <td>3.167</td>\n",
       "      <td>3.625</td>\n",
       "      <td>sadness</td>\n",
       "      <td>5.5</td>\n",
       "      <td>5.5</td>\n",
       "      <td>4.0</td>\n",
       "      <td>5.0</td>\n",
       "      <td>4.5</td>\n",
       "      <td>4.429</td>\n",
       "      <td>2.286</td>\n",
       "      <td>4.143</td>\n",
       "      <td>3.143</td>\n",
       "    </tr>\n",
       "  </tbody>\n",
       "</table>\n",
       "</div>"
      ],
      "text/plain": [
       "      0      1        2    3    4    5    6    7      8      9      10     11\n",
       "0  7.000  7.000  sadness  5.5  5.5  4.0  5.0  4.5  4.429  2.286  4.143  3.143\n",
       "1  3.167  3.625  sadness  5.5  5.5  4.0  5.0  4.5  4.429  2.286  4.143  3.143"
      ]
     },
     "execution_count": 14,
     "metadata": {},
     "output_type": "execute_result"
    }
   ],
   "source": [
    "ws22.head(2)"
   ]
  },
  {
   "cell_type": "code",
   "execution_count": 15,
   "id": "67715b55-55a6-471a-8439-adaad46d3a69",
   "metadata": {},
   "outputs": [
    {
     "data": {
      "text/html": [
       "<div>\n",
       "<style scoped>\n",
       "    .dataframe tbody tr th:only-of-type {\n",
       "        vertical-align: middle;\n",
       "    }\n",
       "\n",
       "    .dataframe tbody tr th {\n",
       "        vertical-align: top;\n",
       "    }\n",
       "\n",
       "    .dataframe thead th {\n",
       "        text-align: right;\n",
       "    }\n",
       "</style>\n",
       "<table border=\"1\" class=\"dataframe\">\n",
       "  <thead>\n",
       "    <tr style=\"text-align: right;\">\n",
       "      <th></th>\n",
       "      <th>0</th>\n",
       "      <th>1</th>\n",
       "      <th>2</th>\n",
       "      <th>3</th>\n",
       "      <th>4</th>\n",
       "      <th>5</th>\n",
       "      <th>6</th>\n",
       "      <th>7</th>\n",
       "      <th>8</th>\n",
       "      <th>9</th>\n",
       "      <th>10</th>\n",
       "      <th>11</th>\n",
       "    </tr>\n",
       "  </thead>\n",
       "  <tbody>\n",
       "    <tr>\n",
       "      <th>0</th>\n",
       "      <td>3.833333</td>\n",
       "      <td>3.375</td>\n",
       "      <td>Sadness</td>\n",
       "      <td>5.0</td>\n",
       "      <td>3.0</td>\n",
       "      <td>5.0</td>\n",
       "      <td>4.0</td>\n",
       "      <td>3.5</td>\n",
       "      <td>2.714</td>\n",
       "      <td>3.0</td>\n",
       "      <td>3.143</td>\n",
       "      <td>3.286</td>\n",
       "    </tr>\n",
       "    <tr>\n",
       "      <th>1</th>\n",
       "      <td>3.000000</td>\n",
       "      <td>1.000</td>\n",
       "      <td>Sadness</td>\n",
       "      <td>6.5</td>\n",
       "      <td>7.0</td>\n",
       "      <td>3.5</td>\n",
       "      <td>4.5</td>\n",
       "      <td>7.0</td>\n",
       "      <td>3.714</td>\n",
       "      <td>1.0</td>\n",
       "      <td>2.429</td>\n",
       "      <td>1.429</td>\n",
       "    </tr>\n",
       "  </tbody>\n",
       "</table>\n",
       "</div>"
      ],
      "text/plain": [
       "         0      1        2    3    4    5    6    7      8    9      10     11\n",
       "0  3.833333  3.375  Sadness  5.0  3.0  5.0  4.0  3.5  2.714  3.0  3.143  3.286\n",
       "1  3.000000  1.000  Sadness  6.5  7.0  3.5  4.5  7.0  3.714  1.0  2.429  1.429"
      ]
     },
     "execution_count": 15,
     "metadata": {},
     "output_type": "execute_result"
    }
   ],
   "source": [
    "ws23.head(2)"
   ]
  },
  {
   "cell_type": "code",
   "execution_count": 16,
   "id": "f0f633b0-c9db-4f4d-88fc-34b243559ada",
   "metadata": {},
   "outputs": [
    {
     "name": "stdout",
     "output_type": "stream",
     "text": [
      "(270, 12) (208, 12)\n"
     ]
    }
   ],
   "source": [
    "print(ws22.shape, ws23.shape)"
   ]
  },
  {
   "cell_type": "code",
   "execution_count": 17,
   "id": "3c85271a-dbb2-452d-bd22-82010847373e",
   "metadata": {},
   "outputs": [],
   "source": [
    "ws = pd.concat([ws22, ws23], ignore_index=True)"
   ]
  },
  {
   "cell_type": "code",
   "execution_count": 20,
   "id": "a5c7d1d3-e699-4327-83df-fa69bcb0a709",
   "metadata": {},
   "outputs": [
    {
     "data": {
      "text/plain": [
       "(478, 12)"
      ]
     },
     "execution_count": 20,
     "metadata": {},
     "output_type": "execute_result"
    }
   ],
   "source": [
    "ws.shape"
   ]
  },
  {
   "cell_type": "code",
   "execution_count": 22,
   "id": "47715727-f109-4ed5-b21a-40e5d521676d",
   "metadata": {},
   "outputs": [],
   "source": [
    "ws.to_csv('./data/goldstandard-WS22-WS23-dev.tsv', sep='\\t', index=False, header=None)"
   ]
  },
  {
   "cell_type": "markdown",
   "id": "dec84a3e-9b39-4dea-bd3f-e7a4030cd63e",
   "metadata": {
    "jp-MarkdownHeadingCollapsed": true
   },
   "source": [
    "## Raw"
   ]
  },
  {
   "cell_type": "code",
   "execution_count": 9,
   "id": "b764dafd-46ea-448f-bfb1-7467a95d9a75",
   "metadata": {},
   "outputs": [],
   "source": [
    "train_WS22 = './data/WASSA22/messages_train_ready_for_WS.tsv'\n",
    "train_WS23 = './data/WASSA23/WASSA23_essay_level_with_labels_train.tsv'"
   ]
  },
  {
   "cell_type": "code",
   "execution_count": 10,
   "id": "e453dd2c-0cfc-4e96-aa8b-ff4ae43d3eff",
   "metadata": {},
   "outputs": [],
   "source": [
    "train_WS22 = pd.read_csv(train_WS22, sep='\\t', header=0)\n",
    "train_WS23 = pd.read_csv(train_WS23, sep='\\t', na_values='unknown', header=0)"
   ]
  },
  {
   "cell_type": "code",
   "execution_count": 11,
   "id": "6d64a621-ace1-4142-a327-ca98b96b72fa",
   "metadata": {},
   "outputs": [],
   "source": [
    "train_WS22.dropna(inplace=True)\n",
    "train_WS23.dropna(inplace=True)"
   ]
  },
  {
   "cell_type": "code",
   "execution_count": 12,
   "id": "b98bf8f8-a1e7-45e4-b3c1-b9bb5fde0a9a",
   "metadata": {},
   "outputs": [
    {
     "data": {
      "text/plain": [
       "['message_id', 'response_id', 'essay', 'emotion']"
      ]
     },
     "execution_count": 12,
     "metadata": {},
     "output_type": "execute_result"
    }
   ],
   "source": [
    "train_WS22.select_dtypes(exclude='number').columns.tolist()"
   ]
  },
  {
   "cell_type": "code",
   "execution_count": 13,
   "id": "5fbaedaa-92a1-48ed-a7b0-2172f55296e3",
   "metadata": {},
   "outputs": [
    {
     "data": {
      "text/plain": [
       "['essay', 'split', 'emotion']"
      ]
     },
     "execution_count": 13,
     "metadata": {},
     "output_type": "execute_result"
    }
   ],
   "source": [
    "train_WS23.select_dtypes(exclude='number').columns.tolist()"
   ]
  },
  {
   "cell_type": "code",
   "execution_count": 19,
   "id": "c878a1d0-a6db-4eca-8d85-cf56baebbf64",
   "metadata": {},
   "outputs": [],
   "source": [
    "column_WS22 = train_WS22.columns.tolist()"
   ]
  },
  {
   "cell_type": "code",
   "execution_count": 20,
   "id": "76891230-1bdb-4b7c-b842-dd14ee1dc81a",
   "metadata": {},
   "outputs": [],
   "source": [
    "column_WS23 = train_WS23.columns.tolist()"
   ]
  },
  {
   "cell_type": "code",
   "execution_count": 21,
   "id": "c9f593cf-a86c-4751-8681-ac145cad49d1",
   "metadata": {},
   "outputs": [],
   "source": [
    "common_columns = [i for i in column_WS22 if i in column_WS23]"
   ]
  },
  {
   "cell_type": "code",
   "execution_count": 22,
   "id": "35764e67-c17f-46bc-a6ee-64639dd5d8f2",
   "metadata": {},
   "outputs": [
    {
     "data": {
      "text/plain": [
       "['article_id',\n",
       " 'empathy',\n",
       " 'distress',\n",
       " 'essay',\n",
       " 'emotion',\n",
       " 'gender',\n",
       " 'education',\n",
       " 'race',\n",
       " 'age',\n",
       " 'income',\n",
       " 'personality_conscientiousness',\n",
       " 'personality_openess',\n",
       " 'personality_extraversion',\n",
       " 'personality_agreeableness',\n",
       " 'personality_stability',\n",
       " 'iri_perspective_taking',\n",
       " 'iri_personal_distress',\n",
       " 'iri_fantasy',\n",
       " 'iri_empathatic_concern']"
      ]
     },
     "execution_count": 22,
     "metadata": {},
     "output_type": "execute_result"
    }
   ],
   "source": [
    "common_columns"
   ]
  },
  {
   "cell_type": "code",
   "execution_count": 23,
   "id": "4422fc59-237a-44c4-860c-6ef3a8741292",
   "metadata": {},
   "outputs": [],
   "source": [
    "train_WS22 = train_WS22[common_columns]\n",
    "train_WS23 = train_WS23[common_columns]"
   ]
  },
  {
   "cell_type": "code",
   "execution_count": 32,
   "id": "eadd6cd1-5a99-48eb-96db-003981089d52",
   "metadata": {},
   "outputs": [
    {
     "data": {
      "text/plain": [
       "(1860, 19)"
      ]
     },
     "execution_count": 32,
     "metadata": {},
     "output_type": "execute_result"
    }
   ],
   "source": [
    "train_WS22.shape"
   ]
  },
  {
   "cell_type": "code",
   "execution_count": 33,
   "id": "3ed69727-d1aa-43a3-964a-c22e0be09623",
   "metadata": {},
   "outputs": [
    {
     "data": {
      "text/plain": [
       "(779, 19)"
      ]
     },
     "execution_count": 33,
     "metadata": {},
     "output_type": "execute_result"
    }
   ],
   "source": [
    "train_WS23.shape"
   ]
  },
  {
   "cell_type": "code",
   "execution_count": 28,
   "id": "ad191ae0-7f5a-4af6-b64e-2efdb1d8dba6",
   "metadata": {},
   "outputs": [],
   "source": [
    "train_WS = pd.concat([train_WS22, train_WS23], ignore_index=True)"
   ]
  },
  {
   "cell_type": "code",
   "execution_count": 30,
   "id": "2b81c18e-483e-4911-9c2f-0e02931d927a",
   "metadata": {},
   "outputs": [
    {
     "data": {
      "text/plain": [
       "(2639, 19)"
      ]
     },
     "execution_count": 30,
     "metadata": {},
     "output_type": "execute_result"
    }
   ],
   "source": [
    "train_WS.shape"
   ]
  },
  {
   "cell_type": "code",
   "execution_count": 36,
   "id": "0ee3bca8-5db6-43f6-a43a-7b0c3d01b193",
   "metadata": {},
   "outputs": [],
   "source": [
    "train_WS.to_csv('./data/essay-train-ws22-ws23.tsv', sep='\\t')"
   ]
  },
  {
   "cell_type": "markdown",
   "id": "edfba426-df35-426f-890c-0f461792fb13",
   "metadata": {},
   "source": [
    "## GPT-annotated"
   ]
  },
  {
   "cell_type": "markdown",
   "id": "0bb85894-136e-4d67-81eb-79fe4ebf3484",
   "metadata": {},
   "source": [
    "### Train"
   ]
  },
  {
   "cell_type": "code",
   "execution_count": 6,
   "id": "8d86fd9b-7e10-40a7-8553-f58dcc70aeb6",
   "metadata": {},
   "outputs": [],
   "source": [
    "ws22 = pd.read_csv('./data/WS22-train-gpt.tsv', sep='\\t')\n",
    "ws23 = pd.read_csv('./data/WS23-train-gpt.tsv', sep='\\t')"
   ]
  },
  {
   "cell_type": "code",
   "execution_count": 7,
   "id": "433873a1-3966-46cb-95f5-22c911375b06",
   "metadata": {},
   "outputs": [
    {
     "data": {
      "text/html": [
       "<div>\n",
       "<style scoped>\n",
       "    .dataframe tbody tr th:only-of-type {\n",
       "        vertical-align: middle;\n",
       "    }\n",
       "\n",
       "    .dataframe tbody tr th {\n",
       "        vertical-align: top;\n",
       "    }\n",
       "\n",
       "    .dataframe thead th {\n",
       "        text-align: right;\n",
       "    }\n",
       "</style>\n",
       "<table border=\"1\" class=\"dataframe\">\n",
       "  <thead>\n",
       "    <tr style=\"text-align: right;\">\n",
       "      <th></th>\n",
       "      <th>message_id</th>\n",
       "      <th>response_id</th>\n",
       "      <th>article_id</th>\n",
       "      <th>empathy</th>\n",
       "      <th>distress</th>\n",
       "      <th>empathy_bin</th>\n",
       "      <th>distress_bin</th>\n",
       "      <th>essay</th>\n",
       "      <th>emotion</th>\n",
       "      <th>gender</th>\n",
       "      <th>...</th>\n",
       "      <th>personality_agreeableness</th>\n",
       "      <th>personality_stability</th>\n",
       "      <th>iri_perspective_taking</th>\n",
       "      <th>iri_personal_distress</th>\n",
       "      <th>iri_fantasy</th>\n",
       "      <th>iri_empathatic_concern</th>\n",
       "      <th>speaker_id</th>\n",
       "      <th>demographic</th>\n",
       "      <th>demographic_essay</th>\n",
       "      <th>article</th>\n",
       "    </tr>\n",
       "  </thead>\n",
       "  <tbody>\n",
       "    <tr>\n",
       "      <th>0</th>\n",
       "      <td>R_1hGrPtWM4SumG0U_1</td>\n",
       "      <td>R_1hGrPtWM4SumG0U</td>\n",
       "      <td>67</td>\n",
       "      <td>6.5</td>\n",
       "      <td>4.375</td>\n",
       "      <td>1</td>\n",
       "      <td>1</td>\n",
       "      <td>it is really diheartening to read about these ...</td>\n",
       "      <td>sadness</td>\n",
       "      <td>1</td>\n",
       "      <td>...</td>\n",
       "      <td>5.5</td>\n",
       "      <td>5.5</td>\n",
       "      <td>3.571</td>\n",
       "      <td>2.0</td>\n",
       "      <td>3.429</td>\n",
       "      <td>4.0</td>\n",
       "      <td>41</td>\n",
       "      <td>I am a 33-year-old male of the White race. I h...</td>\n",
       "      <td>I am a 33-year-old male of the White race. I h...</td>\n",
       "      <td>At least 239 migrants are believed to have dro...</td>\n",
       "    </tr>\n",
       "    <tr>\n",
       "      <th>1</th>\n",
       "      <td>R_1hGrPtWM4SumG0U_2</td>\n",
       "      <td>R_1hGrPtWM4SumG0U</td>\n",
       "      <td>86</td>\n",
       "      <td>4.2</td>\n",
       "      <td>4.875</td>\n",
       "      <td>1</td>\n",
       "      <td>1</td>\n",
       "      <td>the phone lines from the suicide prevention li...</td>\n",
       "      <td>sadness</td>\n",
       "      <td>1</td>\n",
       "      <td>...</td>\n",
       "      <td>5.5</td>\n",
       "      <td>5.5</td>\n",
       "      <td>3.571</td>\n",
       "      <td>2.0</td>\n",
       "      <td>3.429</td>\n",
       "      <td>4.0</td>\n",
       "      <td>41</td>\n",
       "      <td>I am a 33-year-old male of the White race. I h...</td>\n",
       "      <td>I am a 33-year-old male of the White race. I h...</td>\n",
       "      <td>The US presidential election has led to a surg...</td>\n",
       "    </tr>\n",
       "  </tbody>\n",
       "</table>\n",
       "<p>2 rows × 27 columns</p>\n",
       "</div>"
      ],
      "text/plain": [
       "            message_id        response_id  article_id  empathy  distress  \\\n",
       "0  R_1hGrPtWM4SumG0U_1  R_1hGrPtWM4SumG0U          67      6.5     4.375   \n",
       "1  R_1hGrPtWM4SumG0U_2  R_1hGrPtWM4SumG0U          86      4.2     4.875   \n",
       "\n",
       "   empathy_bin  distress_bin  \\\n",
       "0            1             1   \n",
       "1            1             1   \n",
       "\n",
       "                                               essay  emotion  gender  ...  \\\n",
       "0  it is really diheartening to read about these ...  sadness       1  ...   \n",
       "1  the phone lines from the suicide prevention li...  sadness       1  ...   \n",
       "\n",
       "   personality_agreeableness  personality_stability  iri_perspective_taking  \\\n",
       "0                        5.5                    5.5                   3.571   \n",
       "1                        5.5                    5.5                   3.571   \n",
       "\n",
       "   iri_personal_distress  iri_fantasy  iri_empathatic_concern  speaker_id  \\\n",
       "0                    2.0        3.429                     4.0          41   \n",
       "1                    2.0        3.429                     4.0          41   \n",
       "\n",
       "                                         demographic  \\\n",
       "0  I am a 33-year-old male of the White race. I h...   \n",
       "1  I am a 33-year-old male of the White race. I h...   \n",
       "\n",
       "                                   demographic_essay  \\\n",
       "0  I am a 33-year-old male of the White race. I h...   \n",
       "1  I am a 33-year-old male of the White race. I h...   \n",
       "\n",
       "                                             article  \n",
       "0  At least 239 migrants are believed to have dro...  \n",
       "1  The US presidential election has led to a surg...  \n",
       "\n",
       "[2 rows x 27 columns]"
      ]
     },
     "execution_count": 7,
     "metadata": {},
     "output_type": "execute_result"
    }
   ],
   "source": [
    "ws22.head(2)"
   ]
  },
  {
   "cell_type": "code",
   "execution_count": 8,
   "id": "928130e7-11ed-463c-a25e-fb37ea9bf22b",
   "metadata": {},
   "outputs": [
    {
     "data": {
      "text/html": [
       "<div>\n",
       "<style scoped>\n",
       "    .dataframe tbody tr th:only-of-type {\n",
       "        vertical-align: middle;\n",
       "    }\n",
       "\n",
       "    .dataframe tbody tr th {\n",
       "        vertical-align: top;\n",
       "    }\n",
       "\n",
       "    .dataframe thead th {\n",
       "        text-align: right;\n",
       "    }\n",
       "</style>\n",
       "<table border=\"1\" class=\"dataframe\">\n",
       "  <thead>\n",
       "    <tr style=\"text-align: right;\">\n",
       "      <th></th>\n",
       "      <th>conversation_id</th>\n",
       "      <th>article_id</th>\n",
       "      <th>essay</th>\n",
       "      <th>empathy</th>\n",
       "      <th>distress</th>\n",
       "      <th>speaker_id</th>\n",
       "      <th>gender</th>\n",
       "      <th>education</th>\n",
       "      <th>race</th>\n",
       "      <th>age</th>\n",
       "      <th>...</th>\n",
       "      <th>iri_personal_distress</th>\n",
       "      <th>iri_fantasy</th>\n",
       "      <th>iri_empathatic_concern</th>\n",
       "      <th>speaker_number</th>\n",
       "      <th>split</th>\n",
       "      <th>essay_id</th>\n",
       "      <th>emotion</th>\n",
       "      <th>demographic</th>\n",
       "      <th>demographic_essay</th>\n",
       "      <th>article</th>\n",
       "    </tr>\n",
       "  </thead>\n",
       "  <tbody>\n",
       "    <tr>\n",
       "      <th>0</th>\n",
       "      <td>2</td>\n",
       "      <td>35</td>\n",
       "      <td>It breaks my heart to see people living in tho...</td>\n",
       "      <td>6.833333</td>\n",
       "      <td>6.625</td>\n",
       "      <td>30</td>\n",
       "      <td>1.0</td>\n",
       "      <td>6.0</td>\n",
       "      <td>3.0</td>\n",
       "      <td>37.0</td>\n",
       "      <td>...</td>\n",
       "      <td>2.000</td>\n",
       "      <td>3.429</td>\n",
       "      <td>5.000</td>\n",
       "      <td>1</td>\n",
       "      <td>train</td>\n",
       "      <td>1</td>\n",
       "      <td>Hope/Sadness</td>\n",
       "      <td>I am a 37-year-old male of the African America...</td>\n",
       "      <td>I am a 37-year-old male of the African America...</td>\n",
       "      <td>A month after Hurricane Matthew hit southweste...</td>\n",
       "    </tr>\n",
       "    <tr>\n",
       "      <th>1</th>\n",
       "      <td>3</td>\n",
       "      <td>35</td>\n",
       "      <td>I wonder why there aren't more people trying t...</td>\n",
       "      <td>6.200000</td>\n",
       "      <td>6.000</td>\n",
       "      <td>19</td>\n",
       "      <td>1.0</td>\n",
       "      <td>6.0</td>\n",
       "      <td>2.0</td>\n",
       "      <td>32.0</td>\n",
       "      <td>...</td>\n",
       "      <td>2.857</td>\n",
       "      <td>2.857</td>\n",
       "      <td>2.714</td>\n",
       "      <td>1</td>\n",
       "      <td>train</td>\n",
       "      <td>2</td>\n",
       "      <td>Anger</td>\n",
       "      <td>I am a 32-year-old male of Hispanic or Latino ...</td>\n",
       "      <td>I am a 32-year-old male of Hispanic or Latino ...</td>\n",
       "      <td>A month after Hurricane Matthew hit southweste...</td>\n",
       "    </tr>\n",
       "  </tbody>\n",
       "</table>\n",
       "<p>2 rows × 27 columns</p>\n",
       "</div>"
      ],
      "text/plain": [
       "   conversation_id  article_id  \\\n",
       "0                2          35   \n",
       "1                3          35   \n",
       "\n",
       "                                               essay   empathy  distress  \\\n",
       "0  It breaks my heart to see people living in tho...  6.833333     6.625   \n",
       "1  I wonder why there aren't more people trying t...  6.200000     6.000   \n",
       "\n",
       "   speaker_id  gender  education  race   age  ...  iri_personal_distress  \\\n",
       "0          30     1.0        6.0   3.0  37.0  ...                  2.000   \n",
       "1          19     1.0        6.0   2.0  32.0  ...                  2.857   \n",
       "\n",
       "   iri_fantasy  iri_empathatic_concern  speaker_number  split  essay_id  \\\n",
       "0        3.429                   5.000               1  train         1   \n",
       "1        2.857                   2.714               1  train         2   \n",
       "\n",
       "        emotion                                        demographic  \\\n",
       "0  Hope/Sadness  I am a 37-year-old male of the African America...   \n",
       "1         Anger  I am a 32-year-old male of Hispanic or Latino ...   \n",
       "\n",
       "                                   demographic_essay  \\\n",
       "0  I am a 37-year-old male of the African America...   \n",
       "1  I am a 32-year-old male of Hispanic or Latino ...   \n",
       "\n",
       "                                             article  \n",
       "0  A month after Hurricane Matthew hit southweste...  \n",
       "1  A month after Hurricane Matthew hit southweste...  \n",
       "\n",
       "[2 rows x 27 columns]"
      ]
     },
     "execution_count": 8,
     "metadata": {},
     "output_type": "execute_result"
    }
   ],
   "source": [
    "ws23.head(2)"
   ]
  },
  {
   "cell_type": "code",
   "execution_count": 9,
   "id": "c5342adc-ba1b-4001-a907-765f30a18a40",
   "metadata": {},
   "outputs": [],
   "source": [
    "column_ws22 = ws22.columns.tolist()"
   ]
  },
  {
   "cell_type": "code",
   "execution_count": 10,
   "id": "ed8f180e-0a48-4637-b505-53db6cb4045d",
   "metadata": {},
   "outputs": [],
   "source": [
    "column_ws23 = ws23.columns.tolist()"
   ]
  },
  {
   "cell_type": "code",
   "execution_count": 11,
   "id": "7ccd1274-2977-4f48-9fca-734e8370d925",
   "metadata": {},
   "outputs": [],
   "source": [
    "common_columns = [i for i in column_ws22 if i in column_ws23]"
   ]
  },
  {
   "cell_type": "code",
   "execution_count": 12,
   "id": "f193bd41-6df2-4a97-91de-5bc6c1a7ce22",
   "metadata": {},
   "outputs": [
    {
     "data": {
      "text/plain": [
       "['article_id',\n",
       " 'empathy',\n",
       " 'distress',\n",
       " 'essay',\n",
       " 'emotion',\n",
       " 'gender',\n",
       " 'education',\n",
       " 'race',\n",
       " 'age',\n",
       " 'income',\n",
       " 'personality_conscientiousness',\n",
       " 'personality_openess',\n",
       " 'personality_extraversion',\n",
       " 'personality_agreeableness',\n",
       " 'personality_stability',\n",
       " 'iri_perspective_taking',\n",
       " 'iri_personal_distress',\n",
       " 'iri_fantasy',\n",
       " 'iri_empathatic_concern',\n",
       " 'speaker_id',\n",
       " 'demographic',\n",
       " 'demographic_essay',\n",
       " 'article']"
      ]
     },
     "execution_count": 12,
     "metadata": {},
     "output_type": "execute_result"
    }
   ],
   "source": [
    "common_columns"
   ]
  },
  {
   "cell_type": "code",
   "execution_count": 13,
   "id": "51662c1b-7b5f-4bd3-9cee-f451adb7cb76",
   "metadata": {},
   "outputs": [],
   "source": [
    "ws22 = ws22[common_columns]\n",
    "ws23 = ws23[common_columns]"
   ]
  },
  {
   "cell_type": "code",
   "execution_count": 14,
   "id": "838e9eda-5e68-4da1-9502-6787b8a14658",
   "metadata": {},
   "outputs": [
    {
     "name": "stdout",
     "output_type": "stream",
     "text": [
      "(1857, 23) (779, 23)\n"
     ]
    }
   ],
   "source": [
    "print(ws22.shape, ws23.shape)"
   ]
  },
  {
   "cell_type": "code",
   "execution_count": 15,
   "id": "738a5e4d-b582-4af8-ac82-c55548eb8523",
   "metadata": {},
   "outputs": [],
   "source": [
    "ws = pd.concat([ws22, ws23], ignore_index=True)"
   ]
  },
  {
   "cell_type": "code",
   "execution_count": 16,
   "id": "99d688be-be84-4ac3-9017-5db44c786835",
   "metadata": {},
   "outputs": [
    {
     "data": {
      "text/plain": [
       "(2636, 23)"
      ]
     },
     "execution_count": 16,
     "metadata": {},
     "output_type": "execute_result"
    }
   ],
   "source": [
    "ws.shape"
   ]
  },
  {
   "cell_type": "code",
   "execution_count": 47,
   "id": "a01585ef-b2be-4b68-a10e-1bbd8b08239f",
   "metadata": {},
   "outputs": [],
   "source": [
    "ws.dropna(inplace=True)"
   ]
  },
  {
   "cell_type": "code",
   "execution_count": 48,
   "id": "3968df88-b9e2-4e86-8e0a-a024eb1774b7",
   "metadata": {},
   "outputs": [
    {
     "data": {
      "text/plain": [
       "(2634, 23)"
      ]
     },
     "execution_count": 48,
     "metadata": {},
     "output_type": "execute_result"
    }
   ],
   "source": [
    "ws.shape"
   ]
  },
  {
   "cell_type": "code",
   "execution_count": 49,
   "id": "19afcc00-a2c1-4252-83d7-04febf5854c6",
   "metadata": {},
   "outputs": [],
   "source": [
    "ws.to_csv('./data/WS22-WS23-train-gpt.tsv', sep='\\t', index=False)"
   ]
  },
  {
   "cell_type": "code",
   "execution_count": 51,
   "id": "80e07cee-649f-482b-8e65-b4958e8a8a46",
   "metadata": {},
   "outputs": [
    {
     "data": {
      "text/plain": [
       "(1857, 23)"
      ]
     },
     "execution_count": 51,
     "metadata": {},
     "output_type": "execute_result"
    }
   ],
   "source": [
    "ws22.shape"
   ]
  },
  {
   "cell_type": "code",
   "execution_count": 52,
   "id": "9d16bce3-21f1-450b-9762-2caba0e8485d",
   "metadata": {},
   "outputs": [],
   "source": [
    "ws22.dropna(inplace=True)"
   ]
  },
  {
   "cell_type": "code",
   "execution_count": 53,
   "id": "07165480-ad49-452b-b2d6-ca8e3b33ac55",
   "metadata": {},
   "outputs": [
    {
     "data": {
      "text/plain": [
       "(1855, 23)"
      ]
     },
     "execution_count": 53,
     "metadata": {},
     "output_type": "execute_result"
    }
   ],
   "source": [
    "ws22.shape"
   ]
  },
  {
   "cell_type": "code",
   "execution_count": 54,
   "id": "34f11364-34ef-41b4-bef6-c6949ad920ea",
   "metadata": {},
   "outputs": [],
   "source": [
    "ws22.to_csv('./data/WS22-train-gpt.tsv', sep='\\t', index=False)"
   ]
  },
  {
   "cell_type": "markdown",
   "id": "69d76155-9a88-4c0d-b81c-1a947ace33dd",
   "metadata": {
    "jp-MarkdownHeadingCollapsed": true
   },
   "source": [
    "# Augmentation"
   ]
  },
  {
   "cell_type": "code",
   "execution_count": 5,
   "id": "3545afcc-e0de-49e6-ba11-ecef19c695a1",
   "metadata": {},
   "outputs": [],
   "source": [
    "data = pd.read_csv('./data/PREPROCESSED-WS22-WS23-train.tsv', sep='\\t')"
   ]
  },
  {
   "cell_type": "code",
   "execution_count": 6,
   "id": "50fbbe6a-3535-43a1-a7dc-044f15dd5bf9",
   "metadata": {
    "scrolled": true
   },
   "outputs": [
    {
     "data": {
      "text/html": [
       "<div>\n",
       "<style scoped>\n",
       "    .dataframe tbody tr th:only-of-type {\n",
       "        vertical-align: middle;\n",
       "    }\n",
       "\n",
       "    .dataframe tbody tr th {\n",
       "        vertical-align: top;\n",
       "    }\n",
       "\n",
       "    .dataframe thead th {\n",
       "        text-align: right;\n",
       "    }\n",
       "</style>\n",
       "<table border=\"1\" class=\"dataframe\">\n",
       "  <thead>\n",
       "    <tr style=\"text-align: right;\">\n",
       "      <th></th>\n",
       "      <th>article_id</th>\n",
       "      <th>empathy</th>\n",
       "      <th>distress</th>\n",
       "      <th>essay</th>\n",
       "      <th>emotion</th>\n",
       "      <th>gender</th>\n",
       "      <th>education</th>\n",
       "      <th>race</th>\n",
       "      <th>age</th>\n",
       "      <th>income</th>\n",
       "      <th>...</th>\n",
       "      <th>personality_agreeableness</th>\n",
       "      <th>personality_stability</th>\n",
       "      <th>iri_perspective_taking</th>\n",
       "      <th>iri_personal_distress</th>\n",
       "      <th>iri_fantasy</th>\n",
       "      <th>iri_empathatic_concern</th>\n",
       "      <th>speaker_id</th>\n",
       "      <th>demographic</th>\n",
       "      <th>demographic_essay</th>\n",
       "      <th>article</th>\n",
       "    </tr>\n",
       "  </thead>\n",
       "  <tbody>\n",
       "    <tr>\n",
       "      <th>0</th>\n",
       "      <td>67</td>\n",
       "      <td>5.667</td>\n",
       "      <td>4.375</td>\n",
       "      <td>it is really diheartening to read about these ...</td>\n",
       "      <td>sadness</td>\n",
       "      <td>1.0</td>\n",
       "      <td>4.0</td>\n",
       "      <td>1.0</td>\n",
       "      <td>33.0</td>\n",
       "      <td>50000.0</td>\n",
       "      <td>...</td>\n",
       "      <td>5.5</td>\n",
       "      <td>5.5</td>\n",
       "      <td>3.571</td>\n",
       "      <td>2.0</td>\n",
       "      <td>3.429</td>\n",
       "      <td>4.0</td>\n",
       "      <td>41</td>\n",
       "      <td>I am a 33-year-old male of the White race. I h...</td>\n",
       "      <td>I am a 33-year-old male of the White race. I h...</td>\n",
       "      <td>At least 239 migrants are believed to have dro...</td>\n",
       "    </tr>\n",
       "    <tr>\n",
       "      <th>1</th>\n",
       "      <td>86</td>\n",
       "      <td>4.833</td>\n",
       "      <td>4.875</td>\n",
       "      <td>the phone lines from the suicide prevention li...</td>\n",
       "      <td>sadness</td>\n",
       "      <td>1.0</td>\n",
       "      <td>4.0</td>\n",
       "      <td>1.0</td>\n",
       "      <td>33.0</td>\n",
       "      <td>50000.0</td>\n",
       "      <td>...</td>\n",
       "      <td>5.5</td>\n",
       "      <td>5.5</td>\n",
       "      <td>3.571</td>\n",
       "      <td>2.0</td>\n",
       "      <td>3.429</td>\n",
       "      <td>4.0</td>\n",
       "      <td>41</td>\n",
       "      <td>I am a 33-year-old male of the White race. I h...</td>\n",
       "      <td>I am a 33-year-old male of the White race. I h...</td>\n",
       "      <td>The US presidential election has led to a surg...</td>\n",
       "    </tr>\n",
       "    <tr>\n",
       "      <th>2</th>\n",
       "      <td>206</td>\n",
       "      <td>5.333</td>\n",
       "      <td>3.500</td>\n",
       "      <td>no matter what your heritage, you should be ab...</td>\n",
       "      <td>neutral</td>\n",
       "      <td>1.0</td>\n",
       "      <td>4.0</td>\n",
       "      <td>1.0</td>\n",
       "      <td>33.0</td>\n",
       "      <td>50000.0</td>\n",
       "      <td>...</td>\n",
       "      <td>5.5</td>\n",
       "      <td>5.5</td>\n",
       "      <td>3.571</td>\n",
       "      <td>2.0</td>\n",
       "      <td>3.429</td>\n",
       "      <td>4.0</td>\n",
       "      <td>41</td>\n",
       "      <td>I am a 33-year-old male of the White race. I h...</td>\n",
       "      <td>I am a 33-year-old male of the White race. I h...</td>\n",
       "      <td>Senator Mark Kirk apologized to his opponent, ...</td>\n",
       "    </tr>\n",
       "    <tr>\n",
       "      <th>3</th>\n",
       "      <td>290</td>\n",
       "      <td>4.167</td>\n",
       "      <td>5.250</td>\n",
       "      <td>it is frightening to learn about all these sha...</td>\n",
       "      <td>fear</td>\n",
       "      <td>1.0</td>\n",
       "      <td>4.0</td>\n",
       "      <td>1.0</td>\n",
       "      <td>33.0</td>\n",
       "      <td>50000.0</td>\n",
       "      <td>...</td>\n",
       "      <td>5.5</td>\n",
       "      <td>5.5</td>\n",
       "      <td>3.571</td>\n",
       "      <td>2.0</td>\n",
       "      <td>3.429</td>\n",
       "      <td>4.0</td>\n",
       "      <td>41</td>\n",
       "      <td>I am a 33-year-old male of the White race. I h...</td>\n",
       "      <td>I am a 33-year-old male of the White race. I h...</td>\n",
       "      <td>A man in Australia escaped with cuts to his le...</td>\n",
       "    </tr>\n",
       "    <tr>\n",
       "      <th>4</th>\n",
       "      <td>342</td>\n",
       "      <td>5.333</td>\n",
       "      <td>4.625</td>\n",
       "      <td>the eldest generation of russians aren't being...</td>\n",
       "      <td>sadness</td>\n",
       "      <td>1.0</td>\n",
       "      <td>4.0</td>\n",
       "      <td>1.0</td>\n",
       "      <td>33.0</td>\n",
       "      <td>50000.0</td>\n",
       "      <td>...</td>\n",
       "      <td>5.5</td>\n",
       "      <td>5.5</td>\n",
       "      <td>3.571</td>\n",
       "      <td>2.0</td>\n",
       "      <td>3.429</td>\n",
       "      <td>4.0</td>\n",
       "      <td>41</td>\n",
       "      <td>I am a 33-year-old male of the White race. I h...</td>\n",
       "      <td>I am a 33-year-old male of the White race. I h...</td>\n",
       "      <td>The eldest generation in Russia, known as the ...</td>\n",
       "    </tr>\n",
       "  </tbody>\n",
       "</table>\n",
       "<p>5 rows × 23 columns</p>\n",
       "</div>"
      ],
      "text/plain": [
       "   article_id  empathy  distress  \\\n",
       "0          67    5.667     4.375   \n",
       "1          86    4.833     4.875   \n",
       "2         206    5.333     3.500   \n",
       "3         290    4.167     5.250   \n",
       "4         342    5.333     4.625   \n",
       "\n",
       "                                               essay  emotion  gender  \\\n",
       "0  it is really diheartening to read about these ...  sadness     1.0   \n",
       "1  the phone lines from the suicide prevention li...  sadness     1.0   \n",
       "2  no matter what your heritage, you should be ab...  neutral     1.0   \n",
       "3  it is frightening to learn about all these sha...     fear     1.0   \n",
       "4  the eldest generation of russians aren't being...  sadness     1.0   \n",
       "\n",
       "   education  race   age   income  ...  personality_agreeableness  \\\n",
       "0        4.0   1.0  33.0  50000.0  ...                        5.5   \n",
       "1        4.0   1.0  33.0  50000.0  ...                        5.5   \n",
       "2        4.0   1.0  33.0  50000.0  ...                        5.5   \n",
       "3        4.0   1.0  33.0  50000.0  ...                        5.5   \n",
       "4        4.0   1.0  33.0  50000.0  ...                        5.5   \n",
       "\n",
       "   personality_stability  iri_perspective_taking  iri_personal_distress  \\\n",
       "0                    5.5                   3.571                    2.0   \n",
       "1                    5.5                   3.571                    2.0   \n",
       "2                    5.5                   3.571                    2.0   \n",
       "3                    5.5                   3.571                    2.0   \n",
       "4                    5.5                   3.571                    2.0   \n",
       "\n",
       "   iri_fantasy  iri_empathatic_concern  speaker_id  \\\n",
       "0        3.429                     4.0          41   \n",
       "1        3.429                     4.0          41   \n",
       "2        3.429                     4.0          41   \n",
       "3        3.429                     4.0          41   \n",
       "4        3.429                     4.0          41   \n",
       "\n",
       "                                         demographic  \\\n",
       "0  I am a 33-year-old male of the White race. I h...   \n",
       "1  I am a 33-year-old male of the White race. I h...   \n",
       "2  I am a 33-year-old male of the White race. I h...   \n",
       "3  I am a 33-year-old male of the White race. I h...   \n",
       "4  I am a 33-year-old male of the White race. I h...   \n",
       "\n",
       "                                   demographic_essay  \\\n",
       "0  I am a 33-year-old male of the White race. I h...   \n",
       "1  I am a 33-year-old male of the White race. I h...   \n",
       "2  I am a 33-year-old male of the White race. I h...   \n",
       "3  I am a 33-year-old male of the White race. I h...   \n",
       "4  I am a 33-year-old male of the White race. I h...   \n",
       "\n",
       "                                             article  \n",
       "0  At least 239 migrants are believed to have dro...  \n",
       "1  The US presidential election has led to a surg...  \n",
       "2  Senator Mark Kirk apologized to his opponent, ...  \n",
       "3  A man in Australia escaped with cuts to his le...  \n",
       "4  The eldest generation in Russia, known as the ...  \n",
       "\n",
       "[5 rows x 23 columns]"
      ]
     },
     "execution_count": 6,
     "metadata": {},
     "output_type": "execute_result"
    }
   ],
   "source": [
    "data.head()"
   ]
  },
  {
   "cell_type": "code",
   "execution_count": null,
   "id": "b700b741-1444-4576-8c29-0844d4443562",
   "metadata": {
    "scrolled": true,
    "tags": []
   },
   "outputs": [],
   "source": [
    "data.drop(['essay', 'demographic'], axis=1, inplace=True) #since only essay will not be paraphrased\n",
    "paraphrased = data.copy()\n",
    "paraphrased.loc[:, ['demographic_essay', 'article']] = np.nan # paraphrased texts will be placed there \n",
    "\n",
    "for row in data.itertuples():\n",
    "    prompt = f\"\"\"\n",
    "    As a data augmentaion tool for NLP, your task is to paraphrase the newspaper article delimited by triple backticks.\n",
    "\n",
    "    Do not add any additional information not contained in the input texts.\n",
    "\n",
    "    Your response must not have any backticks or any additional symbols.\n",
    "    \n",
    "    Input newspaper article: ```{data.loc[row.Index,'article']}```\n",
    "    \"\"\"\n",
    "    try:\n",
    "        response = chat(prompt=prompt, temp=1)\n",
    "    except Exception as e:\n",
    "        print(e)\n",
    "        print(\"\\nFailed but we're trying again in 60 seconds with a different model...\\n\")\n",
    "        time.sleep(60) # normally it asks to wait for 20s\n",
    "        # base gpt3.5: \"This model's maximum context length is 4097 tokens. However, your messages resulted in 4536 tokens.\", so 16K context is used\n",
    "        response = chat(prompt=prompt, model=\"gpt-3.5-turbo-16k\", temp=1)\n",
    "\n",
    "    # demographic_essay\n",
    "    prompt_essay = f\"\"\"\n",
    "    In a data collection experiment for empathy detection, the study participant writes essay to describe their feeling after reading a newspaper article involving harm to individuals, groups or other entities.\n",
    "    \n",
    "    The participant's demographic information are also available within the essay.\n",
    "    \n",
    "    As a data augmentaion tool for NLP, your task is to paraphrase the demographic and essay information delimited by triple backticks.\n",
    "\n",
    "    Do not add any additional information not contained in the input texts.\n",
    "\n",
    "    Overall, the participant expressed {data.loc[row.Index,'emotion']} emotion. Do not change this overall emotion of the participant's essay.\n",
    "\n",
    "    Your response must not have any backticks or any additional symbols.\n",
    "    \n",
    "    Input demographic and essay: ```{data.loc[row.Index,'demographic_essay']}```\n",
    "    \"\"\"\n",
    "    try:\n",
    "        response_essay = chat(prompt=prompt_essay, temp=1)\n",
    "    except Exception as e:\n",
    "        print(e)\n",
    "        print(\"\\nFailed but we're trying again in 60 seconds with a different model...\\n\")\n",
    "        time.sleep(60) # normally it asks to wait for 20s\n",
    "        # base gpt3.5: \"This model's maximum context length is 4097 tokens. However, your messages resulted in 4536 tokens.\", so 16K context is used\n",
    "        response_essay = chat(prompt=prompt_essay, model=\"gpt-3.5-turbo-16k\", temp=1)\n",
    "\n",
    "    # process the response\n",
    "    paraphrased.loc[row.Index, 'demographic_essay'] = response_essay\n",
    "    paraphrased.loc[row.Index, 'article'] = response\n",
    "\n",
    "    print('Completed row index:', row.Index)\n",
    "    # saving per 10 new paraphrase\n",
    "    if row.Index % 10 == 0:\n",
    "        paraphrased.to_csv('./data/paraphrased-preprocessed-WS22-WS23-train.tsv', sep='\\t', index=None)\n",
    "    \n",
    "    # debugging\n",
    "    # print(\"\\n\")\n",
    "    # if row.Index == 2:\n",
    "    #     break"
   ]
  },
  {
   "cell_type": "code",
   "execution_count": 8,
   "id": "ee744499-e3a6-4028-a53c-6bff7bee1a72",
   "metadata": {},
   "outputs": [],
   "source": [
    "paraphrased.to_csv('./data/paraphrased-preprocessed-WS22-WS23-train.tsv', sep='\\t', index=None)"
   ]
  },
  {
   "cell_type": "code",
   "execution_count": 10,
   "id": "60928173-8c9e-4e80-8c7f-32d3a014256c",
   "metadata": {},
   "outputs": [
    {
     "data": {
      "text/plain": [
       "Index(['article_id', 'empathy', 'distress', 'emotion', 'gender', 'education',\n",
       "       'race', 'age', 'income', 'personality_conscientiousness',\n",
       "       'personality_openess', 'personality_extraversion',\n",
       "       'personality_agreeableness', 'personality_stability',\n",
       "       'iri_perspective_taking', 'iri_personal_distress', 'iri_fantasy',\n",
       "       'iri_empathatic_concern', 'speaker_id', 'demographic_essay', 'article'],\n",
       "      dtype='object')"
      ]
     },
     "execution_count": 10,
     "metadata": {},
     "output_type": "execute_result"
    }
   ],
   "source": [
    "data.columns"
   ]
  },
  {
   "cell_type": "code",
   "execution_count": 11,
   "id": "32781648-2866-4845-a19e-aa295219e738",
   "metadata": {},
   "outputs": [
    {
     "data": {
      "text/plain": [
       "Index(['article_id', 'empathy', 'distress', 'emotion', 'gender', 'education',\n",
       "       'race', 'age', 'income', 'personality_conscientiousness',\n",
       "       'personality_openess', 'personality_extraversion',\n",
       "       'personality_agreeableness', 'personality_stability',\n",
       "       'iri_perspective_taking', 'iri_personal_distress', 'iri_fantasy',\n",
       "       'iri_empathatic_concern', 'speaker_id', 'demographic_essay', 'article'],\n",
       "      dtype='object')"
      ]
     },
     "execution_count": 11,
     "metadata": {},
     "output_type": "execute_result"
    }
   ],
   "source": [
    "paraphrased.columns"
   ]
  },
  {
   "cell_type": "code",
   "execution_count": 12,
   "id": "ce078cfe-30e7-4491-b63e-22e7302aaef1",
   "metadata": {},
   "outputs": [],
   "source": [
    "all = pd.concat([data, paraphrased], ignore_index=True)"
   ]
  },
  {
   "cell_type": "code",
   "execution_count": 15,
   "id": "32ef5d87-cf1b-460e-9af1-822b302896d3",
   "metadata": {},
   "outputs": [
    {
     "data": {
      "text/plain": [
       "(5272, 21)"
      ]
     },
     "execution_count": 15,
     "metadata": {},
     "output_type": "execute_result"
    }
   ],
   "source": [
    "all.shape"
   ]
  },
  {
   "cell_type": "code",
   "execution_count": 16,
   "id": "6e007451-8669-45c9-a5f9-f733ae298eee",
   "metadata": {},
   "outputs": [],
   "source": [
    "all.to_csv('./data/COMBINED-PREPROCESSED-PARAPHRASED-WS22-WS23-train.tsv', sep='\\t', index=None)"
   ]
  },
  {
   "cell_type": "markdown",
   "id": "3362c707-c361-46d6-be32-1dc02e7225b5",
   "metadata": {
    "jp-MarkdownHeadingCollapsed": true
   },
   "source": [
    "## Changing original annotations by GPT annotations"
   ]
  },
  {
   "cell_type": "code",
   "execution_count": 18,
   "id": "4d66e86f-b26a-471a-ab81-065f6b612b1f",
   "metadata": {},
   "outputs": [
    {
     "data": {
      "text/plain": [
       "(2636,)"
      ]
     },
     "execution_count": 18,
     "metadata": {},
     "output_type": "execute_result"
    }
   ],
   "source": [
    "ws['empathy'].shape"
   ]
  },
  {
   "cell_type": "code",
   "execution_count": 31,
   "id": "f5de2c81-5541-493a-8a86-c31d5eeefc5c",
   "metadata": {},
   "outputs": [],
   "source": [
    "original_anno = pd.read_csv('./data/COMBINED-PREPROCESSED-PARAPHRASED-WS22-WS23-train.tsv', sep='\\t')"
   ]
  },
  {
   "cell_type": "code",
   "execution_count": 32,
   "id": "2bf7444a-e6be-4bfa-99c6-865ca2641215",
   "metadata": {},
   "outputs": [
    {
     "data": {
      "text/plain": [
       "(5272, 21)"
      ]
     },
     "execution_count": 32,
     "metadata": {},
     "output_type": "execute_result"
    }
   ],
   "source": [
    "original_anno.shape"
   ]
  },
  {
   "cell_type": "code",
   "execution_count": 33,
   "id": "c34be398-d7d5-4ca1-b4a4-54495351dd37",
   "metadata": {},
   "outputs": [],
   "source": [
    "original_anno.rename(columns={'empathy': 'wrong_empathy'}, inplace=True)"
   ]
  },
  {
   "cell_type": "code",
   "execution_count": 34,
   "id": "6b2796cb-dcd9-4517-b907-07afb9a80438",
   "metadata": {},
   "outputs": [
    {
     "data": {
      "text/plain": [
       "Index(['article_id', 'wrong_empathy', 'distress', 'emotion', 'gender',\n",
       "       'education', 'race', 'age', 'income', 'personality_conscientiousness',\n",
       "       'personality_openess', 'personality_extraversion',\n",
       "       'personality_agreeableness', 'personality_stability',\n",
       "       'iri_perspective_taking', 'iri_personal_distress', 'iri_fantasy',\n",
       "       'iri_empathatic_concern', 'speaker_id', 'demographic_essay', 'article'],\n",
       "      dtype='object')"
      ]
     },
     "execution_count": 34,
     "metadata": {},
     "output_type": "execute_result"
    }
   ],
   "source": [
    "original_anno.columns"
   ]
  },
  {
   "cell_type": "code",
   "execution_count": 39,
   "id": "3b4da970-e7c6-4f7c-b131-753693de555a",
   "metadata": {},
   "outputs": [],
   "source": [
    "original_anno['empathy'] = ws['empathy'].tolist() + ws['empathy'].tolist()"
   ]
  },
  {
   "cell_type": "code",
   "execution_count": 43,
   "id": "bd4f0842-49e6-4dea-ad41-984265dd9ea2",
   "metadata": {},
   "outputs": [
    {
     "data": {
      "text/plain": [
       "(5272, 22)"
      ]
     },
     "execution_count": 43,
     "metadata": {},
     "output_type": "execute_result"
    }
   ],
   "source": [
    "original_anno.shape"
   ]
  },
  {
   "cell_type": "code",
   "execution_count": 44,
   "id": "e3b54212-73dc-4ddb-a803-386ada96bece",
   "metadata": {},
   "outputs": [],
   "source": [
    "original_anno.dropna(inplace=True) #there should be two+two NA values, as those were unable to annotate"
   ]
  },
  {
   "cell_type": "code",
   "execution_count": 45,
   "id": "82e8fab0-9496-496e-9501-6659803615e6",
   "metadata": {},
   "outputs": [
    {
     "data": {
      "text/plain": [
       "(5268, 22)"
      ]
     },
     "execution_count": 45,
     "metadata": {},
     "output_type": "execute_result"
    }
   ],
   "source": [
    "original_anno.shape"
   ]
  },
  {
   "cell_type": "code",
   "execution_count": 46,
   "id": "ac4cf885-5360-4124-8483-301b0df294e1",
   "metadata": {},
   "outputs": [],
   "source": [
    "original_anno.to_csv('./data/WS22-WS23-augmented-train-gpt.tsv', sep='\\t', index=None)"
   ]
  },
  {
   "cell_type": "markdown",
   "id": "72a1a62a-1b2f-4990-9655-30e854d8587c",
   "metadata": {
    "jp-MarkdownHeadingCollapsed": true
   },
   "source": [
    "# Extra"
   ]
  },
  {
   "cell_type": "markdown",
   "id": "8d823675-b02d-44b4-a0ee-6add86c726dd",
   "metadata": {
    "jp-MarkdownHeadingCollapsed": true
   },
   "source": [
    "# Splitting train and val set"
   ]
  },
  {
   "cell_type": "code",
   "execution_count": 18,
   "id": "00383350-62ee-4dd1-87f8-c5fd0303232c",
   "metadata": {},
   "outputs": [
    {
     "data": {
      "text/html": [
       "<div>\n",
       "<style scoped>\n",
       "    .dataframe tbody tr th:only-of-type {\n",
       "        vertical-align: middle;\n",
       "    }\n",
       "\n",
       "    .dataframe tbody tr th {\n",
       "        vertical-align: top;\n",
       "    }\n",
       "\n",
       "    .dataframe thead th {\n",
       "        text-align: right;\n",
       "    }\n",
       "</style>\n",
       "<table border=\"1\" class=\"dataframe\">\n",
       "  <thead>\n",
       "    <tr style=\"text-align: right;\">\n",
       "      <th></th>\n",
       "      <th>conversation_id</th>\n",
       "      <th>article_id</th>\n",
       "      <th>essay</th>\n",
       "      <th>speaker_id</th>\n",
       "      <th>gender</th>\n",
       "      <th>education</th>\n",
       "      <th>race</th>\n",
       "      <th>age</th>\n",
       "      <th>income</th>\n",
       "      <th>speaker_number</th>\n",
       "      <th>...</th>\n",
       "      <th>personality_extraversion</th>\n",
       "      <th>personality_agreeableness</th>\n",
       "      <th>personality_stability</th>\n",
       "      <th>iri_perspective_taking</th>\n",
       "      <th>iri_personal_distress</th>\n",
       "      <th>iri_fantasy</th>\n",
       "      <th>iri_empathatic_concern</th>\n",
       "      <th>demographic</th>\n",
       "      <th>article</th>\n",
       "      <th>demographic_essay</th>\n",
       "    </tr>\n",
       "  </thead>\n",
       "  <tbody>\n",
       "    <tr>\n",
       "      <th>424</th>\n",
       "      <td>50</td>\n",
       "      <td>210</td>\n",
       "      <td>When tragedies like the one in Paris happen we...</td>\n",
       "      <td>19</td>\n",
       "      <td>1.0</td>\n",
       "      <td>6.0</td>\n",
       "      <td>2.0</td>\n",
       "      <td>32.0</td>\n",
       "      <td>35000.0</td>\n",
       "      <td>2</td>\n",
       "      <td>...</td>\n",
       "      <td>2.0</td>\n",
       "      <td>5.5</td>\n",
       "      <td>4.5</td>\n",
       "      <td>3.429</td>\n",
       "      <td>2.857</td>\n",
       "      <td>2.857</td>\n",
       "      <td>2.714</td>\n",
       "      <td>I am a 32-year-old male of Hispanic or Latino ...</td>\n",
       "      <td>Members of the band Eagles of Death Metal, who...</td>\n",
       "      <td>I am a 32-year-old male of Hispanic or Latino ...</td>\n",
       "    </tr>\n",
       "    <tr>\n",
       "      <th>460</th>\n",
       "      <td>102</td>\n",
       "      <td>67</td>\n",
       "      <td>I am expressing my thought over this incident ...</td>\n",
       "      <td>5</td>\n",
       "      <td>2.0</td>\n",
       "      <td>6.0</td>\n",
       "      <td>3.0</td>\n",
       "      <td>22.0</td>\n",
       "      <td>100000.0</td>\n",
       "      <td>2</td>\n",
       "      <td>...</td>\n",
       "      <td>3.5</td>\n",
       "      <td>6.0</td>\n",
       "      <td>6.0</td>\n",
       "      <td>3.714</td>\n",
       "      <td>2.857</td>\n",
       "      <td>2.571</td>\n",
       "      <td>3.429</td>\n",
       "      <td>I am a female of the African American race. I ...</td>\n",
       "      <td>At least 239 migrants are believed to have dro...</td>\n",
       "      <td>I am a female of the African American race. I ...</td>\n",
       "    </tr>\n",
       "  </tbody>\n",
       "</table>\n",
       "<p>2 rows × 27 columns</p>\n",
       "</div>"
      ],
      "text/plain": [
       "     conversation_id  article_id  \\\n",
       "424               50         210   \n",
       "460              102          67   \n",
       "\n",
       "                                                 essay  speaker_id  gender  \\\n",
       "424  When tragedies like the one in Paris happen we...          19     1.0   \n",
       "460  I am expressing my thought over this incident ...           5     2.0   \n",
       "\n",
       "     education  race   age    income  speaker_number  ...  \\\n",
       "424        6.0   2.0  32.0   35000.0               2  ...   \n",
       "460        6.0   3.0  22.0  100000.0               2  ...   \n",
       "\n",
       "    personality_extraversion  personality_agreeableness  \\\n",
       "424                      2.0                        5.5   \n",
       "460                      3.5                        6.0   \n",
       "\n",
       "     personality_stability  iri_perspective_taking iri_personal_distress  \\\n",
       "424                    4.5                   3.429                 2.857   \n",
       "460                    6.0                   3.714                 2.857   \n",
       "\n",
       "     iri_fantasy  iri_empathatic_concern  \\\n",
       "424        2.857                   2.714   \n",
       "460        2.571                   3.429   \n",
       "\n",
       "                                           demographic  \\\n",
       "424  I am a 32-year-old male of Hispanic or Latino ...   \n",
       "460  I am a female of the African American race. I ...   \n",
       "\n",
       "                                               article  \\\n",
       "424  Members of the band Eagles of Death Metal, who...   \n",
       "460  At least 239 migrants are believed to have dro...   \n",
       "\n",
       "                                     demographic_essay  \n",
       "424  I am a 32-year-old male of Hispanic or Latino ...  \n",
       "460  I am a female of the African American race. I ...  \n",
       "\n",
       "[2 rows x 27 columns]"
      ]
     },
     "execution_count": 18,
     "metadata": {},
     "output_type": "execute_result"
    }
   ],
   "source": [
    "# df = pd.read_csv(\"./data/PREPROCESSED-essay-train-dev.csv\", index_col=0)\n",
    "df.sample(2)"
   ]
  },
  {
   "cell_type": "code",
   "execution_count": 19,
   "id": "2619318a-ee5b-4a5a-9c56-627b784698ab",
   "metadata": {},
   "outputs": [
    {
     "data": {
      "text/plain": [
       "(987, 27)"
      ]
     },
     "execution_count": 19,
     "metadata": {},
     "output_type": "execute_result"
    }
   ],
   "source": [
    "df.shape"
   ]
  },
  {
   "cell_type": "code",
   "execution_count": 7,
   "id": "cefd9124-6166-481f-97d8-ef218c00e91b",
   "metadata": {},
   "outputs": [
    {
     "data": {
      "text/plain": [
       "(208, 27)"
      ]
     },
     "execution_count": 7,
     "metadata": {},
     "output_type": "execute_result"
    }
   ],
   "source": [
    "df.iloc[779:,:].shape"
   ]
  },
  {
   "cell_type": "code",
   "execution_count": 23,
   "id": "def903d4-1460-46f0-902b-b9b65c202d51",
   "metadata": {},
   "outputs": [],
   "source": [
    "df.iloc[:779, :].to_csv('./data/PREPROCESSED-WS23-train.tsv', sep='\\t')"
   ]
  },
  {
   "cell_type": "code",
   "execution_count": 24,
   "id": "5d2ab6ae-c636-4103-a2bc-b371be8debb0",
   "metadata": {},
   "outputs": [],
   "source": [
    "df.iloc[779:, :].to_csv('./data/PREPROCESSED-WS23-dev.tsv', sep='\\t')"
   ]
  },
  {
   "cell_type": "markdown",
   "id": "8c4b7f39-bda3-4de3-b41f-7f0bab379a05",
   "metadata": {},
   "source": [
    "## BARD"
   ]
  },
  {
   "cell_type": "code",
   "execution_count": 18,
   "id": "217c5277-ef1a-40ee-a2cd-3ae553fcc930",
   "metadata": {
    "tags": []
   },
   "outputs": [],
   "source": [
    "from bardapi import Bard"
   ]
  },
  {
   "cell_type": "code",
   "execution_count": 19,
   "id": "e22fb923-4806-4d2f-b32f-40aed4f99c90",
   "metadata": {
    "tags": []
   },
   "outputs": [],
   "source": [
    "with open(\"./bard-api.txt\", 'r') as f:\n",
    "    bard = Bard(f.read())"
   ]
  },
  {
   "cell_type": "code",
   "execution_count": 38,
   "id": "85693ccf-32c4-4f8b-a409-7b2f10778e0e",
   "metadata": {
    "tags": []
   },
   "outputs": [
    {
     "name": "stdout",
     "output_type": "stream",
     "text": [
      "I'm a text-based AI, and that is outside of my capabilities.\n"
     ]
    }
   ],
   "source": [
    "response = bard.get_answer(prompt_convert)['content']\n",
    "print(response)"
   ]
  },
  {
   "cell_type": "code",
   "execution_count": 20,
   "id": "b4a3cb02-27d0-4c3a-84ed-811d2878dbd5",
   "metadata": {
    "tags": []
   },
   "outputs": [
    {
     "name": "stdout",
     "output_type": "stream",
     "text": [
      "An 11-year-old Rangers fan was attacked with a bottle before the League Cup semi-final game with Celtic on Sunday. The boy, Kraig Mackay, was walking with his family and other fans when a bottle was thrown at the group. The bottle struck Kraig on the head, causing a large cut. He was taken to the hospital for treatment and released later that day.\n",
      "\n",
      "Police are appealing for help to find the person responsible for the attack. They believe the bottle was thrown from a passing car.\n",
      "\n",
      "The attack has been condemned by both Rangers and Celtic. Rangers manager Mark Warburton said Kraig would be the club's mascot for their next home game and would watch the game from the directors' box.\n",
      "\n",
      "The game itself was won by Celtic 1-0.\n",
      "\n",
      "The attack on Kraig Mackay is a reminder of the dangers of football hooliganism. It is important for fans to remember that violence is never the answer. If you see something, say something. Report any incidents of violence to the police.\n",
      "\n",
      "Here are some tips for staying safe at football matches:\n",
      "\n",
      "* Arrive early and avoid walking alone.\n",
      "* Stay in well-lit areas and avoid secluded places.\n",
      "* Be aware of your surroundings and report any suspicious activity to the police.\n",
      "* Do not engage with troublemakers.\n",
      "* Drink responsibly and avoid drinking too much alcohol.\n",
      "* Be respectful of other fans and do not engage in any form of discrimination.\n",
      "\n",
      "If you are the victim of violence at a football match, report it to the police immediately.\n"
     ]
    }
   ],
   "source": [
    "response = bard.get_answer(prompt_summary)['content']\n",
    "print(response)"
   ]
  }
 ],
 "metadata": {
  "kernelspec": {
   "display_name": "Python 3 (ipykernel)",
   "language": "python",
   "name": "python3"
  },
  "language_info": {
   "codemirror_mode": {
    "name": "ipython",
    "version": 3
   },
   "file_extension": ".py",
   "mimetype": "text/x-python",
   "name": "python",
   "nbconvert_exporter": "python",
   "pygments_lexer": "ipython3",
   "version": "3.11.0"
  }
 },
 "nbformat": 4,
 "nbformat_minor": 5
}
