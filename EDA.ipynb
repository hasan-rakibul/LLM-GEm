{
 "cells": [
  {
   "cell_type": "code",
   "execution_count": 1,
   "id": "d61770ec-b2e8-4124-9fce-1a633f9ab9db",
   "metadata": {},
   "outputs": [],
   "source": [
    "import pandas as pd\n",
    "import numpy as np"
   ]
  },
  {
   "cell_type": "code",
   "execution_count": 3,
   "id": "dbcce2e2-00e3-4663-9ef3-358fe609446e",
   "metadata": {},
   "outputs": [],
   "source": [
    "import os\n",
    "os.chdir(\"/g/data/jr19/rh2942/text-empathy/\")"
   ]
  },
  {
   "cell_type": "code",
   "execution_count": 3,
   "id": "94741555-af69-45f0-ae1a-3942c19bc177",
   "metadata": {},
   "outputs": [],
   "source": [
    "train_file = \"./data/PREPROCESSED-essay-train.csv\"\n",
    "dev_file = \"./data/PREPROCESSED-essay-dev.csv\"\n",
    "train_dev_file = \"./data/PREPROCESSED-essay-train-dev.csv\"\n",
    "test_file = \"./data/PREPROCESSED-test.csv\""
   ]
  },
  {
   "cell_type": "code",
   "execution_count": 4,
   "id": "53814e42-8144-4748-907c-d8d80a525209",
   "metadata": {},
   "outputs": [],
   "source": [
    "train = pd.read_csv(train_file, header=0, index_col=0)"
   ]
  },
  {
   "cell_type": "code",
   "execution_count": 8,
   "id": "958c9cc7-2bd9-4409-b2b5-24425953fcc4",
   "metadata": {},
   "outputs": [
    {
     "data": {
      "text/html": [
       "<div>\n",
       "<style scoped>\n",
       "    .dataframe tbody tr th:only-of-type {\n",
       "        vertical-align: middle;\n",
       "    }\n",
       "\n",
       "    .dataframe tbody tr th {\n",
       "        vertical-align: top;\n",
       "    }\n",
       "\n",
       "    .dataframe thead th {\n",
       "        text-align: right;\n",
       "    }\n",
       "</style>\n",
       "<table border=\"1\" class=\"dataframe\">\n",
       "  <thead>\n",
       "    <tr style=\"text-align: right;\">\n",
       "      <th></th>\n",
       "      <th>conversation_id</th>\n",
       "      <th>article_id</th>\n",
       "      <th>essay</th>\n",
       "      <th>speaker_id</th>\n",
       "      <th>gender</th>\n",
       "      <th>education</th>\n",
       "      <th>race</th>\n",
       "      <th>age</th>\n",
       "      <th>income</th>\n",
       "      <th>speaker_number</th>\n",
       "      <th>...</th>\n",
       "      <th>personality_extraversion</th>\n",
       "      <th>personality_agreeableness</th>\n",
       "      <th>personality_stability</th>\n",
       "      <th>iri_perspective_taking</th>\n",
       "      <th>iri_personal_distress</th>\n",
       "      <th>iri_fantasy</th>\n",
       "      <th>iri_empathatic_concern</th>\n",
       "      <th>demographic</th>\n",
       "      <th>article</th>\n",
       "      <th>demographic_essay</th>\n",
       "    </tr>\n",
       "  </thead>\n",
       "  <tbody>\n",
       "    <tr>\n",
       "      <th>0</th>\n",
       "      <td>2</td>\n",
       "      <td>35</td>\n",
       "      <td>It breaks my heart to see people living in tho...</td>\n",
       "      <td>30</td>\n",
       "      <td>1.0</td>\n",
       "      <td>6.0</td>\n",
       "      <td>3.0</td>\n",
       "      <td>37.0</td>\n",
       "      <td>40000.0</td>\n",
       "      <td>1</td>\n",
       "      <td>...</td>\n",
       "      <td>1.0</td>\n",
       "      <td>6.5</td>\n",
       "      <td>6.0</td>\n",
       "      <td>4.857</td>\n",
       "      <td>2.0</td>\n",
       "      <td>3.429</td>\n",
       "      <td>5.0</td>\n",
       "      <td>I am a 37-year-old male of Black or African Am...</td>\n",
       "      <td>Canadian actor Richard Hong was found dead in ...</td>\n",
       "      <td>I am a 37-year-old male of Black or African Am...</td>\n",
       "    </tr>\n",
       "  </tbody>\n",
       "</table>\n",
       "<p>1 rows × 27 columns</p>\n",
       "</div>"
      ],
      "text/plain": [
       "   conversation_id  article_id  \\\n",
       "0                2          35   \n",
       "\n",
       "                                               essay  speaker_id  gender  \\\n",
       "0  It breaks my heart to see people living in tho...          30     1.0   \n",
       "\n",
       "   education  race   age   income  speaker_number  ...  \\\n",
       "0        6.0   3.0  37.0  40000.0               1  ...   \n",
       "\n",
       "  personality_extraversion  personality_agreeableness  personality_stability  \\\n",
       "0                      1.0                        6.5                    6.0   \n",
       "\n",
       "   iri_perspective_taking iri_personal_distress  iri_fantasy  \\\n",
       "0                   4.857                   2.0        3.429   \n",
       "\n",
       "   iri_empathatic_concern                                        demographic  \\\n",
       "0                     5.0  I am a 37-year-old male of Black or African Am...   \n",
       "\n",
       "                                             article  \\\n",
       "0  Canadian actor Richard Hong was found dead in ...   \n",
       "\n",
       "                                   demographic_essay  \n",
       "0  I am a 37-year-old male of Black or African Am...  \n",
       "\n",
       "[1 rows x 27 columns]"
      ]
     },
     "execution_count": 8,
     "metadata": {},
     "output_type": "execute_result"
    }
   ],
   "source": [
    "train.head(1)"
   ]
  },
  {
   "cell_type": "code",
   "execution_count": 6,
   "id": "482bbb69-1ce0-4d7d-a258-6f4d0f0f5659",
   "metadata": {},
   "outputs": [
    {
     "data": {
      "text/plain": [
       "(779, 27)"
      ]
     },
     "execution_count": 6,
     "metadata": {},
     "output_type": "execute_result"
    }
   ],
   "source": [
    "train.shape"
   ]
  },
  {
   "cell_type": "code",
   "execution_count": 26,
   "id": "c7beaeab-1fe5-4296-9a9c-c867ea210da7",
   "metadata": {},
   "outputs": [
    {
     "data": {
      "text/plain": [
       "array([30, 19, 17, 16, 49, 24, 43, 40, 13, 37, 20, 44, 45, 33, 48, 25, 56,\n",
       "       57, 23,  5, 27, 55,  2,  7, 53, 35, 32, 18, 14, 46, 51, 22, 36, 15,\n",
       "       41,  3, 50, 38,  8,  6, 34, 52,  9, 42,  0, 58, 10, 12, 29, 47, 11,\n",
       "        1,  4, 28, 39, 21, 54])"
      ]
     },
     "execution_count": 26,
     "metadata": {},
     "output_type": "execute_result"
    }
   ],
   "source": [
    "train['speaker_id'].unique()"
   ]
  },
  {
   "cell_type": "code",
   "execution_count": 20,
   "id": "77fd1325-a977-4519-9177-7b5183b9ed57",
   "metadata": {},
   "outputs": [],
   "source": [
    "train_speaker = train.groupby(['speaker_id'])"
   ]
  },
  {
   "cell_type": "code",
   "execution_count": 39,
   "id": "bf48ac61-bb5c-4d69-9aa9-9360e9a762bc",
   "metadata": {},
   "outputs": [
    {
     "data": {
      "text/plain": [
       "239    7.000000\n",
       "264    7.000000\n",
       "308    7.000000\n",
       "312    4.666667\n",
       "318    1.000000\n",
       "380    6.333333\n",
       "384    6.000000\n",
       "386    1.000000\n",
       "392    4.666667\n",
       "405    5.666667\n",
       "431    7.000000\n",
       "439    7.000000\n",
       "446    6.666667\n",
       "459    2.000000\n",
       "628    4.000000\n",
       "647    5.000000\n",
       "650    7.000000\n",
       "655    4.000000\n",
       "661    7.000000\n",
       "662    3.000000\n",
       "669    5.000000\n",
       "688    5.000000\n",
       "691    5.000000\n",
       "696    3.000000\n",
       "701    6.666667\n",
       "704    6.000000\n",
       "717    5.000000\n",
       "754    1.000000\n",
       "Name: empathy, dtype: float64"
      ]
     },
     "execution_count": 39,
     "metadata": {},
     "output_type": "execute_result"
    }
   ],
   "source": [
    "train_speaker.get_group(8)['empathy']"
   ]
  },
  {
   "cell_type": "code",
   "execution_count": 44,
   "id": "2f48fd18-2029-4f85-bb20-eb80ba2b2d25",
   "metadata": {},
   "outputs": [
    {
     "data": {
      "text/plain": [
       "<Axes: title={'center': 'empathy'}, xlabel='speaker_id'>"
      ]
     },
     "execution_count": 44,
     "metadata": {},
     "output_type": "execute_result"
    },
    {
     "data": {
      "image/png": "[encoded data removed]",
      "text/plain": [
       "<Figure size 1500x500 with 1 Axes>"
      ]
     },
     "metadata": {},
     "output_type": "display_data"
    }
   ],
   "source": [
    "train.boxplot(column=['empathy'], by='speaker_id', figsize=(15,5))"
   ]
  },
  {
   "cell_type": "code",
   "execution_count": 49,
   "id": "e453a24f-fb76-4351-a14a-2f3cb9dc25f7",
   "metadata": {},
   "outputs": [
    {
     "data": {
      "text/plain": [
       "<Axes: xlabel='empathy', ylabel='distress'>"
      ]
     },
     "execution_count": 49,
     "metadata": {},
     "output_type": "execute_result"
    },
    {
     "data": {
      "image/png": "[encoded data removed]",
      "text/plain": [
       "<Figure size 640x480 with 1 Axes>"
      ]
     },
     "metadata": {},
     "output_type": "display_data"
    }
   ],
   "source": [
    "train.plot.scatter(x='empathy', y='distress')"
   ]
  },
  {
   "cell_type": "markdown",
   "id": "2c76259f-4707-43da-b8f5-12d97c2f37c1",
   "metadata": {},
   "source": [
    "# Combine WS22 and WS23"
   ]
  },
  {
   "cell_type": "code",
   "execution_count": 9,
   "id": "3329bf14-66b5-4170-b98c-1917ca82c303",
   "metadata": {},
   "outputs": [],
   "source": [
    "train_WS22 = './data/WASSA22/messages_train_ready_for_WS.tsv'\n",
    "train_WS23 = './data/WASSA23/WASSA23_essay_level_with_labels_train.tsv'"
   ]
  },
  {
   "cell_type": "code",
   "execution_count": 10,
   "id": "462522dd-dc20-4fe3-aea9-f2dc4169378f",
   "metadata": {},
   "outputs": [],
   "source": [
    "train_WS22 = pd.read_csv(train_WS22, sep='\\t', header=0)\n",
    "train_WS23 = pd.read_csv(train_WS23, sep='\\t', na_values='unknown', header=0)"
   ]
  },
  {
   "cell_type": "code",
   "execution_count": 11,
   "id": "8b413ae4-fa32-4e75-a2a3-f57529d4f3c6",
   "metadata": {},
   "outputs": [],
   "source": [
    "train_WS22.dropna(inplace=True)\n",
    "train_WS23.dropna(inplace=True)"
   ]
  },
  {
   "cell_type": "code",
   "execution_count": 12,
   "id": "ffadfd5f-6094-4552-8579-815c8077adab",
   "metadata": {},
   "outputs": [
    {
     "data": {
      "text/plain": [
       "['message_id', 'response_id', 'essay', 'emotion']"
      ]
     },
     "execution_count": 12,
     "metadata": {},
     "output_type": "execute_result"
    }
   ],
   "source": [
    "train_WS22.select_dtypes(exclude='number').columns.tolist()"
   ]
  },
  {
   "cell_type": "code",
   "execution_count": 13,
   "id": "2fb6ddc9-37cd-4563-9ce2-b4389f0a99c7",
   "metadata": {},
   "outputs": [
    {
     "data": {
      "text/plain": [
       "['essay', 'split', 'emotion']"
      ]
     },
     "execution_count": 13,
     "metadata": {},
     "output_type": "execute_result"
    }
   ],
   "source": [
    "train_WS23.select_dtypes(exclude='number').columns.tolist()"
   ]
  },
  {
   "cell_type": "code",
   "execution_count": 19,
   "id": "b6d0e177-fa50-454a-9cf6-bed5d345683c",
   "metadata": {},
   "outputs": [],
   "source": [
    "column_WS22 = train_WS22.columns.tolist()"
   ]
  },
  {
   "cell_type": "code",
   "execution_count": 20,
   "id": "c973edd9-3112-43d3-996b-916415a7927d",
   "metadata": {},
   "outputs": [],
   "source": [
    "column_WS23 = train_WS23.columns.tolist()"
   ]
  },
  {
   "cell_type": "code",
   "execution_count": 21,
   "id": "1e92e3fc-1bb8-4415-9dc5-a59f86535950",
   "metadata": {},
   "outputs": [],
   "source": [
    "common_columns = [i for i in column_WS22 if i in column_WS23]"
   ]
  },
  {
   "cell_type": "code",
   "execution_count": 22,
   "id": "a02820db-87bd-433d-9e34-363b1ae05747",
   "metadata": {},
   "outputs": [
    {
     "data": {
      "text/plain": [
       "['article_id',\n",
       " 'empathy',\n",
       " 'distress',\n",
       " 'essay',\n",
       " 'emotion',\n",
       " 'gender',\n",
       " 'education',\n",
       " 'race',\n",
       " 'age',\n",
       " 'income',\n",
       " 'personality_conscientiousness',\n",
       " 'personality_openess',\n",
       " 'personality_extraversion',\n",
       " 'personality_agreeableness',\n",
       " 'personality_stability',\n",
       " 'iri_perspective_taking',\n",
       " 'iri_personal_distress',\n",
       " 'iri_fantasy',\n",
       " 'iri_empathatic_concern']"
      ]
     },
     "execution_count": 22,
     "metadata": {},
     "output_type": "execute_result"
    }
   ],
   "source": [
    "common_columns"
   ]
  },
  {
   "cell_type": "code",
   "execution_count": 23,
   "id": "fce9627b-a41a-4156-a273-f8ce390ede64",
   "metadata": {},
   "outputs": [],
   "source": [
    "train_WS22 = train_WS22[common_columns]\n",
    "train_WS23 = train_WS23[common_columns]"
   ]
  },
  {
   "cell_type": "code",
   "execution_count": 32,
   "id": "089b822e-2681-4e1a-93e4-67f86db0b8dc",
   "metadata": {},
   "outputs": [
    {
     "data": {
      "text/plain": [
       "(1860, 19)"
      ]
     },
     "execution_count": 32,
     "metadata": {},
     "output_type": "execute_result"
    }
   ],
   "source": [
    "train_WS22.shape"
   ]
  },
  {
   "cell_type": "code",
   "execution_count": 33,
   "id": "b065df7a-3be1-4e95-9655-eaa1fd3068bb",
   "metadata": {},
   "outputs": [
    {
     "data": {
      "text/plain": [
       "(779, 19)"
      ]
     },
     "execution_count": 33,
     "metadata": {},
     "output_type": "execute_result"
    }
   ],
   "source": [
    "train_WS23.shape"
   ]
  },
  {
   "cell_type": "code",
   "execution_count": 28,
   "id": "11d0ee12-6c96-4e62-b859-9fc2f841d6cd",
   "metadata": {},
   "outputs": [],
   "source": [
    "train_WS = pd.concat([train_WS22, train_WS23], ignore_index=True)"
   ]
  },
  {
   "cell_type": "code",
   "execution_count": 30,
   "id": "7f889469-dbe9-4d64-8b15-2f0b783284e7",
   "metadata": {},
   "outputs": [
    {
     "data": {
      "text/plain": [
       "(2639, 19)"
      ]
     },
     "execution_count": 30,
     "metadata": {},
     "output_type": "execute_result"
    }
   ],
   "source": [
    "train_WS.shape"
   ]
  },
  {
   "cell_type": "code",
   "execution_count": 36,
   "id": "845c8949-ff66-41fc-8134-7f6288f285f9",
   "metadata": {},
   "outputs": [],
   "source": [
    "train_WS.to_csv('./data/essay-train-ws22-ws23.tsv', sep='\\t')"
   ]
  },
  {
   "cell_type": "code",
   "execution_count": null,
   "id": "655c1836-ead2-4688-b0d5-7b4cdca2f1f4",
   "metadata": {},
   "outputs": [],
   "source": []
  }
 ],
 "metadata": {
  "kernelspec": {
   "display_name": "Python 3 (ipykernel)",
   "language": "python",
   "name": "python3"
  },
  "language_info": {
   "codemirror_mode": {
    "name": "ipython",
    "version": 3
   },
   "file_extension": ".py",
   "mimetype": "text/x-python",
   "name": "python",
   "nbconvert_exporter": "python",
   "pygments_lexer": "ipython3",
   "version": "3.11.0"
  }
 },
 "nbformat": 4,
 "nbformat_minor": 5
}
