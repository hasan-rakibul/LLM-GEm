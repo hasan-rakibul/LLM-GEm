{
 "cells": [
  {
   "cell_type": "code",
   "execution_count": null,
   "id": "94915d97-0f63-4805-b4a3-66e94b3c5d78",
   "metadata": {},
   "outputs": [],
   "source": [
    "import numpy as np\n",
    "import pandas as pd\n",
    "import os\n",
    "\n",
    "from sklearn.model_selection import KFold\n",
    "\n",
    "from utils.utils import plot, set_all_seeds\n",
    "from utils.kfold import KFoldDataModule, KFoldTrainer"
   ]
  },
  {
   "cell_type": "code",
   "execution_count": null,
   "id": "80e65bb5-f377-4664-8720-b18276ee77b4",
   "metadata": {},
   "outputs": [],
   "source": [
    "checkpoint = 'roberta-base'\n",
    "task = ['empathy', 'wrong_empathy']\n",
    "feature_to_tokenise=['demographic_essay']\n",
    "seed = 0\n",
    "anno_diff_range = np.arange(0, 6.5, 0.5)\n",
    "\n",
    "#################### v1 dataset ###################\n",
    "filename = './data/v1-90-percent.tsv'"
   ]
  },
  {
   "cell_type": "code",
   "execution_count": null,
   "id": "73c6a897-b22b-4438-9fd2-2b03d48e9dd0",
   "metadata": {
    "scrolled": true
   },
   "outputs": [],
   "source": [
    "kfold_results = pd.DataFrame()\n",
    "\n",
    "set_all_seeds(seed)\n",
    "\n",
    "data_module = KFoldDataModule(\n",
    "    task=task,\n",
    "    checkpoint=checkpoint,\n",
    "    batch_size=16,\n",
    "    feature_to_tokenise=feature_to_tokenise,\n",
    "    seed=seed\n",
    ")\n",
    "\n",
    "data = data_module.get_data(file=filename)\n",
    "\n",
    "kfold = KFold(n_splits=10, shuffle=True, random_state=seed)\n",
    "\n",
    "for fold, (train_idx, test_idx) in enumerate(kfold.split(data)):\n",
    "    print('Fold:', fold)\n",
    "    \n",
    "    train_loader = data_module.kfold_dataloader(\n",
    "        file=filename, idx=train_idx\n",
    "    )\n",
    "    dev_loader = data_module.kfold_dataloader(\n",
    "        file=filename, idx=test_idx\n",
    "    )\n",
    "\n",
    "    for anno_diff in anno_diff_range:\n",
    "        trainer = KFoldTrainer(\n",
    "            task=task,\n",
    "            checkpoint=checkpoint,\n",
    "            lr=1e-5,\n",
    "            n_epochs=10,\n",
    "            train_loader=train_loader,\n",
    "            dev_loader=dev_loader,\n",
    "            dev_label_gpt=filename,\n",
    "            dev_label_crowd=None,\n",
    "            device_id=0,\n",
    "            anno_diff=anno_diff,\n",
    "            mode=0 # -1: crowd, 1: gpt, 0: crowd-gpt\n",
    "        )\n",
    "    \n",
    "        val_pearson_r = trainer.fit(dev_alpha=False)\n",
    "    \n",
    "        # save as seed in index and anno_diff in columns\n",
    "        print(f'\\n----Pearson r: {val_pearson_r}----\\n')\n",
    "        kfold_results.loc[fold, anno_diff] = val_pearson_r\n",
    "\n",
    "    # # Saving in each fold to be cautious\n",
    "    kfold_results.to_csv('./v1-kfold_results_anno_diff.tsv', sep='\\t')"
   ]
  }
 ],
 "metadata": {
  "kernelspec": {
   "display_name": "Python 3 (ipykernel)",
   "language": "python",
   "name": "python3"
  },
  "language_info": {
   "codemirror_mode": {
    "name": "ipython",
    "version": 3
   },
   "file_extension": ".py",
   "mimetype": "text/x-python",
   "name": "python",
   "nbconvert_exporter": "python",
   "pygments_lexer": "ipython3",
   "version": "3.11.0"
  }
 },
 "nbformat": 4,
 "nbformat_minor": 5
}
