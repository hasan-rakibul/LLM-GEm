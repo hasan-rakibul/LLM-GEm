{
 "cells": [
  {
   "cell_type": "code",
   "execution_count": 1,
   "id": "505437cc-0081-4b38-b071-6b0ae6afa0a2",
   "metadata": {
    "tags": []
   },
   "outputs": [],
   "source": [
    "import pandas as pd\n",
    "import numpy as np\n",
    "import openai\n",
    "import time\n",
    "from tenacity import (\n",
    "    retry,\n",
    "    stop_after_attempt,\n",
    "    wait_random_exponential,\n",
    ")  # for exponential backoff"
   ]
  },
  {
   "cell_type": "code",
   "execution_count": 2,
   "id": "7b71ec24-c196-470e-86bb-92de46906802",
   "metadata": {},
   "outputs": [],
   "source": [
    "import os\n",
    "os.chdir(\"/g/data/jr19/rh2942/text-empathy/\")\n",
    "from utils.extra import num_tokens_from_messages\n",
    "from evaluation import pearsonr"
   ]
  },
  {
   "cell_type": "code",
   "execution_count": 3,
   "id": "1399a66e-6e55-4346-80a3-7bee764f64bb",
   "metadata": {},
   "outputs": [],
   "source": [
    "with open(\"./openai-api.txt\", 'r') as f:\n",
    "    openai.api_key = f.read()"
   ]
  },
  {
   "cell_type": "code",
   "execution_count": 4,
   "id": "d9cff512-dacb-49f8-9724-f9366a3f0235",
   "metadata": {},
   "outputs": [],
   "source": [
    "# https://platform.openai.com/docs/models/gpt-3-5\n",
    "model = 'gpt-3.5-turbo-0613'\n",
    "model_16k = 'gpt-3.5-turbo-16k-0613'"
   ]
  },
  {
   "cell_type": "code",
   "execution_count": 5,
   "id": "77c9f03d-9958-4579-ba9c-9579f28a3739",
   "metadata": {},
   "outputs": [],
   "source": [
    "@retry(wait=wait_random_exponential(min=5, max=60), stop=stop_after_attempt(6))\n",
    "def empath_gpt(history, model=model):\n",
    "    response = openai.ChatCompletion.create(\n",
    "        model=model,\n",
    "        messages=history,\n",
    "        temperature=0\n",
    "    )\n",
    "    return response['choices'][0]['message']['content']"
   ]
  },
  {
   "cell_type": "code",
   "execution_count": 6,
   "id": "213c1d10-7cb6-4e30-addd-af3367eeb72f",
   "metadata": {},
   "outputs": [],
   "source": [
    "train = pd.read_csv('./data/PREPROCESSED-WS23-train.tsv', sep='\\t', index_col=0)\n",
    "train = train.reset_index(drop=True)"
   ]
  },
  {
   "cell_type": "markdown",
   "id": "3f9d1f6c-ef96-408b-8e6e-fc7b5a835110",
   "metadata": {},
   "source": [
    "# Annotation by GPT"
   ]
  },
  {
   "cell_type": "code",
   "execution_count": 7,
   "id": "6d9a0f22-68d0-43cd-b739-de5afaa855c9",
   "metadata": {},
   "outputs": [],
   "source": [
    "essay_gpt = [\n",
    "    {\n",
    "        \"role\": \"system\",\n",
    "        \"content\": f\"You are an AI model that annotates written essays to provide an empathy score between 1.0 to 7.0 based on the definition of empathy.\\n The essays were written by human participants after reading a newspaper article involving harm to individuals, groups of people, nature, etc. The essay is provided to you within triple backticks. Your response must containe one and only empathy score.\"\n",
    "    }\n",
    "]\n",
    "seed_index = [0, 7, 23]\n",
    "\n",
    "for index in seed_index:\n",
    "    essay_gpt.append({\n",
    "        \"role\": \"user\",\n",
    "        \"content\": f\"Essay: ```{train.loc[index, 'demographic_essay']}```\"\n",
    "    })\n",
    "    essay_gpt.append({\n",
    "        \"role\": \"assistant\",\n",
    "        \"content\": f\"{train.loc[index, 'empathy']:.1f}\"\n",
    "    })"
   ]
  },
  {
   "cell_type": "code",
   "execution_count": 8,
   "id": "fa30dfc8-a6ab-41d4-be86-2f3e5354246c",
   "metadata": {},
   "outputs": [
    {
     "data": {
      "text/plain": [
       "[{'role': 'system',\n",
       "  'content': 'You are an AI model that annotates written essays to provide an empathy score between 1.0 to 7.0 based on the definition of empathy.\\n The essays were written by human participants after reading a newspaper article involving harm to individuals, groups of people, nature, etc. The essay is provided to you within tripple backticks. Your response must containe one and only empathy score.'},\n",
       " {'role': 'user',\n",
       "  'content': \"Essay: ```I am a 37-year-old male of the African American race. I have a four-year bachelor's degree and earn 40000 USD. It breaks my heart to see people living in those conditions. I hope that all the aid that was sent to the island makes it to the people who need it the most. I do not know what I would do it that was my family and I. I would hope that I would do my best, but I can see how depressing and hopeless you could feel having your whole life changed because of a storm and not knowing where your next meal is coming from.```\"},\n",
       " {'role': 'assistant', 'content': '6.8'},\n",
       " {'role': 'user',\n",
       "  'content': 'Essay: ```I am a 38-year-old female of the White race. I possess a postgraduate or professional degree and earn 42000 USD. It sounds like these boys had a really rough life.  I do think we all have personal responsibility for our choices at the end of the day though.  Even though you might have it rough, ultimately it is up to you to decide to break the law or use drugs or not.  So they had free will too and could have exercised that.  Regardless, it is still sad that they went through a rough childhood.  Nobody should have to endure that and kids are the saddest victims.```'},\n",
       " {'role': 'assistant', 'content': '2.0'},\n",
       " {'role': 'user',\n",
       "  'content': 'Essay: ```I am a 29-year-old male of the White race. I have completed some college but do not have a degree. I earn 39,000 USD. I just read an article about how animals in Venezuela are starving to death because of the turmoil that is happening in that country. I feel like there should be some kind of action plan in place for animals in countries that are experiencing hardship so that they can be transported to other places in times of crisis. The thought of innocent creatures starving to death in cages really turns my stomach.```'},\n",
       " {'role': 'assistant', 'content': '5.7'}]"
      ]
     },
     "execution_count": 8,
     "metadata": {},
     "output_type": "execute_result"
    }
   ],
   "source": [
    "essay_gpt"
   ]
  },
  {
   "cell_type": "markdown",
   "id": "d633572d-9dcf-4f72-8e7f-97a1fb0201ed",
   "metadata": {},
   "source": [
    "## Train"
   ]
  },
  {
   "cell_type": "code",
   "execution_count": 47,
   "id": "50120e4a-02f7-4c76-84d1-4e5103d3604c",
   "metadata": {},
   "outputs": [],
   "source": [
    "gpt_anno = train.copy()\n",
    "gpt_anno.loc[:, 'empathy'] = np.nan # new annotations will be placed here"
   ]
  },
  {
   "cell_type": "code",
   "execution_count": 48,
   "id": "59cf5399-90a8-441f-889b-10e244cfe124",
   "metadata": {},
   "outputs": [],
   "source": [
    "resume_from = 0"
   ]
  },
  {
   "cell_type": "code",
   "execution_count": null,
   "id": "d718a91b-a63e-4ae8-b8f0-11716b1a0855",
   "metadata": {
    "scrolled": true
   },
   "outputs": [],
   "source": [
    "for row in train.itertuples():\n",
    "    # if it was already annotated as the starting point\n",
    "    if row.Index in seed_index:\n",
    "        gpt_anno.loc[row.Index, 'empathy'] = train.loc[row.Index, 'empathy']\n",
    "        continue\n",
    "    \n",
    "    if row.Index < resume_from:\n",
    "        continue\n",
    "    \n",
    "    seed = essay_gpt.copy()\n",
    "    print(f\"Working on row index: {row.Index}\")\n",
    "    # add a new user essay to predict\n",
    "    seed.append({\n",
    "        \"role\": \"user\",\n",
    "        \"content\": f\"Essay: ```{train.loc[row.Index, 'demographic_essay']}```\"\n",
    "    })\n",
    "\n",
    "    # Generate a response from the model\n",
    "    try:\n",
    "        response = empath_gpt(history=seed, model=model)\n",
    "    except Exception as e:\n",
    "        print(e)\n",
    "        print(\"\\nFailed but we're trying again in 60 seconds with a different model...\\n\")\n",
    "        time.sleep(60)\n",
    "        response = empath_gpt(history=seed, model=model_16k)       \n",
    "\n",
    "    gpt_anno.loc[row.Index, 'empathy'] = float(response.strip())\n",
    "\n",
    "    # save \n",
    "    if row.Index % 10 == 0:\n",
    "        gpt_anno.to_csv('./data/WS23-train-gpt.tsv', sep='\\t', index=None)\n",
    "        \n",
    "gpt_anno.to_csv('./data/WS23-train-gpt.tsv', sep='\\t', index=None)"
   ]
  },
  {
   "cell_type": "code",
   "execution_count": null,
   "id": "5fd5af66-daa0-4be0-b958-b4b9bfdf4208",
   "metadata": {},
   "outputs": [],
   "source": [
    "'''\n",
    "essay_gpt = [\n",
    "    {\n",
    "        \"role\": \"system\",\n",
    "        \"content\": f\"You are an AI model that annotates written essays to provide an empathy score within 1.0 to 7.0.\\n The essays were written by human participants after reading a newspaper article involving harm to individuals, groups of people, nature, etc. The newspaper article and the essay are delimited by triple backticks.\"\n",
    "    }\n",
    "]\n",
    "essay_gpt.append({\n",
    "    \"role\": \"user\",\n",
    "    \"content\": f\"Newspaper article that participants read: ```{train.loc[0, 'article']}```\\n\\n Provide an empathy score to the following essay that the participant wrote: ```{train.loc[0, 'demographic_essay']}```\"\n",
    "})\n",
    "essay_gpt.append({\n",
    "    \"role\": \"assistant\",\n",
    "    \"content\": f\"{train.loc[0, 'empathy']:.1f}\"\n",
    "})\n",
    "'''"
   ]
  },
  {
   "cell_type": "markdown",
   "id": "78ab9f4e-6371-48a5-9e42-d6251deb065a",
   "metadata": {},
   "source": [
    "## Other sets"
   ]
  },
  {
   "cell_type": "code",
   "execution_count": 20,
   "id": "b272c00a-0bc8-491b-8aef-a5b14188c399",
   "metadata": {},
   "outputs": [],
   "source": [
    "# data = pd.read_csv('./data/PREPROCESSED-WS23-dev.tsv', sep='\\t', index_col=0)\n",
    "# data = pd.read_csv('./data/PREPROCESSED-WS22-train.tsv', sep='\\t', index_col=0)\n",
    "# save_as = './data/WS22-train-gpt.tsv'\n",
    "\n",
    "data = pd.read_csv('./data/PREPROCESSED-WS22-dev.tsv', sep='\\t', index_col=0)\n",
    "save_as = './data/WS22-dev-gpt.tsv'\n",
    "\n",
    "data = data.reset_index(drop=True)"
   ]
  },
  {
   "cell_type": "code",
   "execution_count": 21,
   "id": "1967b6d7-069a-489e-94ab-216485c670d5",
   "metadata": {},
   "outputs": [],
   "source": [
    "gpt_anno = data.copy()\n",
    "gpt_anno.loc[:, 'empathy'] = np.nan # new annotations will be placed here"
   ]
  },
  {
   "cell_type": "code",
   "execution_count": 22,
   "id": "b4556865-0acd-4a0c-a40d-042d855c4781",
   "metadata": {},
   "outputs": [],
   "source": [
    "resume_from = 0"
   ]
  },
  {
   "cell_type": "code",
   "execution_count": null,
   "id": "6ee3f4a9-d2df-4ee7-aa04-67b6f23cdd40",
   "metadata": {
    "scrolled": true
   },
   "outputs": [],
   "source": [
    "for row in data.itertuples():\n",
    "    \n",
    "    if row.Index < resume_from:\n",
    "        continue\n",
    "    \n",
    "    seed = essay_gpt.copy()\n",
    "    print(f\"Working on row index: {row.Index}\")\n",
    "    # add a new user essay to predict\n",
    "    seed.append({\n",
    "        \"role\": \"user\",\n",
    "        \"content\": f\"Essay: ```{data.loc[row.Index, 'demographic_essay']}```\"\n",
    "    })\n",
    "\n",
    "    # Generate a response from the model\n",
    "    try:\n",
    "        response = empath_gpt(history=seed, model=model)\n",
    "    except Exception as e:\n",
    "        print(e)\n",
    "        print(\"\\nFailed but we're trying again in 60 seconds with a different model...\\n\")\n",
    "        time.sleep(60)\n",
    "        response = empath_gpt(history=seed, model=model_16k)       \n",
    "\n",
    "    gpt_anno.loc[row.Index, 'empathy'] = float(response.strip())\n",
    "\n",
    "    # save \n",
    "    if row.Index % 10 == 0:\n",
    "        gpt_anno.to_csv(save_as, sep='\\t', index=None)\n",
    "        \n",
    "gpt_anno.to_csv(save_as, sep='\\t', index=None)"
   ]
  },
  {
   "cell_type": "code",
   "execution_count": 26,
   "id": "76848720-6ef4-45e5-865c-f0f4c9eb67c2",
   "metadata": {},
   "outputs": [
    {
     "data": {
      "text/plain": [
       "0.0009379014989293362"
      ]
     },
     "execution_count": 26,
     "metadata": {},
     "output_type": "execute_result"
    }
   ],
   "source": [
    "cost_per_anno = ((1.86-1.67)+(3.86-1.86))/(208+1857+270)\n",
    "cost_per_anno"
   ]
  },
  {
   "cell_type": "markdown",
   "id": "6c6a3b6d-4894-4951-8297-dd1d91790296",
   "metadata": {},
   "source": [
    "## Unable to provide scores\n",
    "WS23-train 22: \"I'm sorry, but I'm unable to provide an empathy score for this essay as it contains offensive and insensitive language.\"\n",
    "\n",
    "WS22-train-1272, 1387: 'I apologize, but the essay you provided seems to be a mix of unrelated sentences and does not provide any coherent thoughts or feelings regarding the article. Could you please provide a new essay that clearly expresses your thoughts and feelings about the article?'"
   ]
  },
  {
   "cell_type": "code",
   "execution_count": 13,
   "id": "def5a3cf-4fb4-4c5d-b11a-97a0f0bbe2de",
   "metadata": {},
   "outputs": [
    {
     "data": {
      "text/plain": [
       "'I am a 32-year-old male of Black or African American race. I have completed some college but no degree, and I earn 50000 USD. The driven into exile last year, and he is now based in the southern port city of Aden. Saudi Arabia’s Sunni Muslim monarchy entered the war in large part because of concerns of Iranian influence in the region. That Shiite theocracy is widely perceived to be backing the Shiite  rebels. The airstrikes in  come on the same day i rejected a new U.N. peace proposal that would have sidelined him and given the prominent roles in a new government. More than 10,000 people have died in the conflict, many of them civilians who were killed by Saudi-led coalition bombings, according to the United Nations. that you have read the first article, please write a message to a friend or friends about your feelings and thoughts regarding the article you just read. This could be a private message to a friendS.'"
      ]
     },
     "execution_count": 13,
     "metadata": {},
     "output_type": "execute_result"
    }
   ],
   "source": [
    "# WS22\n",
    "data.loc[1272, 'demographic_essay']"
   ]
  },
  {
   "cell_type": "code",
   "execution_count": 16,
   "id": "c3e55267-269c-4162-85ac-bb0962a17f96",
   "metadata": {},
   "outputs": [
    {
     "data": {
      "text/plain": [
       "\"I am a 30-year-old male of the Black or African American race. I have a four-year bachelor's degree and my income is 100 USD. very bad act abut killing that happened Now that you have read the first article, please write a message to a friend or friends about your feelings and thoughts regarding the article you just read. This could be a private message to a friend or something you would post on social media. Please do not identify your intended friend(s) - just write your thoughts about the article as if you were communicating with them Now that you have read the first article, please write a message to a friend or friends about your feelings and thoughts regarding the article you just read. This could be a private message to a friend or something you would post on social media. Please do not identify your intended friend(s) - just write your thoughts about the article as if you were communicating with them ....\""
      ]
     },
     "execution_count": 16,
     "metadata": {},
     "output_type": "execute_result"
    }
   ],
   "source": [
    "# WS22\n",
    "data.loc[1387, 'demographic_essay']"
   ]
  },
  {
   "cell_type": "markdown",
   "id": "19027ce0-ce7f-44bc-811d-e73e65dce773",
   "metadata": {},
   "source": [
    "# Prediction by GPT"
   ]
  },
  {
   "cell_type": "code",
   "execution_count": 18,
   "id": "f3a87ab2-f47a-4bd6-b336-43dd812a847c",
   "metadata": {},
   "outputs": [],
   "source": [
    "training_gpt = [\n",
    "    {\"role\": \"system\", \"content\": \"You are an AI model that evaluates written texts to provide an empathy score within 1.0 to 7.0.\"}\n",
    "]\n",
    "for row in train.itertuples():\n",
    "    training_gpt.append({\"role\": \"user\", \"content\": f\"{train.loc[row.Index, 'demographic_essay']}\"})\n",
    "    training_gpt.append({\"role\": \"assistant\", \"content\": f\"{train.loc[row.Index, 'empathy']}\"})\n",
    "\n",
    "    # breaking due to token limit\n",
    "    if row.Index == 120:\n",
    "        break "
   ]
  },
  {
   "cell_type": "code",
   "execution_count": 19,
   "id": "6a46fc26-5950-44fa-8da3-cc822aac2bfe",
   "metadata": {},
   "outputs": [
    {
     "name": "stdout",
     "output_type": "stream",
     "text": [
      "Warning: gpt-3.5-turbo may update over time. Returning num tokens assuming gpt-3.5-turbo-0613.\n"
     ]
    },
    {
     "data": {
      "text/plain": [
       "15365"
      ]
     },
     "execution_count": 19,
     "metadata": {},
     "output_type": "execute_result"
    }
   ],
   "source": [
    "num_tokens_from_messages(training_gpt, model=model)"
   ]
  },
  {
   "cell_type": "code",
   "execution_count": 20,
   "id": "77defe81-8e5c-4913-aa25-d40957d19b67",
   "metadata": {},
   "outputs": [],
   "source": [
    "data = pd.read_csv('./data/PREPROCESSED-WS23-dev.tsv', sep='\\t', index_col=0)\n",
    "dev_label = pd.read_csv('./data/WASSA23/goldstandard_dev.tsv', sep='\\t')"
   ]
  },
  {
   "cell_type": "code",
   "execution_count": null,
   "id": "932ef206-6f04-437b-949f-1b13f4247733",
   "metadata": {},
   "outputs": [],
   "source": [
    "pred = []\n",
    "for row in data.itertuples():\n",
    "    temp = training_gpt\n",
    "    print(f\"Working on row index: {row.Index}\")\n",
    "    # add a new user essay to predict\n",
    "    temp.append({\"role\": \"user\", \"content\": f\"{data.loc[row.Index, 'demographic_essay']}\"})\n",
    "    # Generate a response from the model\n",
    "    response = empath_gpt(history=temp)\n",
    "    temp=[]\n",
    "\n",
    "    # Extract assistant's reply\n",
    "    pred.append(response['choices'][0]['message']['content'])"
   ]
  },
  {
   "cell_type": "code",
   "execution_count": 23,
   "id": "40b52417-5174-418c-82e1-a8bc0c08ed77",
   "metadata": {},
   "outputs": [
    {
     "data": {
      "text/plain": [
       "['6.0', '6.0', '4.0', '2.5', '6.0', '6.0', '5.0', '6.0', '6.833333333333333']"
      ]
     },
     "execution_count": 23,
     "metadata": {},
     "output_type": "execute_result"
    }
   ],
   "source": [
    "pred"
   ]
  },
  {
   "cell_type": "code",
   "execution_count": 24,
   "id": "5a540653-e6dd-40a7-a629-03733791c4db",
   "metadata": {},
   "outputs": [
    {
     "data": {
      "text/plain": [
       "[6.0, 6.0, 4.0, 2.5, 6.0, 6.0, 5.0, 6.0, 6.833333333333333]"
      ]
     },
     "execution_count": 24,
     "metadata": {},
     "output_type": "execute_result"
    }
   ],
   "source": [
    "pred = [float(s.strip()) for s in pred]\n",
    "pred"
   ]
  },
  {
   "cell_type": "code",
   "execution_count": 25,
   "id": "40c8014a-1eed-4fd6-8fdb-51514f6f1a89",
   "metadata": {},
   "outputs": [
    {
     "data": {
      "text/plain": [
       "0.158"
      ]
     },
     "execution_count": 25,
     "metadata": {},
     "output_type": "execute_result"
    }
   ],
   "source": [
    "pearsonr(pred, dev_label.iloc[:, 0].tolist()[:len(pred)])"
   ]
  },
  {
   "cell_type": "markdown",
   "id": "3c3b4485-a6cf-4f56-a8de-17fd0a68248a",
   "metadata": {},
   "source": [
    "# Extra"
   ]
  },
  {
   "cell_type": "code",
   "execution_count": 5,
   "id": "dbff605f-8244-4287-a5c4-0b17235ea1b6",
   "metadata": {},
   "outputs": [],
   "source": [
    "data = pd.read_csv('./data/PREPROCESSED-WS22-WS23-train.tsv', sep='\\t')"
   ]
  },
  {
   "cell_type": "code",
   "execution_count": 7,
   "id": "adc2bd6b-738a-4d24-9041-752d796ae42e",
   "metadata": {},
   "outputs": [
    {
     "data": {
      "text/plain": [
       "'I am a 32-year-old male of Black or African American race. I have completed some college but no degree, and I earn 50000 USD. The driven into exile last year, and he is now based in the southern port city of Aden. Saudi Arabia’s Sunni Muslim monarchy entered the war in large part because of concerns of Iranian influence in the region. That Shiite theocracy is widely perceived to be backing the Shiite  rebels. The airstrikes in  come on the same day i rejected a new U.N. peace proposal that would have sidelined him and given the prominent roles in a new government. More than 10,000 people have died in the conflict, many of them civilians who were killed by Saudi-led coalition bombings, according to the United Nations. that you have read the first article, please write a message to a friend or friends about your feelings and thoughts regarding the article you just read. This could be a private message to a friendS.'"
      ]
     },
     "execution_count": 7,
     "metadata": {},
     "output_type": "execute_result"
    }
   ],
   "source": [
    "data.loc[1272, 'demographic_essay']"
   ]
  },
  {
   "cell_type": "code",
   "execution_count": 8,
   "id": "38fc82e7-34af-4863-8fc5-8da02d3f1751",
   "metadata": {},
   "outputs": [
    {
     "data": {
      "text/plain": [
       "\"I am a 30-year-old male of the Black or African American race. I have a four-year bachelor's degree and my income is 100 USD. very bad act abut killing that happened Now that you have read the first article, please write a message to a friend or friends about your feelings and thoughts regarding the article you just read. This could be a private message to a friend or something you would post on social media. Please do not identify your intended friend(s) - just write your thoughts about the article as if you were communicating with them Now that you have read the first article, please write a message to a friend or friends about your feelings and thoughts regarding the article you just read. This could be a private message to a friend or something you would post on social media. Please do not identify your intended friend(s) - just write your thoughts about the article as if you were communicating with them ....\""
      ]
     },
     "execution_count": 8,
     "metadata": {},
     "output_type": "execute_result"
    }
   ],
   "source": [
    "data.loc[1387, 'demographic_essay']"
   ]
  },
  {
   "cell_type": "code",
   "execution_count": 10,
   "id": "2fb7f3bc-bb95-497b-a967-3096d1d91ab7",
   "metadata": {},
   "outputs": [],
   "source": [
    "data = data.drop([1272, 1387])"
   ]
  },
  {
   "cell_type": "code",
   "execution_count": 11,
   "id": "ec65d804-adf8-4c7b-949e-e098b544be55",
   "metadata": {},
   "outputs": [
    {
     "data": {
      "text/plain": [
       "(2634, 23)"
      ]
     },
     "execution_count": 11,
     "metadata": {},
     "output_type": "execute_result"
    }
   ],
   "source": [
    "data.shape"
   ]
  },
  {
   "cell_type": "code",
   "execution_count": 13,
   "id": "366742f8-e440-4456-a563-d45ce1fb40d4",
   "metadata": {},
   "outputs": [],
   "source": [
    "data.to_csv('./data/test.tsv', sep='\\t', index=False)"
   ]
  }
 ],
 "metadata": {
  "kernelspec": {
   "display_name": "Python 3 (ipykernel)",
   "language": "python",
   "name": "python3"
  },
  "language_info": {
   "codemirror_mode": {
    "name": "ipython",
    "version": 3
   },
   "file_extension": ".py",
   "mimetype": "text/x-python",
   "name": "python",
   "nbconvert_exporter": "python",
   "pygments_lexer": "ipython3",
   "version": "3.11.0"
  }
 },
 "nbformat": 4,
 "nbformat_minor": 5
}
