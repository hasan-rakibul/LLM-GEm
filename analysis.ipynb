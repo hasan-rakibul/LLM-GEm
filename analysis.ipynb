{
 "cells": [
  {
   "cell_type": "code",
   "execution_count": 2,
   "id": "397d9e18-3d9f-47e9-86dd-962d38cc3ed7",
   "metadata": {},
   "outputs": [],
   "source": [
    "import pandas as pd\n",
    "import numpy as np"
   ]
  },
  {
   "cell_type": "code",
   "execution_count": 3,
   "id": "cfa389ed-c498-4155-abdb-229e1962a1cf",
   "metadata": {},
   "outputs": [],
   "source": [
    "import matplotlib.pyplot as plt\n",
    "import scienceplots\n",
    "plt.style.use(['science', 'tableau-colorblind10'])"
   ]
  },
  {
   "cell_type": "code",
   "execution_count": 4,
   "id": "ab757161-73ca-4810-8f95-75e1a02c1fd9",
   "metadata": {},
   "outputs": [],
   "source": [
    "import os\n",
    "os.chdir(\"/g/data/jr19/rh2942/text-empathy/\")"
   ]
  },
  {
   "cell_type": "markdown",
   "id": "c32effaf-823f-479b-8fb9-2a033436cd35",
   "metadata": {},
   "source": [
    "# GPT annotaion consistency"
   ]
  },
  {
   "cell_type": "code",
   "execution_count": 4,
   "id": "5841aa64-53bb-4aa2-8edf-152a7a767006",
   "metadata": {},
   "outputs": [],
   "source": [
    "prev = pd.read_csv('./data/different-WS23-train-gpt.tsv', sep='\\t')"
   ]
  },
  {
   "cell_type": "code",
   "execution_count": 9,
   "id": "7889f94f-b370-4a5b-840b-52157243f4ca",
   "metadata": {},
   "outputs": [],
   "source": [
    "prev_anno = prev['empathy'].dropna().tolist()"
   ]
  },
  {
   "cell_type": "code",
   "execution_count": 10,
   "id": "4229ed35-abd6-43d3-b6b4-2e9b53917310",
   "metadata": {},
   "outputs": [
    {
     "data": {
      "text/plain": [
       "21"
      ]
     },
     "execution_count": 10,
     "metadata": {},
     "output_type": "execute_result"
    }
   ],
   "source": [
    "len(prev_anno)"
   ]
  },
  {
   "cell_type": "code",
   "execution_count": 11,
   "id": "9d308661-5ac9-49ef-ac02-1e0bcb6d35e9",
   "metadata": {},
   "outputs": [],
   "source": [
    "latest = pd.read_csv('./data/WS23-train-gpt.tsv', sep='\\t')"
   ]
  },
  {
   "cell_type": "code",
   "execution_count": 12,
   "id": "bf65ba6b-659e-4795-9435-eaff2ed56d25",
   "metadata": {},
   "outputs": [],
   "source": [
    "latest_anno = latest['empathy'].dropna().tolist()"
   ]
  },
  {
   "cell_type": "code",
   "execution_count": 13,
   "id": "44a7a501-d5f2-471b-8627-e3c6100c94c4",
   "metadata": {},
   "outputs": [
    {
     "data": {
      "text/plain": [
       "779"
      ]
     },
     "execution_count": 13,
     "metadata": {},
     "output_type": "execute_result"
    }
   ],
   "source": [
    "len(latest_anno)"
   ]
  },
  {
   "cell_type": "code",
   "execution_count": 14,
   "id": "e9efb28b-5137-4a5a-84e0-57624127390d",
   "metadata": {},
   "outputs": [],
   "source": [
    "latest_anno = latest_anno[:len(prev_anno)]"
   ]
  },
  {
   "cell_type": "code",
   "execution_count": 15,
   "id": "3d590918-6b85-4226-a3c5-30866de327d3",
   "metadata": {},
   "outputs": [
    {
     "data": {
      "text/plain": [
       "21"
      ]
     },
     "execution_count": 15,
     "metadata": {},
     "output_type": "execute_result"
    }
   ],
   "source": [
    "len(latest_anno)"
   ]
  },
  {
   "cell_type": "code",
   "execution_count": 19,
   "id": "548d0316-1295-4e7a-b46b-3269b83dd22d",
   "metadata": {},
   "outputs": [
    {
     "data": {
      "text/plain": [
       "array([ 0. ,  0. ,  0. , -0.3,  0.3,  0.9,  0. ,  0. ,  0. , -0.3,  1. ,\n",
       "       -1.7, -0.3,  0. , -0.3,  0. , -0.3, -0.3,  0. , -0.3, -0.3])"
      ]
     },
     "execution_count": 19,
     "metadata": {},
     "output_type": "execute_result"
    }
   ],
   "source": [
    "np.array(prev_anno) - np.array(latest_anno)"
   ]
  },
  {
   "cell_type": "markdown",
   "id": "55d92de6-1277-42c6-9fe1-03ce1b79698e",
   "metadata": {},
   "source": [
    "# Crowd vs GPT"
   ]
  },
  {
   "cell_type": "code",
   "execution_count": 12,
   "id": "9e816d40-2e71-44d7-a7e1-f100ea3288df",
   "metadata": {},
   "outputs": [],
   "source": [
    "data = pd.read_csv('./data/WS22-WS23-sep-from-aug-train-gpt.tsv', sep='\\t')"
   ]
  },
  {
   "cell_type": "code",
   "execution_count": 13,
   "id": "eae86169-c706-4097-8dda-e769956980cc",
   "metadata": {},
   "outputs": [],
   "source": [
    "diff = data['empathy'] - data['wrong_empathy']"
   ]
  },
  {
   "cell_type": "code",
   "execution_count": 55,
   "id": "5c3a9caa-2bff-4978-9c86-7f9c1413e054",
   "metadata": {},
   "outputs": [
    {
     "data": {
      "image/png": "[encoded data removed]",
      "text/plain": [
       "<Figure size 500x300 with 1 Axes>"
      ]
     },
     "metadata": {},
     "output_type": "display_data"
    }
   ],
   "source": [
    "bins = np.arange(-6, 6.5, 0.5)\n",
    "_, ax = plt.subplots(figsize=(5,3))\n",
    "ax.hist(diff, bins=bins, edgecolor='black')\n",
    "ax.set_xlabel('Annotation Difference (GPT -- Crowdsource)')\n",
    "ax.set_ylabel('Number of Essays')\n",
    "_ = ax.set_xticks(np.arange(-6, 6.5, 1))\n",
    "plt.savefig(fname='./tmp/annotation-difference.pdf', format='pdf', bbox_inches='tight')"
   ]
  },
  {
   "cell_type": "markdown",
   "id": "f1b391d6-e6dd-42bf-8c94-6837976fa9d0",
   "metadata": {},
   "source": [
    "# Annotation difference"
   ]
  },
  {
   "cell_type": "markdown",
   "id": "5efeb068-cf18-421b-9386-40e509e29d4f",
   "metadata": {},
   "source": [
    "## WS23"
   ]
  },
  {
   "cell_type": "code",
   "execution_count": 85,
   "id": "2f7fe429-4a39-4c15-8483-000b05e3b0ea",
   "metadata": {},
   "outputs": [],
   "source": [
    "ws23 = pd.read_csv('./ws23-val_results_diff_seed_anno_diff.tsv', sep='\\t', index_col=0)"
   ]
  },
  {
   "cell_type": "code",
   "execution_count": 86,
   "id": "35b1bd97-83fd-42b9-a6e7-4156a7a59949",
   "metadata": {},
   "outputs": [
    {
     "data": {
      "text/html": [
       "<div>\n",
       "<style scoped>\n",
       "    .dataframe tbody tr th:only-of-type {\n",
       "        vertical-align: middle;\n",
       "    }\n",
       "\n",
       "    .dataframe tbody tr th {\n",
       "        vertical-align: top;\n",
       "    }\n",
       "\n",
       "    .dataframe thead th {\n",
       "        text-align: right;\n",
       "    }\n",
       "</style>\n",
       "<table border=\"1\" class=\"dataframe\">\n",
       "  <thead>\n",
       "    <tr style=\"text-align: right;\">\n",
       "      <th></th>\n",
       "      <th>0.0</th>\n",
       "      <th>0.5</th>\n",
       "      <th>1.0</th>\n",
       "      <th>1.5</th>\n",
       "      <th>2.0</th>\n",
       "      <th>2.5</th>\n",
       "      <th>3.0</th>\n",
       "      <th>3.5</th>\n",
       "      <th>4.0</th>\n",
       "      <th>4.5</th>\n",
       "      <th>5.0</th>\n",
       "      <th>5.5</th>\n",
       "      <th>6.0</th>\n",
       "    </tr>\n",
       "  </thead>\n",
       "  <tbody>\n",
       "    <tr>\n",
       "      <th>0</th>\n",
       "      <td>0.792</td>\n",
       "      <td>0.790</td>\n",
       "      <td>0.770</td>\n",
       "      <td>0.707</td>\n",
       "      <td>0.730</td>\n",
       "      <td>0.662</td>\n",
       "      <td>0.524</td>\n",
       "      <td>0.546</td>\n",
       "      <td>0.478</td>\n",
       "      <td>0.486</td>\n",
       "      <td>0.394</td>\n",
       "      <td>0.571</td>\n",
       "      <td>0.514</td>\n",
       "    </tr>\n",
       "    <tr>\n",
       "      <th>42</th>\n",
       "      <td>0.785</td>\n",
       "      <td>0.782</td>\n",
       "      <td>0.769</td>\n",
       "      <td>0.735</td>\n",
       "      <td>0.732</td>\n",
       "      <td>0.658</td>\n",
       "      <td>0.538</td>\n",
       "      <td>0.505</td>\n",
       "      <td>0.477</td>\n",
       "      <td>0.469</td>\n",
       "      <td>0.409</td>\n",
       "      <td>0.634</td>\n",
       "      <td>0.628</td>\n",
       "    </tr>\n",
       "    <tr>\n",
       "      <th>100</th>\n",
       "      <td>0.778</td>\n",
       "      <td>0.807</td>\n",
       "      <td>0.768</td>\n",
       "      <td>0.731</td>\n",
       "      <td>0.732</td>\n",
       "      <td>0.659</td>\n",
       "      <td>0.544</td>\n",
       "      <td>0.494</td>\n",
       "      <td>0.485</td>\n",
       "      <td>0.461</td>\n",
       "      <td>0.433</td>\n",
       "      <td>0.616</td>\n",
       "      <td>0.638</td>\n",
       "    </tr>\n",
       "    <tr>\n",
       "      <th>999</th>\n",
       "      <td>0.803</td>\n",
       "      <td>0.811</td>\n",
       "      <td>0.737</td>\n",
       "      <td>0.723</td>\n",
       "      <td>0.708</td>\n",
       "      <td>0.668</td>\n",
       "      <td>0.532</td>\n",
       "      <td>0.474</td>\n",
       "      <td>0.555</td>\n",
       "      <td>0.444</td>\n",
       "      <td>0.382</td>\n",
       "      <td>0.640</td>\n",
       "      <td>0.558</td>\n",
       "    </tr>\n",
       "    <tr>\n",
       "      <th>1234</th>\n",
       "      <td>0.796</td>\n",
       "      <td>0.811</td>\n",
       "      <td>0.750</td>\n",
       "      <td>0.715</td>\n",
       "      <td>0.702</td>\n",
       "      <td>0.658</td>\n",
       "      <td>0.550</td>\n",
       "      <td>0.488</td>\n",
       "      <td>0.517</td>\n",
       "      <td>0.501</td>\n",
       "      <td>0.449</td>\n",
       "      <td>0.537</td>\n",
       "      <td>0.641</td>\n",
       "    </tr>\n",
       "  </tbody>\n",
       "</table>\n",
       "</div>"
      ],
      "text/plain": [
       "        0.0    0.5    1.0    1.5    2.0    2.5    3.0    3.5    4.0    4.5  \\\n",
       "0     0.792  0.790  0.770  0.707  0.730  0.662  0.524  0.546  0.478  0.486   \n",
       "42    0.785  0.782  0.769  0.735  0.732  0.658  0.538  0.505  0.477  0.469   \n",
       "100   0.778  0.807  0.768  0.731  0.732  0.659  0.544  0.494  0.485  0.461   \n",
       "999   0.803  0.811  0.737  0.723  0.708  0.668  0.532  0.474  0.555  0.444   \n",
       "1234  0.796  0.811  0.750  0.715  0.702  0.658  0.550  0.488  0.517  0.501   \n",
       "\n",
       "        5.0    5.5    6.0  \n",
       "0     0.394  0.571  0.514  \n",
       "42    0.409  0.634  0.628  \n",
       "100   0.433  0.616  0.638  \n",
       "999   0.382  0.640  0.558  \n",
       "1234  0.449  0.537  0.641  "
      ]
     },
     "execution_count": 86,
     "metadata": {},
     "output_type": "execute_result"
    }
   ],
   "source": [
    "ws23"
   ]
  },
  {
   "cell_type": "code",
   "execution_count": 7,
   "id": "d97615fc-2051-4687-bcec-e9012ad7f5f2",
   "metadata": {},
   "outputs": [
    {
     "data": {
      "text/plain": [
       "0.514"
      ]
     },
     "execution_count": 7,
     "metadata": {},
     "output_type": "execute_result"
    }
   ],
   "source": [
    "ws23['6.0'].min()"
   ]
  },
  {
   "cell_type": "code",
   "execution_count": 9,
   "id": "66a1775d-1e75-4968-adcf-9fd506e58bc7",
   "metadata": {},
   "outputs": [
    {
     "data": {
      "text/plain": [
       "0.811"
      ]
     },
     "execution_count": 9,
     "metadata": {},
     "output_type": "execute_result"
    }
   ],
   "source": [
    "ws23.max().max()"
   ]
  },
  {
   "cell_type": "code",
   "execution_count": 88,
   "id": "e89510a3-0eea-4dc1-9998-1ea82ca4a927",
   "metadata": {},
   "outputs": [
    {
     "data": {
      "text/plain": [
       "(0.5958, 0.05696665691437403)"
      ]
     },
     "execution_count": 88,
     "metadata": {},
     "output_type": "execute_result"
    }
   ],
   "source": [
    "ws23['6.0'].mean(), ws23['6.0'].std()"
   ]
  },
  {
   "cell_type": "markdown",
   "id": "5517a315-8db5-4923-9623-e189449a84ef",
   "metadata": {},
   "source": [
    "## WS22"
   ]
  },
  {
   "cell_type": "code",
   "execution_count": 10,
   "id": "da5ce803-3cdf-4a3a-9e22-6bb0d6ef9a27",
   "metadata": {},
   "outputs": [],
   "source": [
    "ws22 = pd.read_csv('./ws22-val_results_diff_seed_anno_diff.tsv', sep='\\t', index_col=0)"
   ]
  },
  {
   "cell_type": "code",
   "execution_count": 11,
   "id": "89e60f59-b140-43ab-9881-6cd64c9f8d6b",
   "metadata": {},
   "outputs": [
    {
     "data": {
      "text/html": [
       "<div>\n",
       "<style scoped>\n",
       "    .dataframe tbody tr th:only-of-type {\n",
       "        vertical-align: middle;\n",
       "    }\n",
       "\n",
       "    .dataframe tbody tr th {\n",
       "        vertical-align: top;\n",
       "    }\n",
       "\n",
       "    .dataframe thead th {\n",
       "        text-align: right;\n",
       "    }\n",
       "</style>\n",
       "<table border=\"1\" class=\"dataframe\">\n",
       "  <thead>\n",
       "    <tr style=\"text-align: right;\">\n",
       "      <th></th>\n",
       "      <th>0.0</th>\n",
       "      <th>0.5</th>\n",
       "      <th>1.0</th>\n",
       "      <th>1.5</th>\n",
       "      <th>2.0</th>\n",
       "      <th>2.5</th>\n",
       "      <th>3.0</th>\n",
       "      <th>3.5</th>\n",
       "      <th>4.0</th>\n",
       "      <th>4.5</th>\n",
       "      <th>5.0</th>\n",
       "      <th>5.5</th>\n",
       "      <th>6.0</th>\n",
       "    </tr>\n",
       "  </thead>\n",
       "  <tbody>\n",
       "    <tr>\n",
       "      <th>0</th>\n",
       "      <td>0.781</td>\n",
       "      <td>0.761</td>\n",
       "      <td>0.755</td>\n",
       "      <td>0.731</td>\n",
       "      <td>0.714</td>\n",
       "      <td>0.643</td>\n",
       "      <td>0.600</td>\n",
       "      <td>0.592</td>\n",
       "      <td>0.591</td>\n",
       "      <td>0.571</td>\n",
       "      <td>0.522</td>\n",
       "      <td>0.449</td>\n",
       "      <td>0.536</td>\n",
       "    </tr>\n",
       "    <tr>\n",
       "      <th>42</th>\n",
       "      <td>0.765</td>\n",
       "      <td>0.734</td>\n",
       "      <td>0.767</td>\n",
       "      <td>0.739</td>\n",
       "      <td>0.680</td>\n",
       "      <td>0.613</td>\n",
       "      <td>0.596</td>\n",
       "      <td>0.586</td>\n",
       "      <td>0.579</td>\n",
       "      <td>0.553</td>\n",
       "      <td>0.546</td>\n",
       "      <td>0.499</td>\n",
       "      <td>0.538</td>\n",
       "    </tr>\n",
       "    <tr>\n",
       "      <th>100</th>\n",
       "      <td>0.777</td>\n",
       "      <td>0.772</td>\n",
       "      <td>0.738</td>\n",
       "      <td>0.744</td>\n",
       "      <td>0.681</td>\n",
       "      <td>0.641</td>\n",
       "      <td>0.628</td>\n",
       "      <td>0.594</td>\n",
       "      <td>0.604</td>\n",
       "      <td>0.566</td>\n",
       "      <td>0.531</td>\n",
       "      <td>0.466</td>\n",
       "      <td>0.473</td>\n",
       "    </tr>\n",
       "    <tr>\n",
       "      <th>999</th>\n",
       "      <td>0.778</td>\n",
       "      <td>0.760</td>\n",
       "      <td>0.740</td>\n",
       "      <td>0.748</td>\n",
       "      <td>0.715</td>\n",
       "      <td>0.621</td>\n",
       "      <td>0.613</td>\n",
       "      <td>0.564</td>\n",
       "      <td>0.541</td>\n",
       "      <td>0.592</td>\n",
       "      <td>0.481</td>\n",
       "      <td>0.455</td>\n",
       "      <td>0.480</td>\n",
       "    </tr>\n",
       "    <tr>\n",
       "      <th>1234</th>\n",
       "      <td>0.780</td>\n",
       "      <td>0.777</td>\n",
       "      <td>0.764</td>\n",
       "      <td>0.728</td>\n",
       "      <td>0.705</td>\n",
       "      <td>0.628</td>\n",
       "      <td>0.607</td>\n",
       "      <td>0.605</td>\n",
       "      <td>0.597</td>\n",
       "      <td>0.577</td>\n",
       "      <td>0.531</td>\n",
       "      <td>0.501</td>\n",
       "      <td>0.494</td>\n",
       "    </tr>\n",
       "  </tbody>\n",
       "</table>\n",
       "</div>"
      ],
      "text/plain": [
       "        0.0    0.5    1.0    1.5    2.0    2.5    3.0    3.5    4.0    4.5  \\\n",
       "0     0.781  0.761  0.755  0.731  0.714  0.643  0.600  0.592  0.591  0.571   \n",
       "42    0.765  0.734  0.767  0.739  0.680  0.613  0.596  0.586  0.579  0.553   \n",
       "100   0.777  0.772  0.738  0.744  0.681  0.641  0.628  0.594  0.604  0.566   \n",
       "999   0.778  0.760  0.740  0.748  0.715  0.621  0.613  0.564  0.541  0.592   \n",
       "1234  0.780  0.777  0.764  0.728  0.705  0.628  0.607  0.605  0.597  0.577   \n",
       "\n",
       "        5.0    5.5    6.0  \n",
       "0     0.522  0.449  0.536  \n",
       "42    0.546  0.499  0.538  \n",
       "100   0.531  0.466  0.473  \n",
       "999   0.481  0.455  0.480  \n",
       "1234  0.531  0.501  0.494  "
      ]
     },
     "execution_count": 11,
     "metadata": {},
     "output_type": "execute_result"
    }
   ],
   "source": [
    "ws22"
   ]
  },
  {
   "cell_type": "code",
   "execution_count": 12,
   "id": "78bd8651-9fb0-49df-8a9c-caa326c2867e",
   "metadata": {},
   "outputs": [
    {
     "data": {
      "text/plain": [
       "0.473"
      ]
     },
     "execution_count": 12,
     "metadata": {},
     "output_type": "execute_result"
    }
   ],
   "source": [
    "ws22['6.0'].min()"
   ]
  },
  {
   "cell_type": "code",
   "execution_count": 13,
   "id": "318c59fd-ec65-4709-b47b-f38577ce3ed3",
   "metadata": {},
   "outputs": [
    {
     "data": {
      "text/plain": [
       "0.781"
      ]
     },
     "execution_count": 13,
     "metadata": {},
     "output_type": "execute_result"
    }
   ],
   "source": [
    "ws22.max().max()"
   ]
  },
  {
   "cell_type": "markdown",
   "id": "c91d0413-4600-44d9-9b5d-b742dd44ec62",
   "metadata": {},
   "source": [
    "## WS21"
   ]
  },
  {
   "cell_type": "code",
   "execution_count": 34,
   "id": "e94befc5-fd18-4fa9-8ac2-d422847a0a80",
   "metadata": {},
   "outputs": [],
   "source": [
    "ws21 = pd.read_csv('./ws21-kfold_results_anno_diff.tsv', sep='\\t', index_col=0)"
   ]
  },
  {
   "cell_type": "code",
   "execution_count": 35,
   "id": "755ed63a-2a57-4beb-9d96-3362408ce0e0",
   "metadata": {},
   "outputs": [
    {
     "data": {
      "text/html": [
       "<div>\n",
       "<style scoped>\n",
       "    .dataframe tbody tr th:only-of-type {\n",
       "        vertical-align: middle;\n",
       "    }\n",
       "\n",
       "    .dataframe tbody tr th {\n",
       "        vertical-align: top;\n",
       "    }\n",
       "\n",
       "    .dataframe thead th {\n",
       "        text-align: right;\n",
       "    }\n",
       "</style>\n",
       "<table border=\"1\" class=\"dataframe\">\n",
       "  <thead>\n",
       "    <tr style=\"text-align: right;\">\n",
       "      <th></th>\n",
       "      <th>0.0</th>\n",
       "      <th>0.5</th>\n",
       "      <th>1.0</th>\n",
       "      <th>1.5</th>\n",
       "      <th>2.0</th>\n",
       "      <th>2.5</th>\n",
       "      <th>3.0</th>\n",
       "      <th>3.5</th>\n",
       "      <th>4.0</th>\n",
       "      <th>4.5</th>\n",
       "      <th>5.0</th>\n",
       "      <th>5.5</th>\n",
       "      <th>6.0</th>\n",
       "    </tr>\n",
       "  </thead>\n",
       "  <tbody>\n",
       "    <tr>\n",
       "      <th>0</th>\n",
       "      <td>0.958</td>\n",
       "      <td>0.961</td>\n",
       "      <td>0.960</td>\n",
       "      <td>0.958</td>\n",
       "      <td>0.957</td>\n",
       "      <td>0.942</td>\n",
       "      <td>0.941</td>\n",
       "      <td>0.926</td>\n",
       "      <td>0.934</td>\n",
       "      <td>0.927</td>\n",
       "      <td>0.918</td>\n",
       "      <td>0.912</td>\n",
       "      <td>0.915</td>\n",
       "    </tr>\n",
       "    <tr>\n",
       "      <th>1</th>\n",
       "      <td>0.947</td>\n",
       "      <td>0.944</td>\n",
       "      <td>0.946</td>\n",
       "      <td>0.950</td>\n",
       "      <td>0.943</td>\n",
       "      <td>0.938</td>\n",
       "      <td>0.907</td>\n",
       "      <td>0.896</td>\n",
       "      <td>0.907</td>\n",
       "      <td>0.902</td>\n",
       "      <td>0.878</td>\n",
       "      <td>0.895</td>\n",
       "      <td>0.907</td>\n",
       "    </tr>\n",
       "    <tr>\n",
       "      <th>2</th>\n",
       "      <td>0.958</td>\n",
       "      <td>0.956</td>\n",
       "      <td>0.957</td>\n",
       "      <td>0.956</td>\n",
       "      <td>0.955</td>\n",
       "      <td>0.934</td>\n",
       "      <td>0.930</td>\n",
       "      <td>0.918</td>\n",
       "      <td>0.918</td>\n",
       "      <td>0.905</td>\n",
       "      <td>0.900</td>\n",
       "      <td>0.901</td>\n",
       "      <td>0.895</td>\n",
       "    </tr>\n",
       "    <tr>\n",
       "      <th>3</th>\n",
       "      <td>0.958</td>\n",
       "      <td>0.958</td>\n",
       "      <td>0.952</td>\n",
       "      <td>0.959</td>\n",
       "      <td>0.955</td>\n",
       "      <td>0.948</td>\n",
       "      <td>0.937</td>\n",
       "      <td>0.932</td>\n",
       "      <td>0.934</td>\n",
       "      <td>0.926</td>\n",
       "      <td>0.924</td>\n",
       "      <td>0.911</td>\n",
       "      <td>0.920</td>\n",
       "    </tr>\n",
       "    <tr>\n",
       "      <th>4</th>\n",
       "      <td>0.959</td>\n",
       "      <td>0.954</td>\n",
       "      <td>0.958</td>\n",
       "      <td>0.955</td>\n",
       "      <td>0.951</td>\n",
       "      <td>0.940</td>\n",
       "      <td>0.932</td>\n",
       "      <td>0.914</td>\n",
       "      <td>0.913</td>\n",
       "      <td>0.912</td>\n",
       "      <td>0.897</td>\n",
       "      <td>0.913</td>\n",
       "      <td>0.903</td>\n",
       "    </tr>\n",
       "    <tr>\n",
       "      <th>5</th>\n",
       "      <td>0.967</td>\n",
       "      <td>0.969</td>\n",
       "      <td>0.962</td>\n",
       "      <td>0.955</td>\n",
       "      <td>0.958</td>\n",
       "      <td>0.921</td>\n",
       "      <td>0.936</td>\n",
       "      <td>0.936</td>\n",
       "      <td>0.933</td>\n",
       "      <td>0.933</td>\n",
       "      <td>0.926</td>\n",
       "      <td>0.925</td>\n",
       "      <td>0.918</td>\n",
       "    </tr>\n",
       "    <tr>\n",
       "      <th>6</th>\n",
       "      <td>0.957</td>\n",
       "      <td>0.952</td>\n",
       "      <td>0.962</td>\n",
       "      <td>0.956</td>\n",
       "      <td>0.957</td>\n",
       "      <td>0.952</td>\n",
       "      <td>0.953</td>\n",
       "      <td>0.949</td>\n",
       "      <td>0.946</td>\n",
       "      <td>0.936</td>\n",
       "      <td>0.938</td>\n",
       "      <td>0.925</td>\n",
       "      <td>0.924</td>\n",
       "    </tr>\n",
       "    <tr>\n",
       "      <th>7</th>\n",
       "      <td>0.959</td>\n",
       "      <td>0.954</td>\n",
       "      <td>0.957</td>\n",
       "      <td>0.957</td>\n",
       "      <td>0.943</td>\n",
       "      <td>0.941</td>\n",
       "      <td>0.936</td>\n",
       "      <td>0.916</td>\n",
       "      <td>0.926</td>\n",
       "      <td>0.919</td>\n",
       "      <td>0.923</td>\n",
       "      <td>0.890</td>\n",
       "      <td>0.911</td>\n",
       "    </tr>\n",
       "    <tr>\n",
       "      <th>8</th>\n",
       "      <td>0.961</td>\n",
       "      <td>0.959</td>\n",
       "      <td>0.961</td>\n",
       "      <td>0.954</td>\n",
       "      <td>0.946</td>\n",
       "      <td>0.942</td>\n",
       "      <td>0.942</td>\n",
       "      <td>0.923</td>\n",
       "      <td>0.920</td>\n",
       "      <td>0.915</td>\n",
       "      <td>0.912</td>\n",
       "      <td>0.918</td>\n",
       "      <td>0.914</td>\n",
       "    </tr>\n",
       "    <tr>\n",
       "      <th>9</th>\n",
       "      <td>0.961</td>\n",
       "      <td>0.962</td>\n",
       "      <td>0.948</td>\n",
       "      <td>0.947</td>\n",
       "      <td>0.952</td>\n",
       "      <td>0.940</td>\n",
       "      <td>0.932</td>\n",
       "      <td>0.915</td>\n",
       "      <td>0.915</td>\n",
       "      <td>0.910</td>\n",
       "      <td>0.904</td>\n",
       "      <td>0.886</td>\n",
       "      <td>0.882</td>\n",
       "    </tr>\n",
       "  </tbody>\n",
       "</table>\n",
       "</div>"
      ],
      "text/plain": [
       "     0.0    0.5    1.0    1.5    2.0    2.5    3.0    3.5    4.0    4.5  \\\n",
       "0  0.958  0.961  0.960  0.958  0.957  0.942  0.941  0.926  0.934  0.927   \n",
       "1  0.947  0.944  0.946  0.950  0.943  0.938  0.907  0.896  0.907  0.902   \n",
       "2  0.958  0.956  0.957  0.956  0.955  0.934  0.930  0.918  0.918  0.905   \n",
       "3  0.958  0.958  0.952  0.959  0.955  0.948  0.937  0.932  0.934  0.926   \n",
       "4  0.959  0.954  0.958  0.955  0.951  0.940  0.932  0.914  0.913  0.912   \n",
       "5  0.967  0.969  0.962  0.955  0.958  0.921  0.936  0.936  0.933  0.933   \n",
       "6  0.957  0.952  0.962  0.956  0.957  0.952  0.953  0.949  0.946  0.936   \n",
       "7  0.959  0.954  0.957  0.957  0.943  0.941  0.936  0.916  0.926  0.919   \n",
       "8  0.961  0.959  0.961  0.954  0.946  0.942  0.942  0.923  0.920  0.915   \n",
       "9  0.961  0.962  0.948  0.947  0.952  0.940  0.932  0.915  0.915  0.910   \n",
       "\n",
       "     5.0    5.5    6.0  \n",
       "0  0.918  0.912  0.915  \n",
       "1  0.878  0.895  0.907  \n",
       "2  0.900  0.901  0.895  \n",
       "3  0.924  0.911  0.920  \n",
       "4  0.897  0.913  0.903  \n",
       "5  0.926  0.925  0.918  \n",
       "6  0.938  0.925  0.924  \n",
       "7  0.923  0.890  0.911  \n",
       "8  0.912  0.918  0.914  \n",
       "9  0.904  0.886  0.882  "
      ]
     },
     "execution_count": 35,
     "metadata": {},
     "output_type": "execute_result"
    }
   ],
   "source": [
    "ws21"
   ]
  },
  {
   "cell_type": "code",
   "execution_count": 36,
   "id": "82e78c43-a30e-4a5e-a8fe-c85008d65bb6",
   "metadata": {},
   "outputs": [
    {
     "data": {
      "text/plain": [
       "0.882"
      ]
     },
     "execution_count": 36,
     "metadata": {},
     "output_type": "execute_result"
    }
   ],
   "source": [
    "ws21['6.0'].min()"
   ]
  },
  {
   "cell_type": "code",
   "execution_count": 37,
   "id": "1fd9fc43-2767-4ac1-b8b0-083b2dc889b3",
   "metadata": {},
   "outputs": [
    {
     "data": {
      "text/plain": [
       "0.969"
      ]
     },
     "execution_count": 37,
     "metadata": {},
     "output_type": "execute_result"
    }
   ],
   "source": [
    "ws21.max().max()"
   ]
  },
  {
   "cell_type": "code",
   "execution_count": 38,
   "id": "9f01a989-7ab2-414e-ac81-3b812e54f99a",
   "metadata": {},
   "outputs": [],
   "source": [
    "avg_ws23 = ws23.mean()\n",
    "std_ws23 = ws23.std()\n",
    "avg_ws22 = ws22.mean()\n",
    "std_ws22 = ws22.std()\n",
    "avg_ws21 = ws21.mean()\n",
    "std_ws21 = ws21.std()"
   ]
  },
  {
   "cell_type": "code",
   "execution_count": 84,
   "id": "0f25b070-63ca-4b07-9028-18ca852dbf68",
   "metadata": {
    "scrolled": true
   },
   "outputs": [
    {
     "data": {
      "image/png": "[encoded data removed]",
      "text/plain": [
       "<Figure size 500x300 with 1 Axes>"
      ]
     },
     "metadata": {},
     "output_type": "display_data"
    }
   ],
   "source": [
    "_, ax = plt.subplots(figsize=(5,3))\n",
    "\n",
    "ax.plot(avg_ws21, label='NewsEmpathy')\n",
    "# Plot the shaded area representing the standard deviations\n",
    "ax.fill_between(avg_ws21.index, avg_ws21 - std_ws21, avg_ws21 + std_ws21, alpha=0.3)\n",
    "\n",
    "ax.plot(avg_ws22, label='NewsEmpathy v2')\n",
    "# Plot the shaded area representing the standard deviations\n",
    "ax.fill_between(avg_ws22.index, avg_ws22 - std_ws22, avg_ws22 + std_ws22, alpha=0.3)\n",
    "\n",
    "ax.plot(avg_ws23, label='NewsEmpathy v3')\n",
    "# Plot the shaded area representing the standard deviations\n",
    "ax.fill_between(avg_ws23.index, avg_ws23 - std_ws23, avg_ws23 + std_ws23, alpha=0.3)\n",
    "\n",
    "# Adding labels and title\n",
    "ax.set_xlabel(r'Annotation Selection Threshold ($\\alpha$)')\n",
    "ax.set_ylabel(r'Pearson r (Mean $\\pm$ SD)')\n",
    "_ = ax.legend(loc=(0.05,0.05))\n",
    "\n",
    "ax.axvline(x=0, color='green', linestyle='--')\n",
    "ax.text(0.2, 0.818, 'GPT-3.5', color='green', rotation=90, fontsize=9)\n",
    "\n",
    "ax.axvline(x=len(avg_ws23) - 1, color='red', linestyle='--')\n",
    "ax.text(11.5, 0.67, 'Crowdsource', color='red', rotation=90, fontsize=10)\n",
    "\n",
    "plt.savefig(fname='./tmp/pearson-vs-alpha.pdf', format='pdf', bbox_inches='tight')"
   ]
  },
  {
   "cell_type": "code",
   "execution_count": null,
   "id": "51002c71-88a5-4d97-80e1-9b6fdefe624a",
   "metadata": {},
   "outputs": [],
   "source": []
  }
 ],
 "metadata": {
  "kernelspec": {
   "display_name": "Python 3 (ipykernel)",
   "language": "python",
   "name": "python3"
  },
  "language_info": {
   "codemirror_mode": {
    "name": "ipython",
    "version": 3
   },
   "file_extension": ".py",
   "mimetype": "text/x-python",
   "name": "python",
   "nbconvert_exporter": "python",
   "pygments_lexer": "ipython3",
   "version": "3.11.0"
  }
 },
 "nbformat": 4,
 "nbformat_minor": 5
}
