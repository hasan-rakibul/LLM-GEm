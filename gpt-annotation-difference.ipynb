{
 "cells": [
  {
   "cell_type": "code",
   "execution_count": 18,
   "id": "397d9e18-3d9f-47e9-86dd-962d38cc3ed7",
   "metadata": {},
   "outputs": [],
   "source": [
    "import pandas as pd\n",
    "import numpy as np"
   ]
  },
  {
   "cell_type": "code",
   "execution_count": 2,
   "id": "ab757161-73ca-4810-8f95-75e1a02c1fd9",
   "metadata": {},
   "outputs": [],
   "source": [
    "import os\n",
    "os.chdir(\"/g/data/jr19/rh2942/text-empathy/\")"
   ]
  },
  {
   "cell_type": "code",
   "execution_count": 3,
   "id": "5841aa64-53bb-4aa2-8edf-152a7a767006",
   "metadata": {},
   "outputs": [],
   "source": [
    "prev = pd.read_csv('./data/different-WS23-train-gpt.tsv', sep='\\t')"
   ]
  },
  {
   "cell_type": "code",
   "execution_count": 9,
   "id": "7889f94f-b370-4a5b-840b-52157243f4ca",
   "metadata": {},
   "outputs": [],
   "source": [
    "prev_anno = prev['empathy'].dropna().tolist()"
   ]
  },
  {
   "cell_type": "code",
   "execution_count": 10,
   "id": "4229ed35-abd6-43d3-b6b4-2e9b53917310",
   "metadata": {},
   "outputs": [
    {
     "data": {
      "text/plain": [
       "21"
      ]
     },
     "execution_count": 10,
     "metadata": {},
     "output_type": "execute_result"
    }
   ],
   "source": [
    "len(prev_anno)"
   ]
  },
  {
   "cell_type": "code",
   "execution_count": 11,
   "id": "9d308661-5ac9-49ef-ac02-1e0bcb6d35e9",
   "metadata": {},
   "outputs": [],
   "source": [
    "latest = pd.read_csv('./data/WS23-train-gpt.tsv', sep='\\t')"
   ]
  },
  {
   "cell_type": "code",
   "execution_count": 12,
   "id": "bf65ba6b-659e-4795-9435-eaff2ed56d25",
   "metadata": {},
   "outputs": [],
   "source": [
    "latest_anno = latest['empathy'].dropna().tolist()"
   ]
  },
  {
   "cell_type": "code",
   "execution_count": 13,
   "id": "44a7a501-d5f2-471b-8627-e3c6100c94c4",
   "metadata": {},
   "outputs": [
    {
     "data": {
      "text/plain": [
       "779"
      ]
     },
     "execution_count": 13,
     "metadata": {},
     "output_type": "execute_result"
    }
   ],
   "source": [
    "len(latest_anno)"
   ]
  },
  {
   "cell_type": "code",
   "execution_count": 14,
   "id": "e9efb28b-5137-4a5a-84e0-57624127390d",
   "metadata": {},
   "outputs": [],
   "source": [
    "latest_anno = latest_anno[:len(prev_anno)]"
   ]
  },
  {
   "cell_type": "code",
   "execution_count": 15,
   "id": "3d590918-6b85-4226-a3c5-30866de327d3",
   "metadata": {},
   "outputs": [
    {
     "data": {
      "text/plain": [
       "21"
      ]
     },
     "execution_count": 15,
     "metadata": {},
     "output_type": "execute_result"
    }
   ],
   "source": [
    "len(latest_anno)"
   ]
  },
  {
   "cell_type": "code",
   "execution_count": 19,
   "id": "548d0316-1295-4e7a-b46b-3269b83dd22d",
   "metadata": {},
   "outputs": [
    {
     "data": {
      "text/plain": [
       "array([ 0. ,  0. ,  0. , -0.3,  0.3,  0.9,  0. ,  0. ,  0. , -0.3,  1. ,\n",
       "       -1.7, -0.3,  0. , -0.3,  0. , -0.3, -0.3,  0. , -0.3, -0.3])"
      ]
     },
     "execution_count": 19,
     "metadata": {},
     "output_type": "execute_result"
    }
   ],
   "source": [
    "np.array(prev_anno) - np.array(latest_anno)"
   ]
  },
  {
   "cell_type": "code",
   "execution_count": null,
   "id": "cf386aa6-46cd-4825-a4f6-2c57b3737890",
   "metadata": {},
   "outputs": [],
   "source": []
  }
 ],
 "metadata": {
  "kernelspec": {
   "display_name": "Python 3 (ipykernel)",
   "language": "python",
   "name": "python3"
  },
  "language_info": {
   "codemirror_mode": {
    "name": "ipython",
    "version": 3
   },
   "file_extension": ".py",
   "mimetype": "text/x-python",
   "name": "python",
   "nbconvert_exporter": "python",
   "pygments_lexer": "ipython3",
   "version": "3.11.0"
  }
 },
 "nbformat": 4,
 "nbformat_minor": 5
}
